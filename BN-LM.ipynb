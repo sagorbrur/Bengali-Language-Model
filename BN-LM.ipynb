{
 "cells": [
  {
   "cell_type": "code",
   "execution_count": 0,
   "metadata": {
    "colab": {},
    "colab_type": "code",
    "id": "g9pgUJgU6Ixv"
   },
   "outputs": [],
   "source": [
    "%reload_ext autoreload\n",
    "%autoreload 2\n",
    "%matplotlib inline"
   ]
  },
  {
   "cell_type": "code",
   "execution_count": 0,
   "metadata": {
    "colab": {},
    "colab_type": "code",
    "id": "w0alwhiR6MwQ"
   },
   "outputs": [],
   "source": [
    "from fastai.text import *\n",
    "import numpy as np\n",
    "from sklearn.model_selection import train_test_split\n",
    "import pickle\n",
    "import sentencepiece as spm"
   ]
  },
  {
   "cell_type": "code",
   "execution_count": 9,
   "metadata": {
    "colab": {
     "base_uri": "https://localhost:8080/",
     "height": 35
    },
    "colab_type": "code",
    "id": "JWQD2_YY6PSo",
    "outputId": "0af2a111-65ce-4a52-905d-88cd854b1c07"
   },
   "outputs": [
    {
     "data": {
      "text/plain": [
       "('1.0.59', '1.3.1')"
      ]
     },
     "execution_count": 9,
     "metadata": {
      "tags": []
     },
     "output_type": "execute_result"
    }
   ],
   "source": [
    "import fastai, torch\n",
    "fastai.__version__ , torch.__version__"
   ]
  },
  {
   "cell_type": "code",
   "execution_count": 0,
   "metadata": {
    "colab": {},
    "colab_type": "code",
    "id": "9tnbi98C6UPq"
   },
   "outputs": [],
   "source": [
    "torch.cuda.set_device(0)"
   ]
  },
  {
   "cell_type": "code",
   "execution_count": 0,
   "metadata": {
    "colab": {},
    "colab_type": "code",
    "id": "unuWw7D-625A"
   },
   "outputs": [],
   "source": [
    "class BengaliTokenizer(BaseTokenizer):\n",
    "    def __init__(self, lang:str):\n",
    "        self.lang = lang\n",
    "        self.sp = spm.SentencePieceProcessor()\n",
    "        self.sp.Load(\"bn_spm.model\")\n",
    "        \n",
    "    def tokenizer(self, t:str) -> List[str]:\n",
    "        return self.sp.EncodeAsPieces(t)"
   ]
  },
  {
   "cell_type": "code",
   "execution_count": 0,
   "metadata": {
    "colab": {},
    "colab_type": "code",
    "id": "f_hnK7up7pd1"
   },
   "outputs": [],
   "source": [
    "sp = spm.SentencePieceProcessor()\n",
    "sp.Load(\"bn_spm.model\")\n",
    "itos = [sp.IdToPiece(int(i)) for i in range(50000)]"
   ]
  },
  {
   "cell_type": "code",
   "execution_count": 0,
   "metadata": {
    "colab": {},
    "colab_type": "code",
    "id": "DHl-52cO74BX"
   },
   "outputs": [],
   "source": [
    "bengali_vocab = Vocab(itos)"
   ]
  },
  {
   "cell_type": "code",
   "execution_count": 0,
   "metadata": {
    "colab": {},
    "colab_type": "code",
    "id": "RkIhCm8u76e3"
   },
   "outputs": [],
   "source": [
    "\n",
    "tokenizer = Tokenizer(tok_func=BengaliTokenizer, lang='bn')"
   ]
  },
  {
   "cell_type": "code",
   "execution_count": 27,
   "metadata": {
    "colab": {
     "base_uri": "https://localhost:8080/",
     "height": 179
    },
    "colab_type": "code",
    "id": "cBAHeaVD79r6",
    "outputId": "9c2b7d68-520b-4ddd-89af-30bd2dc270a0"
   },
   "outputs": [
    {
     "data": {
      "text/plain": [
       "['xxunk',\n",
       " 'xxpad',\n",
       " 'xxbos',\n",
       " 'xxeos',\n",
       " 'xxfld',\n",
       " 'xxmaj',\n",
       " 'xxup',\n",
       " 'xxrep',\n",
       " 'xxwrep']"
      ]
     },
     "execution_count": 27,
     "metadata": {
      "tags": []
     },
     "output_type": "execute_result"
    }
   ],
   "source": [
    "tokenizer.special_cases"
   ]
  },
  {
   "cell_type": "markdown",
   "metadata": {},
   "source": [
    "# Data Directory Format\n",
    "- data\n",
    "    - train\n",
    "        - train_article1.txt\n",
    "        - train_article2.txt\n",
    "        ..............\n",
    "        - train_articlen.txt\n",
    "        \n",
    "    - valid\n",
    "        - val_article1.txt\n",
    "        - val_article2.txt\n",
    "        ..............\n",
    "        - val_articlen.txt"
   ]
  },
  {
   "cell_type": "code",
   "execution_count": 28,
   "metadata": {
    "colab": {
     "base_uri": "https://localhost:8080/",
     "height": 17
    },
    "colab_type": "code",
    "id": "Wfx696y37_1Z",
    "outputId": "b424c8d0-b2b7-4281-8417-f7b98c7a9cac"
   },
   "outputs": [
    {
     "data": {
      "text/html": [],
      "text/plain": [
       "<IPython.core.display.HTML object>"
      ]
     },
     "metadata": {
      "tags": []
     },
     "output_type": "display_data"
    },
    {
     "data": {
      "text/html": [],
      "text/plain": [
       "<IPython.core.display.HTML object>"
      ]
     },
     "metadata": {
      "tags": []
     },
     "output_type": "display_data"
    }
   ],
   "source": [
    "data_lm = TextLMDataBunch.from_folder(path='data', tokenizer=tokenizer, vocab=bengali_vocab)"
   ]
  },
  {
   "cell_type": "code",
   "execution_count": 29,
   "metadata": {
    "colab": {
     "base_uri": "https://localhost:8080/",
     "height": 35
    },
    "colab_type": "code",
    "id": "aUHUUSD98sI6",
    "outputId": "a09f4506-e0b0-4bb8-f9e4-84a7723d15d9"
   },
   "outputs": [
    {
     "data": {
      "text/plain": [
       "64"
      ]
     },
     "execution_count": 29,
     "metadata": {
      "tags": []
     },
     "output_type": "execute_result"
    }
   ],
   "source": [
    "data_lm.batch_size"
   ]
  },
  {
   "cell_type": "code",
   "execution_count": 0,
   "metadata": {
    "colab": {},
    "colab_type": "code",
    "id": "L1c9LPG68Gm_"
   },
   "outputs": [],
   "source": [
    "\n",
    "data_lm.save()"
   ]
  },
  {
   "cell_type": "code",
   "execution_count": 31,
   "metadata": {
    "colab": {
     "base_uri": "https://localhost:8080/",
     "height": 629
    },
    "colab_type": "code",
    "id": "i99FcA5i8bmY",
    "outputId": "9f4d4fab-58c5-42bd-94e4-6d4fc6e6e7ce"
   },
   "outputs": [
    {
     "data": {
      "text/html": [
       "<table border=\"1\" class=\"dataframe\">\n",
       "  <thead>\n",
       "    <tr style=\"text-align: right;\">\n",
       "      <th>idx</th>\n",
       "      <th>text</th>\n",
       "    </tr>\n",
       "  </thead>\n",
       "  <tbody>\n",
       "    <tr>\n",
       "      <td>0</td>\n",
       "      <td>▁আছে । ▁ডলারের ▁সঙ্গে ▁টাকার ▁বিনিময় ▁হার ▁প্রতিনিয়ত ▁বাড়ছে । ▁এটি ▁চলতে ▁থাকলে ▁আগামী ▁অর্থ বছর ▁থেকে ▁বাংলাদেশ ▁পেট্রোলিয়াম ▁করপোরেশন ▁( বি পিসি ) ▁আবার ▁লোকসান ের ▁সম্মুখীন ▁হতে ▁পারে । ▁বাস্তবতার ▁কারণে ▁আন্তর্জাতিক ▁বাজারে ▁তেলের ▁দাম ▁কম া - বাড় ার ▁সঙ্গে ▁সঙ্গে ▁দেশের ▁অভ্যন্তরে ▁জ্বালানি ▁তেলের ▁বাড়ানো - কম ানো ▁করা ▁সম্ভব ▁হয় ▁না । ▁তিনি ▁বলেন , ▁এর ▁আগে ▁ভর্তুকি ▁মূল্যে ▁জ্বালানি ▁তেল ▁বিক্রি ▁করায় ▁২৭ ,</td>\n",
       "    </tr>\n",
       "    <tr>\n",
       "      <td>1</td>\n",
       "      <td>▁পাওয়ায় ▁আরমান কেও ▁ছয় ▁মাসের ▁কারাদণ্ড ▁দেন ▁ভ্রাম্যমাণ ▁আদালত । ▁তদন্তে ▁খালেদ ের ▁সম্পদ ▁পাওয়া ▁গেছে ▁বেশি গত ▁১৮ ▁সেপ্টেম্বর ▁‘ ▁শুদ্ধ ি ▁অভিযান ’ ▁শুরুর ▁দিনই ▁গ্রেপ্তার ▁হন ▁মহানগর ▁যুবলীগ ের ▁সাবেক ▁সাংগঠনিক ▁সম্পাদক ▁খালেদ ▁মাহমুদ ▁ভূঁইয়া । ▁তাঁর ▁বিরুদ্ধে ই ▁অস্ত্র , ▁মাদক ▁ও ▁অর্থ ▁পাচার ▁আইনে ▁আলাদা ▁মামলা ▁করে ▁র ▁্যাব । ▁এর ▁৩৩ ▁দিন ▁পর ▁২১ ▁অক্টোবর ▁অবৈধ ▁সম্পদ ▁অর্জন ের ▁অভিযোগে ▁খালেদ ের ▁বিরুদ্ধে ▁মামলা</td>\n",
       "    </tr>\n",
       "    <tr>\n",
       "      <td>2</td>\n",
       "      <td>▁ব্যাংকে ▁তাঁর ▁নামে ▁জমা ▁অর্থের ▁সন্ধান ▁পাওয়া ▁যায়নি । ▁তবে ▁প্রায় ▁সাড়ে ▁১৪ ▁কোটি ▁টাকার ▁স্থাবর ▁সম্পদ ▁পেয়ে ▁আদালতের ▁মাধ্যমে ▁তা ▁ক্রো ক ▁করা ▁হয়েছে । ▁মমিনুল ▁হক ▁সাঈদ ঢাকা ▁দক্ষিণ ▁সিটি ▁করপোরেশন ের ▁( ডিএস সিসি ) ▁অপসারিত ▁কাউন্সিলর ▁এ ▁কে ▁এম ▁মমিনুল ▁হক ▁ওরফে ▁সাঈদ ের ▁বিরুদ্ধে ▁প্রায় ▁সাড়ে ▁পাঁচ ▁কোটি ▁টাকার ▁অবৈধ ▁সম্পদে ▁অর্জন ের ▁অভিযোগে ▁মামলা ▁করেন ▁দু দক ের ▁সহকারী ▁পরিচালক ▁আতাউর ▁রহমান ▁সরকার ।</td>\n",
       "    </tr>\n",
       "    <tr>\n",
       "      <td>3</td>\n",
       "      <td>▁ডিভিশন ▁বেঞ্চ ▁বলেছেন , ▁ঐতিহাসিক ▁এই ▁সৌধ ে ▁পোকামাকড় ▁ও ▁কীট ের ▁আক্রমণ ▁শুরু ▁হলেও ▁তা ▁বন্ধের ▁জন্য ▁কোনো ▁পদক্ষেপ ▁নেওয়া ▁হচ্ছে ▁না । ▁ওই ▁দিন ▁সুপ্রিম ▁কোর্ট ▁প্রত্নতাত্ত্বিক ▁বিভাগ ▁এবং ▁ভারত ▁সরকারের ▁সংশ্লিষ্ট ▁মন্ত্রণালয় কে ▁এ ▁ব্যাপারে ▁তারা ▁কী ▁ভাব ছে ▁তা ▁জানতে ▁চেয়েছিলেন । ▁বিচারপতি ▁এম ▁বি ▁লোক ুর ▁ও ▁বিচারপতি ▁দীপক ▁গুপ্তের ▁ডিভিশন ▁বেঞ্চ ▁জানান , ▁যদি ▁প্রত্নতাত্ত্বিক ▁বিভাগ ▁রক্ষণাবেক্ষণ ের ▁জন্য ▁সঠিকভাবে ▁কাজ ▁করত ▁তা ▁হলে</td>\n",
       "    </tr>\n",
       "    <tr>\n",
       "      <td>4</td>\n",
       "      <td>▁প্রকাশের ▁পর ▁ভারতীয় ▁সংবাদমাধ্যম গুলো ▁ধোনি র ▁রান ▁আউট ▁নিয়ে ▁প্রশ্ন ▁তুলেছে । ▁ধোনি ▁ল কি ▁ফার্গুসন ের ▁যে ▁ডেলিভারি তে ▁রান ▁আউট ▁হলেন ▁সেটি ▁বৈধ ▁ছিল ▁কি ▁না ▁এবং ▁বৈধ ▁না ▁হলে ▁ফল টাও ▁পাল্টে ▁যেতে ▁পারত ▁বলে ▁মনে ▁করা ▁হচ্ছে । ▁ম্যাচের ▁সে ▁মুহূর্তে ▁( ৪৯ তম ▁ওভার ) ▁তৃতীয় ▁পাওয়ার ▁প্লে ▁চলছিল , ▁যখন ▁নিয়ম ▁অনুযায়ী ▁৩০ ▁গজ ের ▁বাইরে ▁পাঁচজন ▁ফিল্ডার ▁রাখতে ▁হয় । ▁কিন্তু ▁ফার্গুসন</td>\n",
       "    </tr>\n",
       "  </tbody>\n",
       "</table>"
      ],
      "text/plain": [
       "<IPython.core.display.HTML object>"
      ]
     },
     "metadata": {
      "tags": []
     },
     "output_type": "display_data"
    }
   ],
   "source": [
    "data_lm.show_batch()"
   ]
  },
  {
   "cell_type": "code",
   "execution_count": 32,
   "metadata": {
    "colab": {
     "base_uri": "https://localhost:8080/",
     "height": 35
    },
    "colab_type": "code",
    "id": "Xns2pSMN8wm1",
    "outputId": "fbf0cce1-e29c-4788-f515-956fec20298f"
   },
   "outputs": [
    {
     "data": {
      "text/plain": [
       "50000"
      ]
     },
     "execution_count": 32,
     "metadata": {
      "tags": []
     },
     "output_type": "execute_result"
    }
   ],
   "source": [
    "len(data_lm.vocab.itos)"
   ]
  },
  {
   "cell_type": "code",
   "execution_count": 0,
   "metadata": {
    "colab": {},
    "colab_type": "code",
    "id": "IuAmr7d49SYS"
   },
   "outputs": [],
   "source": [
    "learn = language_model_learner(data_lm, AWD_LSTM, drop_mult=0.3)"
   ]
  },
  {
   "cell_type": "code",
   "execution_count": 36,
   "metadata": {
    "colab": {
     "base_uri": "https://localhost:8080/",
     "height": 35
    },
    "colab_type": "code",
    "id": "oK5VTzyr9W44",
    "outputId": "920e7906-74a3-452f-e1fd-d1850d32c514"
   },
   "outputs": [
    {
     "data": {
      "text/plain": [
       "0"
      ]
     },
     "execution_count": 36,
     "metadata": {
      "tags": []
     },
     "output_type": "execute_result"
    }
   ],
   "source": [
    "gc.collect()"
   ]
  },
  {
   "cell_type": "code",
   "execution_count": 37,
   "metadata": {
    "colab": {
     "base_uri": "https://localhost:8080/",
     "height": 55
    },
    "colab_type": "code",
    "id": "6mKd0sXg9Z7Q",
    "outputId": "a0af1fe6-831e-422b-d3aa-e6fcf34e05fd"
   },
   "outputs": [
    {
     "data": {
      "text/html": [],
      "text/plain": [
       "<IPython.core.display.HTML object>"
      ]
     },
     "metadata": {
      "tags": []
     },
     "output_type": "display_data"
    },
    {
     "name": "stdout",
     "output_type": "stream",
     "text": [
      "LR Finder is complete, type {learner_name}.recorder.plot() to see the graph.\n"
     ]
    }
   ],
   "source": [
    "learn.lr_find()\n"
   ]
  },
  {
   "cell_type": "code",
   "execution_count": 38,
   "metadata": {
    "colab": {
     "base_uri": "https://localhost:8080/",
     "height": 279
    },
    "colab_type": "code",
    "id": "HUXG4OGg9gCe",
    "outputId": "0118be78-aeaf-4e89-d774-9596e948dead"
   },
   "outputs": [
    {
     "data": {
      "image/png": "[encoded data removed]",
      "text/plain": [
       "<Figure size 432x288 with 1 Axes>"
      ]
     },
     "metadata": {
      "tags": []
     },
     "output_type": "display_data"
    }
   ],
   "source": [
    "learn.recorder.plot()"
   ]
  },
  {
   "cell_type": "code",
   "execution_count": 39,
   "metadata": {
    "colab": {
     "base_uri": "https://localhost:8080/",
     "height": 80
    },
    "colab_type": "code",
    "id": "MCJYkbb-9l2p",
    "outputId": "5230b467-7dfe-45da-c172-29e6eb861dab"
   },
   "outputs": [
    {
     "data": {
      "text/html": [
       "<table border=\"1\" class=\"dataframe\">\n",
       "  <thead>\n",
       "    <tr style=\"text-align: left;\">\n",
       "      <th>epoch</th>\n",
       "      <th>train_loss</th>\n",
       "      <th>valid_loss</th>\n",
       "      <th>accuracy</th>\n",
       "      <th>time</th>\n",
       "    </tr>\n",
       "  </thead>\n",
       "  <tbody>\n",
       "    <tr>\n",
       "      <td>0</td>\n",
       "      <td>4.067542</td>\n",
       "      <td>4.010976</td>\n",
       "      <td>0.408964</td>\n",
       "      <td>20:56</td>\n",
       "    </tr>\n",
       "  </tbody>\n",
       "</table>"
      ],
      "text/plain": [
       "<IPython.core.display.HTML object>"
      ]
     },
     "metadata": {
      "tags": []
     },
     "output_type": "display_data"
    }
   ],
   "source": [
    "learn.fit_one_cycle(1, 1e-2, moms=(0.8,0.7))"
   ]
  },
  {
   "cell_type": "code",
   "execution_count": 0,
   "metadata": {
    "colab": {},
    "colab_type": "code",
    "id": "sPbwcVX69ouu"
   },
   "outputs": [],
   "source": [
    "learn.save('first', with_opt=True)"
   ]
  },
  {
   "cell_type": "code",
   "execution_count": 0,
   "metadata": {
    "colab": {},
    "colab_type": "code",
    "id": "2T_vBOrM9tQc"
   },
   "outputs": [],
   "source": [
    "learn.load('first', with_opt=True);"
   ]
  },
  {
   "cell_type": "code",
   "execution_count": 0,
   "metadata": {
    "colab": {},
    "colab_type": "code",
    "id": "Dq4hm8rv9uHF"
   },
   "outputs": [],
   "source": [
    "learn.unfreeze()"
   ]
  },
  {
   "cell_type": "code",
   "execution_count": 43,
   "metadata": {
    "colab": {
     "base_uri": "https://localhost:8080/",
     "height": 204
    },
    "colab_type": "code",
    "id": "HYOODLYK9wKL",
    "outputId": "b2d5a0e6-7045-4eb5-cdf7-16eadd7aa897"
   },
   "outputs": [
    {
     "data": {
      "text/html": [
       "<table border=\"1\" class=\"dataframe\">\n",
       "  <thead>\n",
       "    <tr style=\"text-align: left;\">\n",
       "      <th>epoch</th>\n",
       "      <th>train_loss</th>\n",
       "      <th>valid_loss</th>\n",
       "      <th>accuracy</th>\n",
       "      <th>time</th>\n",
       "    </tr>\n",
       "  </thead>\n",
       "  <tbody>\n",
       "    <tr>\n",
       "      <td>0</td>\n",
       "      <td>3.944655</td>\n",
       "      <td>3.754163</td>\n",
       "      <td>0.428755</td>\n",
       "      <td>23:51</td>\n",
       "    </tr>\n",
       "    <tr>\n",
       "      <td>1</td>\n",
       "      <td>4.001336</td>\n",
       "      <td>3.643759</td>\n",
       "      <td>0.438392</td>\n",
       "      <td>23:51</td>\n",
       "    </tr>\n",
       "    <tr>\n",
       "      <td>2</td>\n",
       "      <td>3.609906</td>\n",
       "      <td>3.459911</td>\n",
       "      <td>0.453578</td>\n",
       "      <td>23:49</td>\n",
       "    </tr>\n",
       "    <tr>\n",
       "      <td>3</td>\n",
       "      <td>3.194248</td>\n",
       "      <td>3.255993</td>\n",
       "      <td>0.472943</td>\n",
       "      <td>23:49</td>\n",
       "    </tr>\n",
       "    <tr>\n",
       "      <td>4</td>\n",
       "      <td>3.174088</td>\n",
       "      <td>3.185421</td>\n",
       "      <td>0.480687</td>\n",
       "      <td>23:50</td>\n",
       "    </tr>\n",
       "  </tbody>\n",
       "</table>"
      ],
      "text/plain": [
       "<IPython.core.display.HTML object>"
      ]
     },
     "metadata": {
      "tags": []
     },
     "output_type": "display_data"
    }
   ],
   "source": [
    "learn.fit_one_cycle(5, 1e-2, moms=(0.8,0.7))"
   ]
  },
  {
   "cell_type": "code",
   "execution_count": 0,
   "metadata": {
    "colab": {},
    "colab_type": "code",
    "id": "z19amQtf90Re"
   },
   "outputs": [],
   "source": [
    "\n",
    "learn.save('second_bn_lm', with_opt=True)"
   ]
  },
  {
   "cell_type": "code",
   "execution_count": 45,
   "metadata": {
    "colab": {
     "base_uri": "https://localhost:8080/",
     "height": 1000
    },
    "colab_type": "code",
    "id": "5IUkiIIp928x",
    "outputId": "6260b465-c375-4f58-86ab-0e523dcee095"
   },
   "outputs": [
    {
     "data": {
      "text/plain": [
       "LanguageLearner(data=TextLMDataBunch;\n",
       "\n",
       "Train: LabelList (49000 items)\n",
       "x: LMTextList\n",
       "▁x x bo s ▁আপাতত ▁জ্বালানি ▁তেলের ▁দাম ▁কমানোর ▁কোনো ▁পরিকল্পনা ▁সরকারের ▁নেই । আজ ▁রোববার ▁জাতীয় ▁সংসদে ▁স্পিকার ▁শিরীন ▁শারমিন ▁চৌধুরীর ▁সভাপতিত্বে ▁অনুষ্ঠিত ▁অধিবেশনে ▁লিখিত ▁প্রশ্নের ▁উত্তরে ▁বিদ্যুৎ , ▁জ্বালানি ▁ও ▁খনিজ ▁সম্পদ ▁মন্ত্রণালয়ের ▁প্রতিমন্ত্রী ▁নস রুল ▁হামিদ ▁এ ▁কথা ▁জানিয়েছেন । সাংস দ ▁রুস্তম ▁আলী ▁ফর া জীর ▁প্রশ্নের ▁উত্তরে ▁প্রতিমন্ত্রী ▁বলেন , ▁আন্তর্জাতিক ▁বাজারে ▁জ্বালানি ▁তেলের ▁মূল্য ▁গত ▁এক ▁বছর ▁ধরে ▁ঊর্ধ্বমুখী ▁রয়েছে । ▁এখন ▁তা ▁অব্যাহত ▁আছে । ▁ডলারের ▁সঙ্গে ▁টাকার ▁বিনিময় ▁হার ▁প্রতিনিয়ত ▁বাড়ছে । ▁এটি ▁চলতে ▁থাকলে ▁আগামী ▁অর্থ বছর ▁থেকে ▁বাংলাদেশ ▁পেট্রোলিয়াম ▁করপোরেশন ▁( বি পিসি ) ▁আবার ▁লোকসান ের ▁সম্মুখীন ▁হতে ▁পারে । ▁বাস্তবতার ▁কারণে ▁আন্তর্জাতিক ▁বাজারে ▁তেলের ▁দাম ▁কম া - বাড় ার ▁সঙ্গে ▁সঙ্গে ▁দেশের ▁অভ্যন্তরে ▁জ্বালানি ▁তেলের ▁বাড়ানো - কম ানো ▁করা ▁সম্ভব ▁হয় ▁না । ▁তিনি ▁বলেন , ▁এর ▁আগে ▁ভর্তুকি ▁মূল্যে ▁জ্বালানি ▁তেল ▁বিক্রি ▁করায় ▁২৭ , ৪ ১৯ . ৮১ ▁কোটি ▁টাকার ▁সরকারি ▁ঋণের ▁দায় ▁এখনো ▁বিপি সির ▁ওপর ▁রয়ে ▁গেছে । ▁দ্বিতীয় ▁দফায় ▁জ্বালানি ▁তেলের ▁মূল্য ▁কমানো ▁হলে ▁বি পিসি ▁আবার ▁লোকসান ি ▁প্রতিষ্ঠানে ▁পরিণত ▁হবে ▁এবং ▁ঋণ ▁করে ▁জ্বালানি ▁তেল ▁আমদানি ▁করতে ▁হবে । ▁তেলের ▁মূল্য ▁কমানো ▁হলে ▁তার ▁সুফল ▁সাধারণ ▁জনগণ ▁সরাসরি ▁উপভোগ ▁করতে ▁পারে ▁না । বিদ্যুত ের ▁১৭টি ▁প্রকল্পে ▁বাস্তবায়ন ের ▁হার ▁শূন্য : ▁রুস্তম ▁আলী ▁ফর া জীর ▁আরেক ▁প্রশ্নের ▁উত্তরে ▁প্রতিমন্ত্রী ▁নস রুল ▁হামিদ ▁বলেছেন , ▁বিদ্যুৎ ▁খাতের ▁১৭টি ▁প্রকল্প ▁বাস্তবায়ন ের ▁হার ▁শূন্য । ▁এর ▁মধ্যে ▁১২টি ▁প্রকল্প ▁২০১৬ - ১৭ ▁অর্থবছরে ▁বার্ষিক ▁উন্নয়ন ▁কর্মসূচি ▁প্রণয়ন ের ▁পরবর্তী ▁সময়ে ▁অনুমোদিত ▁হয়েছে ▁এবং ▁সেসব ▁প্রকল্পের ▁অনুকূলে ▁২০১৬ - ২০১৭ ▁অর্থবছরে ▁কোনো ▁বরাদ্দ ▁দেওয়া ▁সম্ভব ▁হয়নি । ▁তবে ▁অর্থ বছর টির ▁সংশোধিত ▁বার্ষিক ▁উন্নয়ন ▁কর্মসূচিতে ▁প্রয়োজনীয় ▁বরাদ্দ ▁দেওয়া ▁হয়েছে । ▁অর্থ ▁ছাড় ের ▁বিষয়টি ▁প্রক্রিয়াধীন ▁আছে । ▁অন্য ▁পাঁচটি ▁প্রকল্প ▁উন্নয়ন ▁সহযোগী ▁সংস্থার ▁সঙ্গে ▁ঋণ চুক্তি ▁না ▁হওয়া সহ ▁বিভিন্ন ▁কারণে ▁আটকে ▁আছে ।,▁x x bo s ▁উড়োজাহাজ ▁বিধ্বস্ত , ▁নিহত ▁কমপক্ষে ▁২৫৭ ▁আলজেরিয়া য় ▁একটি ▁সামরিক ▁উড়োজাহাজ ▁বিধ্বস্ত ▁হয়ে ▁কমপক্ষে ▁২৫৭ ▁জন ▁নিহত ▁হয়েছেন । ▁দেশটির ▁সরকারি ▁কর্মকর্তারা ▁এবং ▁বিভিন্ন ▁সংবাদমাধ্যম ▁এ ▁তথ্য ▁নিশ্চিত ▁করেছে । ▁আজ ▁বুধবার ▁আলজেরিয়ার ▁রাজধানী ▁আলজিয়ার্স ের ▁একটি ▁সামরিক ▁বিমানবন্দরে ▁এ ▁ঘটনা ▁ঘটে । ▁তবে ▁বিধ্বস্ত ের ▁কারণ ▁সম্পর্কে ▁কিছু ▁জানা ▁যায়নি । ▁বিবিসি র ▁খবর ে ▁বলা ▁হয়েছে , ▁বিমানবন্দর ▁থেকে ▁উড়োজাহাজ টি ▁উড্ডয়ন ের ▁কিছুক্ষণ ▁পরই ▁তা ▁বিধ্বস্ত ▁হয় । ▁রাজধানী ▁আলজিয়ার্স ের ▁সীমানার ▁বাইরের ▁একটি ▁মাঠে ▁উড়োজাহাজ টি ▁বিধ্বস্ত ▁হয়েছে । ▁বার্তা ▁সংস্থা ▁রয়টার্স ের ▁খবর ে ▁বলা ▁হয়েছে , ▁আলজিয়ার্স ের ▁দক্ষিণ - পশ্চিমের ▁বো উ ফার িক ▁বিমানবন্দরের ▁বাইরে ▁প্রচুর ▁মানুষ ▁জড়ো ▁হয়েছেন । ▁ঘটনা স্থল ▁থেকে ▁কালো ▁ধোঁয়া ▁উড়তে ▁দেখা ▁গেছে । ▁এ ▁ছাড়া ▁মাঠে ▁উড়োজাহাজ ের ▁ধ্বংসাবশেষ ▁ছড়িয়ে - ছিটিয়ে ▁রয়েছে । ▁ঘটনাস্থলে র ▁এক ▁পাশে ▁নিহত দের ▁লাশ ▁সারিবদ্ধ ভাবে ▁রাখা ▁হয়েছে । ▁বিভিন্ন ▁টেলিভিশন ▁চ্যানেলের ▁প্রতিবেদনে ▁বলা ▁হয়েছে , ▁বিধ্বস্ত ▁উড়োজাহাজ টি ▁ই লিউ শিন ▁মডেলের ▁একটি ▁পরিবহন ▁বিমান । ▁এর ▁প্রস্তুতকারক ▁দেশ ▁রাশিয়া । ▁আলজেরিয়ার ▁শাসক ▁দল ▁ এফএল এন ▁পার্টির ▁একজন ▁সদস্য ▁বেসরকারি ▁টিভি ▁চ্যানেল ▁এ ন্না হার - কে ▁জানিয়েছেন , ▁নিহত দের ▁মধ্যে ▁ পোলিস ারি ও ▁ফ্রন্টের ▁২৬ ▁জন ▁সদস্য ▁রয়েছেন । ▁এই ▁ফ্রন্ট কে ▁সমর্থন ▁দিয়ে ▁যাচ্ছে ▁আলজেরিয়া । ▁মরক্কোর ▁কাছ ▁থেকে ▁পশ্চিম ▁সাহারা ▁অঞ্চলের ▁স্বাধীনতা ▁আদায় ে ▁লড় ছে ▁ পোলিস ারি ও ▁ফ্রন্ট । ▁এই ▁এলাকা ▁নিয়ে ▁আন্তর্জাতিকভাবে ▁বিতর্ক ▁রয়েছে । ▁তবে ▁এই ▁উড়োজাহাজ ▁বিধ্বস্ত ে ▁হতাহত ের ▁সংখ্যা ▁নিয়ে ▁এখনো ▁কোনো ▁আনুষ্ঠানিক ▁বক্তব্য ▁পাওয়া ▁যায়নি । ▁এদিকে ▁উড়োজাহাজ ▁বিধ্বস্ত ের ▁ঘটনায় ▁হতাহত দের ▁পরিবারের ▁প্রতি ▁সমবেদনা ▁জানিয়ে ▁একটি ▁বিবৃতি ▁প্রকাশ ▁করেছে ▁আলজেরিয়ার ▁প্রতিরক্ষা ▁মন্ত্রণালয় । ▁বিবিসি র ▁খবর ে ▁বলা ▁হয়েছে , ▁সামরিক ▁উড়োজাহাজ ▁বিধ্বস্ত ের ▁ঘটনায় ▁আলজেরিয়ার ▁সেনাপ্রধান ের ▁নির্দেশে ▁একটি ▁তদন্ত ▁কমিটি ▁গঠন ▁করা ▁হয়েছে । ▁স্থানীয় ▁বিভিন্ন ▁টেলিভিশন ▁চ্যানেলের ▁প্রতিবেদনে ▁জানানো ▁হয়েছে , ▁ঘটনাস্থলে ▁১৪টি ▁অ্যাম্বুলেন্স ▁রয়েছে ▁এবং ▁আহত ▁ব্যক্তিদের ▁হাসপাতালে ▁নেওয়া ▁হচ্ছে । ▁আলজেরিয়ার ▁প্রতিরক্ষা ▁মন্ত্রণালয়ের ▁বরাত ▁দিয়ে ▁রয়টার্স ের ▁খবর ে ▁বলা ▁হয়েছে , ▁সামরিক ▁বাহিনীর ▁পরিবহন ▁বিমানটি ▁দেশটির ▁সীমান্ত সংলগ্ন ▁টিন ড ৌ ফ ▁এলাকার ▁দিকে ▁রওনা ▁দিয়েছিল । ▁কিন্তু ▁উড্ডয়ন ের ▁পর ▁বিমানবন্দরের ▁সীমানার ▁মধ্যেই ▁তা ▁বিধ্বস্ত ▁হয় । ▁পশ্চিম ▁সাহারা ▁থেকে ▁আসা ▁হাজার ▁হাজার ▁শরণার্থী ▁টিন ড ৌ ফ ▁এলাকায় ▁বাস ▁করছেন । ▁এঁদের ▁মধ্যে ▁ পোলিস ারি ও ▁সমর্থক ের ▁সংখ্যা ই ▁বেশি । ▁সাম্প্রতিক ▁সময়ে ▁আলজেরিয়ার ▁সবচেয়ে ▁বড় ▁উড়োজাহাজ ▁দুর্ঘটনার ▁ঘটনা ▁এটি । ▁২০১৪ ▁সালের ▁ফেব্রুয়ারি ▁মাসে ▁আলজেরিয়ার ▁বিমানবাহিনীর ▁একটি ▁উড়োজাহাজ ▁বিধ্বস্ত ▁হয়ে ▁৭৭ ▁জন ▁যাত্রী ▁নিহত ▁হন । ▁তাতে ▁সামরিক ▁কর্মকর্তা ▁ও ▁তাঁদের ▁পরিবারের ▁সদস্যরা ▁ছিলেন । ▁ওই ▁দুর্ঘটনায় ▁বেঁচে ▁ছিলেন ▁মাত্র ▁১ ▁জন ।,▁x x bo s ▁ভ্রমণ নিষেধ া জ্ঞা ▁আরোপ ▁করার ▁পর ▁ট্রাম্প ▁ক্রমাগত ▁হেরে ই ▁যাচ্ছেন । ▁মার্কিন ▁আপিল ▁আদালতের ▁নবম ▁সার্কিট ▁হাওয়াই ▁জেলা ▁আদালতের ▁রায় ▁প্রায় ▁পুরোটাই ▁বহাল ▁রেখেছেন । ▁এর ▁মধ্য ▁দিয়ে ▁আপিল ▁আদালত ▁ট্রাম্পের ▁দ্বিতীয় ▁দফা ▁ভ্রমণ নিষেধ া জ্ঞা য় ▁আঘাত ▁হান লেন । ▁আমেরিকান ▁সিভিল ▁লিবার্টি স ▁ইউনিয়নের ▁মুখপাত্র ▁আমাকে ▁বলেছেন , ▁‘ দুটি ▁আপিল ▁আদালত ▁মুসলমানদের ▁ভ্রমণ নিষেধ া জ্ঞা র ▁বিষয়টি ▁আমলে ▁নিয়ে ▁দৃঢ়তা র ▁সঙ্গে ▁তাকে ▁বেআইনি ▁হিসেবে ▁বিধান ▁দিয়েছেন । ▁যদিও ▁আপিল ▁আদালতের ▁চতুর্থ ▁ও ▁নবম ▁সার্কিট ▁ভিন্ন ▁যুক্তি ▁দিয়েছেন , ▁উভয় ▁আদালত ই ▁এ ▁ব্যাপারে ▁পরিষ্কার , ▁এ ▁ধরনের ▁নিষেধাজ্ঞার ▁যৌক্তিকতা ▁নেই । ’ ▁নবম ▁সার্কিট ▁তো ▁আরও ▁একবার ▁ট্রাম্পের ▁এই ▁দাবি ▁নাকচ ▁করেছেন ▁যে ▁নির্দিষ্ট ▁কিছু ▁গোষ্ঠীর ▁ওপর ▁নিষেধাজ্ঞা ▁আরোপ ের ▁ক্ষেত্রে ▁তাঁর ▁হাতে ▁প্রায় ▁অসীম ▁ক্ষমতা ▁রয়েছে । ▁ব্যাপারটা ▁হচ্ছে , ▁অভিবাসনের ▁ব্যাপারে ▁প্রেসিডেন্টের ▁একক ▁ক্ষমতা ▁নেই । ▁তাঁর ▁কর্তৃত্ব ▁নানা ▁রকম ▁আইনি ▁ও ▁সাংবিধানিক ▁বিধিনিষেধ ের ▁নি গড়ে ▁বাঁধা । ▁আমাদের ▁সিদ্ধান্ত ▁হচ্ছে , ▁নির্বাহী ▁আদেশ ▁জারি ▁করতে ▁গিয়ে ▁প্রেসিডেন্ট ▁কংগ্রেস ▁কর্তৃক ▁প্রদত্ত ▁ক্ষমতার ▁বেশি ▁ব্যবহার ▁করেছেন । ▁ছয়টি ▁দেশের ▁১৮ ▁কোটির ▁বেশি ▁মানুষ ▁ও ▁শরণার্থী র ▁আগমন ▁নিষিদ্ধ ▁এবং ▁২০১৭ ▁সালে ▁১ ▁লাখ ▁১০ ▁হাজার ▁শরণার্থী র ▁জায়গায় ▁৫০ ▁হাজার ▁নেওয়ার ▁ঘোষণা — এসব ▁করতে ▁গিয়ে ▁ট্রাম্প ▁নিজের ▁ক্ষমতা ▁ব্যবহারের ▁প্রয়োজনীয় ▁পূর্বশর্ত ▁পূরণ ▁করেননি । ▁এই ▁মানুষেরা ▁যুক্তরাষ্ট্রে ▁ঢু কলে ▁তা ▁‘ দেশ টির ▁স্বার্থের ▁জন্য ▁হানি কর ’ ▁হবে , ▁এটা ▁বলার ▁আগে ▁প্রেসিডেন্ট কে ▁তথ্যপ্রমাণ ▁জড়ো ▁করতে ▁হবে । ▁এ ▁ছাড়া ▁ট্রাম্পের ▁এই ▁আদেশ ▁ইমিগ্রেশন ▁অ্যান্ড ▁ন্যাশনাল িটি ▁অ্যাক্ট ের ▁পরিপন্থী । ▁কারণ ▁এতে ▁বলা ▁হয়েছে , ▁জাতীয়তা ভিত্তিক ▁বিভাজন ▁করা ▁যাবে ▁না , ▁আর ▁শরণার্থীদের ▁প্রবেশ ▁সীমিত ▁করতে ▁হলে ▁প্রেসিডেন্ট কে ▁নির্দিষ্ট ▁প্রক্রিয়া ▁অনুসরণ ▁করতে ▁হবে । ▁আইনের ▁এই ▁বিধান ের ▁বলে ▁আমরা ▁জেলা ▁আদালতের ▁আদেশ ▁অনেকাংশে ▁সমর্থন ▁করি । ▁মনে ▁হচ্ছে , ▁মামলা ▁চলাকালে ▁প্রশাসন ▁এটা ▁শিখতে ▁পারেনি , ▁আদালত ▁এমন ▁যুক্তি ▁সমর্থন ▁করেন ▁না ▁যে ▁প্রশাসনের ▁কাজ ▁পর্যালোচনা ▁করা ▁যাবে ▁না । ▁আদালত ▁প্রশাসন কে ▁নির্দেশনা ▁দিয়েছেন , ▁‘ প্রেসিডেন্ট ের ▁অভিবাসন ▁ও ▁জাতীয় ▁নিরাপত্তা ▁নীতি বিষয়ক ▁বিবেচনা র ▁প্রতি ▁আমরা ▁যত ▁শ্রদ্ধা ই ▁দেখা ই ▁না ▁কেন , ▁তার ▁মানে ▁এই ▁নয় ▁যে , ▁আমরা ▁মোট েও ▁এই ▁নীতি ▁পর্যালোচনা ▁করতে ▁পারব ▁না ... আমরা ▁বিচার িক ▁ভূমিকা ▁ত্যাগ ▁করিনি । ▁এ ▁ক্ষেত্রে ▁“ আইন ▁কী ▁জিনিস ”, ▁সেটা ▁বলার ▁ব্যাপারে ▁আমাদের ▁বাধ্যবাধকতা ▁আছে ▁( মার বুরি ▁বনাম ▁ম্যাডিসন , ▁৫ ▁ইউ . এস . ১৩৭ , ▁১৭৭ ( ১৮ ০৩ ) । ’ ▁তাহলে ▁সরকার ▁কেন ▁গো ঁ ▁ধরে ▁বসে ▁থাকে , ▁এই ▁আইনি ▁বিতর্কে ▁আদালতের ▁স্থান ▁নেই । ▁সুনির্দিষ্ট ▁আইনি ▁পরিপ্রেক্ষিতে ▁আদালত ▁দেখেছেন , ▁প্রেসিডেন্ট ▁এমন ▁কিছু ▁পাননি ▁যে ▁বলা ▁যায় , ▁‘ কোনো ▁এক ▁বিদেশি ▁গোষ্ঠীর ▁আগমন ▁মার্কিন ▁যুক্তরাষ্ট্রের ▁স্বার্থের ▁জন্য ▁হানি কর । ’ ▁প্রশাসনের ▁এই ▁নিপীড়ন মূলক ▁কাজের ▁ন্যূনতম ▁ভিত্তি ▁না ▁থাকায় ▁আদালত ▁তাকে ▁ভর ্ ৎস না ▁করেছেন : ▁‘ ২ ( সি ) ▁নম্বর ▁ধারায় ▁প্রথম ▁যে ▁তিনটি ▁কারণ ▁বর্ণিত ▁হয়েছে , ▁আমরা ▁তা ▁প্রত্যাখ্যান ▁করি । ▁কারণ ▁এটা ▁বিদ্যমান ▁প্রক্রিয়া ▁পর্যালোচনায় ▁সরকারের ▁সক্ষমতা ▁সংরক্ষণ ▁ও ▁যথাযথ ▁ভে টিং - প্রক্রিয়া ▁নিশ্চিতকরণ ের ▁সঙ্গে ▁সম্পর্কিত । ▁এমন ▁তথ্য ▁নেই ▁যে ▁বিদ্যমান ▁ভে টিং ▁কার্যক্রম ▁অপর্যাপ্ত । ▁আবার ▁এমন ▁তথ্য ও ▁নেই ▁যে ▁উন্নত ▁ভে টিং - প্রক্রিয়া ▁না ▁থাকলে ▁জাতীয় ▁স্বার্থের ▁হানি ▁ঘটবে । ▁এসব ▁চিহ্নিত ▁কারণে র ▁পরিপ্রেক্ষিতে ▁বলা ▁যায় , ▁এই ▁ছয়টি ▁দেশের ▁নাগরিকের া ▁যুক্তরাষ্ট্রে ▁প্রবেশ ▁করলে ▁আমাদের ▁জাতীয় ▁স্বার্থের ▁হানি ▁ঘটবে । ’ ▁মনে ▁হয় , ▁সরকারি ▁আইনজীবী রা ▁সংশ্লিষ্ট ▁তথ্যপ্রমাণ ▁সংগ্রহের ▁চেষ্টা ▁করেননি । ▁কারণ , ▁এই ▁বিশুদ্ধ ▁রাজনৈতিক ▁পদক্ষেপের ▁প্রমাণ ▁নেই । ▁জাতীয় ▁নিরাপত্তার ▁যুক্তির ▁জায়গা ▁থেকে ▁আদালত ▁একই ▁ভাবে ▁খুঁজে ▁পেয়েছেন , ▁এই ▁ছয়টি ▁দেশের ▁নাগরিকদের ▁কেন ▁যুক্তরাষ্ট্রে ▁ঢুকতে ▁দেওয়া ▁হবে ▁না , ▁তার ▁সপক্ষে ▁সরকার ▁তেমন ▁কোনো ▁যুক্তি ▁দেয়নি । ▁সংক্ষেপে ▁বললে , ▁সরকারের ▁নির্বাহী ▁আদেশে ▁এমন ▁যুক্তি ▁দেওয়া ▁হয়নি ▁যে ▁কেন ▁বিদ্যমান ▁প্রটোকল ের ▁অধীনে ▁এই ▁ছয়টি ▁দেশের ▁নাগরিকের া ▁যুক্তরাষ্ট্রের ▁স্বার্থের ▁জন্য ▁হানি কর ▁হবেন । ▁এ ▁ছাড়া ▁১৯৬৫ ▁সালের ▁এক ▁আইনে ▁প্রেসিডেন্টের ▁ক্ষমতা ▁সীমিত ▁করা ▁হয়েছে । ▁এই ▁আইনে ▁বলা ▁হয়েছে , ▁ভিসা ▁দেওয়ার ▁ক্ষেত্রে ▁বৈষম্য ▁করা ▁যাবে ▁না । ▁নিষেধাজ্ঞার ▁সমর্থকদের ▁যুক্তি ▁হচ্ছে , ▁অভিবাসনের ▁ওপর ▁প্রেসিডেন্টের ▁যে ▁সামগ্রিক ▁কর্তৃত্ব ▁রয়েছে , ▁এই ▁আইনে ▁তা ▁খর্ব ▁করা ▁হয়নি । ▁কিন্তু ▁আদালত ▁এর ▁সঙ্গে ▁একমত ▁হননি । ▁আদালতের ▁অনুসন্ধান ▁হচ্ছে , ▁প্রশাসন ▁আইনি ▁শর্ত ▁পূরণ ▁করেনি । ▁ফলে ▁এই ▁নিষেধাজ্ঞার ▁সাংবিধানিক ▁দুর্বলতা র ▁দিকে ▁নজর ▁দেওয়ার ▁কিছু ▁নেই । ▁সরকারের ▁তরফে ▁একমাত্র ▁জয় ▁হচ্ছে , ▁আদালত ▁এই ▁স্বীকৃতি ▁দিয়েছেন ▁যে ▁সরকার ▁আন্ত সংস্থা ▁ভে টিং ▁পর্যালোচনা ▁করতে ▁পারবে । ▁আর ▁সুনির্দিষ্টভাবে ▁প্রেসিডেন্টের ▁কাজে ▁যে ▁নিষেধাজ্ঞা ▁দিতে ▁হবে , ▁তার ▁প্রয়োজনীয়তা ▁নেই । ▁সরকারের ▁আইনজীবী রা ▁কেন ▁সরকারকে ▁প্রয়োজনীয় ▁তথ্য ▁সংগ্রহ ▁করে ▁বোধগম্য ▁অবস্থান ▁নিতে ▁তাড়া ▁দিচ্ছেন ▁না , ▁সেটা ▁আমাদের ▁বোধগম্য ▁নয় । ▁অর্থাৎ ▁কেন ▁এই ▁ছয়টি ▁দেশের ▁নাগরিকদের ▁ভ্রমণ নিষেধ া জ্ঞা ▁জরুরি ▁বা ▁কেন ▁সব ▁শরণার্থী র ▁ওপর ▁নিষেধাজ্ঞা ▁জারি ▁করতে ▁হবে ? ▁জাস্টিস ▁ডিপার্টমেন্টের ▁সাবেক ▁মুখপাত্র ▁ম্যাথু ▁মিলার ▁বলেছেন , ▁‘ প্রেসিডেন্ট ের ▁পরাজয়ের ▁সামগ্রিক ▁পরিণতি ▁দেখে ▁আমি ▁স্তম্ভ িত । ▁তিনি ▁আইনি ▁ও ▁সাংবিধানিক ▁কারণে ▁হেরে ▁গেছেন । ’ ▁কেউ ▁হয়তো ▁ভাবতে ▁পারেন , ▁প্রশাসন ▁প্রয়োজনীয় ▁সাক্ষ্যপ্রমাণ ▁জোগাড় ▁করতে ▁অক্ষম , ▁অথবা ▁তারা ▁অলস । ▁আমরা ▁ভিন্ন ▁এক ▁তত্ত্ব ▁পছন্দ ▁করি : ▁এই ▁আদেশ গুলোর ▁নিরাপত্তা ▁বা ▁অন্যান্য ▁যৌক্তিকতা ▁নেই ; ▁বরং ▁এগুলো ▁কিছু ▁সংস্কার ে ▁স্থূল ভাবে ▁সু ড় স ুড়ি ▁দেওয়া , ▁যার ▁কোনো ▁প্রামাণিক ▁ও ▁যৌক্তিক ▁ভিত্তি ▁নেই । ▁পৃথিবীর ▁কোনো ▁আইনজীবী ▁আদালতে ▁তা ▁প্রমাণ ▁করতে ▁পারবেন ▁না । ▁অনুবাদ : ▁প্রতীক ▁বর্ধন , ▁ওয়াশিংটন ▁পোস্ট ▁থেকে ▁নেওয়া । ▁জেনিফার ▁রুবিন : ▁ওয়াশিংটন ▁পোস্ট – এর ▁কলামিস্ট ।,▁x x bo s ▁একটি ▁মজার ▁ধাঁধা ▁দেখুন । ▁তিন ▁বন্ধু ▁গাছের ▁নিচে ▁ঘুমিয়ে ▁আছেন । ▁একটি ▁বানর ▁এসে ▁তাদের ▁প্রত্যেকের ▁মুখে ▁রং ▁দিয়ে ▁বিচিত্র ▁ধরনের ▁দাগ ▁এঁকে টে কে ▁দিয়ে ▁গেল । ▁ঘুম ▁থেকে ▁উঠে ▁তিন ▁বন্ধুর ▁প্রত্যেকেই ▁অপর ▁দুই ▁বন্ধুর ▁চেহারা ▁দেখে ▁হাস তে ▁লাগলেন । ▁কিছুক্ষণ ▁পর ▁প্রথম ▁বন্ধু ▁হাসি ▁বন্ধ ▁করে ▁চুপ ▁করে ▁গেলেন । ▁বলুন ▁তো ▁কেন ? ▁কারণ ▁ভাবলেন ▁দ্বিতীয় ▁বন্ধু ▁যদি ▁দেখতেন ▁তার ▁মুখে ▁দাগ ▁নেই , ▁তাহলে ▁দ্বিতীয় ▁বন্ধু ▁নিশ্চয়ই ▁তৃতীয় ▁বন্ধুকে ▁হাস তে ▁দেখে ▁অবাক ▁হতেন । ▁কারণ ▁প্রথম ▁বন্ধুর ▁মুখে ▁যদি ▁দাগ ▁না ▁থাকে ▁আর ▁দ্বিতীয় ▁বন্ধু ▁তো ▁ধরেই ▁নিয়েছেন ▁তার ▁নিজের ▁মুখে ▁দাগ ▁নেই , ▁তাহলে ▁তো ▁তৃতীয় ▁বন্ধুর ▁হাসা র ▁কথা ▁নয় ! ▁প্রথম ▁ও ▁দ্বিতীয় ▁দুই ▁বন্ধুর ▁কারও ▁মুখে ▁দাগ ▁না ▁থাকত ▁তাহলে ▁তৃতীয় ▁বন্ধু ▁হাস বেন ▁কেন ? ▁অথচ ▁তৃতীয় ▁বন্ধুকে ▁হাস তে ▁দেখে ▁দ্বিতীয় ▁বন্ধু ▁অবাক ▁হচ্ছেন ▁না । ▁তাই ▁প্রথম ▁বন্ধু ▁বুঝ লেন ▁তার ▁নিজের ▁মুখে ও ▁দাগ ▁আছে । ▁এ ▁জন্যই ▁তিনি ▁চুপ ▁করে ▁গেলেন । ▁গণিতের ▁আরেকটি ▁সমস্যার ▁সহজ ▁সমাধান ▁দেখুন । ▁চারটি ▁ক্রমিক ▁সংখ্যার ▁যোগফল ▁৩০ । ▁বলতে ▁হবে ▁সংখ্যা ▁চারটি ▁কত । ▁এর ▁উত্তরের ▁জন্য ▁আমরা ▁প্রথমে ▁সংখ্যা ▁চারটি র ▁সম্ভাব্য ▁গড় ▁কত ▁হতে ▁পারে ▁তা ▁বের ▁করি । ▁গড় ▁৭ ▁ও ▁৮ - এর ▁মাঝামাঝি । ▁সুতরাং ▁ক্রমিক ▁সংখ্যা ▁চারটি ▁নিশ্চয়ই ▁৬ , ▁৭ , ▁৮ ▁ও ▁৯ । ▁এদের ▁যোগফল ▁৩০ । ▁গড় ▁৭ ▁দশমিক ▁৫ । ▁এ ▁সপ্তাহের ▁ধাঁধা ▁আপনি ▁বিস্কুট ▁কিনতে ▁গেলেন । ▁দোকান ি ▁বললেন ▁দাম ▁২০ % ▁বেড়ে ▁১২০ ▁টাকা ▁হয়েছে । ▁আপনি ▁বললেন ▁না , ▁না , ▁২০ % ▁কমাতে ▁হবে । ▁দোকান ি ▁১২০ ▁টাকার ▁ওপর ▁২০ % ▁কমিয়ে ▁দাম ▁নিলেন । ▁বলুন ▁তো ▁এতে ▁কার ▁লাভ ▁হলো ? ▁খুব ▁সহজ । ▁অনলাইনে ▁মন্তব্য ▁আকারে ▁অথবা ▁ qua y um <unk> g ma il . com ▁ই - মেইল ে ▁আপনাদের ▁উত্তর ▁পাঠিয়ে ▁দিন । ▁সঠিক ▁উত্তর ▁দেখুন ▁আগামী ▁রোববার ▁অনলাইনে । ▁গত ▁সপ্তাহের ▁ধাঁধা র ▁উত্তর ▁ধাঁধা টি ▁ছিল ▁এ ▁রকম : ▁একটি ▁সংখ্যার ▁সঙ্গে ▁৬ ▁যোগ ▁করলে ▁একটি ▁পূর্ণ ▁বর্গ ▁সংখ্যা ▁হয় । ▁আবার ▁৬ ▁বিয়োগ ▁করলে ▁সেই ▁পূর্ণ ▁বর্গ ▁সংখ্যার ▁বর্গমূল ▁পাওয়া ▁যায় । ▁বৈশিষ্ট্যপূর্ণ ▁সংখ্যাটি ▁কত ? ▁উত্তর : ▁বৈশিষ্ট্যপূর্ণ ▁সংখ্যাটি ▁১০ । ▁( ১০ ▁+ ▁৬ ) ▁= ▁১৬ , ▁যা ▁একটি ▁পূর্ণ ▁বর্গ ▁সংখ্যা । ▁আবার ▁( ১০ ▁- ▁৬ ) ▁= ▁৪ , ▁যা ▁১৬ ▁এর ▁বর্গমূল । ▁কীভাবে ▁উত্তর ▁বের ▁করলাম ▁প্রথমে ▁আমরা ▁৪ , ▁৯ , ▁১৬ , ▁২৫ ▁প্রভৃতি ▁বর্গ ▁সংখ্যা ▁নিয়ে ▁পর্যবেক্ষণ ▁করি । ▁এদের ▁মধ্যে ▁১৬ ▁আমাদের ▁শর্ত ▁পূরণ ▁করে । ▁কারণ ▁এই ▁বর্গ সংখ্যা টি ▁থেকে ▁৬ ▁বিয়োগ ▁করলে ▁১০ ▁এবং ▁আবার ▁৬ ▁বিয়োগ ▁করলে ▁৪ ▁হয় , ▁যা ▁১৬ - এর ▁বর্গমূল । ▁তার ▁মানে ▁বৈশিষ্ট্যপূর্ণ ▁সংখ্যাটি ▁১০ । ▁এর ▁থেকে ▁৬ ▁বেশি ▁ও ▁৬ ▁কম ▁সংখ্যা গুলো ▁যথাক্রমে ▁১৬ ▁ও ▁৪ । ▁এখানে ▁১৬ ▁একটি ▁পূর্ণ ▁বর্গ ▁সংখ্যা , ▁এবং ▁৪ ▁হলো ▁১৬ - এর ▁বর্গমূল । ▁আমরা ▁তো ▁এই ▁শর্ত টিই ▁পূরণ ▁করতে ▁চা চ্ছি । ▁এখানে ▁লক্ষণীয় ▁যে ▁এ ▁ধরনের ▁আরও ▁কয়েকটি ▁বৈশিষ্ট্যপূর্ণ ▁সংখ্যা ▁রয়েছে । ▁যেমন ▁৩ ▁এমন ▁একটি ▁বৈশিষ্ট্যপূর্ণ ▁সংখ্যা ▁যার ▁সঙ্গে ▁১ ▁যোগ ▁ও ▁বিয়োগ ▁করলে ▁যথাক্রমে ▁৪ ▁ও ▁২ ▁পাওয়া ▁যায় । ▁এখানে ▁৪ ▁একটি ▁পূর্ণ ▁বর্গ ▁সংখ্যা ▁এবং ▁এর ▁বর্গমূল ▁২ ▁। ▁এ ▁রকম ▁আরেকটি ▁বৈশিষ্ট্যপূর্ণ ▁সংখ্যা ▁হলো ▁১৫ । ▁এর ▁সঙ্গে ▁১০ ▁যোগ ▁ও ▁বিয়োগ ▁করলে ▁যথাক্রমে ▁২৫ ▁ও ▁৫ ▁পাব । ▁এখানে ▁২৫ ▁একটি ▁পূর্ণ ▁বর্গ ▁সংখ্যা ▁এবং ▁এর ▁বর্গমূল ▁৫ । ▁আব্দুল ▁কাইয়ুম , ▁সম্পাদক , ▁মাসিক ▁ম্যাগাজিন ▁বিজ্ঞান চিন্তা,▁x x bo s ▁শিক্ষা ▁মন্ত্রণালয়ের ▁অধীন ▁বাংলাদেশ ▁শিক্ষা তথ্য ▁ও ▁পরিসংখ্যান ▁ব্যুরো ▁( ব্যা ন বেই স ) ▁রাজস্ব ▁ও ▁ব্যান বেই সের ▁আওতায় ▁উপজেলা ▁আইসিটি ▁ট্রেনিং ▁অ্যান্ড ▁রিসোর্স ▁সেন্টার ▁ফর ▁এডুকেশন ের ▁( ইউ আইটি আরসি ই ) ▁জন্য ▁ছয় ▁পদে ▁মোট ▁১৪০ ▁জনকে ▁নিয়োগ ের ▁বিজ্ঞপ্তি ▁প্রকাশ ▁করেছে । ▁এর ▁মধ্যে ▁কম্পিউটার ▁অপারেটর ▁পদে ▁১২৮ ▁জন , ▁ল্যাব ▁অ্যাসিস্ট্যান্ট ▁পদে ▁৭ ▁জন , ▁স্ট্যাটিস্টিক ্যাল ▁ইনভেস্ট ি গেট র ▁পদে ▁২ ▁জন ▁এবং ▁সাঁ ট ▁মুদ্রাক্ষর িক ▁কাম ▁কম্পিউটার ▁অপারেটর , ▁সংকলক ▁ও ▁অফিস ▁সহকারী ▁কাম ▁কম্পিউটার ▁মুদ্রাক্ষর িক ▁পদে ▁১ ▁জন ▁করে ▁লোকবল ▁নিয়োগ ▁দেওয়া ▁হবে । ▁ইতিমধ্যে ▁শুরু ▁হয়ে ▁গেছে ▁আবেদন - প্রক্রিয়া , ▁আবেদন ▁করা ▁যাবে ▁২৯ ▁জুন ▁পর্যন্ত । আ বেদন ের ▁যোগ্যতা কম্পিউটার ▁অপারেটর ▁পদে ▁আবেদন ের ▁জন্য ▁আবেদনকারী কে ▁কমপক্ষে ▁ডিগ্রি ▁পাস ▁হতে ▁হবে । ▁তবে ▁এ ▁ক্ষেত্রে ▁বিজ্ঞান ▁বিভাগ ▁থেকে ▁পাস ▁করা ▁প্রার্থীদের ▁অগ্রাধিকার ▁দেওয়া ▁হবে । ▁ল্যাব ▁অ্যাসিস্ট্যান্ট ▁পদে ▁আবেদন ের ▁জন্য ▁আবেদনকারী কে ▁কমপক্ষে ▁এইচএসসি ▁পাস ▁অথবা ▁সমমানের ▁শিক্ষাগত ▁যোগ্যতার ▁অধিকারী ▁হতে ▁হবে । ▁এ ▁ছাড়া ▁প্রার্থীকে ▁শারীরিকভাবে ▁সুঠাম ▁দেহের ▁অধিকারী ▁এবং ▁কম্পিউটার ▁হার্ডওয়্যার ▁মেইন টেন ্যান্স ▁ও ▁ডেটা ▁এন্ট্রি ▁কাজে ▁পারদর্শী ▁হতে ▁হবে । ▁স্ট্যাটিস্টিক ্যাল ▁ইনভেস্ট ি গেট র ▁পদে ▁আবেদন ের ▁জন্য ▁আবেদনকারী কে ▁যেকোনো ▁স্বীকৃত ▁বিশ্ববিদ্যালয় ▁থেকে ▁পরিসংখ্যান , ▁গণিত ▁বা ▁অর্থনীতিতে ▁কমপক্ষে ▁দ্বিতীয় ▁শ্রেণির ▁স্নাতক ▁ডিগ্রি সহ ▁সংশ্লিষ্ট ▁কাজে ▁বাস্তব ▁অভিজ্ঞতা ▁থাকতে ▁হবে । ▁সাঁ ট ▁মুদ্রাক্ষর িক ▁কাম ▁কম্পিউটার ▁অপারেটর ▁পদের ▁জন্য ▁আবেদনকারী কে ▁কমপক্ষে ▁এইচএসসি ▁পাস ▁হতে ▁হবে , ▁সঙ্গে ▁কম্পিউটার ▁ব্যবহার - সংক্রান্ত ▁ওয়ার্ড ▁প্রসেসিং , ▁ডেটা ▁এন্ট্রি ▁ও ▁টাইপ িংয়ে ▁বাংলায় ▁মিনিটে ▁২৫ ▁এবং ▁ইংরেজিতে ▁৩০ ▁শব্দ ▁টাইপ িং ▁স্পিড ▁থাকতে ▁হবে । ▁সংকলক ▁পদে ▁আবেদন ের ▁জন্য ▁আবেদনকারী কে ▁কমপক্ষে ▁এইচএসসি ▁অথবা ▁সমমানের ▁পরীক্ষায় ▁উত্তীর্ণ ▁হতে ▁হবে । ▁তবে ▁এই ▁কাজে ▁বাস্তব ▁অভিজ্ঞতাসম্পন্ন ▁প্রার্থীদের ▁এ ▁ক্ষেত্রে ▁অগ্রাধিকার ▁দেওয়া ▁হবে । ▁অফিস ▁সহকারী ▁কাম ▁কম্পিউটার ▁মুদ্রাক্ষর িক ▁পদের ▁জন্য ▁আবেদনকারী কে ▁কমপক্ষে ▁এইচএসসি ▁পাস ▁হতে ▁হবে , ▁সঙ্গে ▁কম্পিউটার ▁ব্যবহার - সংক্রান্ত ▁ওয়ার্ড ▁প্রসেসিং , ▁ডেটা ▁এন্ট্রি ▁ও ▁টাইপ িংয়ে ▁বাংলায় ▁এবং ▁ইংরেজিতে ▁প্রতি ▁মিনিটে ▁২০ ▁শব্দ ▁টাইপ িং ▁স্পিড ▁থাকতে ▁হবে । ▁সব ▁পদে ▁আবেদন ের ▁জন্যই ▁২৯ ▁জুন ▁প্রার্থীর ▁বয়স ▁হতে ▁হবে ▁১৮ ▁থেকে ▁৩০ ▁বছরের ▁মধ্যে । ▁তবে ▁মুক্তিযোদ্ধা ▁কোটায় ▁( মুক্তিযোদ্ধা র ▁সন্তান ) ▁ও ▁শারীরিক ▁প্রতিবন্ধী দের ▁ক্ষেত্রে ▁নির্দিষ্ট ▁তারিখে ▁বয়স ▁হতে ▁হবে ▁৩২ ▁বছরের ▁মধ্যে । ইউ আইটি আরসি ই র ▁ছয়টি ▁পদের ▁জন্য ▁মানিকগঞ্জ , ▁রাজবাড়ী , ▁শেরপুর , ▁খাগড়াছড়ি , ▁রাঙামাটি , ▁ফেনী , ▁পঞ্চগড় , ▁ঠাকুরগাঁও ▁ও ▁মেহেরপুর ▁ব্যতীত ▁সব ▁জেলার ▁প্রার্থী রা ▁আবেদন ▁করতে ▁পারবেন । ▁তবে ▁মুক্তিযোদ্ধা ▁কোটা র ▁প্রার্থী রা ▁আবেদন ▁করতে ▁পারবেন ▁সব ▁জেলা ▁থেকেই । আ বেদন ের ▁পদ্ধতি ইউ আইটি আরসি ই র ▁ছয়টি ▁পদে ▁আবেদন ের ▁জন্যই ▁আবেদনকারী কে ▁২৯ ▁জুন ▁বিকেল ▁পাঁচটা র ▁মধ্যে ▁ব্যান বেই সের ▁ওয়েবসাইট ▁ www . ban be is . gov . bd ▁/ ▁ jo bs ▁এই ▁ঠিকানায় ▁গিয়ে ▁অনলাইনে ▁আবেদন ▁ফরম ▁পূরণ ▁করে ▁আবেদন ▁করতে ▁হবে । ▁দরখাস্ত ▁করার ▁সময় ▁ফরম ▁পূরণের ▁নিয়ম ▁ও ▁শর্ত াবলি ▁ওয়েবসাইটে ই ▁পাওয়া ▁যাবে । ▁যথাযথভাবে ▁আবেদন ▁ফরম ▁পূরণের ▁পর ▁প্রাপ্ত ▁ট্র্যাকিং ▁নম্বর টি ▁সংরক্ষণ ▁করতে ▁হবে । ▁পরীক্ষার ▁ফি ▁বাবদ ▁প্রার্থীকে ▁পরিচালক , ▁বাংলাদেশ ▁শিক্ষা তথ্য ▁ও ▁পরিসংখ্যান ▁ব্যুরো র ▁( ব্যা ন বেই স ) ▁অনুকূলে ▁১ - ২৫ ৭৯ - ▁x x re p ▁4 ▁০ ▁- ২০০১ ▁কোড ▁নম্বরে ▁১০০ ▁টাকার ▁ট্রেজারি ▁চালান ▁জমা ▁করে ▁তার ▁স্ক্যান ▁কপি ▁আবেদন ের ▁সঙ্গে ▁আপলোড ▁করতে ▁হবে । বে তন - ভা তা ▁ও ▁অন্যান্য ▁সুবিধাদি চূড়া ন্ত ভাবে ▁নিয়োগপ্রাপ্ত ▁প্রার্থী রা ▁সরকার ▁কর্তৃক ▁নির্দিষ্ট ▁গ্রেড ে ▁বেতন - ভা তা ▁ও ▁অন্য ▁সুবিধাদি ▁পাবেন । ▁এ ▁ক্ষেত্রে ▁কম্পিউটার ▁অপারেটর ▁পদে ▁চূড়ান্তভাবে ▁নিয়োগপ্রাপ্ত ▁ব্যক্তিরা ▁১১ ▁হাজার ▁থেকে ▁২৬ ▁হাজার ▁৫৯ ০ ▁টাকা , ▁ল্যাব ▁অ্যাসিস্ট্যান্ট ▁পদে ▁৯ ▁হাজার ▁৩০০ ▁টাকা ▁থেকে ▁২২ ▁হাজার ▁৪৯০ ▁টাকা , ▁স্ট্যাটিস্টিক ্যাল ▁ইনভেস্ট ি গেট র ▁পদে ▁১১ ▁হাজার ▁৩০০ ▁টাকা ▁থেকে ▁২৭ ▁হাজার ▁৩০০ ▁টাকা , ▁সাঁ ট ▁মুদ্রাক্ষর িক ▁কাম ▁কম্পিউটার ▁অপারেটর ▁পদে ▁১০ ▁হাজার ▁২০০ ▁টাকা ▁থেকে ▁২৪ ▁হাজার ▁৬৮০ ▁টাকা , ▁সংকলক ▁পদে ▁৯ ▁হাজার ▁৩০০ ▁টাকা ▁থেকে ▁২২ ▁হাজার ▁৪৯০ ▁টাকা ▁এবং ▁অফিস ▁সহকারী ▁কাম ▁কম্পিউটার ▁মুদ্রাক্ষর িক ▁পদে ▁চূড়ান্তভাবে ▁নিয়োগপ্রাপ্ত রা ▁৯ ▁হাজার ▁৩০০ ▁টাকা ▁থেকে ▁২২ ▁হাজার ▁৪৯০ ▁টাকা ▁স্কেলে ▁বেতন ▁পাবেন । বিস্তার িত ▁জানতে ▁যোগাযোগ ব্যা ন বেই স ; ▁১ ▁সোনারগাঁও ▁রোড ▁( পলাশ ী - নীল ক্ষেত ), ▁ঢাকা - ১২ ০৫ ; ▁ওয়েবসাইট : ▁ www . ban be is . gov . bd\n",
       "y: LMLabelList\n",
       ",,,,\n",
       "Path: /content/data;\n",
       "\n",
       "Valid: LabelList (10000 items)\n",
       "x: LMTextList\n",
       "▁x x bo s ▁জাহা লম ের ▁কারাভোগ ▁নিয়ে ▁হাইকোর্টে ▁শুনানি ▁পিছিয়ে ছে ▁দুর্নীতি ▁দমন ▁কমিশনের ▁( দু দক ) ▁মামলায় ▁নিরীহ ▁পাটকল ▁শ্রমিক ▁জাহা লম ের ▁কারাভোগ ের ▁ঘটনায় ▁হাইকোর্টে ▁শুনানি ▁পিছিয়ে ছে । ▁আগামী ▁৩১ ▁অক্টোবর ▁শুনানি র ▁নতুন ▁দিন ▁ঠিক ▁করেছেন ▁বিচারপতি ▁এফ ▁আর ▁এম ▁নাজমুল ▁আ হাসান ▁ও ▁বিচারপতি ▁কামরুল ▁কাদের ের ▁সমন্বয়ে ▁গঠিত ▁হাইকোর্ট ▁বেঞ্চ । ▁দু দক ের ▁পক্ষে ▁আদালতে ▁উপস্থিত ▁ছিলেন ▁আইনজীবী ▁খুরশীদ ▁আলম ▁খান । ▁আর ▁সোনালী ▁ব্যাংকের ▁পক্ষে ▁আইনজীবী ▁জাকির ▁হোসেন ▁ও ▁ব্র্যাক ▁ব্যাংকের ▁পক্ষে ▁আইনজীবী ▁আসাদুজ্জামান ▁আদালতে ▁হাজির ▁ছিলেন । ▁জাহা লম ▁তাঁর ▁ভাই ▁শাহ া নূর কে ▁নিয়ে ▁বৃহস্পতিবার ▁আদালতে ▁হাজির ▁ছিলেন । ▁জাহা লম ▁প্রথম ▁আলোকে ▁বলেন , ▁বিনা ▁দোষে ▁তাঁকে ▁তিন ▁বছর ▁জেল ▁খাট তে ▁হয়েছে । ▁এর ▁জন্য ▁কোনো ▁ক্ষতিপূরণ ▁তিনি ▁পাননি । ▁জাহা লম কে ▁আসামি ▁করার ▁দায়ে ▁যে ▁১১ ▁জন ▁কর্মকর্তার ▁বিরুদ্ধে ▁বিভাগীয় ▁মামলা ▁হয়েছে , ▁তাঁদের ▁তালিকা ▁গত ▁২৮ ▁আগস্ট ▁হাইকোর্টে ▁জমা ▁দেয় ▁দু দক । ▁দু দক ের ▁ওই ▁১১ ▁কর্মকর্তা ▁হলেন , ▁দু দক ের ▁পরিচালক ▁আবদুল্লাহ ▁আল - জা হিদ , ▁উপ পরিচালক ▁শেখ ▁মেজ বাহ ▁উদ্দিন , ▁মাসুদ ুর ▁রহমান , ▁দেবব্রত ▁মণ্ডল , ▁সেলিনা ▁আক্তার ▁মনি , ▁সহকারী ▁পরিচালক ▁সুমিত্রা ▁সেন , ▁সিলভিয়া ▁ফেরদৌস , ▁মে ফ তা হুল ▁জান্নাত , ▁মুহম্মদ ▁জয়নাল ▁আবেদীন , ▁সাইদ ুজ্জামান ▁ও ▁রাফ ী ▁মো . ▁নাজ মুস ▁সাদাত । ▁গত ▁৩০ ▁জানুয়ারি ▁প্রথম ▁আলোয় ▁‘ স্যা র , ▁আমি ▁জাহা লম , ▁সালে ক ▁না ’ ▁শীর্ষক ▁প্রতিবেদন ▁প্রকাশিত ▁হয় ▁। ▁প্রতিবেদন টি ▁সেদিন ▁হাইকোর্ট ের ▁নজরে ▁আনেন ▁সুপ্রিম ▁কোর্টের ▁আইনজীবী ▁অমিত ▁দাশ ▁গুপ্ত । ▁শুনানি ▁নিয়ে ▁আদালত ▁জাহা লম ের ▁আটকা দেশ ▁কেন ▁অবৈধ ▁ঘোষণা ▁করা ▁হবে ▁না , ▁তা ▁জানতে ▁চেয়ে ▁স্বতঃ প্রণোদিত ▁রুল ▁জারি ▁করেন । ▁এরপর ▁হাইকোর্ট ের ▁আদেশে ▁গত ▁৩ ▁ফেব্রুয়ারি ▁পাটকল শ্রমিক ▁জাহা লম ▁কারাগার ▁থেকে ▁ছাড়া ▁পান ।,▁x x bo s ▁‘ কেউ ▁দিলে ▁খাই তে ▁পাই , ▁না ▁দিলে ▁উপ াস ▁করতে ▁অ য় ’ ▁সাংবাদিকদের ▁দেখলে ই ▁ছুটে ▁এসে ▁নিজের ▁কথা ▁বলতে ▁চান ▁পঞ্চাশ োর্ধ্ব ▁সাফিয়া ▁বেগম । ▁১৬ ▁আগস্ট ▁রাজধানীর ▁মিরপুর ের ▁রূপ নগর ▁এলাকার ▁বস্তিতে ▁আগুন ▁লাগে । ▁বস্তিতে ▁তাঁর ▁ঘর ▁ছিল । ▁৮ ▁বছর ▁আগে ▁সুদ ে ▁৬০ ▁হাজার ▁টাকা ▁ঋণ ▁নিয়ে ▁ঘরটি ▁কিনেছিলেন ▁তিনি । ▁সেই ▁টাকা ▁শোধ ▁করে ▁সম্প্রতি ▁আরও ▁এক ▁লাখ ▁টাকা ▁ঋণ ▁নিয়েছেন ▁ঘরটি ▁ঠিকঠাক ▁করতে । ▁মেরামত ের ▁কাজ ▁শেষ ও ▁হয়েছিল , ▁কিন্তু ▁ভয়াবহ ▁আগুন ▁সব ▁শেষ ▁করে ▁দিয়েছে । ▁তাঁর ▁এখন ▁মাথা ▁গো ঁ জার ▁ঠাঁই ▁না ▁থাকলেও ▁আছে ▁ঋণের ▁বোঝা । ▁আজ ▁মঙ্গলবার ▁দুপুরে ▁সাফিয়া সহ ▁আরও ▁কয়েকজন ের ▁সঙ্গে ▁কথা ▁হলো । ▁সাফিয়া ▁বললেন , ▁‘ টা হা - পয়সা ▁ভিক্ষা ▁করলেও ▁পাওয়া ▁যাই ব , ▁আমি ▁টা হা - পয়সা ▁চাই ▁না । ▁আমি ▁চাই ▁মাথা ▁গো ঁ জার ▁ঠাঁই । ’ ▁তিনি ▁আক্ষেপ ▁করে ▁বললেন , ▁‘ এই ▁দেশে ▁রোহিঙ্গা রাও ▁আশ্রয় ▁পায় , ▁আর ▁আমরা ▁এই ▁দেশের ▁ভোটার ▁হইয়া ও ▁থা হার ▁জায়গা ▁পাই ▁না । ’ ▁আগুনে ▁ক্ষতিগ্রস্ত ▁মানুষ গুলোর ▁দিন ▁কাটে ▁গল্প গুজ ব ▁করে । ▁রাতে ▁আশ্রয় ▁নিতে ▁হয় ▁ত্রি পল ের ▁নিচে । ▁থাকার ▁জায়গা ▁ফিরে ▁পাওয়া ▁যাবে ▁কি ▁না , ▁তা ▁নিয়ে ▁তাঁরা ▁অনিশ্চয়তা র ▁মধ্যে ▁আছেন । ▁চায় ের ▁দোকানের ▁বেঞ্চ ে ▁বসে ▁কথা ▁হয় ▁নি রু ▁বেগমের ▁সঙ্গে । ▁তিনি ▁বললেন , ▁‘ আমার ▁সব ▁পু ই ড়া ▁গ্যা ছে , ▁কিছুই ▁বাঁচা ই তে ▁পারি ▁নাই । ▁এ হন ▁রাস্তা তেই ▁থাকতে ▁হই তা ছে । ▁তিন ▁বেলা ▁খাবার ▁জোটে ▁না । ▁ক হ নো ▁দুই ▁বেলা , ▁ক হ নো ▁এক ▁বেলা ▁খা ইয়া ▁দিন ▁পার ▁করত া ছি । ’ ▁দিন মজুর ▁মো . ▁জাহাঙ্গীর ▁জানালেন , ▁আগুন ▁নেভ ানোর ▁পর ▁তিনি ▁দেখলেন ▁তাঁর ▁ঘর ▁এবং ▁ঘরের ▁কোনো ▁কিছুই ▁আর ▁অবশিষ্ট ▁নেই । ▁অন্যদের ▁মতো ▁তিনিও ▁মাথা ▁গো ঁ জার ▁ঠাঁই ▁ছাড়া ▁আর ▁কিছুই ▁চান ▁না । ▁জাহাঙ্গীর ▁আরও ▁জানালেন , ▁প্রশাসনের ▁পক্ষ ▁থেকে ▁প্রথম ▁পাঁচ ▁দিন ▁খাবার ▁দেওয়ার ▁পর ▁খাবারের ▁বিষয়টি ও ▁এখন ▁অনিশ্চিত ▁হয়ে ▁পড়েছে । ▁জাহাঙ্গীর ের ▁সঙ্গে ▁যখন ▁কথা ▁হচ্ছিল ▁তখনই ▁এক ▁কিশোর ▁এসে ▁খবর ▁দিল , ▁বস্তি বাসীদের ▁মধ্যে ▁খাবার ▁বিতরণ ▁করছেন ▁কয়েকজন । ▁থালা , ▁বা টি ▁ও ▁পলিথিন ের ▁ব্যাগ ▁হাতে ▁সবাই ▁ছুট লেন ▁খাবার ▁সংগ্রহ ▁করতে । ▁গিয়ে ▁দেখা ▁গেল ▁একটি ▁স্বেচ্ছাসেবক ▁সংগঠনের ▁কয়েকজন ▁লোক ▁আগুনে ▁ক্ষতিগ্রস্ত ▁লোকজনের ▁মাঝে ▁খিচুড়ি ▁বিতরণ ▁করছেন । ▁খিচুড়ি ▁নিতে ▁লাইনে ▁দাঁড়িয়ে ▁পড়েছেন ▁সবাই । ▁লাইনে ▁দাঁড়ানো ▁হেনা ▁বেগমের ▁সঙ্গে ▁কথা ▁হলো । ▁তিনি ▁বললেন , ▁‘ টা হা - পয়সা র ▁অভাবে ▁আছি । ▁রাস্তা তেই ▁থাকতে ▁হইতে ছে । ▁কেউ ▁দিলে ▁খাই তে ▁পাই , ▁না ▁দিলে ▁উপ াস ▁করতে ▁অ য় । ’ ▁বড়দের ▁পাশাপাশি ▁খাবারের ▁জন্য ▁বা টি ▁হাতে ▁দাঁড়িয়েছে ▁ছোট্ট ▁রাসেল , ▁সুরাইয়া , ▁ইতি সহ ▁অনেক ▁শিশু । ▁বস্তি র ▁পুড়ে ▁যাওয়া ▁অংশটি ▁শ্মশান ের ▁মতো ▁নীরব ▁পড়ে ▁আছে । ▁বস্তি র ▁অনেক ▁ঘর ▁তোলা ▁হয়েছিল ▁ডোবা র ▁ওপর । ▁পোড়া ▁বাঁশ , ▁কাঠ , ▁কয়লা ▁ও ▁আবর্জনা ▁ভাস ছে ▁কুচ কু চে ▁কালো ▁পানিতে । ▁ডোবা র ▁পাশে ▁বসে ▁ছিলেন ▁ষাট োর্ধ্ব ▁রওশন ▁আরা । ▁বললেন , ▁‘ আগুন ▁যখন ▁লাগল ▁ত হন ▁শুধু ▁ছেলের ▁বউ ▁ও ▁নাতি নকে ▁নিয়ে ▁ঘর ▁থাই কা ▁বাই র ▁হয় া ▁আসি । ▁আগুন ▁নি বার ▁পর ▁দ্যা খ লাম ▁কিছু ▁নাই । ▁আমি ▁এ হন ▁শূন্য । ▁আমরা ▁এ হন ▁মানুষের ▁ঘরে ▁ঘরে ▁থা হি । ’ অনেক েই ▁ভিড় ▁করেছেন ▁ক্ষতিগ্রস্ত দের ▁নামের ▁তালিকায় ▁নিজের ▁নাম ▁খুঁজতে । ▁‘ চল ন্তি কা - ঝি ল পাড় ▁বস্তিতে ▁অগ্নিকাণ্ডে ▁ক্ষতিগ্রস্ত দের ▁জরুরি ▁মানবিক ▁সহায়তা ▁প্রকল্প ’ ▁হাতে ▁নিয়েছে ▁কারিতাস ▁বাংলাদেশ ▁ও ▁সোশ্যাল ▁অ্যান্ড ▁ইকোনোমিক ▁ইন হ ্যান্স মেন্ট ▁প্রোগ্রাম ▁( সিপ ) । ▁তারাই ▁প্রাথমিক ▁নামের ▁তালিকা ▁প্রকাশ ▁করেছে । ▁তালিকায় ▁যাঁদের ▁নাম ▁আছে ▁তাঁরা ▁এখন ▁সহায়তার ▁অপেক্ষায় ▁আছেন ।,▁x x bo s ▁একটি ▁মজার ▁ধাঁধা ▁দেখুন । ▁তিন ▁বন্ধু ▁গাছের ▁নিচে ▁ঘুমিয়ে ▁আছেন । ▁একটি ▁বানর ▁এসে ▁তাদের ▁প্রত্যেকের ▁মুখে ▁রং ▁দিয়ে ▁বিচিত্র ▁ধরনের ▁দাগ ▁এঁকে টে কে ▁দিয়ে ▁গেল । ▁ঘুম ▁থেকে ▁উঠে ▁তিন ▁বন্ধুর ▁প্রত্যেকেই ▁অপর ▁দুই ▁বন্ধুর ▁চেহারা ▁দেখে ▁হাস তে ▁লাগলেন । ▁কিছুক্ষণ ▁পর ▁প্রথম ▁বন্ধু ▁হাসি ▁বন্ধ ▁করে ▁চুপ ▁করে ▁গেলেন । ▁বলুন ▁তো ▁কেন ? ▁কারণ ▁ভাবলেন ▁দ্বিতীয় ▁বন্ধু ▁যদি ▁দেখতেন ▁তার ▁মুখে ▁দাগ ▁নেই , ▁তাহলে ▁দ্বিতীয় ▁বন্ধু ▁নিশ্চয়ই ▁তৃতীয় ▁বন্ধুকে ▁হাস তে ▁দেখে ▁অবাক ▁হতেন । ▁কারণ ▁প্রথম ▁বন্ধুর ▁মুখে ▁যদি ▁দাগ ▁না ▁থাকে ▁আর ▁দ্বিতীয় ▁বন্ধু ▁তো ▁ধরেই ▁নিয়েছেন ▁তার ▁নিজের ▁মুখে ▁দাগ ▁নেই , ▁তাহলে ▁তো ▁তৃতীয় ▁বন্ধুর ▁হাসা র ▁কথা ▁নয় ! ▁প্রথম ▁ও ▁দ্বিতীয় ▁দুই ▁বন্ধুর ▁কারও ▁মুখে ▁দাগ ▁না ▁থাকত ▁তাহলে ▁তৃতীয় ▁বন্ধু ▁হাস বেন ▁কেন ? ▁অথচ ▁তৃতীয় ▁বন্ধুকে ▁হাস তে ▁দেখে ▁দ্বিতীয় ▁বন্ধু ▁অবাক ▁হচ্ছেন ▁না । ▁তাই ▁প্রথম ▁বন্ধু ▁বুঝ লেন ▁তার ▁নিজের ▁মুখে ও ▁দাগ ▁আছে । ▁এ ▁জন্যই ▁তিনি ▁চুপ ▁করে ▁গেলেন । ▁গণিতের ▁আরেকটি ▁সমস্যার ▁সহজ ▁সমাধান ▁দেখুন । ▁চারটি ▁ক্রমিক ▁সংখ্যার ▁যোগফল ▁৩০ । ▁বলতে ▁হবে ▁সংখ্যা ▁চারটি ▁কত । ▁এর ▁উত্তরের ▁জন্য ▁আমরা ▁প্রথমে ▁সংখ্যা ▁চারটি র ▁সম্ভাব্য ▁গড় ▁কত ▁হতে ▁পারে ▁তা ▁বের ▁করি । ▁গড় ▁৭ ▁ও ▁৮ - এর ▁মাঝামাঝি । ▁সুতরাং ▁ক্রমিক ▁সংখ্যা ▁চারটি ▁নিশ্চয়ই ▁৬ , ▁৭ , ▁৮ ▁ও ▁৯ । ▁এদের ▁যোগফল ▁৩০ । ▁গড় ▁৭ ▁দশমিক ▁৫ । ▁এ ▁সপ্তাহের ▁ধাঁধা ▁আপনি ▁বিস্কুট ▁কিনতে ▁গেলেন । ▁দোকান ি ▁বললেন ▁দাম ▁২০ % ▁বেড়ে ▁১২০ ▁টাকা ▁হয়েছে । ▁আপনি ▁বললেন ▁না , ▁না , ▁২০ % ▁কমাতে ▁হবে । ▁দোকান ি ▁১২০ ▁টাকার ▁ওপর ▁২০ % ▁কমিয়ে ▁দাম ▁নিলেন । ▁বলুন ▁তো ▁এতে ▁কার ▁লাভ ▁হলো ? ▁খুব ▁সহজ । ▁অনলাইনে ▁মন্তব্য ▁আকারে ▁অথবা ▁ qua y um <unk> g ma il . com ▁ই - মেইল ে ▁আপনাদের ▁উত্তর ▁পাঠিয়ে ▁দিন । ▁সঠিক ▁উত্তর ▁দেখুন ▁আগামী ▁রোববার ▁অনলাইনে । ▁গত ▁সপ্তাহের ▁ধাঁধা র ▁উত্তর ▁ধাঁধা টি ▁ছিল ▁এ ▁রকম : ▁একটি ▁সংখ্যার ▁সঙ্গে ▁৬ ▁যোগ ▁করলে ▁একটি ▁পূর্ণ ▁বর্গ ▁সংখ্যা ▁হয় । ▁আবার ▁৬ ▁বিয়োগ ▁করলে ▁সেই ▁পূর্ণ ▁বর্গ ▁সংখ্যার ▁বর্গমূল ▁পাওয়া ▁যায় । ▁বৈশিষ্ট্যপূর্ণ ▁সংখ্যাটি ▁কত ? ▁উত্তর : ▁বৈশিষ্ট্যপূর্ণ ▁সংখ্যাটি ▁১০ । ▁( ১০ ▁+ ▁৬ ) ▁= ▁১৬ , ▁যা ▁একটি ▁পূর্ণ ▁বর্গ ▁সংখ্যা । ▁আবার ▁( ১০ ▁- ▁৬ ) ▁= ▁৪ , ▁যা ▁১৬ ▁এর ▁বর্গমূল । ▁কীভাবে ▁উত্তর ▁বের ▁করলাম ▁প্রথমে ▁আমরা ▁৪ , ▁৯ , ▁১৬ , ▁২৫ ▁প্রভৃতি ▁বর্গ ▁সংখ্যা ▁নিয়ে ▁পর্যবেক্ষণ ▁করি । ▁এদের ▁মধ্যে ▁১৬ ▁আমাদের ▁শর্ত ▁পূরণ ▁করে । ▁কারণ ▁এই ▁বর্গ সংখ্যা টি ▁থেকে ▁৬ ▁বিয়োগ ▁করলে ▁১০ ▁এবং ▁আবার ▁৬ ▁বিয়োগ ▁করলে ▁৪ ▁হয় , ▁যা ▁১৬ - এর ▁বর্গমূল । ▁তার ▁মানে ▁বৈশিষ্ট্যপূর্ণ ▁সংখ্যাটি ▁১০ । ▁এর ▁থেকে ▁৬ ▁বেশি ▁ও ▁৬ ▁কম ▁সংখ্যা গুলো ▁যথাক্রমে ▁১৬ ▁ও ▁৪ । ▁এখানে ▁১৬ ▁একটি ▁পূর্ণ ▁বর্গ ▁সংখ্যা , ▁এবং ▁৪ ▁হলো ▁১৬ - এর ▁বর্গমূল । ▁আমরা ▁তো ▁এই ▁শর্ত টিই ▁পূরণ ▁করতে ▁চা চ্ছি । ▁এখানে ▁লক্ষণীয় ▁যে ▁এ ▁ধরনের ▁আরও ▁কয়েকটি ▁বৈশিষ্ট্যপূর্ণ ▁সংখ্যা ▁রয়েছে । ▁যেমন ▁৩ ▁এমন ▁একটি ▁বৈশিষ্ট্যপূর্ণ ▁সংখ্যা ▁যার ▁সঙ্গে ▁১ ▁যোগ ▁ও ▁বিয়োগ ▁করলে ▁যথাক্রমে ▁৪ ▁ও ▁২ ▁পাওয়া ▁যায় । ▁এখানে ▁৪ ▁একটি ▁পূর্ণ ▁বর্গ ▁সংখ্যা ▁এবং ▁এর ▁বর্গমূল ▁২ ▁। ▁এ ▁রকম ▁আরেকটি ▁বৈশিষ্ট্যপূর্ণ ▁সংখ্যা ▁হলো ▁১৫ । ▁এর ▁সঙ্গে ▁১০ ▁যোগ ▁ও ▁বিয়োগ ▁করলে ▁যথাক্রমে ▁২৫ ▁ও ▁৫ ▁পাব । ▁এখানে ▁২৫ ▁একটি ▁পূর্ণ ▁বর্গ ▁সংখ্যা ▁এবং ▁এর ▁বর্গমূল ▁৫ । ▁আব্দুল ▁কাইয়ুম , ▁সম্পাদক , ▁মাসিক ▁ম্যাগাজিন ▁বিজ্ঞান চিন্তা,▁x x bo s ▁জনপ্রিয় ▁খুদে ▁ভিডিও ▁শেয়ারিং ▁অ্যাপ ▁টি কট কে র ▁ওপর ▁জারি ▁করা ▁সাময়িক ▁নিষেধাজ্ঞা ▁উঠিয়ে ▁নিয়েছেন ▁ভারতের ▁তামিলনাড়ু ▁প্রদেশের ▁উচ্চ ▁আদালত । ▁এর ▁আগে ▁অ্যাপ টির ▁মাধ্যমে ▁পর্নো ▁ভিডিও ▁ছড়িয়ে ▁পড়ছে ▁দাবি ▁করে ▁মাদ্রাজ ▁আদালত ▁সরকারকে ▁এটির ▁ওপর ▁নিষেধাজ্ঞা ▁জারি র ▁নির্দেশ ▁দেন । ▁তবে ▁অ্যাপ টির ▁নিষেধাজ্ঞা ▁কিছু ▁নির্দিষ্ট ▁শর্ত ের ▁অধীনে ▁উঠিয়ে ▁নেওয়া ▁হয়েছে । ভারতীয় ▁গণমাধ্যম ▁এনডিটিভি র ▁খবর ে ▁বলা ▁হয়েছে , ▁এপ্রিলের ▁তিন ▁তারিখে ▁মাদ্রাজ ▁হাইকোর্ট ▁একটি ▁জনস্বার্থ ের ▁মামলা ▁আমলে ▁নিয়ে ▁অ্যাপ টির ▁ওপর ▁নিষেধাজ্ঞা ▁জারি ▁করেছিল । ▁পরে ▁ওই ▁আদেশ ের ▁বিপরীতে ▁আইনজীবী ▁মু থু কুমার ▁একটি ▁মামলা ▁দায়ের ▁করেন । ▁ওই ▁মামলার ▁শুনানি র ▁পরে ▁পর্নো ▁ভিডিও ▁না ▁ছড়ানোর ▁শর্তে ▁অ্যাপ টির ▁ওপর ▁থেকে ▁নিষেধাজ্ঞা ▁উঠিয়ে ▁নেওয়া ▁হয় । বিভিন্ন ▁গান , ▁বিখ্যাত ▁সিনেমার ▁সংলাপ সহ ▁নানা ▁রকম ▁মজাদার ▁অডিও র ▁সঙ্গে ▁ঠোঁট ▁মিলিয়ে ▁ছোট ▁ভিডিও ▁তৈরি ▁করে ▁আপলোড ▁করা ▁যায় ▁টি কট ক ▁অ্যাপ ে । ▁চীনা ▁প্রতিষ্ঠানের ▁তৈরি ▁অ্যাপ টি ▁ভারতে ▁ব্যাপক ▁জনপ্রিয় ▁হয়ে ▁উঠেছে । ▁তবে ▁এর ▁কনটেন্ট ের ▁যথার্থতা ▁নিয়ে ▁রাজনীতিবিদ েরা ▁সমালোচনা ▁শুরু ▁করেছেন । ▁অ্যাপ ▁বিশ্লেষক ▁প্রতিষ্ঠান ▁সেন্সর ▁টাওয়ারের ▁তথ্য ▁অনুযায়ী , ▁গত ▁ফেব্রুয়ারি ▁মাস ▁পর্যন্ত ▁ভারতে ▁২৪ ▁কোটি বার ▁ডাউনলোড ▁হয়েছে ▁অ্যাপ টি । ▁এ ▁বছরের ▁জানুয়ারিতে ▁তিন ▁কোটি ▁ব্যবহারকারী ▁এটি ▁ইনস্টল ▁করেছে , ▁যা ▁গত ▁বছরের ▁জানুয়ারি ▁মাসের ▁চেয়ে ▁১২ ▁শতাংশ ▁বেশি । ▁মাদ্রাজ ▁আদালতে ▁বুধবার ▁রাষ্ট্র পক্ষের ▁আইনজীবী ▁অরবিন্দ ▁দাতা র ▁বলেন , ▁কোনো ▁বিশেষ ▁অ্যাপ ▁বন্ধ ▁করে ▁দেওয়া টা ▁সমস্যার ▁চূড়ান্ত ▁সমাধান ▁নয় । ▁এ ▁ছাড়া ▁বৈধ ▁ব্যবহারকারীদের ▁অধিকার ▁সংরক্ষণ ▁করতে ▁হবে ▁বলে ▁জানান ▁তিনি । ▁নিষেধাজ্ঞা ▁জারি ▁করার ▁পরে ▁দাতা র কে ▁অ্যাপ টির ▁প্রভাব ▁জানার ▁জন্য ▁দায়িত্ব ▁দিয়েছিলেন ▁আদালত । ▁এর ▁আগে , ▁৩ ▁এপ্রিল ▁মাদ্রাজ ▁হাইকোর্ট ের ▁পক্ষ ▁থেকে ▁সরকারকে ▁টি কট ক ▁অ্যাপ ▁বন্ধের ▁ব্যবস্থা ▁নিতে ▁নির্দেশ ▁দেওয়া ▁হয় । ▁সে ▁সময় ▁বলা ▁হয় , ▁এটি ▁পর্নোগ্রাফি তে ▁উৎসাহ ▁দিচ্ছে ▁এবং ▁শিশুদের ▁ঝুঁকিতে ▁ফেলছে । ▁এরপর ▁জনস্বার্থ ের ▁একটি ▁মামলা ▁আমলে ▁নিয়ে ▁রুল ▁দিয়েছিলেন ▁আদালত ।,▁x x bo s ▁জীবনে ▁চলতে - ফির তে ▁যেসব ▁আইনি ▁জটিলতা য় পড় তে ▁হয় , ▁পাঠকের ▁উকিল ▁বিভাগে ▁তারই ▁সমাধান ▁পাওয়া ▁যাবে । ▁এ ▁বিভাগে ▁আইনি ▁সমস্যার ▁সমাধান ▁দেবেন ▁বাংলাদেশ ▁সুপ্রিম ▁কোর্টের ▁আইনজীবী ▁নাহিদ ▁মাহতাব । ▁স্পষ্ট ▁করে ▁নিজের ▁সমস্যা ▁লিখে ▁পাঠান । ▁প্রয়োজনীয় ▁কাগজের ▁অনুলিপি ▁দিন । খা মের ▁ওপর ▁লিখ ুন : ▁পাঠকের ▁উকিল , ▁নকশা , ▁দৈনিক ▁প্রথম ▁আলো , ▁সি এ ▁ভবন , ▁১০০ ▁কাজী ▁নজরুল ▁ইসলাম ▁এভিনিউ , ▁কার ওয়ান ▁বাজার , ▁ঢাকা । ▁এ ▁ছাড়া ▁n ak sha <unk> pro th om - al o . info ▁এই ▁ঠিকানায় ই - মেইল ▁করে ও ▁সমস্যার ▁কথা ▁জানাতে ▁পারেন । ▁* ▁আমি ▁অন্য ▁ধর্মের ▁একজন ▁মেয়েকে ▁ভালোবাসি । ▁আমরা ▁দুজন ই ▁প্রাপ্তবয়স্ক । ▁মেয়েটি ▁আমাকে ▁খুব ▁ভালোবাসে ▁এবং ▁স্বেচ্ছায় ▁ধর্মান্তরিত ▁হয়ে ▁আমাকে ▁বিয়ে ▁করতে ▁চায় । ▁কিন্তু ▁প্রায়ই ▁দেখা ▁যায় , ▁এ ▁রকম ▁বিয়ের ▁ক্ষেত্রে ▁ঘটনা ▁জানাজা নি ▁হওয়ার ▁পর ▁মেয়ের ▁পরিবার ▁থেকে ▁ছেলের ▁পরিবারকে ▁বিভিন্নভাবে ▁হয়রানি ▁করা ▁হয়ে ▁থাকে । ▁কিন্তু ▁আমি ▁কখনোই ▁চাই ▁না , ▁আমার ▁কারণে ▁আমার ▁পরিবার ▁সমস্যায় ▁পড় ুক । ▁আবার ▁অনেক ▁সময় ▁নব দম্পতি কে ▁পালিয়ে ▁বাঁচতে ▁হয় , ▁যা ▁আমার ▁পক্ষে ▁সম্ভব ▁নয় । ▁এখন ▁প্রশ্ন ▁হলো , ▁কোন ▁পদ্ধতিতে ▁বিয়ে ▁করলে ▁আমি , ▁আমরা ▁এবং ▁আমার ▁পরিবার ▁আইনগতভাবে ▁বা ▁কোনোভাবে ▁মেয়ের ▁পরিবার ▁দ্বারা ▁কোনো ▁প্রকার ▁হয়রানি র ▁শিকার ▁হব ▁না । ▁নাম ▁ও ▁ঠিকানা ▁প্রকাশে ▁অনিচ্ছুক <unk> ▁আপনারা ▁যদি ▁দুজনেই ▁প্রাপ্তবয়স্ক ▁হন , ▁সে ▁ক্ষেত্রে ▁ধর্মান্তরিত ▁হয়ে ▁বিয়েতে ▁কোনো ▁বাধা ▁নেই । ▁অপ্রাপ্তবয়স্ক ▁মেয়েকে ▁বিয়ের ▁ক্ষেত্রে ▁সাধারণ ▁আপনার ▁উল্লিখিত ▁সমস্যাগুলো ▁হতে ▁পারে । ▁প্রাপ্তবয়স্ক ▁ছেলেমেয়ে ▁দুজনের ▁সম্মতিতে ▁বিয়ের ▁ক্ষেত্রে ▁আইনগত ▁কোনো ▁বাধা ▁নেই । ▁মেয়েটি ▁স্বেচ্ছায় ▁ধর্মান্তরিত ▁হয়ে ▁আইন ▁অনুযায়ী ▁আপনাকে ▁বিয়ে ▁করতে ▁পারেন । ▁* ▁বিয়ের ▁এক ▁বছর ▁আগেই ▁আমার ▁স্বামী ▁কোনো ▁কারণে ▁তাঁর ▁পরিবার ▁ছাড়তে ▁বাধ্য ▁হন । ▁আমার ▁সম্মতি ▁ছাড়াই ▁অভিভাবকের া ▁তাঁর ▁সঙ্গে ▁আমার ▁বিয়ে ▁দেন । ▁কিন্তু ▁বিয়ের ▁ছয় ▁বছর ▁হলো ▁আমি ▁শ্বশুরবাড়ি ▁যেতে ▁পারিনি । ▁শহর ▁থেকে ▁দূরে ▁আমরা ▁ভাড়া ▁বাড়িতে ▁থাকি । ▁আমার ▁স্বামী ▁তিন ▁ভাইয়ের ▁মধ্যে ▁ছোট । ▁তাঁর ▁একটি ▁বোন ▁ছিল । ▁আমার ▁শাশুড়ি ▁তিন ▁বছর ▁আগে ▁মারা ▁গেলে ▁শ্বশুর ▁দ্বিতীয় ▁বিয়ে ▁করেন ▁এবং ▁সেই ▁পক্ষের ▁একটি ▁মেয়ে ▁হয় । ▁শাশুড়ি র ▁মৃত্যুর ▁পর ▁বাড়ির ▁দোতলা র ▁অর্ধেক টা ▁আমাদের ▁দেবেন ▁বললেও ▁বিভিন্ন ▁ টাল বাহা নায় ▁কাটিয়ে ▁দিচ্ছেন ▁এত ▁দিন । ▁এখন ▁পর্যন্ত ▁দোতলা টা ▁দখল ▁করে ▁আছে ▁স্বামীর ▁অন্য ▁দুই ▁ভাইবোন । ▁শ্বশুর ের ▁তাতে ▁কোনো ▁মাথাব্যথা ও ▁নেই । ▁আমার ▁স্বামী ▁সাহস ▁করে ▁কিছু ▁বলতে ও ▁পারেন ▁না । ▁আমার ▁তিন ▁বছরের ▁একটি ▁মেয়ে ▁আছে । ▁এখন ▁মেয়ের ▁ভবিষ্যতের ▁কথা ▁চিন্তা ▁করে ▁শ্বশুরবাড়ি তে ▁উঠতে ▁চাই । ▁কী ▁করতে ▁পারি ? জেস মিন ▁আরা রাজশাহী । <unk> ▁আপনার ▁শ্বশুর ▁জীবিত ▁অবস্থায় ▁তাঁর ▁সম্পত্তি ▁থেকে ▁খুশি ▁হয়ে ▁আপনাদের ▁দিয়ে ▁যেতে ▁পারেন । ▁তিনি ▁জীবিত ▁থাকা ▁অবস্থায় ▁তাঁর ▁সম্পত্তি তে ▁আপনাদের ▁কোনো ▁অধিকার ▁নেই । ▁তাঁর ▁মৃত্যুর ▁পর ▁তাঁর ▁সন্তানেরা ▁ও ▁দ্বিতীয় ▁স্ত্রী ▁সম্পত্তির ▁উত্তরাধিকারী ▁হবেন । ▁সুতরাং ▁জীবিত ▁অবস্থায় ▁যদি ▁তিনি ▁আপনাদের ▁কিছু ▁সম্পত্তি ▁রেজিস্ট্রি ▁করে ▁হস্তান্তর ▁করেন , ▁তবে ▁তার ▁মালিক ▁হবেন ▁আপনারা । ▁আর ▁আপনারা ▁হবেন ▁বাকি ▁সম্পত্তির ▁উত্তরাধিকারী , ▁যা ▁কার্যকর ▁হবে ▁তাঁর ▁মৃত্যুর ▁পর । ▁তবে ▁শ্বশুর ের ▁সম্মতিতে ▁এখন ▁আপনাদের ▁তাঁর ▁বাড়িতে ▁উঠতে ▁কোনো ▁বাধা ▁নেই । ▁* ▁আমার ▁দাদা - দ াদির ▁পাঁচ ▁ছেলে ▁ও ▁দুই ▁মেয়ে । ▁১৯৭৭ ▁সালে ▁আমার ▁বয়স ▁যখন ▁দুই ▁বছর , ▁তখন ▁আমার ▁বাবা ▁মারা ▁যান । ▁আমি ▁আমার ▁বাবার ▁একমাত্র ▁মেয়ে । ▁আমার ▁দাদা - দা দি ▁তখন ▁জীবিত ▁ছিলেন । ▁তারপর ▁আমার ▁দাদা ▁১৯৮২ ▁ও ▁দাদি ▁২০১০ ▁সালে ▁মারা ▁যান । ▁আমার ▁বাবার ▁নামে ▁কোনো ▁সম্পত্তি ▁ছিল ▁না , ▁সবই ▁দাদা ▁ও ▁দাদি র । এখন ▁প্রশ্ন ▁হলো , ▁দাদা ▁ও ▁দাদি র ▁রেখে ▁যাওয়া ▁সম্পত্তির ▁কতটুকু ▁অংশ ▁আমি ▁পাব ? ▁আমার ▁মাও ▁কি ▁সম্পত্তি ▁পাবেন ? কা নিজ ▁ফারহান া ময়মনসিংহ । <unk> ▁প্রতিনিধিত্ব ▁আইনের ▁বলে ▁আপনার ▁দাদা - দ াদির ▁সম্পত্তি তে ▁আপনার ▁বাবার ▁প্রাপ্য ▁অংশের ▁হক দার ▁আপনি ▁এবং ▁আপনার ▁মা । ▁এ ▁ক্ষেত্রে ▁আপনার ▁মা ▁আপনার ▁বাবার ▁প্রাপ্য ▁অংশে ▁আট ▁ভাগের ▁এক ▁ভাগ ▁পাবেন । ▁রে সিড ুয়ারি ▁হিসাবে ▁বাকি ▁সম্পত্তির ▁অর্ধেক ▁আপনার ▁প্রাপ্য । ▁* ▁আমার ▁বাবা ▁অবসরপ্রাপ্ত ▁সরকারি ▁কর্মকর্তা । ▁দুই ▁বছর ▁আগে ▁আমার ▁মা ▁মারা ▁যান । ▁বাবা ▁আবার ▁বিয়ে ▁করেন , ▁আমরা ▁ছয় ▁বোন , ▁দুই ▁ভাই । ▁সবার ▁বিয়ে ▁হয়ে ▁গেছে । ▁প্রায় ▁চার ▁বছর ▁আগে ▁আমার ▁বাবা ▁বাড়ি সহ ▁৫০ ▁গন্ড া ▁জমি ▁দুই ▁ভাইকে ▁গোপনে ▁সাফ ক বলা ▁করে ▁দেন । ▁পরে ▁ওই ▁ব্যাপারে ▁সবাই ▁জানলে ▁মা ▁আমাদের ▁ছয় ▁বোনকে ▁কিছু ▁সম্পত্তি ▁দিয়েছিলেন । ▁বাবার ▁আরও ▁সম্পত্তি ▁আছে । ▁আমাদের ▁যে ▁জায়গা ▁দেন , ▁তার ▁কোনো ▁রাস্তা ▁নেই , ▁অনেকটাই ▁ভেতরে ▁অবস্থিত । ▁আমরা ▁তিন ▁বোন ▁সরকারি ▁চাকরি ▁করি । ▁দুই ▁ভাই ▁পরিবার ▁নিয়ে ▁বাইরে ▁থাকেন । ▁কিছু ▁সম্পত্তি ▁আছে , ▁যা ▁এখনো ▁কারও ▁নামে ▁হয়নি । ▁দুই ▁বোনের ▁অর্থনৈতিক ▁অবস্থা ▁ভালো ▁নয় । ▁বাবা ▁জীবিত । ▁আমি ▁বাবার ▁বাড়িতে ই ▁থাকত াম । ▁সৎ মা ▁আলমারি র ▁তালা ▁ভেঙে ▁আমার ▁পাঁচ ▁ভর ি ▁স্বর্ণ ▁চুরি ▁করে ▁নেন । ▁তখন ▁যা ▁ক্ষতি ▁হয়েছে ▁আমার ▁হয়েছে । ▁এখন ▁আমার ▁প্রশ্ন ▁হচ্ছে , ▁আইনের ▁আশ্রয় ▁নিলে ▁আমরা ▁আরও ▁কিছু ▁সম্পত্তি ▁পাব ▁কি ▁না , ▁জানালে ▁উপকৃত ▁হব । জান্নাত কুমিল্লা । <unk> ▁বাবার ▁জীবদ্দশায় ▁তাঁর ▁সম্পত্তির ▁অংশ ▁পেতে ▁আইনের ▁আশ্রয় ▁নেওয়া ▁সম্ভব ▁নয় । ▁তাঁর ▁মৃত্যুর ▁পর ▁মুসলিম ▁আইন ▁অনুযায়ী ▁আপনারা ▁ওই ▁সম্পত্তির ▁অংশীদার ▁হবেন । ▁জীবিত ▁অবস্থায় ▁আপনাদের ▁যে ▁সম্পত্তি ▁তিনি ▁লিখে ▁দিয়েছেন , ▁তা ▁শুধু ▁আপনাদের । ▁অন্য ▁সম্পত্তি তে ▁আপনারা ▁উত্তরাধিকারী ▁হবেন । ▁* ▁আমি ▁যখন ▁স্কুলে ▁পড়ি , ▁তখন ▁আমার ▁পাশের ▁বাড়ির ▁একটি ▁ছেলের ▁সঙ্গে ▁সম্পর্কে ▁জড়িয়ে ▁পড়ি । ▁ছেলে টির ▁সঙ্গে ▁আমার ▁শারীরিক ▁সম্পর্ক ▁হয় । ▁কিন্তু ▁কিছুদিন ▁পর ▁ছেলে টি ▁আমার ▁সঙ্গে ▁আর ▁যোগাযোগ ▁রাখেন ি । ▁ছেলে টির ▁সঙ্গে ▁যোগাযোগের ▁চেষ্টা ▁করলে ▁সে ▁আমাকে ▁এড়িয়ে ▁চলে । ▁ছেলে টির ▁ব্যবহারে ▁আমি ▁অনেক ▁কষ্ট ▁পাই । ▁আমি ▁ছেলে টিকে ▁ভুলে ▁গিয়েছিল াম ; ▁কিন্তু ▁সমস্যা ▁হলো ▁আমাদের ▁সম্পর্কের ▁কিছু ▁প্রমাণ ▁তার ▁কাছে ▁আছে । ▁সে ▁আমাকে ▁পরবর্তী ▁সময়ে ▁কোনো ▁সমস্যা ▁করবে ▁কি ▁না , ▁তা ▁নিয়ে ▁আমি ▁দুশ্চিন্তা য় ▁আছি । এসএসসি ▁পরীক্ষার ▁কিছুদিন ▁আগে ▁আমার ▁দূর ▁সম্পর্কের ▁এক ▁আত্মীয় ের ▁ছেলের ▁সঙ্গে ▁আমি ▁আবার ▁সম্পর্কে ▁জড়িয়ে ▁পড়ি । ▁আমি ▁ছেলে টিকে ▁অনেক ▁ভালোবাসি । ▁সেও ▁আমাকে ▁ভালোবাসে । ▁আমাদের ▁মধ্যে ▁অনেকবার ▁শারীরিক ▁সম্পর্ক ▁হয় । ▁আমি ▁ছেলে টিকে ▁বিয়ে ▁করব ▁বলে ▁স্থির ▁করেছিলাম । ▁কিন্তু ▁যখন ▁জানতে ▁পার লাম ▁সে ▁অন্য ▁আরেকটি ▁মেয়ের ▁সঙ্গেও ▁শারীরিক ▁সম্পর্ক ▁করেছে , ▁তখন ▁আমি ▁তাকে ▁আর ▁গ্রহণ ▁করতে ▁পারছি ▁না । ▁আমি ▁এখন ▁মানসিক ▁অশান্তি তে ▁আছি । ▁আমার ▁ভয় ▁হয় , ▁আমি ▁যে ▁ছেলে টির ▁সঙ্গে ▁সম্পর্ক ▁করেছি , ▁সে ▁যদি ▁আমার ▁কোনো ▁ক্ষতি ▁করে । ▁এখন ▁আমি ▁কী ▁করব ? মনি ঠিক ানা ▁প্রকাশে ▁অনিচ্ছুক । <unk> ▁ছেলে টির ▁কাছে ▁আপনার ▁সঙ্গে ▁তার ▁সম্পর্কের ▁কী ▁ধরনের ▁প্রমাণ ▁আছে , ▁তা ▁জানা ▁প্রয়োজন । ▁পরবর্তী ▁সম্পর্কে ▁ছেলে টি ▁কী ▁ধরনের ▁ক্ষতি ▁করতে ▁পারে , ▁তা ▁আগাম ▁আন্দাজ ▁করা ▁সম্ভব ▁নয় । ▁তবে ▁বিভিন্ন ▁ছেলের ▁সঙ্গে ▁সম্পর্কে ▁জড়ানো র ▁ব্যাপারে ▁আপনার ▁সাবধান ▁হওয়া ▁প্রয়োজন ।\n",
       "y: LMLabelList\n",
       ",,,,\n",
       "Path: /content/data;\n",
       "\n",
       "Test: None, model=SequentialRNN(\n",
       "  (0): AWD_LSTM(\n",
       "    (encoder): Embedding(50000, 400, padding_idx=1)\n",
       "    (encoder_dp): EmbeddingDropout(\n",
       "      (emb): Embedding(50000, 400, padding_idx=1)\n",
       "    )\n",
       "    (rnns): ModuleList(\n",
       "      (0): WeightDropout(\n",
       "        (module): LSTM(400, 1152, batch_first=True)\n",
       "      )\n",
       "      (1): WeightDropout(\n",
       "        (module): LSTM(1152, 1152, batch_first=True)\n",
       "      )\n",
       "      (2): WeightDropout(\n",
       "        (module): LSTM(1152, 400, batch_first=True)\n",
       "      )\n",
       "    )\n",
       "    (input_dp): RNNDropout()\n",
       "    (hidden_dps): ModuleList(\n",
       "      (0): RNNDropout()\n",
       "      (1): RNNDropout()\n",
       "      (2): RNNDropout()\n",
       "    )\n",
       "  )\n",
       "  (1): LinearDecoder(\n",
       "    (decoder): Linear(in_features=400, out_features=50000, bias=True)\n",
       "    (output_dp): RNNDropout()\n",
       "  )\n",
       "), opt_func=functools.partial(<class 'torch.optim.adam.Adam'>, betas=(0.9, 0.99)), loss_func=FlattenedLoss of CrossEntropyLoss(), metrics=[<function accuracy at 0x7fc296ad2378>], true_wd=True, bn_wd=True, wd=0.01, train_bn=True, path=PosixPath('/content/data'), model_dir='models', callback_fns=[functools.partial(<class 'fastai.basic_train.Recorder'>, add_time=True, silent=False)], callbacks=[RNNTrainer\n",
       "learn: LanguageLearner(data=TextLMDataBunch;\n",
       "\n",
       "Train: LabelList (49000 items)\n",
       "x: LMTextList\n",
       "▁x x bo s ▁আপাতত ▁জ্বালানি ▁তেলের ▁দাম ▁কমানোর ▁কোনো ▁পরিকল্পনা ▁সরকারের ▁নেই । আজ ▁রোববার ▁জাতীয় ▁সংসদে ▁স্পিকার ▁শিরীন ▁শারমিন ▁চৌধুরীর ▁সভাপতিত্বে ▁অনুষ্ঠিত ▁অধিবেশনে ▁লিখিত ▁প্রশ্নের ▁উত্তরে ▁বিদ্যুৎ , ▁জ্বালানি ▁ও ▁খনিজ ▁সম্পদ ▁মন্ত্রণালয়ের ▁প্রতিমন্ত্রী ▁নস রুল ▁হামিদ ▁এ ▁কথা ▁জানিয়েছেন । সাংস দ ▁রুস্তম ▁আলী ▁ফর া জীর ▁প্রশ্নের ▁উত্তরে ▁প্রতিমন্ত্রী ▁বলেন , ▁আন্তর্জাতিক ▁বাজারে ▁জ্বালানি ▁তেলের ▁মূল্য ▁গত ▁এক ▁বছর ▁ধরে ▁ঊর্ধ্বমুখী ▁রয়েছে । ▁এখন ▁তা ▁অব্যাহত ▁আছে । ▁ডলারের ▁সঙ্গে ▁টাকার ▁বিনিময় ▁হার ▁প্রতিনিয়ত ▁বাড়ছে । ▁এটি ▁চলতে ▁থাকলে ▁আগামী ▁অর্থ বছর ▁থেকে ▁বাংলাদেশ ▁পেট্রোলিয়াম ▁করপোরেশন ▁( বি পিসি ) ▁আবার ▁লোকসান ের ▁সম্মুখীন ▁হতে ▁পারে । ▁বাস্তবতার ▁কারণে ▁আন্তর্জাতিক ▁বাজারে ▁তেলের ▁দাম ▁কম া - বাড় ার ▁সঙ্গে ▁সঙ্গে ▁দেশের ▁অভ্যন্তরে ▁জ্বালানি ▁তেলের ▁বাড়ানো - কম ানো ▁করা ▁সম্ভব ▁হয় ▁না । ▁তিনি ▁বলেন , ▁এর ▁আগে ▁ভর্তুকি ▁মূল্যে ▁জ্বালানি ▁তেল ▁বিক্রি ▁করায় ▁২৭ , ৪ ১৯ . ৮১ ▁কোটি ▁টাকার ▁সরকারি ▁ঋণের ▁দায় ▁এখনো ▁বিপি সির ▁ওপর ▁রয়ে ▁গেছে । ▁দ্বিতীয় ▁দফায় ▁জ্বালানি ▁তেলের ▁মূল্য ▁কমানো ▁হলে ▁বি পিসি ▁আবার ▁লোকসান ি ▁প্রতিষ্ঠানে ▁পরিণত ▁হবে ▁এবং ▁ঋণ ▁করে ▁জ্বালানি ▁তেল ▁আমদানি ▁করতে ▁হবে । ▁তেলের ▁মূল্য ▁কমানো ▁হলে ▁তার ▁সুফল ▁সাধারণ ▁জনগণ ▁সরাসরি ▁উপভোগ ▁করতে ▁পারে ▁না । বিদ্যুত ের ▁১৭টি ▁প্রকল্পে ▁বাস্তবায়ন ের ▁হার ▁শূন্য : ▁রুস্তম ▁আলী ▁ফর া জীর ▁আরেক ▁প্রশ্নের ▁উত্তরে ▁প্রতিমন্ত্রী ▁নস রুল ▁হামিদ ▁বলেছেন , ▁বিদ্যুৎ ▁খাতের ▁১৭টি ▁প্রকল্প ▁বাস্তবায়ন ের ▁হার ▁শূন্য । ▁এর ▁মধ্যে ▁১২টি ▁প্রকল্প ▁২০১৬ - ১৭ ▁অর্থবছরে ▁বার্ষিক ▁উন্নয়ন ▁কর্মসূচি ▁প্রণয়ন ের ▁পরবর্তী ▁সময়ে ▁অনুমোদিত ▁হয়েছে ▁এবং ▁সেসব ▁প্রকল্পের ▁অনুকূলে ▁২০১৬ - ২০১৭ ▁অর্থবছরে ▁কোনো ▁বরাদ্দ ▁দেওয়া ▁সম্ভব ▁হয়নি । ▁তবে ▁অর্থ বছর টির ▁সংশোধিত ▁বার্ষিক ▁উন্নয়ন ▁কর্মসূচিতে ▁প্রয়োজনীয় ▁বরাদ্দ ▁দেওয়া ▁হয়েছে । ▁অর্থ ▁ছাড় ের ▁বিষয়টি ▁প্রক্রিয়াধীন ▁আছে । ▁অন্য ▁পাঁচটি ▁প্রকল্প ▁উন্নয়ন ▁সহযোগী ▁সংস্থার ▁সঙ্গে ▁ঋণ চুক্তি ▁না ▁হওয়া সহ ▁বিভিন্ন ▁কারণে ▁আটকে ▁আছে ।,▁x x bo s ▁উড়োজাহাজ ▁বিধ্বস্ত , ▁নিহত ▁কমপক্ষে ▁২৫৭ ▁আলজেরিয়া য় ▁একটি ▁সামরিক ▁উড়োজাহাজ ▁বিধ্বস্ত ▁হয়ে ▁কমপক্ষে ▁২৫৭ ▁জন ▁নিহত ▁হয়েছেন । ▁দেশটির ▁সরকারি ▁কর্মকর্তারা ▁এবং ▁বিভিন্ন ▁সংবাদমাধ্যম ▁এ ▁তথ্য ▁নিশ্চিত ▁করেছে । ▁আজ ▁বুধবার ▁আলজেরিয়ার ▁রাজধানী ▁আলজিয়ার্স ের ▁একটি ▁সামরিক ▁বিমানবন্দরে ▁এ ▁ঘটনা ▁ঘটে । ▁তবে ▁বিধ্বস্ত ের ▁কারণ ▁সম্পর্কে ▁কিছু ▁জানা ▁যায়নি । ▁বিবিসি র ▁খবর ে ▁বলা ▁হয়েছে , ▁বিমানবন্দর ▁থেকে ▁উড়োজাহাজ টি ▁উড্ডয়ন ের ▁কিছুক্ষণ ▁পরই ▁তা ▁বিধ্বস্ত ▁হয় । ▁রাজধানী ▁আলজিয়ার্স ের ▁সীমানার ▁বাইরের ▁একটি ▁মাঠে ▁উড়োজাহাজ টি ▁বিধ্বস্ত ▁হয়েছে । ▁বার্তা ▁সংস্থা ▁রয়টার্স ের ▁খবর ে ▁বলা ▁হয়েছে , ▁আলজিয়ার্স ের ▁দক্ষিণ - পশ্চিমের ▁বো উ ফার িক ▁বিমানবন্দরের ▁বাইরে ▁প্রচুর ▁মানুষ ▁জড়ো ▁হয়েছেন । ▁ঘটনা স্থল ▁থেকে ▁কালো ▁ধোঁয়া ▁উড়তে ▁দেখা ▁গেছে । ▁এ ▁ছাড়া ▁মাঠে ▁উড়োজাহাজ ের ▁ধ্বংসাবশেষ ▁ছড়িয়ে - ছিটিয়ে ▁রয়েছে । ▁ঘটনাস্থলে র ▁এক ▁পাশে ▁নিহত দের ▁লাশ ▁সারিবদ্ধ ভাবে ▁রাখা ▁হয়েছে । ▁বিভিন্ন ▁টেলিভিশন ▁চ্যানেলের ▁প্রতিবেদনে ▁বলা ▁হয়েছে , ▁বিধ্বস্ত ▁উড়োজাহাজ টি ▁ই লিউ শিন ▁মডেলের ▁একটি ▁পরিবহন ▁বিমান । ▁এর ▁প্রস্তুতকারক ▁দেশ ▁রাশিয়া । ▁আলজেরিয়ার ▁শাসক ▁দল ▁ এফএল এন ▁পার্টির ▁একজন ▁সদস্য ▁বেসরকারি ▁টিভি ▁চ্যানেল ▁এ ন্না হার - কে ▁জানিয়েছেন , ▁নিহত দের ▁মধ্যে ▁ পোলিস ারি ও ▁ফ্রন্টের ▁২৬ ▁জন ▁সদস্য ▁রয়েছেন । ▁এই ▁ফ্রন্ট কে ▁সমর্থন ▁দিয়ে ▁যাচ্ছে ▁আলজেরিয়া । ▁মরক্কোর ▁কাছ ▁থেকে ▁পশ্চিম ▁সাহারা ▁অঞ্চলের ▁স্বাধীনতা ▁আদায় ে ▁লড় ছে ▁ পোলিস ারি ও ▁ফ্রন্ট । ▁এই ▁এলাকা ▁নিয়ে ▁আন্তর্জাতিকভাবে ▁বিতর্ক ▁রয়েছে । ▁তবে ▁এই ▁উড়োজাহাজ ▁বিধ্বস্ত ে ▁হতাহত ের ▁সংখ্যা ▁নিয়ে ▁এখনো ▁কোনো ▁আনুষ্ঠানিক ▁বক্তব্য ▁পাওয়া ▁যায়নি । ▁এদিকে ▁উড়োজাহাজ ▁বিধ্বস্ত ের ▁ঘটনায় ▁হতাহত দের ▁পরিবারের ▁প্রতি ▁সমবেদনা ▁জানিয়ে ▁একটি ▁বিবৃতি ▁প্রকাশ ▁করেছে ▁আলজেরিয়ার ▁প্রতিরক্ষা ▁মন্ত্রণালয় । ▁বিবিসি র ▁খবর ে ▁বলা ▁হয়েছে , ▁সামরিক ▁উড়োজাহাজ ▁বিধ্বস্ত ের ▁ঘটনায় ▁আলজেরিয়ার ▁সেনাপ্রধান ের ▁নির্দেশে ▁একটি ▁তদন্ত ▁কমিটি ▁গঠন ▁করা ▁হয়েছে । ▁স্থানীয় ▁বিভিন্ন ▁টেলিভিশন ▁চ্যানেলের ▁প্রতিবেদনে ▁জানানো ▁হয়েছে , ▁ঘটনাস্থলে ▁১৪টি ▁অ্যাম্বুলেন্স ▁রয়েছে ▁এবং ▁আহত ▁ব্যক্তিদের ▁হাসপাতালে ▁নেওয়া ▁হচ্ছে । ▁আলজেরিয়ার ▁প্রতিরক্ষা ▁মন্ত্রণালয়ের ▁বরাত ▁দিয়ে ▁রয়টার্স ের ▁খবর ে ▁বলা ▁হয়েছে , ▁সামরিক ▁বাহিনীর ▁পরিবহন ▁বিমানটি ▁দেশটির ▁সীমান্ত সংলগ্ন ▁টিন ড ৌ ফ ▁এলাকার ▁দিকে ▁রওনা ▁দিয়েছিল । ▁কিন্তু ▁উড্ডয়ন ের ▁পর ▁বিমানবন্দরের ▁সীমানার ▁মধ্যেই ▁তা ▁বিধ্বস্ত ▁হয় । ▁পশ্চিম ▁সাহারা ▁থেকে ▁আসা ▁হাজার ▁হাজার ▁শরণার্থী ▁টিন ড ৌ ফ ▁এলাকায় ▁বাস ▁করছেন । ▁এঁদের ▁মধ্যে ▁ পোলিস ারি ও ▁সমর্থক ের ▁সংখ্যা ই ▁বেশি । ▁সাম্প্রতিক ▁সময়ে ▁আলজেরিয়ার ▁সবচেয়ে ▁বড় ▁উড়োজাহাজ ▁দুর্ঘটনার ▁ঘটনা ▁এটি । ▁২০১৪ ▁সালের ▁ফেব্রুয়ারি ▁মাসে ▁আলজেরিয়ার ▁বিমানবাহিনীর ▁একটি ▁উড়োজাহাজ ▁বিধ্বস্ত ▁হয়ে ▁৭৭ ▁জন ▁যাত্রী ▁নিহত ▁হন । ▁তাতে ▁সামরিক ▁কর্মকর্তা ▁ও ▁তাঁদের ▁পরিবারের ▁সদস্যরা ▁ছিলেন । ▁ওই ▁দুর্ঘটনায় ▁বেঁচে ▁ছিলেন ▁মাত্র ▁১ ▁জন ।,▁x x bo s ▁ভ্রমণ নিষেধ া জ্ঞা ▁আরোপ ▁করার ▁পর ▁ট্রাম্প ▁ক্রমাগত ▁হেরে ই ▁যাচ্ছেন । ▁মার্কিন ▁আপিল ▁আদালতের ▁নবম ▁সার্কিট ▁হাওয়াই ▁জেলা ▁আদালতের ▁রায় ▁প্রায় ▁পুরোটাই ▁বহাল ▁রেখেছেন । ▁এর ▁মধ্য ▁দিয়ে ▁আপিল ▁আদালত ▁ট্রাম্পের ▁দ্বিতীয় ▁দফা ▁ভ্রমণ নিষেধ া জ্ঞা য় ▁আঘাত ▁হান লেন । ▁আমেরিকান ▁সিভিল ▁লিবার্টি স ▁ইউনিয়নের ▁মুখপাত্র ▁আমাকে ▁বলেছেন , ▁‘ দুটি ▁আপিল ▁আদালত ▁মুসলমানদের ▁ভ্রমণ নিষেধ া জ্ঞা র ▁বিষয়টি ▁আমলে ▁নিয়ে ▁দৃঢ়তা র ▁সঙ্গে ▁তাকে ▁বেআইনি ▁হিসেবে ▁বিধান ▁দিয়েছেন । ▁যদিও ▁আপিল ▁আদালতের ▁চতুর্থ ▁ও ▁নবম ▁সার্কিট ▁ভিন্ন ▁যুক্তি ▁দিয়েছেন , ▁উভয় ▁আদালত ই ▁এ ▁ব্যাপারে ▁পরিষ্কার , ▁এ ▁ধরনের ▁নিষেধাজ্ঞার ▁যৌক্তিকতা ▁নেই । ’ ▁নবম ▁সার্কিট ▁তো ▁আরও ▁একবার ▁ট্রাম্পের ▁এই ▁দাবি ▁নাকচ ▁করেছেন ▁যে ▁নির্দিষ্ট ▁কিছু ▁গোষ্ঠীর ▁ওপর ▁নিষেধাজ্ঞা ▁আরোপ ের ▁ক্ষেত্রে ▁তাঁর ▁হাতে ▁প্রায় ▁অসীম ▁ক্ষমতা ▁রয়েছে । ▁ব্যাপারটা ▁হচ্ছে , ▁অভিবাসনের ▁ব্যাপারে ▁প্রেসিডেন্টের ▁একক ▁ক্ষমতা ▁নেই । ▁তাঁর ▁কর্তৃত্ব ▁নানা ▁রকম ▁আইনি ▁ও ▁সাংবিধানিক ▁বিধিনিষেধ ের ▁নি গড়ে ▁বাঁধা । ▁আমাদের ▁সিদ্ধান্ত ▁হচ্ছে , ▁নির্বাহী ▁আদেশ ▁জারি ▁করতে ▁গিয়ে ▁প্রেসিডেন্ট ▁কংগ্রেস ▁কর্তৃক ▁প্রদত্ত ▁ক্ষমতার ▁বেশি ▁ব্যবহার ▁করেছেন । ▁ছয়টি ▁দেশের ▁১৮ ▁কোটির ▁বেশি ▁মানুষ ▁ও ▁শরণার্থী র ▁আগমন ▁নিষিদ্ধ ▁এবং ▁২০১৭ ▁সালে ▁১ ▁লাখ ▁১০ ▁হাজার ▁শরণার্থী র ▁জায়গায় ▁৫০ ▁হাজার ▁নেওয়ার ▁ঘোষণা — এসব ▁করতে ▁গিয়ে ▁ট্রাম্প ▁নিজের ▁ক্ষমতা ▁ব্যবহারের ▁প্রয়োজনীয় ▁পূর্বশর্ত ▁পূরণ ▁করেননি । ▁এই ▁মানুষেরা ▁যুক্তরাষ্ট্রে ▁ঢু কলে ▁তা ▁‘ দেশ টির ▁স্বার্থের ▁জন্য ▁হানি কর ’ ▁হবে , ▁এটা ▁বলার ▁আগে ▁প্রেসিডেন্ট কে ▁তথ্যপ্রমাণ ▁জড়ো ▁করতে ▁হবে । ▁এ ▁ছাড়া ▁ট্রাম্পের ▁এই ▁আদেশ ▁ইমিগ্রেশন ▁অ্যান্ড ▁ন্যাশনাল িটি ▁অ্যাক্ট ের ▁পরিপন্থী । ▁কারণ ▁এতে ▁বলা ▁হয়েছে , ▁জাতীয়তা ভিত্তিক ▁বিভাজন ▁করা ▁যাবে ▁না , ▁আর ▁শরণার্থীদের ▁প্রবেশ ▁সীমিত ▁করতে ▁হলে ▁প্রেসিডেন্ট কে ▁নির্দিষ্ট ▁প্রক্রিয়া ▁অনুসরণ ▁করতে ▁হবে । ▁আইনের ▁এই ▁বিধান ের ▁বলে ▁আমরা ▁জেলা ▁আদালতের ▁আদেশ ▁অনেকাংশে ▁সমর্থন ▁করি । ▁মনে ▁হচ্ছে , ▁মামলা ▁চলাকালে ▁প্রশাসন ▁এটা ▁শিখতে ▁পারেনি , ▁আদালত ▁এমন ▁যুক্তি ▁সমর্থন ▁করেন ▁না ▁যে ▁প্রশাসনের ▁কাজ ▁পর্যালোচনা ▁করা ▁যাবে ▁না । ▁আদালত ▁প্রশাসন কে ▁নির্দেশনা ▁দিয়েছেন , ▁‘ প্রেসিডেন্ট ের ▁অভিবাসন ▁ও ▁জাতীয় ▁নিরাপত্তা ▁নীতি বিষয়ক ▁বিবেচনা র ▁প্রতি ▁আমরা ▁যত ▁শ্রদ্ধা ই ▁দেখা ই ▁না ▁কেন , ▁তার ▁মানে ▁এই ▁নয় ▁যে , ▁আমরা ▁মোট েও ▁এই ▁নীতি ▁পর্যালোচনা ▁করতে ▁পারব ▁না ... আমরা ▁বিচার িক ▁ভূমিকা ▁ত্যাগ ▁করিনি । ▁এ ▁ক্ষেত্রে ▁“ আইন ▁কী ▁জিনিস ”, ▁সেটা ▁বলার ▁ব্যাপারে ▁আমাদের ▁বাধ্যবাধকতা ▁আছে ▁( মার বুরি ▁বনাম ▁ম্যাডিসন , ▁৫ ▁ইউ . এস . ১৩৭ , ▁১৭৭ ( ১৮ ০৩ ) । ’ ▁তাহলে ▁সরকার ▁কেন ▁গো ঁ ▁ধরে ▁বসে ▁থাকে , ▁এই ▁আইনি ▁বিতর্কে ▁আদালতের ▁স্থান ▁নেই । ▁সুনির্দিষ্ট ▁আইনি ▁পরিপ্রেক্ষিতে ▁আদালত ▁দেখেছেন , ▁প্রেসিডেন্ট ▁এমন ▁কিছু ▁পাননি ▁যে ▁বলা ▁যায় , ▁‘ কোনো ▁এক ▁বিদেশি ▁গোষ্ঠীর ▁আগমন ▁মার্কিন ▁যুক্তরাষ্ট্রের ▁স্বার্থের ▁জন্য ▁হানি কর । ’ ▁প্রশাসনের ▁এই ▁নিপীড়ন মূলক ▁কাজের ▁ন্যূনতম ▁ভিত্তি ▁না ▁থাকায় ▁আদালত ▁তাকে ▁ভর ্ ৎস না ▁করেছেন : ▁‘ ২ ( সি ) ▁নম্বর ▁ধারায় ▁প্রথম ▁যে ▁তিনটি ▁কারণ ▁বর্ণিত ▁হয়েছে , ▁আমরা ▁তা ▁প্রত্যাখ্যান ▁করি । ▁কারণ ▁এটা ▁বিদ্যমান ▁প্রক্রিয়া ▁পর্যালোচনায় ▁সরকারের ▁সক্ষমতা ▁সংরক্ষণ ▁ও ▁যথাযথ ▁ভে টিং - প্রক্রিয়া ▁নিশ্চিতকরণ ের ▁সঙ্গে ▁সম্পর্কিত । ▁এমন ▁তথ্য ▁নেই ▁যে ▁বিদ্যমান ▁ভে টিং ▁কার্যক্রম ▁অপর্যাপ্ত । ▁আবার ▁এমন ▁তথ্য ও ▁নেই ▁যে ▁উন্নত ▁ভে টিং - প্রক্রিয়া ▁না ▁থাকলে ▁জাতীয় ▁স্বার্থের ▁হানি ▁ঘটবে । ▁এসব ▁চিহ্নিত ▁কারণে র ▁পরিপ্রেক্ষিতে ▁বলা ▁যায় , ▁এই ▁ছয়টি ▁দেশের ▁নাগরিকের া ▁যুক্তরাষ্ট্রে ▁প্রবেশ ▁করলে ▁আমাদের ▁জাতীয় ▁স্বার্থের ▁হানি ▁ঘটবে । ’ ▁মনে ▁হয় , ▁সরকারি ▁আইনজীবী রা ▁সংশ্লিষ্ট ▁তথ্যপ্রমাণ ▁সংগ্রহের ▁চেষ্টা ▁করেননি । ▁কারণ , ▁এই ▁বিশুদ্ধ ▁রাজনৈতিক ▁পদক্ষেপের ▁প্রমাণ ▁নেই । ▁জাতীয় ▁নিরাপত্তার ▁যুক্তির ▁জায়গা ▁থেকে ▁আদালত ▁একই ▁ভাবে ▁খুঁজে ▁পেয়েছেন , ▁এই ▁ছয়টি ▁দেশের ▁নাগরিকদের ▁কেন ▁যুক্তরাষ্ট্রে ▁ঢুকতে ▁দেওয়া ▁হবে ▁না , ▁তার ▁সপক্ষে ▁সরকার ▁তেমন ▁কোনো ▁যুক্তি ▁দেয়নি । ▁সংক্ষেপে ▁বললে , ▁সরকারের ▁নির্বাহী ▁আদেশে ▁এমন ▁যুক্তি ▁দেওয়া ▁হয়নি ▁যে ▁কেন ▁বিদ্যমান ▁প্রটোকল ের ▁অধীনে ▁এই ▁ছয়টি ▁দেশের ▁নাগরিকের া ▁যুক্তরাষ্ট্রের ▁স্বার্থের ▁জন্য ▁হানি কর ▁হবেন । ▁এ ▁ছাড়া ▁১৯৬৫ ▁সালের ▁এক ▁আইনে ▁প্রেসিডেন্টের ▁ক্ষমতা ▁সীমিত ▁করা ▁হয়েছে । ▁এই ▁আইনে ▁বলা ▁হয়েছে , ▁ভিসা ▁দেওয়ার ▁ক্ষেত্রে ▁বৈষম্য ▁করা ▁যাবে ▁না । ▁নিষেধাজ্ঞার ▁সমর্থকদের ▁যুক্তি ▁হচ্ছে , ▁অভিবাসনের ▁ওপর ▁প্রেসিডেন্টের ▁যে ▁সামগ্রিক ▁কর্তৃত্ব ▁রয়েছে , ▁এই ▁আইনে ▁তা ▁খর্ব ▁করা ▁হয়নি । ▁কিন্তু ▁আদালত ▁এর ▁সঙ্গে ▁একমত ▁হননি । ▁আদালতের ▁অনুসন্ধান ▁হচ্ছে , ▁প্রশাসন ▁আইনি ▁শর্ত ▁পূরণ ▁করেনি । ▁ফলে ▁এই ▁নিষেধাজ্ঞার ▁সাংবিধানিক ▁দুর্বলতা র ▁দিকে ▁নজর ▁দেওয়ার ▁কিছু ▁নেই । ▁সরকারের ▁তরফে ▁একমাত্র ▁জয় ▁হচ্ছে , ▁আদালত ▁এই ▁স্বীকৃতি ▁দিয়েছেন ▁যে ▁সরকার ▁আন্ত সংস্থা ▁ভে টিং ▁পর্যালোচনা ▁করতে ▁পারবে । ▁আর ▁সুনির্দিষ্টভাবে ▁প্রেসিডেন্টের ▁কাজে ▁যে ▁নিষেধাজ্ঞা ▁দিতে ▁হবে , ▁তার ▁প্রয়োজনীয়তা ▁নেই । ▁সরকারের ▁আইনজীবী রা ▁কেন ▁সরকারকে ▁প্রয়োজনীয় ▁তথ্য ▁সংগ্রহ ▁করে ▁বোধগম্য ▁অবস্থান ▁নিতে ▁তাড়া ▁দিচ্ছেন ▁না , ▁সেটা ▁আমাদের ▁বোধগম্য ▁নয় । ▁অর্থাৎ ▁কেন ▁এই ▁ছয়টি ▁দেশের ▁নাগরিকদের ▁ভ্রমণ নিষেধ া জ্ঞা ▁জরুরি ▁বা ▁কেন ▁সব ▁শরণার্থী র ▁ওপর ▁নিষেধাজ্ঞা ▁জারি ▁করতে ▁হবে ? ▁জাস্টিস ▁ডিপার্টমেন্টের ▁সাবেক ▁মুখপাত্র ▁ম্যাথু ▁মিলার ▁বলেছেন , ▁‘ প্রেসিডেন্ট ের ▁পরাজয়ের ▁সামগ্রিক ▁পরিণতি ▁দেখে ▁আমি ▁স্তম্ভ িত । ▁তিনি ▁আইনি ▁ও ▁সাংবিধানিক ▁কারণে ▁হেরে ▁গেছেন । ’ ▁কেউ ▁হয়তো ▁ভাবতে ▁পারেন , ▁প্রশাসন ▁প্রয়োজনীয় ▁সাক্ষ্যপ্রমাণ ▁জোগাড় ▁করতে ▁অক্ষম , ▁অথবা ▁তারা ▁অলস । ▁আমরা ▁ভিন্ন ▁এক ▁তত্ত্ব ▁পছন্দ ▁করি : ▁এই ▁আদেশ গুলোর ▁নিরাপত্তা ▁বা ▁অন্যান্য ▁যৌক্তিকতা ▁নেই ; ▁বরং ▁এগুলো ▁কিছু ▁সংস্কার ে ▁স্থূল ভাবে ▁সু ড় স ুড়ি ▁দেওয়া , ▁যার ▁কোনো ▁প্রামাণিক ▁ও ▁যৌক্তিক ▁ভিত্তি ▁নেই । ▁পৃথিবীর ▁কোনো ▁আইনজীবী ▁আদালতে ▁তা ▁প্রমাণ ▁করতে ▁পারবেন ▁না । ▁অনুবাদ : ▁প্রতীক ▁বর্ধন , ▁ওয়াশিংটন ▁পোস্ট ▁থেকে ▁নেওয়া । ▁জেনিফার ▁রুবিন : ▁ওয়াশিংটন ▁পোস্ট – এর ▁কলামিস্ট ।,▁x x bo s ▁একটি ▁মজার ▁ধাঁধা ▁দেখুন । ▁তিন ▁বন্ধু ▁গাছের ▁নিচে ▁ঘুমিয়ে ▁আছেন । ▁একটি ▁বানর ▁এসে ▁তাদের ▁প্রত্যেকের ▁মুখে ▁রং ▁দিয়ে ▁বিচিত্র ▁ধরনের ▁দাগ ▁এঁকে টে কে ▁দিয়ে ▁গেল । ▁ঘুম ▁থেকে ▁উঠে ▁তিন ▁বন্ধুর ▁প্রত্যেকেই ▁অপর ▁দুই ▁বন্ধুর ▁চেহারা ▁দেখে ▁হাস তে ▁লাগলেন । ▁কিছুক্ষণ ▁পর ▁প্রথম ▁বন্ধু ▁হাসি ▁বন্ধ ▁করে ▁চুপ ▁করে ▁গেলেন । ▁বলুন ▁তো ▁কেন ? ▁কারণ ▁ভাবলেন ▁দ্বিতীয় ▁বন্ধু ▁যদি ▁দেখতেন ▁তার ▁মুখে ▁দাগ ▁নেই , ▁তাহলে ▁দ্বিতীয় ▁বন্ধু ▁নিশ্চয়ই ▁তৃতীয় ▁বন্ধুকে ▁হাস তে ▁দেখে ▁অবাক ▁হতেন । ▁কারণ ▁প্রথম ▁বন্ধুর ▁মুখে ▁যদি ▁দাগ ▁না ▁থাকে ▁আর ▁দ্বিতীয় ▁বন্ধু ▁তো ▁ধরেই ▁নিয়েছেন ▁তার ▁নিজের ▁মুখে ▁দাগ ▁নেই , ▁তাহলে ▁তো ▁তৃতীয় ▁বন্ধুর ▁হাসা র ▁কথা ▁নয় ! ▁প্রথম ▁ও ▁দ্বিতীয় ▁দুই ▁বন্ধুর ▁কারও ▁মুখে ▁দাগ ▁না ▁থাকত ▁তাহলে ▁তৃতীয় ▁বন্ধু ▁হাস বেন ▁কেন ? ▁অথচ ▁তৃতীয় ▁বন্ধুকে ▁হাস তে ▁দেখে ▁দ্বিতীয় ▁বন্ধু ▁অবাক ▁হচ্ছেন ▁না । ▁তাই ▁প্রথম ▁বন্ধু ▁বুঝ লেন ▁তার ▁নিজের ▁মুখে ও ▁দাগ ▁আছে । ▁এ ▁জন্যই ▁তিনি ▁চুপ ▁করে ▁গেলেন । ▁গণিতের ▁আরেকটি ▁সমস্যার ▁সহজ ▁সমাধান ▁দেখুন । ▁চারটি ▁ক্রমিক ▁সংখ্যার ▁যোগফল ▁৩০ । ▁বলতে ▁হবে ▁সংখ্যা ▁চারটি ▁কত । ▁এর ▁উত্তরের ▁জন্য ▁আমরা ▁প্রথমে ▁সংখ্যা ▁চারটি র ▁সম্ভাব্য ▁গড় ▁কত ▁হতে ▁পারে ▁তা ▁বের ▁করি । ▁গড় ▁৭ ▁ও ▁৮ - এর ▁মাঝামাঝি । ▁সুতরাং ▁ক্রমিক ▁সংখ্যা ▁চারটি ▁নিশ্চয়ই ▁৬ , ▁৭ , ▁৮ ▁ও ▁৯ । ▁এদের ▁যোগফল ▁৩০ । ▁গড় ▁৭ ▁দশমিক ▁৫ । ▁এ ▁সপ্তাহের ▁ধাঁধা ▁আপনি ▁বিস্কুট ▁কিনতে ▁গেলেন । ▁দোকান ি ▁বললেন ▁দাম ▁২০ % ▁বেড়ে ▁১২০ ▁টাকা ▁হয়েছে । ▁আপনি ▁বললেন ▁না , ▁না , ▁২০ % ▁কমাতে ▁হবে । ▁দোকান ি ▁১২০ ▁টাকার ▁ওপর ▁২০ % ▁কমিয়ে ▁দাম ▁নিলেন । ▁বলুন ▁তো ▁এতে ▁কার ▁লাভ ▁হলো ? ▁খুব ▁সহজ । ▁অনলাইনে ▁মন্তব্য ▁আকারে ▁অথবা ▁ qua y um <unk> g ma il . com ▁ই - মেইল ে ▁আপনাদের ▁উত্তর ▁পাঠিয়ে ▁দিন । ▁সঠিক ▁উত্তর ▁দেখুন ▁আগামী ▁রোববার ▁অনলাইনে । ▁গত ▁সপ্তাহের ▁ধাঁধা র ▁উত্তর ▁ধাঁধা টি ▁ছিল ▁এ ▁রকম : ▁একটি ▁সংখ্যার ▁সঙ্গে ▁৬ ▁যোগ ▁করলে ▁একটি ▁পূর্ণ ▁বর্গ ▁সংখ্যা ▁হয় । ▁আবার ▁৬ ▁বিয়োগ ▁করলে ▁সেই ▁পূর্ণ ▁বর্গ ▁সংখ্যার ▁বর্গমূল ▁পাওয়া ▁যায় । ▁বৈশিষ্ট্যপূর্ণ ▁সংখ্যাটি ▁কত ? ▁উত্তর : ▁বৈশিষ্ট্যপূর্ণ ▁সংখ্যাটি ▁১০ । ▁( ১০ ▁+ ▁৬ ) ▁= ▁১৬ , ▁যা ▁একটি ▁পূর্ণ ▁বর্গ ▁সংখ্যা । ▁আবার ▁( ১০ ▁- ▁৬ ) ▁= ▁৪ , ▁যা ▁১৬ ▁এর ▁বর্গমূল । ▁কীভাবে ▁উত্তর ▁বের ▁করলাম ▁প্রথমে ▁আমরা ▁৪ , ▁৯ , ▁১৬ , ▁২৫ ▁প্রভৃতি ▁বর্গ ▁সংখ্যা ▁নিয়ে ▁পর্যবেক্ষণ ▁করি । ▁এদের ▁মধ্যে ▁১৬ ▁আমাদের ▁শর্ত ▁পূরণ ▁করে । ▁কারণ ▁এই ▁বর্গ সংখ্যা টি ▁থেকে ▁৬ ▁বিয়োগ ▁করলে ▁১০ ▁এবং ▁আবার ▁৬ ▁বিয়োগ ▁করলে ▁৪ ▁হয় , ▁যা ▁১৬ - এর ▁বর্গমূল । ▁তার ▁মানে ▁বৈশিষ্ট্যপূর্ণ ▁সংখ্যাটি ▁১০ । ▁এর ▁থেকে ▁৬ ▁বেশি ▁ও ▁৬ ▁কম ▁সংখ্যা গুলো ▁যথাক্রমে ▁১৬ ▁ও ▁৪ । ▁এখানে ▁১৬ ▁একটি ▁পূর্ণ ▁বর্গ ▁সংখ্যা , ▁এবং ▁৪ ▁হলো ▁১৬ - এর ▁বর্গমূল । ▁আমরা ▁তো ▁এই ▁শর্ত টিই ▁পূরণ ▁করতে ▁চা চ্ছি । ▁এখানে ▁লক্ষণীয় ▁যে ▁এ ▁ধরনের ▁আরও ▁কয়েকটি ▁বৈশিষ্ট্যপূর্ণ ▁সংখ্যা ▁রয়েছে । ▁যেমন ▁৩ ▁এমন ▁একটি ▁বৈশিষ্ট্যপূর্ণ ▁সংখ্যা ▁যার ▁সঙ্গে ▁১ ▁যোগ ▁ও ▁বিয়োগ ▁করলে ▁যথাক্রমে ▁৪ ▁ও ▁২ ▁পাওয়া ▁যায় । ▁এখানে ▁৪ ▁একটি ▁পূর্ণ ▁বর্গ ▁সংখ্যা ▁এবং ▁এর ▁বর্গমূল ▁২ ▁। ▁এ ▁রকম ▁আরেকটি ▁বৈশিষ্ট্যপূর্ণ ▁সংখ্যা ▁হলো ▁১৫ । ▁এর ▁সঙ্গে ▁১০ ▁যোগ ▁ও ▁বিয়োগ ▁করলে ▁যথাক্রমে ▁২৫ ▁ও ▁৫ ▁পাব । ▁এখানে ▁২৫ ▁একটি ▁পূর্ণ ▁বর্গ ▁সংখ্যা ▁এবং ▁এর ▁বর্গমূল ▁৫ । ▁আব্দুল ▁কাইয়ুম , ▁সম্পাদক , ▁মাসিক ▁ম্যাগাজিন ▁বিজ্ঞান চিন্তা,▁x x bo s ▁শিক্ষা ▁মন্ত্রণালয়ের ▁অধীন ▁বাংলাদেশ ▁শিক্ষা তথ্য ▁ও ▁পরিসংখ্যান ▁ব্যুরো ▁( ব্যা ন বেই স ) ▁রাজস্ব ▁ও ▁ব্যান বেই সের ▁আওতায় ▁উপজেলা ▁আইসিটি ▁ট্রেনিং ▁অ্যান্ড ▁রিসোর্স ▁সেন্টার ▁ফর ▁এডুকেশন ের ▁( ইউ আইটি আরসি ই ) ▁জন্য ▁ছয় ▁পদে ▁মোট ▁১৪০ ▁জনকে ▁নিয়োগ ের ▁বিজ্ঞপ্তি ▁প্রকাশ ▁করেছে । ▁এর ▁মধ্যে ▁কম্পিউটার ▁অপারেটর ▁পদে ▁১২৮ ▁জন , ▁ল্যাব ▁অ্যাসিস্ট্যান্ট ▁পদে ▁৭ ▁জন , ▁স্ট্যাটিস্টিক ্যাল ▁ইনভেস্ট ি গেট র ▁পদে ▁২ ▁জন ▁এবং ▁সাঁ ট ▁মুদ্রাক্ষর িক ▁কাম ▁কম্পিউটার ▁অপারেটর , ▁সংকলক ▁ও ▁অফিস ▁সহকারী ▁কাম ▁কম্পিউটার ▁মুদ্রাক্ষর িক ▁পদে ▁১ ▁জন ▁করে ▁লোকবল ▁নিয়োগ ▁দেওয়া ▁হবে । ▁ইতিমধ্যে ▁শুরু ▁হয়ে ▁গেছে ▁আবেদন - প্রক্রিয়া , ▁আবেদন ▁করা ▁যাবে ▁২৯ ▁জুন ▁পর্যন্ত । আ বেদন ের ▁যোগ্যতা কম্পিউটার ▁অপারেটর ▁পদে ▁আবেদন ের ▁জন্য ▁আবেদনকারী কে ▁কমপক্ষে ▁ডিগ্রি ▁পাস ▁হতে ▁হবে । ▁তবে ▁এ ▁ক্ষেত্রে ▁বিজ্ঞান ▁বিভাগ ▁থেকে ▁পাস ▁করা ▁প্রার্থীদের ▁অগ্রাধিকার ▁দেওয়া ▁হবে । ▁ল্যাব ▁অ্যাসিস্ট্যান্ট ▁পদে ▁আবেদন ের ▁জন্য ▁আবেদনকারী কে ▁কমপক্ষে ▁এইচএসসি ▁পাস ▁অথবা ▁সমমানের ▁শিক্ষাগত ▁যোগ্যতার ▁অধিকারী ▁হতে ▁হবে । ▁এ ▁ছাড়া ▁প্রার্থীকে ▁শারীরিকভাবে ▁সুঠাম ▁দেহের ▁অধিকারী ▁এবং ▁কম্পিউটার ▁হার্ডওয়্যার ▁মেইন টেন ্যান্স ▁ও ▁ডেটা ▁এন্ট্রি ▁কাজে ▁পারদর্শী ▁হতে ▁হবে । ▁স্ট্যাটিস্টিক ্যাল ▁ইনভেস্ট ি গেট র ▁পদে ▁আবেদন ের ▁জন্য ▁আবেদনকারী কে ▁যেকোনো ▁স্বীকৃত ▁বিশ্ববিদ্যালয় ▁থেকে ▁পরিসংখ্যান , ▁গণিত ▁বা ▁অর্থনীতিতে ▁কমপক্ষে ▁দ্বিতীয় ▁শ্রেণির ▁স্নাতক ▁ডিগ্রি সহ ▁সংশ্লিষ্ট ▁কাজে ▁বাস্তব ▁অভিজ্ঞতা ▁থাকতে ▁হবে । ▁সাঁ ট ▁মুদ্রাক্ষর িক ▁কাম ▁কম্পিউটার ▁অপারেটর ▁পদের ▁জন্য ▁আবেদনকারী কে ▁কমপক্ষে ▁এইচএসসি ▁পাস ▁হতে ▁হবে , ▁সঙ্গে ▁কম্পিউটার ▁ব্যবহার - সংক্রান্ত ▁ওয়ার্ড ▁প্রসেসিং , ▁ডেটা ▁এন্ট্রি ▁ও ▁টাইপ িংয়ে ▁বাংলায় ▁মিনিটে ▁২৫ ▁এবং ▁ইংরেজিতে ▁৩০ ▁শব্দ ▁টাইপ িং ▁স্পিড ▁থাকতে ▁হবে । ▁সংকলক ▁পদে ▁আবেদন ের ▁জন্য ▁আবেদনকারী কে ▁কমপক্ষে ▁এইচএসসি ▁অথবা ▁সমমানের ▁পরীক্ষায় ▁উত্তীর্ণ ▁হতে ▁হবে । ▁তবে ▁এই ▁কাজে ▁বাস্তব ▁অভিজ্ঞতাসম্পন্ন ▁প্রার্থীদের ▁এ ▁ক্ষেত্রে ▁অগ্রাধিকার ▁দেওয়া ▁হবে । ▁অফিস ▁সহকারী ▁কাম ▁কম্পিউটার ▁মুদ্রাক্ষর িক ▁পদের ▁জন্য ▁আবেদনকারী কে ▁কমপক্ষে ▁এইচএসসি ▁পাস ▁হতে ▁হবে , ▁সঙ্গে ▁কম্পিউটার ▁ব্যবহার - সংক্রান্ত ▁ওয়ার্ড ▁প্রসেসিং , ▁ডেটা ▁এন্ট্রি ▁ও ▁টাইপ িংয়ে ▁বাংলায় ▁এবং ▁ইংরেজিতে ▁প্রতি ▁মিনিটে ▁২০ ▁শব্দ ▁টাইপ িং ▁স্পিড ▁থাকতে ▁হবে । ▁সব ▁পদে ▁আবেদন ের ▁জন্যই ▁২৯ ▁জুন ▁প্রার্থীর ▁বয়স ▁হতে ▁হবে ▁১৮ ▁থেকে ▁৩০ ▁বছরের ▁মধ্যে । ▁তবে ▁মুক্তিযোদ্ধা ▁কোটায় ▁( মুক্তিযোদ্ধা র ▁সন্তান ) ▁ও ▁শারীরিক ▁প্রতিবন্ধী দের ▁ক্ষেত্রে ▁নির্দিষ্ট ▁তারিখে ▁বয়স ▁হতে ▁হবে ▁৩২ ▁বছরের ▁মধ্যে । ইউ আইটি আরসি ই র ▁ছয়টি ▁পদের ▁জন্য ▁মানিকগঞ্জ , ▁রাজবাড়ী , ▁শেরপুর , ▁খাগড়াছড়ি , ▁রাঙামাটি , ▁ফেনী , ▁পঞ্চগড় , ▁ঠাকুরগাঁও ▁ও ▁মেহেরপুর ▁ব্যতীত ▁সব ▁জেলার ▁প্রার্থী রা ▁আবেদন ▁করতে ▁পারবেন । ▁তবে ▁মুক্তিযোদ্ধা ▁কোটা র ▁প্রার্থী রা ▁আবেদন ▁করতে ▁পারবেন ▁সব ▁জেলা ▁থেকেই । আ বেদন ের ▁পদ্ধতি ইউ আইটি আরসি ই র ▁ছয়টি ▁পদে ▁আবেদন ের ▁জন্যই ▁আবেদনকারী কে ▁২৯ ▁জুন ▁বিকেল ▁পাঁচটা র ▁মধ্যে ▁ব্যান বেই সের ▁ওয়েবসাইট ▁ www . ban be is . gov . bd ▁/ ▁ jo bs ▁এই ▁ঠিকানায় ▁গিয়ে ▁অনলাইনে ▁আবেদন ▁ফরম ▁পূরণ ▁করে ▁আবেদন ▁করতে ▁হবে । ▁দরখাস্ত ▁করার ▁সময় ▁ফরম ▁পূরণের ▁নিয়ম ▁ও ▁শর্ত াবলি ▁ওয়েবসাইটে ই ▁পাওয়া ▁যাবে । ▁যথাযথভাবে ▁আবেদন ▁ফরম ▁পূরণের ▁পর ▁প্রাপ্ত ▁ট্র্যাকিং ▁নম্বর টি ▁সংরক্ষণ ▁করতে ▁হবে । ▁পরীক্ষার ▁ফি ▁বাবদ ▁প্রার্থীকে ▁পরিচালক , ▁বাংলাদেশ ▁শিক্ষা তথ্য ▁ও ▁পরিসংখ্যান ▁ব্যুরো র ▁( ব্যা ন বেই স ) ▁অনুকূলে ▁১ - ২৫ ৭৯ - ▁x x re p ▁4 ▁০ ▁- ২০০১ ▁কোড ▁নম্বরে ▁১০০ ▁টাকার ▁ট্রেজারি ▁চালান ▁জমা ▁করে ▁তার ▁স্ক্যান ▁কপি ▁আবেদন ের ▁সঙ্গে ▁আপলোড ▁করতে ▁হবে । বে তন - ভা তা ▁ও ▁অন্যান্য ▁সুবিধাদি চূড়া ন্ত ভাবে ▁নিয়োগপ্রাপ্ত ▁প্রার্থী রা ▁সরকার ▁কর্তৃক ▁নির্দিষ্ট ▁গ্রেড ে ▁বেতন - ভা তা ▁ও ▁অন্য ▁সুবিধাদি ▁পাবেন । ▁এ ▁ক্ষেত্রে ▁কম্পিউটার ▁অপারেটর ▁পদে ▁চূড়ান্তভাবে ▁নিয়োগপ্রাপ্ত ▁ব্যক্তিরা ▁১১ ▁হাজার ▁থেকে ▁২৬ ▁হাজার ▁৫৯ ০ ▁টাকা , ▁ল্যাব ▁অ্যাসিস্ট্যান্ট ▁পদে ▁৯ ▁হাজার ▁৩০০ ▁টাকা ▁থেকে ▁২২ ▁হাজার ▁৪৯০ ▁টাকা , ▁স্ট্যাটিস্টিক ্যাল ▁ইনভেস্ট ি গেট র ▁পদে ▁১১ ▁হাজার ▁৩০০ ▁টাকা ▁থেকে ▁২৭ ▁হাজার ▁৩০০ ▁টাকা , ▁সাঁ ট ▁মুদ্রাক্ষর িক ▁কাম ▁কম্পিউটার ▁অপারেটর ▁পদে ▁১০ ▁হাজার ▁২০০ ▁টাকা ▁থেকে ▁২৪ ▁হাজার ▁৬৮০ ▁টাকা , ▁সংকলক ▁পদে ▁৯ ▁হাজার ▁৩০০ ▁টাকা ▁থেকে ▁২২ ▁হাজার ▁৪৯০ ▁টাকা ▁এবং ▁অফিস ▁সহকারী ▁কাম ▁কম্পিউটার ▁মুদ্রাক্ষর িক ▁পদে ▁চূড়ান্তভাবে ▁নিয়োগপ্রাপ্ত রা ▁৯ ▁হাজার ▁৩০০ ▁টাকা ▁থেকে ▁২২ ▁হাজার ▁৪৯০ ▁টাকা ▁স্কেলে ▁বেতন ▁পাবেন । বিস্তার িত ▁জানতে ▁যোগাযোগ ব্যা ন বেই স ; ▁১ ▁সোনারগাঁও ▁রোড ▁( পলাশ ী - নীল ক্ষেত ), ▁ঢাকা - ১২ ০৫ ; ▁ওয়েবসাইট : ▁ www . ban be is . gov . bd\n",
       "y: LMLabelList\n",
       ",,,,\n",
       "Path: /content/data;\n",
       "\n",
       "Valid: LabelList (10000 items)\n",
       "x: LMTextList\n",
       "▁x x bo s ▁জাহা লম ের ▁কারাভোগ ▁নিয়ে ▁হাইকোর্টে ▁শুনানি ▁পিছিয়ে ছে ▁দুর্নীতি ▁দমন ▁কমিশনের ▁( দু দক ) ▁মামলায় ▁নিরীহ ▁পাটকল ▁শ্রমিক ▁জাহা লম ের ▁কারাভোগ ের ▁ঘটনায় ▁হাইকোর্টে ▁শুনানি ▁পিছিয়ে ছে । ▁আগামী ▁৩১ ▁অক্টোবর ▁শুনানি র ▁নতুন ▁দিন ▁ঠিক ▁করেছেন ▁বিচারপতি ▁এফ ▁আর ▁এম ▁নাজমুল ▁আ হাসান ▁ও ▁বিচারপতি ▁কামরুল ▁কাদের ের ▁সমন্বয়ে ▁গঠিত ▁হাইকোর্ট ▁বেঞ্চ । ▁দু দক ের ▁পক্ষে ▁আদালতে ▁উপস্থিত ▁ছিলেন ▁আইনজীবী ▁খুরশীদ ▁আলম ▁খান । ▁আর ▁সোনালী ▁ব্যাংকের ▁পক্ষে ▁আইনজীবী ▁জাকির ▁হোসেন ▁ও ▁ব্র্যাক ▁ব্যাংকের ▁পক্ষে ▁আইনজীবী ▁আসাদুজ্জামান ▁আদালতে ▁হাজির ▁ছিলেন । ▁জাহা লম ▁তাঁর ▁ভাই ▁শাহ া নূর কে ▁নিয়ে ▁বৃহস্পতিবার ▁আদালতে ▁হাজির ▁ছিলেন । ▁জাহা লম ▁প্রথম ▁আলোকে ▁বলেন , ▁বিনা ▁দোষে ▁তাঁকে ▁তিন ▁বছর ▁জেল ▁খাট তে ▁হয়েছে । ▁এর ▁জন্য ▁কোনো ▁ক্ষতিপূরণ ▁তিনি ▁পাননি । ▁জাহা লম কে ▁আসামি ▁করার ▁দায়ে ▁যে ▁১১ ▁জন ▁কর্মকর্তার ▁বিরুদ্ধে ▁বিভাগীয় ▁মামলা ▁হয়েছে , ▁তাঁদের ▁তালিকা ▁গত ▁২৮ ▁আগস্ট ▁হাইকোর্টে ▁জমা ▁দেয় ▁দু দক । ▁দু দক ের ▁ওই ▁১১ ▁কর্মকর্তা ▁হলেন , ▁দু দক ের ▁পরিচালক ▁আবদুল্লাহ ▁আল - জা হিদ , ▁উপ পরিচালক ▁শেখ ▁মেজ বাহ ▁উদ্দিন , ▁মাসুদ ুর ▁রহমান , ▁দেবব্রত ▁মণ্ডল , ▁সেলিনা ▁আক্তার ▁মনি , ▁সহকারী ▁পরিচালক ▁সুমিত্রা ▁সেন , ▁সিলভিয়া ▁ফেরদৌস , ▁মে ফ তা হুল ▁জান্নাত , ▁মুহম্মদ ▁জয়নাল ▁আবেদীন , ▁সাইদ ুজ্জামান ▁ও ▁রাফ ী ▁মো . ▁নাজ মুস ▁সাদাত । ▁গত ▁৩০ ▁জানুয়ারি ▁প্রথম ▁আলোয় ▁‘ স্যা র , ▁আমি ▁জাহা লম , ▁সালে ক ▁না ’ ▁শীর্ষক ▁প্রতিবেদন ▁প্রকাশিত ▁হয় ▁। ▁প্রতিবেদন টি ▁সেদিন ▁হাইকোর্ট ের ▁নজরে ▁আনেন ▁সুপ্রিম ▁কোর্টের ▁আইনজীবী ▁অমিত ▁দাশ ▁গুপ্ত । ▁শুনানি ▁নিয়ে ▁আদালত ▁জাহা লম ের ▁আটকা দেশ ▁কেন ▁অবৈধ ▁ঘোষণা ▁করা ▁হবে ▁না , ▁তা ▁জানতে ▁চেয়ে ▁স্বতঃ প্রণোদিত ▁রুল ▁জারি ▁করেন । ▁এরপর ▁হাইকোর্ট ের ▁আদেশে ▁গত ▁৩ ▁ফেব্রুয়ারি ▁পাটকল শ্রমিক ▁জাহা লম ▁কারাগার ▁থেকে ▁ছাড়া ▁পান ।,▁x x bo s ▁‘ কেউ ▁দিলে ▁খাই তে ▁পাই , ▁না ▁দিলে ▁উপ াস ▁করতে ▁অ য় ’ ▁সাংবাদিকদের ▁দেখলে ই ▁ছুটে ▁এসে ▁নিজের ▁কথা ▁বলতে ▁চান ▁পঞ্চাশ োর্ধ্ব ▁সাফিয়া ▁বেগম । ▁১৬ ▁আগস্ট ▁রাজধানীর ▁মিরপুর ের ▁রূপ নগর ▁এলাকার ▁বস্তিতে ▁আগুন ▁লাগে । ▁বস্তিতে ▁তাঁর ▁ঘর ▁ছিল । ▁৮ ▁বছর ▁আগে ▁সুদ ে ▁৬০ ▁হাজার ▁টাকা ▁ঋণ ▁নিয়ে ▁ঘরটি ▁কিনেছিলেন ▁তিনি । ▁সেই ▁টাকা ▁শোধ ▁করে ▁সম্প্রতি ▁আরও ▁এক ▁লাখ ▁টাকা ▁ঋণ ▁নিয়েছেন ▁ঘরটি ▁ঠিকঠাক ▁করতে । ▁মেরামত ের ▁কাজ ▁শেষ ও ▁হয়েছিল , ▁কিন্তু ▁ভয়াবহ ▁আগুন ▁সব ▁শেষ ▁করে ▁দিয়েছে । ▁তাঁর ▁এখন ▁মাথা ▁গো ঁ জার ▁ঠাঁই ▁না ▁থাকলেও ▁আছে ▁ঋণের ▁বোঝা । ▁আজ ▁মঙ্গলবার ▁দুপুরে ▁সাফিয়া সহ ▁আরও ▁কয়েকজন ের ▁সঙ্গে ▁কথা ▁হলো । ▁সাফিয়া ▁বললেন , ▁‘ টা হা - পয়সা ▁ভিক্ষা ▁করলেও ▁পাওয়া ▁যাই ব , ▁আমি ▁টা হা - পয়সা ▁চাই ▁না । ▁আমি ▁চাই ▁মাথা ▁গো ঁ জার ▁ঠাঁই । ’ ▁তিনি ▁আক্ষেপ ▁করে ▁বললেন , ▁‘ এই ▁দেশে ▁রোহিঙ্গা রাও ▁আশ্রয় ▁পায় , ▁আর ▁আমরা ▁এই ▁দেশের ▁ভোটার ▁হইয়া ও ▁থা হার ▁জায়গা ▁পাই ▁না । ’ ▁আগুনে ▁ক্ষতিগ্রস্ত ▁মানুষ গুলোর ▁দিন ▁কাটে ▁গল্প গুজ ব ▁করে । ▁রাতে ▁আশ্রয় ▁নিতে ▁হয় ▁ত্রি পল ের ▁নিচে । ▁থাকার ▁জায়গা ▁ফিরে ▁পাওয়া ▁যাবে ▁কি ▁না , ▁তা ▁নিয়ে ▁তাঁরা ▁অনিশ্চয়তা র ▁মধ্যে ▁আছেন । ▁চায় ের ▁দোকানের ▁বেঞ্চ ে ▁বসে ▁কথা ▁হয় ▁নি রু ▁বেগমের ▁সঙ্গে । ▁তিনি ▁বললেন , ▁‘ আমার ▁সব ▁পু ই ড়া ▁গ্যা ছে , ▁কিছুই ▁বাঁচা ই তে ▁পারি ▁নাই । ▁এ হন ▁রাস্তা তেই ▁থাকতে ▁হই তা ছে । ▁তিন ▁বেলা ▁খাবার ▁জোটে ▁না । ▁ক হ নো ▁দুই ▁বেলা , ▁ক হ নো ▁এক ▁বেলা ▁খা ইয়া ▁দিন ▁পার ▁করত া ছি । ’ ▁দিন মজুর ▁মো . ▁জাহাঙ্গীর ▁জানালেন , ▁আগুন ▁নেভ ানোর ▁পর ▁তিনি ▁দেখলেন ▁তাঁর ▁ঘর ▁এবং ▁ঘরের ▁কোনো ▁কিছুই ▁আর ▁অবশিষ্ট ▁নেই । ▁অন্যদের ▁মতো ▁তিনিও ▁মাথা ▁গো ঁ জার ▁ঠাঁই ▁ছাড়া ▁আর ▁কিছুই ▁চান ▁না । ▁জাহাঙ্গীর ▁আরও ▁জানালেন , ▁প্রশাসনের ▁পক্ষ ▁থেকে ▁প্রথম ▁পাঁচ ▁দিন ▁খাবার ▁দেওয়ার ▁পর ▁খাবারের ▁বিষয়টি ও ▁এখন ▁অনিশ্চিত ▁হয়ে ▁পড়েছে । ▁জাহাঙ্গীর ের ▁সঙ্গে ▁যখন ▁কথা ▁হচ্ছিল ▁তখনই ▁এক ▁কিশোর ▁এসে ▁খবর ▁দিল , ▁বস্তি বাসীদের ▁মধ্যে ▁খাবার ▁বিতরণ ▁করছেন ▁কয়েকজন । ▁থালা , ▁বা টি ▁ও ▁পলিথিন ের ▁ব্যাগ ▁হাতে ▁সবাই ▁ছুট লেন ▁খাবার ▁সংগ্রহ ▁করতে । ▁গিয়ে ▁দেখা ▁গেল ▁একটি ▁স্বেচ্ছাসেবক ▁সংগঠনের ▁কয়েকজন ▁লোক ▁আগুনে ▁ক্ষতিগ্রস্ত ▁লোকজনের ▁মাঝে ▁খিচুড়ি ▁বিতরণ ▁করছেন । ▁খিচুড়ি ▁নিতে ▁লাইনে ▁দাঁড়িয়ে ▁পড়েছেন ▁সবাই । ▁লাইনে ▁দাঁড়ানো ▁হেনা ▁বেগমের ▁সঙ্গে ▁কথা ▁হলো । ▁তিনি ▁বললেন , ▁‘ টা হা - পয়সা র ▁অভাবে ▁আছি । ▁রাস্তা তেই ▁থাকতে ▁হইতে ছে । ▁কেউ ▁দিলে ▁খাই তে ▁পাই , ▁না ▁দিলে ▁উপ াস ▁করতে ▁অ য় । ’ ▁বড়দের ▁পাশাপাশি ▁খাবারের ▁জন্য ▁বা টি ▁হাতে ▁দাঁড়িয়েছে ▁ছোট্ট ▁রাসেল , ▁সুরাইয়া , ▁ইতি সহ ▁অনেক ▁শিশু । ▁বস্তি র ▁পুড়ে ▁যাওয়া ▁অংশটি ▁শ্মশান ের ▁মতো ▁নীরব ▁পড়ে ▁আছে । ▁বস্তি র ▁অনেক ▁ঘর ▁তোলা ▁হয়েছিল ▁ডোবা র ▁ওপর । ▁পোড়া ▁বাঁশ , ▁কাঠ , ▁কয়লা ▁ও ▁আবর্জনা ▁ভাস ছে ▁কুচ কু চে ▁কালো ▁পানিতে । ▁ডোবা র ▁পাশে ▁বসে ▁ছিলেন ▁ষাট োর্ধ্ব ▁রওশন ▁আরা । ▁বললেন , ▁‘ আগুন ▁যখন ▁লাগল ▁ত হন ▁শুধু ▁ছেলের ▁বউ ▁ও ▁নাতি নকে ▁নিয়ে ▁ঘর ▁থাই কা ▁বাই র ▁হয় া ▁আসি । ▁আগুন ▁নি বার ▁পর ▁দ্যা খ লাম ▁কিছু ▁নাই । ▁আমি ▁এ হন ▁শূন্য । ▁আমরা ▁এ হন ▁মানুষের ▁ঘরে ▁ঘরে ▁থা হি । ’ অনেক েই ▁ভিড় ▁করেছেন ▁ক্ষতিগ্রস্ত দের ▁নামের ▁তালিকায় ▁নিজের ▁নাম ▁খুঁজতে । ▁‘ চল ন্তি কা - ঝি ল পাড় ▁বস্তিতে ▁অগ্নিকাণ্ডে ▁ক্ষতিগ্রস্ত দের ▁জরুরি ▁মানবিক ▁সহায়তা ▁প্রকল্প ’ ▁হাতে ▁নিয়েছে ▁কারিতাস ▁বাংলাদেশ ▁ও ▁সোশ্যাল ▁অ্যান্ড ▁ইকোনোমিক ▁ইন হ ্যান্স মেন্ট ▁প্রোগ্রাম ▁( সিপ ) । ▁তারাই ▁প্রাথমিক ▁নামের ▁তালিকা ▁প্রকাশ ▁করেছে । ▁তালিকায় ▁যাঁদের ▁নাম ▁আছে ▁তাঁরা ▁এখন ▁সহায়তার ▁অপেক্ষায় ▁আছেন ।,▁x x bo s ▁একটি ▁মজার ▁ধাঁধা ▁দেখুন । ▁তিন ▁বন্ধু ▁গাছের ▁নিচে ▁ঘুমিয়ে ▁আছেন । ▁একটি ▁বানর ▁এসে ▁তাদের ▁প্রত্যেকের ▁মুখে ▁রং ▁দিয়ে ▁বিচিত্র ▁ধরনের ▁দাগ ▁এঁকে টে কে ▁দিয়ে ▁গেল । ▁ঘুম ▁থেকে ▁উঠে ▁তিন ▁বন্ধুর ▁প্রত্যেকেই ▁অপর ▁দুই ▁বন্ধুর ▁চেহারা ▁দেখে ▁হাস তে ▁লাগলেন । ▁কিছুক্ষণ ▁পর ▁প্রথম ▁বন্ধু ▁হাসি ▁বন্ধ ▁করে ▁চুপ ▁করে ▁গেলেন । ▁বলুন ▁তো ▁কেন ? ▁কারণ ▁ভাবলেন ▁দ্বিতীয় ▁বন্ধু ▁যদি ▁দেখতেন ▁তার ▁মুখে ▁দাগ ▁নেই , ▁তাহলে ▁দ্বিতীয় ▁বন্ধু ▁নিশ্চয়ই ▁তৃতীয় ▁বন্ধুকে ▁হাস তে ▁দেখে ▁অবাক ▁হতেন । ▁কারণ ▁প্রথম ▁বন্ধুর ▁মুখে ▁যদি ▁দাগ ▁না ▁থাকে ▁আর ▁দ্বিতীয় ▁বন্ধু ▁তো ▁ধরেই ▁নিয়েছেন ▁তার ▁নিজের ▁মুখে ▁দাগ ▁নেই , ▁তাহলে ▁তো ▁তৃতীয় ▁বন্ধুর ▁হাসা র ▁কথা ▁নয় ! ▁প্রথম ▁ও ▁দ্বিতীয় ▁দুই ▁বন্ধুর ▁কারও ▁মুখে ▁দাগ ▁না ▁থাকত ▁তাহলে ▁তৃতীয় ▁বন্ধু ▁হাস বেন ▁কেন ? ▁অথচ ▁তৃতীয় ▁বন্ধুকে ▁হাস তে ▁দেখে ▁দ্বিতীয় ▁বন্ধু ▁অবাক ▁হচ্ছেন ▁না । ▁তাই ▁প্রথম ▁বন্ধু ▁বুঝ লেন ▁তার ▁নিজের ▁মুখে ও ▁দাগ ▁আছে । ▁এ ▁জন্যই ▁তিনি ▁চুপ ▁করে ▁গেলেন । ▁গণিতের ▁আরেকটি ▁সমস্যার ▁সহজ ▁সমাধান ▁দেখুন । ▁চারটি ▁ক্রমিক ▁সংখ্যার ▁যোগফল ▁৩০ । ▁বলতে ▁হবে ▁সংখ্যা ▁চারটি ▁কত । ▁এর ▁উত্তরের ▁জন্য ▁আমরা ▁প্রথমে ▁সংখ্যা ▁চারটি র ▁সম্ভাব্য ▁গড় ▁কত ▁হতে ▁পারে ▁তা ▁বের ▁করি । ▁গড় ▁৭ ▁ও ▁৮ - এর ▁মাঝামাঝি । ▁সুতরাং ▁ক্রমিক ▁সংখ্যা ▁চারটি ▁নিশ্চয়ই ▁৬ , ▁৭ , ▁৮ ▁ও ▁৯ । ▁এদের ▁যোগফল ▁৩০ । ▁গড় ▁৭ ▁দশমিক ▁৫ । ▁এ ▁সপ্তাহের ▁ধাঁধা ▁আপনি ▁বিস্কুট ▁কিনতে ▁গেলেন । ▁দোকান ি ▁বললেন ▁দাম ▁২০ % ▁বেড়ে ▁১২০ ▁টাকা ▁হয়েছে । ▁আপনি ▁বললেন ▁না , ▁না , ▁২০ % ▁কমাতে ▁হবে । ▁দোকান ি ▁১২০ ▁টাকার ▁ওপর ▁২০ % ▁কমিয়ে ▁দাম ▁নিলেন । ▁বলুন ▁তো ▁এতে ▁কার ▁লাভ ▁হলো ? ▁খুব ▁সহজ । ▁অনলাইনে ▁মন্তব্য ▁আকারে ▁অথবা ▁ qua y um <unk> g ma il . com ▁ই - মেইল ে ▁আপনাদের ▁উত্তর ▁পাঠিয়ে ▁দিন । ▁সঠিক ▁উত্তর ▁দেখুন ▁আগামী ▁রোববার ▁অনলাইনে । ▁গত ▁সপ্তাহের ▁ধাঁধা র ▁উত্তর ▁ধাঁধা টি ▁ছিল ▁এ ▁রকম : ▁একটি ▁সংখ্যার ▁সঙ্গে ▁৬ ▁যোগ ▁করলে ▁একটি ▁পূর্ণ ▁বর্গ ▁সংখ্যা ▁হয় । ▁আবার ▁৬ ▁বিয়োগ ▁করলে ▁সেই ▁পূর্ণ ▁বর্গ ▁সংখ্যার ▁বর্গমূল ▁পাওয়া ▁যায় । ▁বৈশিষ্ট্যপূর্ণ ▁সংখ্যাটি ▁কত ? ▁উত্তর : ▁বৈশিষ্ট্যপূর্ণ ▁সংখ্যাটি ▁১০ । ▁( ১০ ▁+ ▁৬ ) ▁= ▁১৬ , ▁যা ▁একটি ▁পূর্ণ ▁বর্গ ▁সংখ্যা । ▁আবার ▁( ১০ ▁- ▁৬ ) ▁= ▁৪ , ▁যা ▁১৬ ▁এর ▁বর্গমূল । ▁কীভাবে ▁উত্তর ▁বের ▁করলাম ▁প্রথমে ▁আমরা ▁৪ , ▁৯ , ▁১৬ , ▁২৫ ▁প্রভৃতি ▁বর্গ ▁সংখ্যা ▁নিয়ে ▁পর্যবেক্ষণ ▁করি । ▁এদের ▁মধ্যে ▁১৬ ▁আমাদের ▁শর্ত ▁পূরণ ▁করে । ▁কারণ ▁এই ▁বর্গ সংখ্যা টি ▁থেকে ▁৬ ▁বিয়োগ ▁করলে ▁১০ ▁এবং ▁আবার ▁৬ ▁বিয়োগ ▁করলে ▁৪ ▁হয় , ▁যা ▁১৬ - এর ▁বর্গমূল । ▁তার ▁মানে ▁বৈশিষ্ট্যপূর্ণ ▁সংখ্যাটি ▁১০ । ▁এর ▁থেকে ▁৬ ▁বেশি ▁ও ▁৬ ▁কম ▁সংখ্যা গুলো ▁যথাক্রমে ▁১৬ ▁ও ▁৪ । ▁এখানে ▁১৬ ▁একটি ▁পূর্ণ ▁বর্গ ▁সংখ্যা , ▁এবং ▁৪ ▁হলো ▁১৬ - এর ▁বর্গমূল । ▁আমরা ▁তো ▁এই ▁শর্ত টিই ▁পূরণ ▁করতে ▁চা চ্ছি । ▁এখানে ▁লক্ষণীয় ▁যে ▁এ ▁ধরনের ▁আরও ▁কয়েকটি ▁বৈশিষ্ট্যপূর্ণ ▁সংখ্যা ▁রয়েছে । ▁যেমন ▁৩ ▁এমন ▁একটি ▁বৈশিষ্ট্যপূর্ণ ▁সংখ্যা ▁যার ▁সঙ্গে ▁১ ▁যোগ ▁ও ▁বিয়োগ ▁করলে ▁যথাক্রমে ▁৪ ▁ও ▁২ ▁পাওয়া ▁যায় । ▁এখানে ▁৪ ▁একটি ▁পূর্ণ ▁বর্গ ▁সংখ্যা ▁এবং ▁এর ▁বর্গমূল ▁২ ▁। ▁এ ▁রকম ▁আরেকটি ▁বৈশিষ্ট্যপূর্ণ ▁সংখ্যা ▁হলো ▁১৫ । ▁এর ▁সঙ্গে ▁১০ ▁যোগ ▁ও ▁বিয়োগ ▁করলে ▁যথাক্রমে ▁২৫ ▁ও ▁৫ ▁পাব । ▁এখানে ▁২৫ ▁একটি ▁পূর্ণ ▁বর্গ ▁সংখ্যা ▁এবং ▁এর ▁বর্গমূল ▁৫ । ▁আব্দুল ▁কাইয়ুম , ▁সম্পাদক , ▁মাসিক ▁ম্যাগাজিন ▁বিজ্ঞান চিন্তা,▁x x bo s ▁জনপ্রিয় ▁খুদে ▁ভিডিও ▁শেয়ারিং ▁অ্যাপ ▁টি কট কে র ▁ওপর ▁জারি ▁করা ▁সাময়িক ▁নিষেধাজ্ঞা ▁উঠিয়ে ▁নিয়েছেন ▁ভারতের ▁তামিলনাড়ু ▁প্রদেশের ▁উচ্চ ▁আদালত । ▁এর ▁আগে ▁অ্যাপ টির ▁মাধ্যমে ▁পর্নো ▁ভিডিও ▁ছড়িয়ে ▁পড়ছে ▁দাবি ▁করে ▁মাদ্রাজ ▁আদালত ▁সরকারকে ▁এটির ▁ওপর ▁নিষেধাজ্ঞা ▁জারি র ▁নির্দেশ ▁দেন । ▁তবে ▁অ্যাপ টির ▁নিষেধাজ্ঞা ▁কিছু ▁নির্দিষ্ট ▁শর্ত ের ▁অধীনে ▁উঠিয়ে ▁নেওয়া ▁হয়েছে । ভারতীয় ▁গণমাধ্যম ▁এনডিটিভি র ▁খবর ে ▁বলা ▁হয়েছে , ▁এপ্রিলের ▁তিন ▁তারিখে ▁মাদ্রাজ ▁হাইকোর্ট ▁একটি ▁জনস্বার্থ ের ▁মামলা ▁আমলে ▁নিয়ে ▁অ্যাপ টির ▁ওপর ▁নিষেধাজ্ঞা ▁জারি ▁করেছিল । ▁পরে ▁ওই ▁আদেশ ের ▁বিপরীতে ▁আইনজীবী ▁মু থু কুমার ▁একটি ▁মামলা ▁দায়ের ▁করেন । ▁ওই ▁মামলার ▁শুনানি র ▁পরে ▁পর্নো ▁ভিডিও ▁না ▁ছড়ানোর ▁শর্তে ▁অ্যাপ টির ▁ওপর ▁থেকে ▁নিষেধাজ্ঞা ▁উঠিয়ে ▁নেওয়া ▁হয় । বিভিন্ন ▁গান , ▁বিখ্যাত ▁সিনেমার ▁সংলাপ সহ ▁নানা ▁রকম ▁মজাদার ▁অডিও র ▁সঙ্গে ▁ঠোঁট ▁মিলিয়ে ▁ছোট ▁ভিডিও ▁তৈরি ▁করে ▁আপলোড ▁করা ▁যায় ▁টি কট ক ▁অ্যাপ ে । ▁চীনা ▁প্রতিষ্ঠানের ▁তৈরি ▁অ্যাপ টি ▁ভারতে ▁ব্যাপক ▁জনপ্রিয় ▁হয়ে ▁উঠেছে । ▁তবে ▁এর ▁কনটেন্ট ের ▁যথার্থতা ▁নিয়ে ▁রাজনীতিবিদ েরা ▁সমালোচনা ▁শুরু ▁করেছেন । ▁অ্যাপ ▁বিশ্লেষক ▁প্রতিষ্ঠান ▁সেন্সর ▁টাওয়ারের ▁তথ্য ▁অনুযায়ী , ▁গত ▁ফেব্রুয়ারি ▁মাস ▁পর্যন্ত ▁ভারতে ▁২৪ ▁কোটি বার ▁ডাউনলোড ▁হয়েছে ▁অ্যাপ টি । ▁এ ▁বছরের ▁জানুয়ারিতে ▁তিন ▁কোটি ▁ব্যবহারকারী ▁এটি ▁ইনস্টল ▁করেছে , ▁যা ▁গত ▁বছরের ▁জানুয়ারি ▁মাসের ▁চেয়ে ▁১২ ▁শতাংশ ▁বেশি । ▁মাদ্রাজ ▁আদালতে ▁বুধবার ▁রাষ্ট্র পক্ষের ▁আইনজীবী ▁অরবিন্দ ▁দাতা র ▁বলেন , ▁কোনো ▁বিশেষ ▁অ্যাপ ▁বন্ধ ▁করে ▁দেওয়া টা ▁সমস্যার ▁চূড়ান্ত ▁সমাধান ▁নয় । ▁এ ▁ছাড়া ▁বৈধ ▁ব্যবহারকারীদের ▁অধিকার ▁সংরক্ষণ ▁করতে ▁হবে ▁বলে ▁জানান ▁তিনি । ▁নিষেধাজ্ঞা ▁জারি ▁করার ▁পরে ▁দাতা র কে ▁অ্যাপ টির ▁প্রভাব ▁জানার ▁জন্য ▁দায়িত্ব ▁দিয়েছিলেন ▁আদালত । ▁এর ▁আগে , ▁৩ ▁এপ্রিল ▁মাদ্রাজ ▁হাইকোর্ট ের ▁পক্ষ ▁থেকে ▁সরকারকে ▁টি কট ক ▁অ্যাপ ▁বন্ধের ▁ব্যবস্থা ▁নিতে ▁নির্দেশ ▁দেওয়া ▁হয় । ▁সে ▁সময় ▁বলা ▁হয় , ▁এটি ▁পর্নোগ্রাফি তে ▁উৎসাহ ▁দিচ্ছে ▁এবং ▁শিশুদের ▁ঝুঁকিতে ▁ফেলছে । ▁এরপর ▁জনস্বার্থ ের ▁একটি ▁মামলা ▁আমলে ▁নিয়ে ▁রুল ▁দিয়েছিলেন ▁আদালত ।,▁x x bo s ▁জীবনে ▁চলতে - ফির তে ▁যেসব ▁আইনি ▁জটিলতা য় পড় তে ▁হয় , ▁পাঠকের ▁উকিল ▁বিভাগে ▁তারই ▁সমাধান ▁পাওয়া ▁যাবে । ▁এ ▁বিভাগে ▁আইনি ▁সমস্যার ▁সমাধান ▁দেবেন ▁বাংলাদেশ ▁সুপ্রিম ▁কোর্টের ▁আইনজীবী ▁নাহিদ ▁মাহতাব । ▁স্পষ্ট ▁করে ▁নিজের ▁সমস্যা ▁লিখে ▁পাঠান । ▁প্রয়োজনীয় ▁কাগজের ▁অনুলিপি ▁দিন । খা মের ▁ওপর ▁লিখ ুন : ▁পাঠকের ▁উকিল , ▁নকশা , ▁দৈনিক ▁প্রথম ▁আলো , ▁সি এ ▁ভবন , ▁১০০ ▁কাজী ▁নজরুল ▁ইসলাম ▁এভিনিউ , ▁কার ওয়ান ▁বাজার , ▁ঢাকা । ▁এ ▁ছাড়া ▁n ak sha <unk> pro th om - al o . info ▁এই ▁ঠিকানায় ই - মেইল ▁করে ও ▁সমস্যার ▁কথা ▁জানাতে ▁পারেন । ▁* ▁আমি ▁অন্য ▁ধর্মের ▁একজন ▁মেয়েকে ▁ভালোবাসি । ▁আমরা ▁দুজন ই ▁প্রাপ্তবয়স্ক । ▁মেয়েটি ▁আমাকে ▁খুব ▁ভালোবাসে ▁এবং ▁স্বেচ্ছায় ▁ধর্মান্তরিত ▁হয়ে ▁আমাকে ▁বিয়ে ▁করতে ▁চায় । ▁কিন্তু ▁প্রায়ই ▁দেখা ▁যায় , ▁এ ▁রকম ▁বিয়ের ▁ক্ষেত্রে ▁ঘটনা ▁জানাজা নি ▁হওয়ার ▁পর ▁মেয়ের ▁পরিবার ▁থেকে ▁ছেলের ▁পরিবারকে ▁বিভিন্নভাবে ▁হয়রানি ▁করা ▁হয়ে ▁থাকে । ▁কিন্তু ▁আমি ▁কখনোই ▁চাই ▁না , ▁আমার ▁কারণে ▁আমার ▁পরিবার ▁সমস্যায় ▁পড় ুক । ▁আবার ▁অনেক ▁সময় ▁নব দম্পতি কে ▁পালিয়ে ▁বাঁচতে ▁হয় , ▁যা ▁আমার ▁পক্ষে ▁সম্ভব ▁নয় । ▁এখন ▁প্রশ্ন ▁হলো , ▁কোন ▁পদ্ধতিতে ▁বিয়ে ▁করলে ▁আমি , ▁আমরা ▁এবং ▁আমার ▁পরিবার ▁আইনগতভাবে ▁বা ▁কোনোভাবে ▁মেয়ের ▁পরিবার ▁দ্বারা ▁কোনো ▁প্রকার ▁হয়রানি র ▁শিকার ▁হব ▁না । ▁নাম ▁ও ▁ঠিকানা ▁প্রকাশে ▁অনিচ্ছুক <unk> ▁আপনারা ▁যদি ▁দুজনেই ▁প্রাপ্তবয়স্ক ▁হন , ▁সে ▁ক্ষেত্রে ▁ধর্মান্তরিত ▁হয়ে ▁বিয়েতে ▁কোনো ▁বাধা ▁নেই । ▁অপ্রাপ্তবয়স্ক ▁মেয়েকে ▁বিয়ের ▁ক্ষেত্রে ▁সাধারণ ▁আপনার ▁উল্লিখিত ▁সমস্যাগুলো ▁হতে ▁পারে । ▁প্রাপ্তবয়স্ক ▁ছেলেমেয়ে ▁দুজনের ▁সম্মতিতে ▁বিয়ের ▁ক্ষেত্রে ▁আইনগত ▁কোনো ▁বাধা ▁নেই । ▁মেয়েটি ▁স্বেচ্ছায় ▁ধর্মান্তরিত ▁হয়ে ▁আইন ▁অনুযায়ী ▁আপনাকে ▁বিয়ে ▁করতে ▁পারেন । ▁* ▁বিয়ের ▁এক ▁বছর ▁আগেই ▁আমার ▁স্বামী ▁কোনো ▁কারণে ▁তাঁর ▁পরিবার ▁ছাড়তে ▁বাধ্য ▁হন । ▁আমার ▁সম্মতি ▁ছাড়াই ▁অভিভাবকের া ▁তাঁর ▁সঙ্গে ▁আমার ▁বিয়ে ▁দেন । ▁কিন্তু ▁বিয়ের ▁ছয় ▁বছর ▁হলো ▁আমি ▁শ্বশুরবাড়ি ▁যেতে ▁পারিনি । ▁শহর ▁থেকে ▁দূরে ▁আমরা ▁ভাড়া ▁বাড়িতে ▁থাকি । ▁আমার ▁স্বামী ▁তিন ▁ভাইয়ের ▁মধ্যে ▁ছোট । ▁তাঁর ▁একটি ▁বোন ▁ছিল । ▁আমার ▁শাশুড়ি ▁তিন ▁বছর ▁আগে ▁মারা ▁গেলে ▁শ্বশুর ▁দ্বিতীয় ▁বিয়ে ▁করেন ▁এবং ▁সেই ▁পক্ষের ▁একটি ▁মেয়ে ▁হয় । ▁শাশুড়ি র ▁মৃত্যুর ▁পর ▁বাড়ির ▁দোতলা র ▁অর্ধেক টা ▁আমাদের ▁দেবেন ▁বললেও ▁বিভিন্ন ▁ টাল বাহা নায় ▁কাটিয়ে ▁দিচ্ছেন ▁এত ▁দিন । ▁এখন ▁পর্যন্ত ▁দোতলা টা ▁দখল ▁করে ▁আছে ▁স্বামীর ▁অন্য ▁দুই ▁ভাইবোন । ▁শ্বশুর ের ▁তাতে ▁কোনো ▁মাথাব্যথা ও ▁নেই । ▁আমার ▁স্বামী ▁সাহস ▁করে ▁কিছু ▁বলতে ও ▁পারেন ▁না । ▁আমার ▁তিন ▁বছরের ▁একটি ▁মেয়ে ▁আছে । ▁এখন ▁মেয়ের ▁ভবিষ্যতের ▁কথা ▁চিন্তা ▁করে ▁শ্বশুরবাড়ি তে ▁উঠতে ▁চাই । ▁কী ▁করতে ▁পারি ? জেস মিন ▁আরা রাজশাহী । <unk> ▁আপনার ▁শ্বশুর ▁জীবিত ▁অবস্থায় ▁তাঁর ▁সম্পত্তি ▁থেকে ▁খুশি ▁হয়ে ▁আপনাদের ▁দিয়ে ▁যেতে ▁পারেন । ▁তিনি ▁জীবিত ▁থাকা ▁অবস্থায় ▁তাঁর ▁সম্পত্তি তে ▁আপনাদের ▁কোনো ▁অধিকার ▁নেই । ▁তাঁর ▁মৃত্যুর ▁পর ▁তাঁর ▁সন্তানেরা ▁ও ▁দ্বিতীয় ▁স্ত্রী ▁সম্পত্তির ▁উত্তরাধিকারী ▁হবেন । ▁সুতরাং ▁জীবিত ▁অবস্থায় ▁যদি ▁তিনি ▁আপনাদের ▁কিছু ▁সম্পত্তি ▁রেজিস্ট্রি ▁করে ▁হস্তান্তর ▁করেন , ▁তবে ▁তার ▁মালিক ▁হবেন ▁আপনারা । ▁আর ▁আপনারা ▁হবেন ▁বাকি ▁সম্পত্তির ▁উত্তরাধিকারী , ▁যা ▁কার্যকর ▁হবে ▁তাঁর ▁মৃত্যুর ▁পর । ▁তবে ▁শ্বশুর ের ▁সম্মতিতে ▁এখন ▁আপনাদের ▁তাঁর ▁বাড়িতে ▁উঠতে ▁কোনো ▁বাধা ▁নেই । ▁* ▁আমার ▁দাদা - দ াদির ▁পাঁচ ▁ছেলে ▁ও ▁দুই ▁মেয়ে । ▁১৯৭৭ ▁সালে ▁আমার ▁বয়স ▁যখন ▁দুই ▁বছর , ▁তখন ▁আমার ▁বাবা ▁মারা ▁যান । ▁আমি ▁আমার ▁বাবার ▁একমাত্র ▁মেয়ে । ▁আমার ▁দাদা - দা দি ▁তখন ▁জীবিত ▁ছিলেন । ▁তারপর ▁আমার ▁দাদা ▁১৯৮২ ▁ও ▁দাদি ▁২০১০ ▁সালে ▁মারা ▁যান । ▁আমার ▁বাবার ▁নামে ▁কোনো ▁সম্পত্তি ▁ছিল ▁না , ▁সবই ▁দাদা ▁ও ▁দাদি র । এখন ▁প্রশ্ন ▁হলো , ▁দাদা ▁ও ▁দাদি র ▁রেখে ▁যাওয়া ▁সম্পত্তির ▁কতটুকু ▁অংশ ▁আমি ▁পাব ? ▁আমার ▁মাও ▁কি ▁সম্পত্তি ▁পাবেন ? কা নিজ ▁ফারহান া ময়মনসিংহ । <unk> ▁প্রতিনিধিত্ব ▁আইনের ▁বলে ▁আপনার ▁দাদা - দ াদির ▁সম্পত্তি তে ▁আপনার ▁বাবার ▁প্রাপ্য ▁অংশের ▁হক দার ▁আপনি ▁এবং ▁আপনার ▁মা । ▁এ ▁ক্ষেত্রে ▁আপনার ▁মা ▁আপনার ▁বাবার ▁প্রাপ্য ▁অংশে ▁আট ▁ভাগের ▁এক ▁ভাগ ▁পাবেন । ▁রে সিড ুয়ারি ▁হিসাবে ▁বাকি ▁সম্পত্তির ▁অর্ধেক ▁আপনার ▁প্রাপ্য । ▁* ▁আমার ▁বাবা ▁অবসরপ্রাপ্ত ▁সরকারি ▁কর্মকর্তা । ▁দুই ▁বছর ▁আগে ▁আমার ▁মা ▁মারা ▁যান । ▁বাবা ▁আবার ▁বিয়ে ▁করেন , ▁আমরা ▁ছয় ▁বোন , ▁দুই ▁ভাই । ▁সবার ▁বিয়ে ▁হয়ে ▁গেছে । ▁প্রায় ▁চার ▁বছর ▁আগে ▁আমার ▁বাবা ▁বাড়ি সহ ▁৫০ ▁গন্ড া ▁জমি ▁দুই ▁ভাইকে ▁গোপনে ▁সাফ ক বলা ▁করে ▁দেন । ▁পরে ▁ওই ▁ব্যাপারে ▁সবাই ▁জানলে ▁মা ▁আমাদের ▁ছয় ▁বোনকে ▁কিছু ▁সম্পত্তি ▁দিয়েছিলেন । ▁বাবার ▁আরও ▁সম্পত্তি ▁আছে । ▁আমাদের ▁যে ▁জায়গা ▁দেন , ▁তার ▁কোনো ▁রাস্তা ▁নেই , ▁অনেকটাই ▁ভেতরে ▁অবস্থিত । ▁আমরা ▁তিন ▁বোন ▁সরকারি ▁চাকরি ▁করি । ▁দুই ▁ভাই ▁পরিবার ▁নিয়ে ▁বাইরে ▁থাকেন । ▁কিছু ▁সম্পত্তি ▁আছে , ▁যা ▁এখনো ▁কারও ▁নামে ▁হয়নি । ▁দুই ▁বোনের ▁অর্থনৈতিক ▁অবস্থা ▁ভালো ▁নয় । ▁বাবা ▁জীবিত । ▁আমি ▁বাবার ▁বাড়িতে ই ▁থাকত াম । ▁সৎ মা ▁আলমারি র ▁তালা ▁ভেঙে ▁আমার ▁পাঁচ ▁ভর ি ▁স্বর্ণ ▁চুরি ▁করে ▁নেন । ▁তখন ▁যা ▁ক্ষতি ▁হয়েছে ▁আমার ▁হয়েছে । ▁এখন ▁আমার ▁প্রশ্ন ▁হচ্ছে , ▁আইনের ▁আশ্রয় ▁নিলে ▁আমরা ▁আরও ▁কিছু ▁সম্পত্তি ▁পাব ▁কি ▁না , ▁জানালে ▁উপকৃত ▁হব । জান্নাত কুমিল্লা । <unk> ▁বাবার ▁জীবদ্দশায় ▁তাঁর ▁সম্পত্তির ▁অংশ ▁পেতে ▁আইনের ▁আশ্রয় ▁নেওয়া ▁সম্ভব ▁নয় । ▁তাঁর ▁মৃত্যুর ▁পর ▁মুসলিম ▁আইন ▁অনুযায়ী ▁আপনারা ▁ওই ▁সম্পত্তির ▁অংশীদার ▁হবেন । ▁জীবিত ▁অবস্থায় ▁আপনাদের ▁যে ▁সম্পত্তি ▁তিনি ▁লিখে ▁দিয়েছেন , ▁তা ▁শুধু ▁আপনাদের । ▁অন্য ▁সম্পত্তি তে ▁আপনারা ▁উত্তরাধিকারী ▁হবেন । ▁* ▁আমি ▁যখন ▁স্কুলে ▁পড়ি , ▁তখন ▁আমার ▁পাশের ▁বাড়ির ▁একটি ▁ছেলের ▁সঙ্গে ▁সম্পর্কে ▁জড়িয়ে ▁পড়ি । ▁ছেলে টির ▁সঙ্গে ▁আমার ▁শারীরিক ▁সম্পর্ক ▁হয় । ▁কিন্তু ▁কিছুদিন ▁পর ▁ছেলে টি ▁আমার ▁সঙ্গে ▁আর ▁যোগাযোগ ▁রাখেন ি । ▁ছেলে টির ▁সঙ্গে ▁যোগাযোগের ▁চেষ্টা ▁করলে ▁সে ▁আমাকে ▁এড়িয়ে ▁চলে । ▁ছেলে টির ▁ব্যবহারে ▁আমি ▁অনেক ▁কষ্ট ▁পাই । ▁আমি ▁ছেলে টিকে ▁ভুলে ▁গিয়েছিল াম ; ▁কিন্তু ▁সমস্যা ▁হলো ▁আমাদের ▁সম্পর্কের ▁কিছু ▁প্রমাণ ▁তার ▁কাছে ▁আছে । ▁সে ▁আমাকে ▁পরবর্তী ▁সময়ে ▁কোনো ▁সমস্যা ▁করবে ▁কি ▁না , ▁তা ▁নিয়ে ▁আমি ▁দুশ্চিন্তা য় ▁আছি । এসএসসি ▁পরীক্ষার ▁কিছুদিন ▁আগে ▁আমার ▁দূর ▁সম্পর্কের ▁এক ▁আত্মীয় ের ▁ছেলের ▁সঙ্গে ▁আমি ▁আবার ▁সম্পর্কে ▁জড়িয়ে ▁পড়ি । ▁আমি ▁ছেলে টিকে ▁অনেক ▁ভালোবাসি । ▁সেও ▁আমাকে ▁ভালোবাসে । ▁আমাদের ▁মধ্যে ▁অনেকবার ▁শারীরিক ▁সম্পর্ক ▁হয় । ▁আমি ▁ছেলে টিকে ▁বিয়ে ▁করব ▁বলে ▁স্থির ▁করেছিলাম । ▁কিন্তু ▁যখন ▁জানতে ▁পার লাম ▁সে ▁অন্য ▁আরেকটি ▁মেয়ের ▁সঙ্গেও ▁শারীরিক ▁সম্পর্ক ▁করেছে , ▁তখন ▁আমি ▁তাকে ▁আর ▁গ্রহণ ▁করতে ▁পারছি ▁না । ▁আমি ▁এখন ▁মানসিক ▁অশান্তি তে ▁আছি । ▁আমার ▁ভয় ▁হয় , ▁আমি ▁যে ▁ছেলে টির ▁সঙ্গে ▁সম্পর্ক ▁করেছি , ▁সে ▁যদি ▁আমার ▁কোনো ▁ক্ষতি ▁করে । ▁এখন ▁আমি ▁কী ▁করব ? মনি ঠিক ানা ▁প্রকাশে ▁অনিচ্ছুক । <unk> ▁ছেলে টির ▁কাছে ▁আপনার ▁সঙ্গে ▁তার ▁সম্পর্কের ▁কী ▁ধরনের ▁প্রমাণ ▁আছে , ▁তা ▁জানা ▁প্রয়োজন । ▁পরবর্তী ▁সম্পর্কে ▁ছেলে টি ▁কী ▁ধরনের ▁ক্ষতি ▁করতে ▁পারে , ▁তা ▁আগাম ▁আন্দাজ ▁করা ▁সম্ভব ▁নয় । ▁তবে ▁বিভিন্ন ▁ছেলের ▁সঙ্গে ▁সম্পর্কে ▁জড়ানো র ▁ব্যাপারে ▁আপনার ▁সাবধান ▁হওয়া ▁প্রয়োজন ।\n",
       "y: LMLabelList\n",
       ",,,,\n",
       "Path: /content/data;\n",
       "\n",
       "Test: None, model=SequentialRNN(\n",
       "  (0): AWD_LSTM(\n",
       "    (encoder): Embedding(50000, 400, padding_idx=1)\n",
       "    (encoder_dp): EmbeddingDropout(\n",
       "      (emb): Embedding(50000, 400, padding_idx=1)\n",
       "    )\n",
       "    (rnns): ModuleList(\n",
       "      (0): WeightDropout(\n",
       "        (module): LSTM(400, 1152, batch_first=True)\n",
       "      )\n",
       "      (1): WeightDropout(\n",
       "        (module): LSTM(1152, 1152, batch_first=True)\n",
       "      )\n",
       "      (2): WeightDropout(\n",
       "        (module): LSTM(1152, 400, batch_first=True)\n",
       "      )\n",
       "    )\n",
       "    (input_dp): RNNDropout()\n",
       "    (hidden_dps): ModuleList(\n",
       "      (0): RNNDropout()\n",
       "      (1): RNNDropout()\n",
       "      (2): RNNDropout()\n",
       "    )\n",
       "  )\n",
       "  (1): LinearDecoder(\n",
       "    (decoder): Linear(in_features=400, out_features=50000, bias=True)\n",
       "    (output_dp): RNNDropout()\n",
       "  )\n",
       "), opt_func=functools.partial(<class 'torch.optim.adam.Adam'>, betas=(0.9, 0.99)), loss_func=FlattenedLoss of CrossEntropyLoss(), metrics=[<function accuracy at 0x7fc296ad2378>], true_wd=True, bn_wd=True, wd=0.01, train_bn=True, path=PosixPath('/content/data'), model_dir='models', callback_fns=[functools.partial(<class 'fastai.basic_train.Recorder'>, add_time=True, silent=False)], callbacks=[...], layer_groups=[Sequential(\n",
       "  (0): WeightDropout(\n",
       "    (module): LSTM(400, 1152, batch_first=True)\n",
       "  )\n",
       "  (1): RNNDropout()\n",
       "), Sequential(\n",
       "  (0): WeightDropout(\n",
       "    (module): LSTM(1152, 1152, batch_first=True)\n",
       "  )\n",
       "  (1): RNNDropout()\n",
       "), Sequential(\n",
       "  (0): WeightDropout(\n",
       "    (module): LSTM(1152, 400, batch_first=True)\n",
       "  )\n",
       "  (1): RNNDropout()\n",
       "), Sequential(\n",
       "  (0): Embedding(50000, 400, padding_idx=1)\n",
       "  (1): EmbeddingDropout(\n",
       "    (emb): Embedding(50000, 400, padding_idx=1)\n",
       "  )\n",
       "  (2): LinearDecoder(\n",
       "    (decoder): Linear(in_features=400, out_features=50000, bias=True)\n",
       "    (output_dp): RNNDropout()\n",
       "  )\n",
       ")], add_time=True, silent=False)\n",
       "alpha: 2.0\n",
       "beta: 1.0], layer_groups=[Sequential(\n",
       "  (0): WeightDropout(\n",
       "    (module): LSTM(400, 1152, batch_first=True)\n",
       "  )\n",
       "  (1): RNNDropout()\n",
       "), Sequential(\n",
       "  (0): WeightDropout(\n",
       "    (module): LSTM(1152, 1152, batch_first=True)\n",
       "  )\n",
       "  (1): RNNDropout()\n",
       "), Sequential(\n",
       "  (0): WeightDropout(\n",
       "    (module): LSTM(1152, 400, batch_first=True)\n",
       "  )\n",
       "  (1): RNNDropout()\n",
       "), Sequential(\n",
       "  (0): Embedding(50000, 400, padding_idx=1)\n",
       "  (1): EmbeddingDropout(\n",
       "    (emb): Embedding(50000, 400, padding_idx=1)\n",
       "  )\n",
       "  (2): LinearDecoder(\n",
       "    (decoder): Linear(in_features=400, out_features=50000, bias=True)\n",
       "    (output_dp): RNNDropout()\n",
       "  )\n",
       ")], add_time=True, silent=False)"
      ]
     },
     "execution_count": 45,
     "metadata": {
      "tags": []
     },
     "output_type": "execute_result"
    }
   ],
   "source": [
    "learn.load('second_bn_lm', with_opt=True)"
   ]
  },
  {
   "cell_type": "code",
   "execution_count": 1,
   "metadata": {
    "colab": {
     "base_uri": "https://localhost:8080/",
     "height": 555
    },
    "colab_type": "code",
    "id": "uQOJCoPw95YP",
    "outputId": "87d6903c-6031-46e7-82e2-f79e8ff00e29"
   },
   "outputs": [],
   "source": [
    "# learn.fit_one_cycle(10, 1e-3, moms=(0.8,0.7))"
   ]
  },
  {
   "cell_type": "code",
   "execution_count": 0,
   "metadata": {
    "colab": {},
    "colab_type": "code",
    "id": "A87O-2RhT5vm"
   },
   "outputs": [],
   "source": [
    "# learn.save('third_bn_lm', with_opt=True)"
   ]
  },
  {
   "cell_type": "code",
   "execution_count": 0,
   "metadata": {
    "colab": {},
    "colab_type": "code",
    "id": "FlNrGOUNT-mU"
   },
   "outputs": [],
   "source": [
    "# learn.load('third_bn_lm', with_opt=True)"
   ]
  },
  {
   "cell_type": "code",
   "execution_count": 0,
   "metadata": {
    "colab": {},
    "colab_type": "code",
    "id": "-lxymaHB39Or"
   },
   "outputs": [],
   "source": [
    "TEXT = \"আমি ভাত\"\n",
    "N_WORDS = 40\n",
    "N_SENTENCES = 2"
   ]
  },
  {
   "cell_type": "code",
   "execution_count": 49,
   "metadata": {
    "colab": {
     "base_uri": "https://localhost:8080/",
     "height": 73
    },
    "colab_type": "code",
    "id": "vJpHUCvU3-OT",
    "outputId": "b7d4e068-2b0e-49e5-ba9d-40665adb56cd"
   },
   "outputs": [
    {
     "name": "stdout",
     "output_type": "stream",
     "text": [
      "আমি ভাত ▁খেতে ▁যেতে ▁না ▁থেকে ▁বাবাকে ▁চাল ▁খাওয়া ই । ▁মা ▁ও ▁সন্তানের ▁জন্য ▁এই ▁জন্য ▁বড় ▁হলো ▁মায়ের ▁কাছ ▁থেকেই । ▁বাবা ▁ছিলেন ▁স্নেহ প্রিয় । ▁আর ▁জীবনের ▁সবচেয়ে ▁বড় ▁মূল্য মাথা । ▁মায়ের ▁সংখ্যা ▁অনেক ▁বেশি । ▁তাই ▁মাকে\n",
      "আমি ভাত ▁খেতে ▁চেয়ে ছি , ▁আবার ▁ভাত ▁খেয়ে ▁এ ▁নিয়ে ছি । ▁বড় ▁হলে ▁ভাত ও ▁তত ই ▁খাই । ▁কিন্তু ▁কিছুদিন ▁পর ▁খেতে ▁হবে ▁আরও ▁অনেক ▁কিছু । ▁আর ▁মহাসড়কের ▁পাশে ▁বা গ্ ▁বিত ণ্ডা ▁হলে ▁স্মৃতি কাতর তা ▁খুঁজে\n"
     ]
    }
   ],
   "source": [
    "print(\"\\n\".join(learn.predict(TEXT, N_WORDS, temperature=0.9) for _ in range(N_SENTENCES)))"
   ]
  },
  {
   "cell_type": "code",
   "execution_count": 50,
   "metadata": {
    "colab": {
     "base_uri": "https://localhost:8080/",
     "height": 35
    },
    "colab_type": "code",
    "id": "7WbofoUm4DzZ",
    "outputId": "c23241f5-bd85-4cf4-8bcf-2c0b365b082c"
   },
   "outputs": [
    {
     "data": {
      "text/plain": [
       "24.046753552064498"
      ]
     },
     "execution_count": 50,
     "metadata": {
      "tags": []
     },
     "output_type": "execute_result"
    }
   ],
   "source": [
    "np.exp(3.18)"
   ]
  },
  {
   "cell_type": "code",
   "execution_count": 0,
   "metadata": {
    "colab": {},
    "colab_type": "code",
    "id": "N04VZw714j2k"
   },
   "outputs": [],
   "source": [
    "defaults.device = torch.device('cpu')\n",
    "learn.model.eval()\n",
    "learn.export()"
   ]
  },
  {
   "cell_type": "code",
   "execution_count": 0,
   "metadata": {
    "colab": {},
    "colab_type": "code",
    "id": "fzQmmlqh4mcQ"
   },
   "outputs": [],
   "source": [
    "\n",
    "defaults.device = torch.device('cpu')"
   ]
  },
  {
   "cell_type": "code",
   "execution_count": 53,
   "metadata": {
    "colab": {
     "base_uri": "https://localhost:8080/",
     "height": 17
    },
    "colab_type": "code",
    "id": "OFG-JSr64p5Q",
    "outputId": "0eea286a-3f40-4407-eed0-ce37d540f81f"
   },
   "outputs": [
    {
     "data": {
      "text/html": [],
      "text/plain": [
       "<IPython.core.display.HTML object>"
      ]
     },
     "metadata": {
      "tags": []
     },
     "output_type": "display_data"
    },
    {
     "data": {
      "text/html": [],
      "text/plain": [
       "<IPython.core.display.HTML object>"
      ]
     },
     "metadata": {
      "tags": []
     },
     "output_type": "display_data"
    }
   ],
   "source": [
    "learn = load_learner('data')"
   ]
  },
  {
   "cell_type": "code",
   "execution_count": 0,
   "metadata": {
    "colab": {},
    "colab_type": "code",
    "id": "YDvVPCvg4uCZ"
   },
   "outputs": [],
   "source": [
    "encoder = get_model(learn.model)[0]"
   ]
  },
  {
   "cell_type": "code",
   "execution_count": 55,
   "metadata": {
    "colab": {
     "base_uri": "https://localhost:8080/",
     "height": 35
    },
    "colab_type": "code",
    "id": "aaZxGPYq4wWx",
    "outputId": "6b79f263-8edf-4aa7-a266-edec2b8d8f52"
   },
   "outputs": [
    {
     "data": {
      "text/plain": [
       "torch.Size([50000, 400])"
      ]
     },
     "execution_count": 55,
     "metadata": {
      "tags": []
     },
     "output_type": "execute_result"
    }
   ],
   "source": [
    "encoder.state_dict()['encoder.weight'].shape"
   ]
  },
  {
   "cell_type": "code",
   "execution_count": 0,
   "metadata": {
    "colab": {},
    "colab_type": "code",
    "id": "PmLP9Cj24zp_"
   },
   "outputs": [],
   "source": [
    "embeddings = encoder.state_dict()['encoder.weight']"
   ]
  },
  {
   "cell_type": "code",
   "execution_count": 0,
   "metadata": {
    "colab": {},
    "colab_type": "code",
    "id": "NJHKxUN442WQ"
   },
   "outputs": [],
   "source": [
    "embeddings = np.array(embeddings)"
   ]
  },
  {
   "cell_type": "code",
   "execution_count": 58,
   "metadata": {
    "colab": {
     "base_uri": "https://localhost:8080/",
     "height": 35
    },
    "colab_type": "code",
    "id": "TiqsigpQ44h3",
    "outputId": "e20b8134-e9ef-48f0-e7d9-051f8ce7399d"
   },
   "outputs": [
    {
     "data": {
      "text/plain": [
       "(400,)"
      ]
     },
     "execution_count": 58,
     "metadata": {
      "tags": []
     },
     "output_type": "execute_result"
    }
   ],
   "source": [
    "embeddings[0].shape"
   ]
  },
  {
   "cell_type": "code",
   "execution_count": 0,
   "metadata": {
    "colab": {},
    "colab_type": "code",
    "id": "p6BtMO1D46zR"
   },
   "outputs": [],
   "source": [
    "df = pd.DataFrame(embeddings)"
   ]
  },
  {
   "cell_type": "code",
   "execution_count": 60,
   "metadata": {
    "colab": {
     "base_uri": "https://localhost:8080/",
     "height": 35
    },
    "colab_type": "code",
    "id": "PHQLFXRC4-fv",
    "outputId": "35187c25-3269-4bf7-8abc-b0c490cc639e"
   },
   "outputs": [
    {
     "data": {
      "text/plain": [
       "(50000, 400)"
      ]
     },
     "execution_count": 60,
     "metadata": {
      "tags": []
     },
     "output_type": "execute_result"
    }
   ],
   "source": [
    "df.shape"
   ]
  },
  {
   "cell_type": "code",
   "execution_count": 0,
   "metadata": {
    "colab": {},
    "colab_type": "code",
    "id": "nMUXoi6Y5AlG"
   },
   "outputs": [],
   "source": [
    "df.to_csv('embeddings.tsv', sep='\\t', index=False, header=False)"
   ]
  },
  {
   "cell_type": "code",
   "execution_count": 62,
   "metadata": {
    "colab": {
     "base_uri": "https://localhost:8080/",
     "height": 253
    },
    "colab_type": "code",
    "id": "ABDopL8X5DVv",
    "outputId": "abe7c255-a10e-410f-8661-e73a95941e36"
   },
   "outputs": [
    {
     "data": {
      "text/html": [
       "<div>\n",
       "<style scoped>\n",
       "    .dataframe tbody tr th:only-of-type {\n",
       "        vertical-align: middle;\n",
       "    }\n",
       "\n",
       "    .dataframe tbody tr th {\n",
       "        vertical-align: top;\n",
       "    }\n",
       "\n",
       "    .dataframe thead th {\n",
       "        text-align: right;\n",
       "    }\n",
       "</style>\n",
       "<table border=\"1\" class=\"dataframe\">\n",
       "  <thead>\n",
       "    <tr style=\"text-align: right;\">\n",
       "      <th></th>\n",
       "      <th>0</th>\n",
       "      <th>1</th>\n",
       "      <th>2</th>\n",
       "      <th>3</th>\n",
       "      <th>4</th>\n",
       "      <th>5</th>\n",
       "      <th>6</th>\n",
       "      <th>7</th>\n",
       "      <th>8</th>\n",
       "      <th>9</th>\n",
       "      <th>10</th>\n",
       "      <th>11</th>\n",
       "      <th>12</th>\n",
       "      <th>13</th>\n",
       "      <th>14</th>\n",
       "      <th>15</th>\n",
       "      <th>16</th>\n",
       "      <th>17</th>\n",
       "      <th>18</th>\n",
       "      <th>19</th>\n",
       "      <th>20</th>\n",
       "      <th>21</th>\n",
       "      <th>22</th>\n",
       "      <th>23</th>\n",
       "      <th>24</th>\n",
       "      <th>25</th>\n",
       "      <th>26</th>\n",
       "      <th>27</th>\n",
       "      <th>28</th>\n",
       "      <th>29</th>\n",
       "      <th>30</th>\n",
       "      <th>31</th>\n",
       "      <th>32</th>\n",
       "      <th>33</th>\n",
       "      <th>34</th>\n",
       "      <th>35</th>\n",
       "      <th>36</th>\n",
       "      <th>37</th>\n",
       "      <th>38</th>\n",
       "      <th>39</th>\n",
       "      <th>...</th>\n",
       "      <th>360</th>\n",
       "      <th>361</th>\n",
       "      <th>362</th>\n",
       "      <th>363</th>\n",
       "      <th>364</th>\n",
       "      <th>365</th>\n",
       "      <th>366</th>\n",
       "      <th>367</th>\n",
       "      <th>368</th>\n",
       "      <th>369</th>\n",
       "      <th>370</th>\n",
       "      <th>371</th>\n",
       "      <th>372</th>\n",
       "      <th>373</th>\n",
       "      <th>374</th>\n",
       "      <th>375</th>\n",
       "      <th>376</th>\n",
       "      <th>377</th>\n",
       "      <th>378</th>\n",
       "      <th>379</th>\n",
       "      <th>380</th>\n",
       "      <th>381</th>\n",
       "      <th>382</th>\n",
       "      <th>383</th>\n",
       "      <th>384</th>\n",
       "      <th>385</th>\n",
       "      <th>386</th>\n",
       "      <th>387</th>\n",
       "      <th>388</th>\n",
       "      <th>389</th>\n",
       "      <th>390</th>\n",
       "      <th>391</th>\n",
       "      <th>392</th>\n",
       "      <th>393</th>\n",
       "      <th>394</th>\n",
       "      <th>395</th>\n",
       "      <th>396</th>\n",
       "      <th>397</th>\n",
       "      <th>398</th>\n",
       "      <th>399</th>\n",
       "    </tr>\n",
       "  </thead>\n",
       "  <tbody>\n",
       "    <tr>\n",
       "      <th>0</th>\n",
       "      <td>1.519147</td>\n",
       "      <td>-0.338538</td>\n",
       "      <td>-0.322993</td>\n",
       "      <td>0.496238</td>\n",
       "      <td>0.098371</td>\n",
       "      <td>0.075079</td>\n",
       "      <td>0.024507</td>\n",
       "      <td>0.406928</td>\n",
       "      <td>0.387621</td>\n",
       "      <td>0.364256</td>\n",
       "      <td>0.255530</td>\n",
       "      <td>-0.311458</td>\n",
       "      <td>0.103552</td>\n",
       "      <td>0.289388</td>\n",
       "      <td>-0.123796</td>\n",
       "      <td>0.172206</td>\n",
       "      <td>0.269486</td>\n",
       "      <td>-0.568885</td>\n",
       "      <td>-0.002781</td>\n",
       "      <td>0.072160</td>\n",
       "      <td>-0.512767</td>\n",
       "      <td>0.718229</td>\n",
       "      <td>-1.051017</td>\n",
       "      <td>-0.109541</td>\n",
       "      <td>0.420937</td>\n",
       "      <td>0.688201</td>\n",
       "      <td>-0.597122</td>\n",
       "      <td>0.030777</td>\n",
       "      <td>1.302488</td>\n",
       "      <td>-0.291035</td>\n",
       "      <td>-0.257079</td>\n",
       "      <td>0.102987</td>\n",
       "      <td>-0.246445</td>\n",
       "      <td>0.062267</td>\n",
       "      <td>0.354884</td>\n",
       "      <td>-1.579218</td>\n",
       "      <td>0.335564</td>\n",
       "      <td>0.570639</td>\n",
       "      <td>0.183605</td>\n",
       "      <td>-0.453165</td>\n",
       "      <td>...</td>\n",
       "      <td>0.226298</td>\n",
       "      <td>-0.534996</td>\n",
       "      <td>0.478331</td>\n",
       "      <td>0.360410</td>\n",
       "      <td>-0.291242</td>\n",
       "      <td>-0.093434</td>\n",
       "      <td>-0.007875</td>\n",
       "      <td>-0.011368</td>\n",
       "      <td>-1.273552</td>\n",
       "      <td>-0.195241</td>\n",
       "      <td>0.261901</td>\n",
       "      <td>0.309590</td>\n",
       "      <td>0.969685</td>\n",
       "      <td>0.197837</td>\n",
       "      <td>0.142561</td>\n",
       "      <td>-0.551167</td>\n",
       "      <td>0.224117</td>\n",
       "      <td>0.444174</td>\n",
       "      <td>-0.375852</td>\n",
       "      <td>-0.372211</td>\n",
       "      <td>0.701081</td>\n",
       "      <td>-0.099432</td>\n",
       "      <td>0.455516</td>\n",
       "      <td>-0.282334</td>\n",
       "      <td>0.263698</td>\n",
       "      <td>-0.319697</td>\n",
       "      <td>0.053192</td>\n",
       "      <td>1.361396</td>\n",
       "      <td>0.548867</td>\n",
       "      <td>0.281571</td>\n",
       "      <td>-0.675717</td>\n",
       "      <td>0.890020</td>\n",
       "      <td>-0.163127</td>\n",
       "      <td>-0.064471</td>\n",
       "      <td>0.355062</td>\n",
       "      <td>-0.092898</td>\n",
       "      <td>0.080171</td>\n",
       "      <td>1.056229</td>\n",
       "      <td>-0.254369</td>\n",
       "      <td>0.194149</td>\n",
       "    </tr>\n",
       "    <tr>\n",
       "      <th>1</th>\n",
       "      <td>0.215880</td>\n",
       "      <td>-0.281083</td>\n",
       "      <td>-0.076468</td>\n",
       "      <td>0.645870</td>\n",
       "      <td>0.108067</td>\n",
       "      <td>-0.054152</td>\n",
       "      <td>0.004968</td>\n",
       "      <td>0.271106</td>\n",
       "      <td>0.123613</td>\n",
       "      <td>0.306289</td>\n",
       "      <td>0.095745</td>\n",
       "      <td>-0.026538</td>\n",
       "      <td>-0.084179</td>\n",
       "      <td>-0.116340</td>\n",
       "      <td>-0.131077</td>\n",
       "      <td>0.152588</td>\n",
       "      <td>0.000538</td>\n",
       "      <td>-0.179786</td>\n",
       "      <td>0.005402</td>\n",
       "      <td>-0.091754</td>\n",
       "      <td>-0.098584</td>\n",
       "      <td>-0.001274</td>\n",
       "      <td>-0.256310</td>\n",
       "      <td>0.041168</td>\n",
       "      <td>-0.057125</td>\n",
       "      <td>0.144765</td>\n",
       "      <td>-0.057948</td>\n",
       "      <td>-0.010002</td>\n",
       "      <td>0.430544</td>\n",
       "      <td>0.257618</td>\n",
       "      <td>0.081338</td>\n",
       "      <td>0.099999</td>\n",
       "      <td>-0.001650</td>\n",
       "      <td>0.114830</td>\n",
       "      <td>0.047858</td>\n",
       "      <td>0.122234</td>\n",
       "      <td>0.225454</td>\n",
       "      <td>0.172662</td>\n",
       "      <td>0.253951</td>\n",
       "      <td>-0.149850</td>\n",
       "      <td>...</td>\n",
       "      <td>0.066561</td>\n",
       "      <td>-0.127290</td>\n",
       "      <td>0.270543</td>\n",
       "      <td>-0.007161</td>\n",
       "      <td>0.088882</td>\n",
       "      <td>0.149287</td>\n",
       "      <td>0.228523</td>\n",
       "      <td>-0.013212</td>\n",
       "      <td>-0.040180</td>\n",
       "      <td>0.102019</td>\n",
       "      <td>0.126551</td>\n",
       "      <td>0.064211</td>\n",
       "      <td>0.044406</td>\n",
       "      <td>0.025446</td>\n",
       "      <td>0.244191</td>\n",
       "      <td>0.009434</td>\n",
       "      <td>0.096366</td>\n",
       "      <td>0.132957</td>\n",
       "      <td>-0.008290</td>\n",
       "      <td>0.006329</td>\n",
       "      <td>0.152019</td>\n",
       "      <td>-0.036090</td>\n",
       "      <td>0.018737</td>\n",
       "      <td>0.037381</td>\n",
       "      <td>0.061726</td>\n",
       "      <td>0.020832</td>\n",
       "      <td>0.045020</td>\n",
       "      <td>0.253873</td>\n",
       "      <td>0.108226</td>\n",
       "      <td>0.065113</td>\n",
       "      <td>-0.078641</td>\n",
       "      <td>-0.166052</td>\n",
       "      <td>-0.034477</td>\n",
       "      <td>0.040449</td>\n",
       "      <td>-0.004826</td>\n",
       "      <td>-0.085019</td>\n",
       "      <td>0.118476</td>\n",
       "      <td>0.040263</td>\n",
       "      <td>-0.088529</td>\n",
       "      <td>0.126536</td>\n",
       "    </tr>\n",
       "    <tr>\n",
       "      <th>2</th>\n",
       "      <td>0.215880</td>\n",
       "      <td>-0.281083</td>\n",
       "      <td>-0.076468</td>\n",
       "      <td>0.645870</td>\n",
       "      <td>0.108067</td>\n",
       "      <td>-0.054152</td>\n",
       "      <td>0.004968</td>\n",
       "      <td>0.271106</td>\n",
       "      <td>0.123613</td>\n",
       "      <td>0.306289</td>\n",
       "      <td>0.095745</td>\n",
       "      <td>-0.026538</td>\n",
       "      <td>-0.084179</td>\n",
       "      <td>-0.116340</td>\n",
       "      <td>-0.131077</td>\n",
       "      <td>0.152588</td>\n",
       "      <td>0.000538</td>\n",
       "      <td>-0.179786</td>\n",
       "      <td>0.005402</td>\n",
       "      <td>-0.091754</td>\n",
       "      <td>-0.098584</td>\n",
       "      <td>-0.001274</td>\n",
       "      <td>-0.256310</td>\n",
       "      <td>0.041168</td>\n",
       "      <td>-0.057125</td>\n",
       "      <td>0.144765</td>\n",
       "      <td>-0.057948</td>\n",
       "      <td>-0.010002</td>\n",
       "      <td>0.430544</td>\n",
       "      <td>0.257618</td>\n",
       "      <td>0.081338</td>\n",
       "      <td>0.099999</td>\n",
       "      <td>-0.001650</td>\n",
       "      <td>0.114830</td>\n",
       "      <td>0.047858</td>\n",
       "      <td>0.122234</td>\n",
       "      <td>0.225454</td>\n",
       "      <td>0.172662</td>\n",
       "      <td>0.253951</td>\n",
       "      <td>-0.149850</td>\n",
       "      <td>...</td>\n",
       "      <td>0.066561</td>\n",
       "      <td>-0.127290</td>\n",
       "      <td>0.270543</td>\n",
       "      <td>-0.007161</td>\n",
       "      <td>0.088882</td>\n",
       "      <td>0.149287</td>\n",
       "      <td>0.228523</td>\n",
       "      <td>-0.013212</td>\n",
       "      <td>-0.040180</td>\n",
       "      <td>0.102019</td>\n",
       "      <td>0.126551</td>\n",
       "      <td>0.064211</td>\n",
       "      <td>0.044406</td>\n",
       "      <td>0.025446</td>\n",
       "      <td>0.244191</td>\n",
       "      <td>0.009434</td>\n",
       "      <td>0.096366</td>\n",
       "      <td>0.132957</td>\n",
       "      <td>-0.008290</td>\n",
       "      <td>0.006329</td>\n",
       "      <td>0.152019</td>\n",
       "      <td>-0.036090</td>\n",
       "      <td>0.018737</td>\n",
       "      <td>0.037381</td>\n",
       "      <td>0.061726</td>\n",
       "      <td>0.020832</td>\n",
       "      <td>0.045020</td>\n",
       "      <td>0.253873</td>\n",
       "      <td>0.108226</td>\n",
       "      <td>0.065113</td>\n",
       "      <td>-0.078641</td>\n",
       "      <td>-0.166052</td>\n",
       "      <td>-0.034477</td>\n",
       "      <td>0.040449</td>\n",
       "      <td>-0.004826</td>\n",
       "      <td>-0.085019</td>\n",
       "      <td>0.118476</td>\n",
       "      <td>0.040263</td>\n",
       "      <td>-0.088529</td>\n",
       "      <td>0.126536</td>\n",
       "    </tr>\n",
       "    <tr>\n",
       "      <th>3</th>\n",
       "      <td>0.898026</td>\n",
       "      <td>-0.690510</td>\n",
       "      <td>-0.239638</td>\n",
       "      <td>1.076966</td>\n",
       "      <td>0.185235</td>\n",
       "      <td>-0.370822</td>\n",
       "      <td>0.106030</td>\n",
       "      <td>0.157349</td>\n",
       "      <td>0.149632</td>\n",
       "      <td>0.047356</td>\n",
       "      <td>0.556123</td>\n",
       "      <td>-0.469701</td>\n",
       "      <td>-0.024103</td>\n",
       "      <td>-0.007439</td>\n",
       "      <td>0.197466</td>\n",
       "      <td>0.499086</td>\n",
       "      <td>0.151432</td>\n",
       "      <td>-0.071895</td>\n",
       "      <td>-0.072724</td>\n",
       "      <td>-0.060304</td>\n",
       "      <td>-0.192259</td>\n",
       "      <td>0.247862</td>\n",
       "      <td>-0.724344</td>\n",
       "      <td>-0.030063</td>\n",
       "      <td>-0.009125</td>\n",
       "      <td>2.240739</td>\n",
       "      <td>0.241452</td>\n",
       "      <td>0.121467</td>\n",
       "      <td>0.880413</td>\n",
       "      <td>0.635299</td>\n",
       "      <td>0.113039</td>\n",
       "      <td>0.451559</td>\n",
       "      <td>-1.015792</td>\n",
       "      <td>1.271875</td>\n",
       "      <td>0.423796</td>\n",
       "      <td>0.645522</td>\n",
       "      <td>0.865535</td>\n",
       "      <td>0.362611</td>\n",
       "      <td>0.238215</td>\n",
       "      <td>-0.695747</td>\n",
       "      <td>...</td>\n",
       "      <td>0.118646</td>\n",
       "      <td>-0.094060</td>\n",
       "      <td>0.085948</td>\n",
       "      <td>0.460326</td>\n",
       "      <td>-0.060748</td>\n",
       "      <td>0.160269</td>\n",
       "      <td>0.035154</td>\n",
       "      <td>-0.056113</td>\n",
       "      <td>-0.477324</td>\n",
       "      <td>-0.075465</td>\n",
       "      <td>0.410035</td>\n",
       "      <td>0.765674</td>\n",
       "      <td>-0.010620</td>\n",
       "      <td>-0.547232</td>\n",
       "      <td>0.292419</td>\n",
       "      <td>-0.691181</td>\n",
       "      <td>0.335171</td>\n",
       "      <td>0.078930</td>\n",
       "      <td>0.031296</td>\n",
       "      <td>0.023022</td>\n",
       "      <td>1.269140</td>\n",
       "      <td>-0.117736</td>\n",
       "      <td>0.130820</td>\n",
       "      <td>0.239819</td>\n",
       "      <td>1.353570</td>\n",
       "      <td>-0.482412</td>\n",
       "      <td>-0.012015</td>\n",
       "      <td>1.030337</td>\n",
       "      <td>-0.904898</td>\n",
       "      <td>-0.639286</td>\n",
       "      <td>-0.381472</td>\n",
       "      <td>0.104657</td>\n",
       "      <td>0.065797</td>\n",
       "      <td>0.075736</td>\n",
       "      <td>0.393004</td>\n",
       "      <td>-1.078355</td>\n",
       "      <td>0.222484</td>\n",
       "      <td>0.079325</td>\n",
       "      <td>-1.242540</td>\n",
       "      <td>0.241402</td>\n",
       "    </tr>\n",
       "    <tr>\n",
       "      <th>4</th>\n",
       "      <td>1.527203</td>\n",
       "      <td>-0.524044</td>\n",
       "      <td>0.225554</td>\n",
       "      <td>1.106350</td>\n",
       "      <td>0.100403</td>\n",
       "      <td>-0.275454</td>\n",
       "      <td>0.099973</td>\n",
       "      <td>0.355689</td>\n",
       "      <td>-0.056807</td>\n",
       "      <td>-0.027576</td>\n",
       "      <td>0.196937</td>\n",
       "      <td>-0.482750</td>\n",
       "      <td>-0.068912</td>\n",
       "      <td>-0.061794</td>\n",
       "      <td>0.034289</td>\n",
       "      <td>0.180437</td>\n",
       "      <td>-0.084979</td>\n",
       "      <td>-0.617483</td>\n",
       "      <td>0.498759</td>\n",
       "      <td>-0.296683</td>\n",
       "      <td>-0.573743</td>\n",
       "      <td>0.023758</td>\n",
       "      <td>-0.708261</td>\n",
       "      <td>0.100459</td>\n",
       "      <td>0.300181</td>\n",
       "      <td>2.871728</td>\n",
       "      <td>1.584947</td>\n",
       "      <td>0.401176</td>\n",
       "      <td>0.832169</td>\n",
       "      <td>0.428417</td>\n",
       "      <td>0.123132</td>\n",
       "      <td>0.410840</td>\n",
       "      <td>-0.807719</td>\n",
       "      <td>1.434388</td>\n",
       "      <td>0.216449</td>\n",
       "      <td>-0.083485</td>\n",
       "      <td>0.730427</td>\n",
       "      <td>0.473414</td>\n",
       "      <td>0.232616</td>\n",
       "      <td>-0.320222</td>\n",
       "      <td>...</td>\n",
       "      <td>0.129234</td>\n",
       "      <td>-0.094193</td>\n",
       "      <td>0.053623</td>\n",
       "      <td>0.707653</td>\n",
       "      <td>-0.145279</td>\n",
       "      <td>0.169620</td>\n",
       "      <td>0.194685</td>\n",
       "      <td>-0.024818</td>\n",
       "      <td>-0.546910</td>\n",
       "      <td>-0.108973</td>\n",
       "      <td>0.212305</td>\n",
       "      <td>0.671836</td>\n",
       "      <td>0.531251</td>\n",
       "      <td>-0.614999</td>\n",
       "      <td>0.027614</td>\n",
       "      <td>0.226309</td>\n",
       "      <td>0.405950</td>\n",
       "      <td>0.245482</td>\n",
       "      <td>0.107315</td>\n",
       "      <td>-0.173087</td>\n",
       "      <td>0.777069</td>\n",
       "      <td>-0.331699</td>\n",
       "      <td>-0.088441</td>\n",
       "      <td>0.037202</td>\n",
       "      <td>0.933685</td>\n",
       "      <td>-0.059242</td>\n",
       "      <td>0.044453</td>\n",
       "      <td>1.065674</td>\n",
       "      <td>-0.836825</td>\n",
       "      <td>-0.290807</td>\n",
       "      <td>-0.143679</td>\n",
       "      <td>-0.158636</td>\n",
       "      <td>-0.058296</td>\n",
       "      <td>-0.040744</td>\n",
       "      <td>0.113725</td>\n",
       "      <td>-0.693612</td>\n",
       "      <td>0.276494</td>\n",
       "      <td>0.219436</td>\n",
       "      <td>0.589233</td>\n",
       "      <td>0.248467</td>\n",
       "    </tr>\n",
       "  </tbody>\n",
       "</table>\n",
       "<p>5 rows × 400 columns</p>\n",
       "</div>"
      ],
      "text/plain": [
       "        0         1         2    ...       397       398       399\n",
       "0  1.519147 -0.338538 -0.322993  ...  1.056229 -0.254369  0.194149\n",
       "1  0.215880 -0.281083 -0.076468  ...  0.040263 -0.088529  0.126536\n",
       "2  0.215880 -0.281083 -0.076468  ...  0.040263 -0.088529  0.126536\n",
       "3  0.898026 -0.690510 -0.239638  ...  0.079325 -1.242540  0.241402\n",
       "4  1.527203 -0.524044  0.225554  ...  0.219436  0.589233  0.248467\n",
       "\n",
       "[5 rows x 400 columns]"
      ]
     },
     "execution_count": 62,
     "metadata": {
      "tags": []
     },
     "output_type": "execute_result"
    }
   ],
   "source": [
    "df.head()"
   ]
  },
  {
   "cell_type": "code",
   "execution_count": 0,
   "metadata": {
    "colab": {},
    "colab_type": "code",
    "id": "Foowy86a5I8-"
   },
   "outputs": [],
   "source": [
    "df2 = pd.DataFrame(itos)"
   ]
  },
  {
   "cell_type": "code",
   "execution_count": 64,
   "metadata": {
    "colab": {
     "base_uri": "https://localhost:8080/",
     "height": 204
    },
    "colab_type": "code",
    "id": "6xZMgsNu5JmO",
    "outputId": "5c260fb6-4459-4dec-8b69-d571aebd6567"
   },
   "outputs": [
    {
     "data": {
      "text/html": [
       "<div>\n",
       "<style scoped>\n",
       "    .dataframe tbody tr th:only-of-type {\n",
       "        vertical-align: middle;\n",
       "    }\n",
       "\n",
       "    .dataframe tbody tr th {\n",
       "        vertical-align: top;\n",
       "    }\n",
       "\n",
       "    .dataframe thead th {\n",
       "        text-align: right;\n",
       "    }\n",
       "</style>\n",
       "<table border=\"1\" class=\"dataframe\">\n",
       "  <thead>\n",
       "    <tr style=\"text-align: right;\">\n",
       "      <th></th>\n",
       "      <th>0</th>\n",
       "    </tr>\n",
       "  </thead>\n",
       "  <tbody>\n",
       "    <tr>\n",
       "      <th>0</th>\n",
       "      <td>&lt;unk&gt;</td>\n",
       "    </tr>\n",
       "    <tr>\n",
       "      <th>1</th>\n",
       "      <td>&lt;s&gt;</td>\n",
       "    </tr>\n",
       "    <tr>\n",
       "      <th>2</th>\n",
       "      <td>&lt;/s&gt;</td>\n",
       "    </tr>\n",
       "    <tr>\n",
       "      <th>3</th>\n",
       "      <td>।</td>\n",
       "    </tr>\n",
       "    <tr>\n",
       "      <th>4</th>\n",
       "      <td>,</td>\n",
       "    </tr>\n",
       "  </tbody>\n",
       "</table>\n",
       "</div>"
      ],
      "text/plain": [
       "       0\n",
       "0  <unk>\n",
       "1    <s>\n",
       "2   </s>\n",
       "3      ।\n",
       "4      ,"
      ]
     },
     "execution_count": 64,
     "metadata": {
      "tags": []
     },
     "output_type": "execute_result"
    }
   ],
   "source": [
    "df2.head()"
   ]
  },
  {
   "cell_type": "code",
   "execution_count": 65,
   "metadata": {
    "colab": {
     "base_uri": "https://localhost:8080/",
     "height": 35
    },
    "colab_type": "code",
    "id": "omhiguqk5L2A",
    "outputId": "90aa45cc-4417-42d9-f12b-dc4f62edc6c5"
   },
   "outputs": [
    {
     "data": {
      "text/plain": [
       "(50000, 1)"
      ]
     },
     "execution_count": 65,
     "metadata": {
      "tags": []
     },
     "output_type": "execute_result"
    }
   ],
   "source": [
    "df2.shape"
   ]
  },
  {
   "cell_type": "code",
   "execution_count": 0,
   "metadata": {
    "colab": {},
    "colab_type": "code",
    "id": "bppOAZ715OFk"
   },
   "outputs": [],
   "source": [
    "df2.to_csv('embeddings_metadata.tsv', sep='\\t', index=False, header=False)"
   ]
  },
  {
   "cell_type": "code",
   "execution_count": 67,
   "metadata": {
    "colab": {
     "base_uri": "https://localhost:8080/",
     "height": 1000
    },
    "colab_type": "code",
    "id": "WJPrALex5Qcy",
    "outputId": "34078fd8-eeee-47db-9b36-82f968a40309"
   },
   "outputs": [
    {
     "data": {
      "text/plain": [
       "tensor([ 2.1588e-01, -2.8108e-01, -7.6468e-02,  6.4587e-01,  1.0807e-01,\n",
       "        -5.4152e-02,  4.9676e-03,  2.7111e-01,  1.2361e-01,  3.0629e-01,\n",
       "         9.5745e-02, -2.6538e-02, -8.4179e-02, -1.1634e-01, -1.3108e-01,\n",
       "         1.5259e-01,  5.3810e-04, -1.7979e-01,  5.4016e-03, -9.1754e-02,\n",
       "        -9.8584e-02, -1.2739e-03, -2.5631e-01,  4.1168e-02, -5.7125e-02,\n",
       "         1.4477e-01, -5.7948e-02, -1.0002e-02,  4.3054e-01,  2.5762e-01,\n",
       "         8.1338e-02,  9.9999e-02, -1.6498e-03,  1.1483e-01,  4.7858e-02,\n",
       "         1.2223e-01,  2.2545e-01,  1.7266e-01,  2.5395e-01, -1.4985e-01,\n",
       "         4.1301e-02, -2.7622e-01,  1.8389e-01,  3.1426e-02, -2.9815e-02,\n",
       "        -4.2218e-01, -1.0806e-01, -2.1413e-01, -1.9013e-02, -1.2826e-02,\n",
       "        -2.3501e-01,  4.3627e-02,  3.6595e-02,  2.2734e-01,  1.0812e-01,\n",
       "        -2.7880e-02, -1.2361e-01, -1.1470e-02, -1.7682e-02, -1.8844e-01,\n",
       "        -7.4338e-02, -4.8292e-01,  1.7460e-02,  3.3784e-02,  9.4717e-03,\n",
       "         2.2932e-02,  7.0432e-02, -1.0725e-01,  1.0339e-01, -4.2201e-01,\n",
       "        -6.0921e-03,  1.8359e-01,  1.7161e-01,  1.2361e-01, -9.6338e-02,\n",
       "        -3.4796e-02,  2.0988e-01, -4.9939e-03, -1.9896e-01,  7.2932e-02,\n",
       "        -1.8089e-01, -1.9991e-02, -1.0309e-02, -1.8155e-01,  2.5096e-02,\n",
       "        -6.9845e-02,  2.5818e-02,  8.6257e-02,  7.3676e-02,  4.3484e-02,\n",
       "         1.7055e-02,  1.7697e-01,  1.5168e-01, -2.1596e-02,  8.2833e-02,\n",
       "        -1.4732e-01,  4.0042e-02, -4.0349e-02,  3.3831e-03,  1.0873e-01,\n",
       "         8.8302e-03,  1.6454e-01,  1.1571e-01,  2.9719e-02, -6.7159e-01,\n",
       "        -2.7851e-02,  2.6247e-01,  1.1811e-02,  6.6058e-02,  3.3088e-02,\n",
       "         1.2910e-01, -1.4952e-01, -6.6290e-02, -2.1418e-01,  1.7766e-01,\n",
       "         7.2955e-02, -5.3150e-01,  2.5268e-01, -2.9186e-01,  2.5691e-01,\n",
       "        -3.5154e-01,  2.3690e-01, -1.2434e-01,  8.0295e-02,  2.5499e-01,\n",
       "         1.1600e-01, -2.6048e-02, -4.0301e-01, -5.0726e-02, -1.7202e-01,\n",
       "        -1.2934e-01, -5.1109e-02, -1.2305e-01, -4.1355e-02,  1.6546e-01,\n",
       "        -5.5462e-02, -8.9685e-02,  2.1985e-01,  3.4815e-02, -1.4517e-01,\n",
       "         2.2660e-01, -2.2120e-02, -5.2444e-02, -1.0166e-01, -2.0352e-01,\n",
       "        -1.1547e-01,  1.5143e-01,  5.3990e-02,  4.5942e-02,  1.6910e-02,\n",
       "        -5.3445e-02,  1.5000e-01, -6.1074e-02,  6.2094e-02,  1.6341e-01,\n",
       "        -3.1937e-01, -2.9500e-01,  2.1736e-01,  3.1151e-02, -8.9080e-02,\n",
       "         1.8474e-01,  1.4796e-02, -9.2146e-02, -6.3405e-02,  2.2162e-01,\n",
       "         3.0753e-02, -1.0776e-01, -2.3667e-01,  3.6653e-01,  1.1441e-01,\n",
       "         1.0735e-01, -1.1435e-01,  2.5246e-01,  4.7259e-01,  2.7994e-01,\n",
       "        -2.2585e-02, -1.6339e-01, -4.3762e-01, -8.7907e-02,  1.0818e-02,\n",
       "         7.8204e-02,  1.3072e-01,  1.0230e-01, -9.4851e-02, -6.0913e-02,\n",
       "        -2.2978e-02,  2.5964e-01,  3.0446e-02,  1.9626e-01, -1.0952e-01,\n",
       "         1.8715e-01, -1.0212e+00, -1.7175e-02, -8.7015e-02,  1.0105e-02,\n",
       "        -5.2073e-03,  1.7008e-01, -4.3878e-02, -3.4839e-02, -2.7865e-02,\n",
       "        -1.3357e-02, -3.1191e-01, -9.6287e-02,  7.2484e-02, -4.1828e-02,\n",
       "         6.8198e-02,  1.2576e-02, -1.1491e-01, -2.5865e-02,  4.1138e-03,\n",
       "         2.6246e-01, -9.1515e-02, -4.6511e-03, -5.0415e-01, -1.1056e-01,\n",
       "        -9.2264e-02,  2.9533e-01, -2.4220e-01, -1.5536e-01,  2.0333e-03,\n",
       "         2.7739e-02, -3.8122e-01, -5.2939e-03,  7.6586e-02, -8.7521e-01,\n",
       "        -3.2622e-01, -1.3224e-01, -3.6238e-02,  1.7344e-01,  8.2651e-02,\n",
       "         1.3614e-01,  2.9386e-03,  8.2521e-03, -2.7366e-01,  8.4793e-02,\n",
       "         1.4253e-01,  1.5388e-02, -7.8622e-02,  6.8119e-03,  3.8922e-02,\n",
       "         6.6306e-02,  8.5538e-02,  1.3739e-01,  1.6839e-01, -4.3243e-02,\n",
       "         3.0969e-01,  2.7468e-02,  5.4377e-02, -6.9040e-02,  5.6326e-01,\n",
       "        -7.2544e-03, -2.8867e-01, -4.8759e-02, -3.3264e-02, -9.8290e-02,\n",
       "        -1.5939e-02,  1.2393e-01,  4.4655e-02, -2.5640e-03, -1.4469e-01,\n",
       "         3.5320e-01,  1.0343e-01, -1.7909e-02,  1.2877e-01, -1.7395e-01,\n",
       "         1.0258e-01, -2.3374e-02,  3.4299e-03,  6.6598e-02, -1.8310e-02,\n",
       "        -8.9042e-03, -2.0445e-01, -8.5036e-02,  2.0693e-01, -1.2795e-01,\n",
       "        -1.6570e-01,  2.9284e-01,  1.4150e-01, -5.9716e-02, -4.8036e-02,\n",
       "         1.1971e-01, -2.1475e-01,  1.8046e-01,  1.3534e-01,  1.9080e-01,\n",
       "        -4.6167e-01, -5.5282e-02,  1.7476e-03,  4.7313e-01,  1.1987e-01,\n",
       "        -6.9521e-02, -1.5769e-01,  9.7883e-02, -4.2193e-02,  4.3641e-02,\n",
       "         1.7432e-01, -3.3742e-02,  4.2335e-02,  1.9915e-01, -2.1536e-01,\n",
       "         1.5099e-01,  3.6825e-01, -6.3577e-02,  1.8916e-02, -2.3483e-02,\n",
       "        -5.4790e-02, -1.6277e-01,  8.9856e-02,  4.7668e-02,  9.2128e-02,\n",
       "        -6.3515e-02,  2.0836e-01, -1.1195e-02, -9.5295e-02, -1.3162e-01,\n",
       "        -3.6922e-01,  3.2521e-02, -5.1328e-01, -4.8557e-02,  8.2588e-02,\n",
       "         1.0293e-01,  1.0243e+00, -7.3851e-02, -1.3209e-01,  5.6497e-02,\n",
       "         3.0056e-01, -7.4457e-02,  2.0506e-01, -3.0211e-01,  1.6163e-02,\n",
       "         1.4803e-01, -3.1552e-01,  3.1988e-03,  1.0762e-01, -2.3426e-01,\n",
       "         9.2452e-02,  6.9995e-02,  1.6622e-01, -9.8369e-02, -2.5853e-02,\n",
       "        -2.9099e-01, -6.3267e-02, -1.0908e-01, -1.1092e-01, -5.9399e-02,\n",
       "        -1.7739e-01, -6.7703e-02,  3.3990e-02, -4.3437e-01,  4.5505e-01,\n",
       "         1.1089e-01,  3.6910e-03, -4.3694e-01,  8.4896e-02, -2.4644e-01,\n",
       "         1.4119e-01, -7.1346e-02, -1.3754e-01,  1.0061e-01, -1.7990e-01,\n",
       "         6.6561e-02, -1.2729e-01,  2.7054e-01, -7.1605e-03,  8.8882e-02,\n",
       "         1.4929e-01,  2.2852e-01, -1.3212e-02, -4.0180e-02,  1.0202e-01,\n",
       "         1.2655e-01,  6.4211e-02,  4.4406e-02,  2.5446e-02,  2.4419e-01,\n",
       "         9.4338e-03,  9.6366e-02,  1.3296e-01, -8.2897e-03,  6.3289e-03,\n",
       "         1.5202e-01, -3.6090e-02,  1.8737e-02,  3.7381e-02,  6.1726e-02,\n",
       "         2.0832e-02,  4.5020e-02,  2.5387e-01,  1.0823e-01,  6.5113e-02,\n",
       "        -7.8641e-02, -1.6605e-01, -3.4477e-02,  4.0449e-02, -4.8264e-03,\n",
       "        -8.5019e-02,  1.1848e-01,  4.0263e-02, -8.8529e-02,  1.2654e-01])"
      ]
     },
     "execution_count": 67,
     "metadata": {
      "tags": []
     },
     "output_type": "execute_result"
    }
   ],
   "source": [
    "encoder.state_dict()['encoder.weight'][1]"
   ]
  },
  {
   "cell_type": "code",
   "execution_count": 0,
   "metadata": {
    "colab": {},
    "colab_type": "code",
    "id": "x71imVJ35aqD"
   },
   "outputs": [],
   "source": []
  }
 ],
 "metadata": {
  "accelerator": "GPU",
  "colab": {
   "collapsed_sections": [],
   "name": "Bengali_Language_Model.ipynb",
   "provenance": []
  },
  "kernelspec": {
   "display_name": "Python 3",
   "language": "python",
   "name": "python3"
  },
  "language_info": {
   "codemirror_mode": {
    "name": "ipython",
    "version": 3
   },
   "file_extension": ".py",
   "mimetype": "text/x-python",
   "name": "python",
   "nbconvert_exporter": "python",
   "pygments_lexer": "ipython3",
   "version": "3.6.9"
  }
 },
 "nbformat": 4,
 "nbformat_minor": 1
}
