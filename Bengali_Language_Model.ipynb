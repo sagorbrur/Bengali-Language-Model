{
 "cells": [
  {
   "cell_type": "code",
   "execution_count": 0,
   "metadata": {
    "colab": {},
    "colab_type": "code",
    "id": "g9pgUJgU6Ixv"
   },
   "outputs": [],
   "source": [
    "%reload_ext autoreload\n",
    "%autoreload 2\n",
    "%matplotlib inline"
   ]
  },
  {
   "cell_type": "code",
   "execution_count": 0,
   "metadata": {
    "colab": {},
    "colab_type": "code",
    "id": "w0alwhiR6MwQ"
   },
   "outputs": [],
   "source": [
    "from fastai.text import *\n",
    "import numpy as np\n",
    "from sklearn.model_selection import train_test_split\n",
    "import pickle\n",
    "import sentencepiece as spm"
   ]
  },
  {
   "cell_type": "code",
   "execution_count": 37,
   "metadata": {
    "colab": {
     "base_uri": "https://localhost:8080/",
     "height": 35
    },
    "colab_type": "code",
    "id": "JWQD2_YY6PSo",
    "outputId": "d56af2ce-fa97-4a8d-b4a1-b67ed0bc3664"
   },
   "outputs": [
    {
     "data": {
      "text/plain": [
       "('1.0.59', '1.3.1')"
      ]
     },
     "execution_count": 37,
     "metadata": {
      "tags": []
     },
     "output_type": "execute_result"
    }
   ],
   "source": [
    "import fastai, torch\n",
    "fastai.__version__ , torch.__version__"
   ]
  },
  {
   "cell_type": "code",
   "execution_count": 0,
   "metadata": {
    "colab": {},
    "colab_type": "code",
    "id": "9tnbi98C6UPq"
   },
   "outputs": [],
   "source": [
    "torch.cuda.set_device(0)"
   ]
  },
  {
   "cell_type": "code",
   "execution_count": 0,
   "metadata": {
    "colab": {},
    "colab_type": "code",
    "id": "unuWw7D-625A"
   },
   "outputs": [],
   "source": [
    "sp_model = 'data/bn_spm.model'\n",
    "class BengaliTokenizer(BaseTokenizer):\n",
    "    def __init__(self, lang:str):\n",
    "        self.lang = lang\n",
    "        self.sp = spm.SentencePieceProcessor()\n",
    "        self.sp.Load(sp_model)\n",
    "        \n",
    "    def tokenizer(self, t:str) -> List[str]:\n",
    "        return self.sp.EncodeAsPieces(t)"
   ]
  },
  {
   "cell_type": "code",
   "execution_count": 43,
   "metadata": {
    "colab": {
     "base_uri": "https://localhost:8080/",
     "height": 35
    },
    "colab_type": "code",
    "id": "w6oeSqce7mig",
    "outputId": "252cbe1e-cfae-4569-bfee-55d11f21137b"
   },
   "outputs": [
    {
     "data": {
      "text/plain": [
       "__main__.BengaliTokenizer"
      ]
     },
     "execution_count": 43,
     "metadata": {
      "tags": []
     },
     "output_type": "execute_result"
    }
   ],
   "source": [
    "\n",
    "BengaliTokenizer"
   ]
  },
  {
   "cell_type": "code",
   "execution_count": 0,
   "metadata": {
    "colab": {},
    "colab_type": "code",
    "id": "f_hnK7up7pd1"
   },
   "outputs": [],
   "source": [
    "# %cd ..\n",
    "sp = spm.SentencePieceProcessor()\n",
    "sp.Load(sp_model)\n",
    "itos = [sp.IdToPiece(int(i)) for i in range(50000)]"
   ]
  },
  {
   "cell_type": "code",
   "execution_count": 0,
   "metadata": {
    "colab": {},
    "colab_type": "code",
    "id": "DHl-52cO74BX"
   },
   "outputs": [],
   "source": [
    "bengali_vocab = Vocab(itos)"
   ]
  },
  {
   "cell_type": "code",
   "execution_count": 0,
   "metadata": {
    "colab": {},
    "colab_type": "code",
    "id": "RkIhCm8u76e3"
   },
   "outputs": [],
   "source": [
    "\n",
    "tokenizer = Tokenizer(tok_func=BengaliTokenizer, lang='bn')"
   ]
  },
  {
   "cell_type": "code",
   "execution_count": 47,
   "metadata": {
    "colab": {
     "base_uri": "https://localhost:8080/",
     "height": 179
    },
    "colab_type": "code",
    "id": "cBAHeaVD79r6",
    "outputId": "651fe490-79b5-41bf-8a5d-4c8736ff8ed0"
   },
   "outputs": [
    {
     "data": {
      "text/plain": [
       "['xxunk',\n",
       " 'xxpad',\n",
       " 'xxbos',\n",
       " 'xxeos',\n",
       " 'xxfld',\n",
       " 'xxmaj',\n",
       " 'xxup',\n",
       " 'xxrep',\n",
       " 'xxwrep']"
      ]
     },
     "execution_count": 47,
     "metadata": {
      "tags": []
     },
     "output_type": "execute_result"
    }
   ],
   "source": [
    "tokenizer.special_cases"
   ]
  },
  {
   "cell_type": "code",
   "execution_count": 48,
   "metadata": {
    "colab": {
     "base_uri": "https://localhost:8080/",
     "height": 17
    },
    "colab_type": "code",
    "id": "Wfx696y37_1Z",
    "outputId": "0440d33a-c318-4e54-c437-446b82d47585"
   },
   "outputs": [
    {
     "data": {
      "text/html": [],
      "text/plain": [
       "<IPython.core.display.HTML object>"
      ]
     },
     "metadata": {
      "tags": []
     },
     "output_type": "display_data"
    },
    {
     "data": {
      "text/html": [],
      "text/plain": [
       "<IPython.core.display.HTML object>"
      ]
     },
     "metadata": {
      "tags": []
     },
     "output_type": "display_data"
    }
   ],
   "source": [
    "data_path = 'data'\n",
    "data_lm = TextLMDataBunch.from_folder(path=data_path, tokenizer=tokenizer, vocab=bengali_vocab)"
   ]
  },
  {
   "cell_type": "code",
   "execution_count": 49,
   "metadata": {
    "colab": {
     "base_uri": "https://localhost:8080/",
     "height": 35
    },
    "colab_type": "code",
    "id": "aUHUUSD98sI6",
    "outputId": "31706272-e17a-4433-a757-a0d53a005bd6"
   },
   "outputs": [
    {
     "data": {
      "text/plain": [
       "64"
      ]
     },
     "execution_count": 49,
     "metadata": {
      "tags": []
     },
     "output_type": "execute_result"
    }
   ],
   "source": [
    "data_lm.batch_size"
   ]
  },
  {
   "cell_type": "code",
   "execution_count": 0,
   "metadata": {
    "colab": {},
    "colab_type": "code",
    "id": "L1c9LPG68Gm_"
   },
   "outputs": [],
   "source": [
    "\n",
    "data_lm.save()"
   ]
  },
  {
   "cell_type": "code",
   "execution_count": 51,
   "metadata": {
    "colab": {
     "base_uri": "https://localhost:8080/",
     "height": 612
    },
    "colab_type": "code",
    "id": "i99FcA5i8bmY",
    "outputId": "7767a6f7-89ae-421d-c1db-5b1323f0b753"
   },
   "outputs": [
    {
     "data": {
      "text/html": [
       "<table border=\"1\" class=\"dataframe\">\n",
       "  <thead>\n",
       "    <tr style=\"text-align: right;\">\n",
       "      <th>idx</th>\n",
       "      <th>text</th>\n",
       "    </tr>\n",
       "  </thead>\n",
       "  <tbody>\n",
       "    <tr>\n",
       "      <td>0</td>\n",
       "      <td>▁আছে । ▁ডলারের ▁সঙ্গে ▁টাকার ▁বিনিময় ▁হার ▁প্রতিনিয়ত ▁বাড়ছে । ▁এটি ▁চলতে ▁থাকলে ▁আগামী ▁অর্থ বছর ▁থেকে ▁বাংলাদেশ ▁পেট্রোলিয়াম ▁করপোরেশন ▁( বি পিসি ) ▁আবার ▁লোকসান ের ▁সম্মুখীন ▁হতে ▁পারে । ▁বাস্তবতার ▁কারণে ▁আন্তর্জাতিক ▁বাজারে ▁তেলের ▁দাম ▁কম া - বাড় ার ▁সঙ্গে ▁সঙ্গে ▁দেশের ▁অভ্যন্তরে ▁জ্বালানি ▁তেলের ▁বাড়ানো - কম ানো ▁করা ▁সম্ভব ▁হয় ▁না । ▁তিনি ▁বলেন , ▁এর ▁আগে ▁ভর্তুকি ▁মূল্যে ▁জ্বালানি ▁তেল ▁বিক্রি ▁করায় ▁২৭ ,</td>\n",
       "    </tr>\n",
       "    <tr>\n",
       "      <td>1</td>\n",
       "      <td>▁গত ▁বছর ▁এ ▁সময়ে ▁পেঁয়াজ ের ▁কেজি ▁ছিল ▁২০ ▁থেকে ▁৪০ ▁টাকা । ▁কার ওয়ান ▁বাজারে ▁পাল্লা ▁হিসেবে ▁( ৫ ▁কেজি ) ▁পেঁয়াজ ▁বিক্রি ▁করছিলেন ▁পাইকারি ▁বিক্রেতা রা । ▁স্বদেশ ি ▁বাণিজ্য ালয় ের ▁বিক্রেতা ▁মো . ▁ইয়াসিন ▁বললেন , ▁দেশি ▁পেঁয়াজ ের ▁সরবরাহ ▁কম । ▁নতুন ▁পেঁয়াজ ▁এখনো ▁বাজারে ▁পুরোপুরি ▁আসতে ▁শুরু ▁করেনি । ▁আগামী ▁সপ্তাহে ▁নতুন ▁পেঁয়াজ ▁বাজারে ▁এলে ▁দাম ▁কমতে ▁পারে । ▁x x bo s ▁গত</td>\n",
       "    </tr>\n",
       "    <tr>\n",
       "      <td>2</td>\n",
       "      <td>▁কু তু পাল ং ▁শিবিরের ▁রোহিঙ্গা ▁মোহাম্মদ ▁ইসমাইল ▁( ৫৫ ) ▁বলেন , ▁‘ প্র ত্যা বাসন ▁শুরু ▁হোক , ▁তা ▁আমরা ▁সবাই ▁চাই । ▁কিন্তু ▁শর্ত ▁আছে । ▁প্রত্যা বাসন ের ▁আগে ▁রোহিঙ্গাদের ▁“ নাগরিক ” ▁হিসেবে ▁ঘোষণা ▁দিতে ▁হবে ▁মিয়ানমার কে । ▁তারপর ▁রাখাইন ে ▁শান্তিপূর্ণভাবে ▁বসবাসের ▁নিরাপত্তা ▁দিতে ▁হবে । ▁তবে ই ▁রোহিঙ্গা রা ▁ফিরে ▁যেতে ▁সিদ্ধান্ত ▁নেবে । ’ ▁বালুখালী ▁শিবিরের ▁রোহিঙ্গা ▁সলিম া ▁খাতুন ▁(</td>\n",
       "    </tr>\n",
       "    <tr>\n",
       "      <td>3</td>\n",
       "      <td>▁কিছু ▁বলার ▁নেই । মক র &lt;unk&gt; pri cor n ▁২২ ▁ডিসেম্বর — ২০ ▁জানুয়ারি । ▁ভর ▁ &lt;unk&gt; ▁৩ ▁ &lt;unk&gt; ▁আপনার ▁সপ্তাহ ▁যাবে ▁ধনু র ▁মতো । ▁নিজের ▁ওপর ▁আস্থা ▁রাখুন । কুম্ভ &lt;unk&gt; ▁a qua ri us ▁২১ ▁জানুয়ারি — ১৮ ▁ফেব্রুয়ারি । ▁ভর ▁ &lt;unk&gt; ▁৯ ▁ &lt;unk&gt; ▁কুম্ভ ▁রাশির ▁নেতৃত্ব গুণ ▁এ ▁সপ্তাহে ▁শীর্ষে ▁থাকবে । ▁সপ্তাহ ▁হবে ▁শুভ । মী ন &lt;unk&gt; s ces</td>\n",
       "    </tr>\n",
       "    <tr>\n",
       "      <td>4</td>\n",
       "      <td>▁হাজার ▁টাকার ▁জ্ঞাত ▁আয় বহির্ভূত ▁সম্পদ ▁অর্জন ▁করেছেন । ▁তাঁকে ▁অবৈধ ▁অর্থ ▁অর্জনে ▁সহায়তা ▁করেছেন ▁ওয়ান্ডারার্স ▁ক্লাবের ▁কর্মচারী ▁আবুল ▁কালাম ▁ও ▁এনামুল ের ▁বন্ধু ▁হিসেবে ▁পরিচিত ▁হারুন ▁অর ▁রশিদ । ▁তাই ▁এই ▁তিনজনকে ▁একটি ▁মামলায় ▁আসামি ▁করা ▁হয়েছে । ▁অন্যদিকে , ▁এনামুল ের ▁ভাই ▁রূপ ন ▁ভূঁইয়া র ▁বিরুদ্ধে ▁মামলাটি ▁করেছেন ▁দু দক ের ▁আরেক ▁সহকারী ▁পরিচালক ▁মোহাম্মদ ▁নেয়া মুল ▁আহসান ▁গাজী । ▁মামলার ▁এ জা হারে ▁বলা ▁হয় ,</td>\n",
       "    </tr>\n",
       "  </tbody>\n",
       "</table>"
      ],
      "text/plain": [
       "<IPython.core.display.HTML object>"
      ]
     },
     "metadata": {
      "tags": []
     },
     "output_type": "display_data"
    }
   ],
   "source": [
    "data_lm.show_batch()"
   ]
  },
  {
   "cell_type": "code",
   "execution_count": 52,
   "metadata": {
    "colab": {
     "base_uri": "https://localhost:8080/",
     "height": 35
    },
    "colab_type": "code",
    "id": "Xns2pSMN8wm1",
    "outputId": "a0b5b754-b63d-4ea5-b901-9abdff468fef"
   },
   "outputs": [
    {
     "data": {
      "text/plain": [
       "50000"
      ]
     },
     "execution_count": 52,
     "metadata": {
      "tags": []
     },
     "output_type": "execute_result"
    }
   ],
   "source": [
    "len(data_lm.vocab.itos)"
   ]
  },
  {
   "cell_type": "code",
   "execution_count": 0,
   "metadata": {
    "colab": {},
    "colab_type": "code",
    "id": "IuAmr7d49SYS"
   },
   "outputs": [],
   "source": [
    "learn = language_model_learner(data_lm, AWD_LSTM, drop_mult=0.3)"
   ]
  },
  {
   "cell_type": "code",
   "execution_count": 54,
   "metadata": {
    "colab": {
     "base_uri": "https://localhost:8080/",
     "height": 35
    },
    "colab_type": "code",
    "id": "oK5VTzyr9W44",
    "outputId": "e734824f-ad63-4ec1-92f9-512c251131e5"
   },
   "outputs": [
    {
     "data": {
      "text/plain": [
       "0"
      ]
     },
     "execution_count": 54,
     "metadata": {
      "tags": []
     },
     "output_type": "execute_result"
    }
   ],
   "source": [
    "gc.collect()"
   ]
  },
  {
   "cell_type": "code",
   "execution_count": 55,
   "metadata": {
    "colab": {
     "base_uri": "https://localhost:8080/",
     "height": 55
    },
    "colab_type": "code",
    "id": "6mKd0sXg9Z7Q",
    "outputId": "0a5e64e8-5d80-45b1-a8b8-2a68316196a2"
   },
   "outputs": [
    {
     "data": {
      "text/html": [],
      "text/plain": [
       "<IPython.core.display.HTML object>"
      ]
     },
     "metadata": {
      "tags": []
     },
     "output_type": "display_data"
    },
    {
     "name": "stdout",
     "output_type": "stream",
     "text": [
      "LR Finder is complete, type {learner_name}.recorder.plot() to see the graph.\n"
     ]
    }
   ],
   "source": [
    "learn.lr_find()\n"
   ]
  },
  {
   "cell_type": "code",
   "execution_count": 56,
   "metadata": {
    "colab": {
     "base_uri": "https://localhost:8080/",
     "height": 282
    },
    "colab_type": "code",
    "id": "HUXG4OGg9gCe",
    "outputId": "fddd3471-5d71-4846-9439-ad75cff7dc6e"
   },
   "outputs": [
    {
     "data": {
      "image/png": "[encoded data removed]",
      "text/plain": [
       "<Figure size 432x288 with 1 Axes>"
      ]
     },
     "metadata": {
      "tags": []
     },
     "output_type": "display_data"
    }
   ],
   "source": [
    "learn.recorder.plot()"
   ]
  },
  {
   "cell_type": "code",
   "execution_count": 57,
   "metadata": {
    "colab": {
     "base_uri": "https://localhost:8080/",
     "height": 80
    },
    "colab_type": "code",
    "id": "MCJYkbb-9l2p",
    "outputId": "c4537316-3490-4713-ebc5-ed00448a72c5"
   },
   "outputs": [
    {
     "data": {
      "text/html": [
       "<table border=\"1\" class=\"dataframe\">\n",
       "  <thead>\n",
       "    <tr style=\"text-align: left;\">\n",
       "      <th>epoch</th>\n",
       "      <th>train_loss</th>\n",
       "      <th>valid_loss</th>\n",
       "      <th>accuracy</th>\n",
       "      <th>time</th>\n",
       "    </tr>\n",
       "  </thead>\n",
       "  <tbody>\n",
       "    <tr>\n",
       "      <td>0</td>\n",
       "      <td>4.275065</td>\n",
       "      <td>3.967267</td>\n",
       "      <td>0.407943</td>\n",
       "      <td>32:34</td>\n",
       "    </tr>\n",
       "  </tbody>\n",
       "</table>"
      ],
      "text/plain": [
       "<IPython.core.display.HTML object>"
      ]
     },
     "metadata": {
      "tags": []
     },
     "output_type": "display_data"
    }
   ],
   "source": [
    "learn.fit_one_cycle(1, 1e-2, moms=(0.8,0.7))"
   ]
  },
  {
   "cell_type": "code",
   "execution_count": 0,
   "metadata": {
    "colab": {},
    "colab_type": "code",
    "id": "sPbwcVX69ouu"
   },
   "outputs": [],
   "source": [
    "learn.save('first', with_opt=True)"
   ]
  },
  {
   "cell_type": "code",
   "execution_count": 59,
   "metadata": {
    "colab": {
     "base_uri": "https://localhost:8080/",
     "height": 1000
    },
    "colab_type": "code",
    "id": "2T_vBOrM9tQc",
    "outputId": "a13a31ee-fcd4-4856-999e-7d37ec1a6ab1"
   },
   "outputs": [
    {
     "data": {
      "text/plain": [
       "LanguageLearner(data=TextLMDataBunch;\n",
       "\n",
       "Train: LabelList (80000 items)\n",
       "x: LMTextList\n",
       "▁x x bo s ▁আপাতত ▁জ্বালানি ▁তেলের ▁দাম ▁কমানোর ▁কোনো ▁পরিকল্পনা ▁সরকারের ▁নেই । আজ ▁রোববার ▁জাতীয় ▁সংসদে ▁স্পিকার ▁শিরীন ▁শারমিন ▁চৌধুরীর ▁সভাপতিত্বে ▁অনুষ্ঠিত ▁অধিবেশনে ▁লিখিত ▁প্রশ্নের ▁উত্তরে ▁বিদ্যুৎ , ▁জ্বালানি ▁ও ▁খনিজ ▁সম্পদ ▁মন্ত্রণালয়ের ▁প্রতিমন্ত্রী ▁নস রুল ▁হামিদ ▁এ ▁কথা ▁জানিয়েছেন । সাংস দ ▁রুস্তম ▁আলী ▁ফর া জীর ▁প্রশ্নের ▁উত্তরে ▁প্রতিমন্ত্রী ▁বলেন , ▁আন্তর্জাতিক ▁বাজারে ▁জ্বালানি ▁তেলের ▁মূল্য ▁গত ▁এক ▁বছর ▁ধরে ▁ঊর্ধ্বমুখী ▁রয়েছে । ▁এখন ▁তা ▁অব্যাহত ▁আছে । ▁ডলারের ▁সঙ্গে ▁টাকার ▁বিনিময় ▁হার ▁প্রতিনিয়ত ▁বাড়ছে । ▁এটি ▁চলতে ▁থাকলে ▁আগামী ▁অর্থ বছর ▁থেকে ▁বাংলাদেশ ▁পেট্রোলিয়াম ▁করপোরেশন ▁( বি পিসি ) ▁আবার ▁লোকসান ের ▁সম্মুখীন ▁হতে ▁পারে । ▁বাস্তবতার ▁কারণে ▁আন্তর্জাতিক ▁বাজারে ▁তেলের ▁দাম ▁কম া - বাড় ার ▁সঙ্গে ▁সঙ্গে ▁দেশের ▁অভ্যন্তরে ▁জ্বালানি ▁তেলের ▁বাড়ানো - কম ানো ▁করা ▁সম্ভব ▁হয় ▁না । ▁তিনি ▁বলেন , ▁এর ▁আগে ▁ভর্তুকি ▁মূল্যে ▁জ্বালানি ▁তেল ▁বিক্রি ▁করায় ▁২৭ , ৪ ১৯ . ৮১ ▁কোটি ▁টাকার ▁সরকারি ▁ঋণের ▁দায় ▁এখনো ▁বিপি সির ▁ওপর ▁রয়ে ▁গেছে । ▁দ্বিতীয় ▁দফায় ▁জ্বালানি ▁তেলের ▁মূল্য ▁কমানো ▁হলে ▁বি পিসি ▁আবার ▁লোকসান ি ▁প্রতিষ্ঠানে ▁পরিণত ▁হবে ▁এবং ▁ঋণ ▁করে ▁জ্বালানি ▁তেল ▁আমদানি ▁করতে ▁হবে । ▁তেলের ▁মূল্য ▁কমানো ▁হলে ▁তার ▁সুফল ▁সাধারণ ▁জনগণ ▁সরাসরি ▁উপভোগ ▁করতে ▁পারে ▁না । বিদ্যুত ের ▁১৭টি ▁প্রকল্পে ▁বাস্তবায়ন ের ▁হার ▁শূন্য : ▁রুস্তম ▁আলী ▁ফর া জীর ▁আরেক ▁প্রশ্নের ▁উত্তরে ▁প্রতিমন্ত্রী ▁নস রুল ▁হামিদ ▁বলেছেন , ▁বিদ্যুৎ ▁খাতের ▁১৭টি ▁প্রকল্প ▁বাস্তবায়ন ের ▁হার ▁শূন্য । ▁এর ▁মধ্যে ▁১২টি ▁প্রকল্প ▁২০১৬ - ১৭ ▁অর্থবছরে ▁বার্ষিক ▁উন্নয়ন ▁কর্মসূচি ▁প্রণয়ন ের ▁পরবর্তী ▁সময়ে ▁অনুমোদিত ▁হয়েছে ▁এবং ▁সেসব ▁প্রকল্পের ▁অনুকূলে ▁২০১৬ - ২০১৭ ▁অর্থবছরে ▁কোনো ▁বরাদ্দ ▁দেওয়া ▁সম্ভব ▁হয়নি । ▁তবে ▁অর্থ বছর টির ▁সংশোধিত ▁বার্ষিক ▁উন্নয়ন ▁কর্মসূচিতে ▁প্রয়োজনীয় ▁বরাদ্দ ▁দেওয়া ▁হয়েছে । ▁অর্থ ▁ছাড় ের ▁বিষয়টি ▁প্রক্রিয়াধীন ▁আছে । ▁অন্য ▁পাঁচটি ▁প্রকল্প ▁উন্নয়ন ▁সহযোগী ▁সংস্থার ▁সঙ্গে ▁ঋণ চুক্তি ▁না ▁হওয়া সহ ▁বিভিন্ন ▁কারণে ▁আটকে ▁আছে ।,▁x x bo s ▁ব্যবস্থাপনা ▁আর ▁হিসাব ▁শাখায় ▁দক্ষ ▁পেশাজীবী ▁তৈরির ▁লক্ষ্যে ▁কস্ট ▁অ্যান্ড ▁ম্যানেজমেন্ট ▁অ্যাকাউন্ট স ▁( সি এমএ ) ▁পড়া চ্ছে ▁দ্য ▁ইনস্টিটিউট ▁অব ▁কস্ট ▁অ্যান্ড ▁ম্যানেজমেন্ট ▁অ্যাকাউন্ট স ▁অব ▁বাংলাদেশ ▁( আইসি এমএ বি ) । ▁সম্প্রতি ▁প্রতিষ্ঠানটি ▁বিভিন্ন ▁পত্রিকায় ▁সিএম এ ▁ভর্তি র ▁বিজ্ঞপ্তি ▁প্রকাশ ▁করেছে । ▁আইসি এমএ বির ▁শিক্ষা ▁কর্মকর্তা ▁হাবিবুর ▁সিরাজ ▁বলেন , ▁এবার ই ▁প্রথম ▁ভর্তি ▁কার্যক্রম ▁হবে ▁অনলাইনে । ▁আবেদনকারী দের ▁ www . ic ma ber p . org ▁এই ▁ঠিকানায় ▁গিয়ে ▁প্রয়োজনীয় ▁তথ্য ▁দিয়ে ▁ফরম ▁পূরণ ▁করতে ▁হবে । ▁এরই ▁মধ্যে ▁ভর্তি ▁কার্যক্রম ▁শুরু ▁হয়ে ▁গেছে । ▁আবেদন ▁করতে ▁হবে ▁২৭ ▁জানুয়ারি র ▁মধ্যে । ▁এই ▁কোর্স টি ▁করে ▁আপনি ও ▁হয়ে ▁যেতে ▁পারেন ▁দেশে ▁বা ▁বিদেশে র ▁ভালো ▁কোনো ▁প্রতিষ্ঠানের ▁ব্যবস্থাপক ▁বা ▁হিসাবরক্ষক । এখানে ▁বছরে ▁দুটি ▁সেশনে ▁ছাত্রছাত্রী ▁ভর্তি ▁করানো ▁হয় । ▁জানুয়ারি ▁থেকে ▁জুন ▁এবং ▁জুলাই ▁থেকে ▁ডিসেম্বর । ▁এখন ▁জানুয়ারি ▁থেকে ▁জুলাই ▁সেশন ের ▁ভর্তি ▁কার্যক্রম ▁চলছে । ▁এই ▁সেশনে ▁দুটি ▁পদ্ধতিতে ▁ছাত্রছাত্রী ▁ভর্তি ▁হতে ▁পারবে । ▁ইন্টারমিডিয়েট ▁এন্ট্রি ▁রুট ▁ও ▁গ্র্যাজুয়েট ▁এন্ট্রি ▁রুট ▁পদ্ধতিতে । ▁ইন্টারমিডিয়েট ▁এন্ট্রি ▁রুট ▁পদ্ধতিতে ▁ভর্তি ▁হতে ▁হলে ▁এসএসসি ▁ও ▁এইচএসসি ▁মিলিয়ে ▁জিপিএ - ৮ ▁পেতে ▁হবে । ▁আর ▁গ্র্যাজুয়েট ▁এন্ট্রি ▁রুট ▁পদ্ধতিতে ▁ভর্তি ▁হতে ▁যেকোনো ▁বিভাগ ▁থেকে ▁ন্যূনতম ▁স্নাতক ▁পাস ▁হতে ▁হবে । ▁এসএসসি ▁থেকে ▁স্নাতক ▁পর্যন্ত ▁পরীক্ষার ▁ফল ▁লাগবে ▁কমপক্ষে ▁৬ ▁পয়েন্ট । হা বি বুর ▁সিরাজ ▁বলেন , ▁এই ▁সিএম এ ▁কোর্স টি ▁দুটি ▁পদ্ধতিতে ▁করানো ▁হয় । ▁একটি ▁কোচিং ▁পদ্ধতি ▁এবং ▁অন্যটি ▁কর স পন ডেন্স ▁পদ্ধতি । ▁যাঁরা ▁কোচিং ▁পদ্ধতিতে ▁ভর্তি ▁হবেন ▁তাঁদের ▁নিয়মিত ▁ক্লাস ▁ও ▁ক্লাস ▁টেস্ট ▁করতে ▁হবে । ▁আর ▁কর স পন ডেন্স ▁কোর্সের ▁ক্ষেত্রে ▁শিক্ষার্থীদের ▁নিয়মিত ▁ক্লাস ▁করতে ▁হয় ▁না । ▁শুধু ▁অ্যা সাইন মেন্ট ▁জমা ▁দিলে ই ▁হয় । ▁তাই ▁যাঁরা ▁চাকরির ত ▁আছেন ▁তাঁদের ▁জন্য ▁এই ▁কর স পন ডেন্স ▁পদ্ধতিটি ▁খুব ▁সহজ ▁হয় । ▁তবে ▁কোনো ▁লেভেল ের ▁সব ▁বিষয়ে ▁পাস ▁না ▁করলে ▁পরবর্তী ▁লেভেল ের ▁পরীক্ষা ▁দিতে ▁পারবেন ▁না । ▁তিনি ▁আরও ▁জানান , ▁শিক্ষার্থীদের ▁ছয় ▁মাসে ▁একটি ▁লেভেল ▁শেষ ▁করতে ▁হবে । ▁এ ▁কোর্স টিতে ▁ইন্টারমিডিয়েট ▁এন্ট্রি ▁রুট ▁ছাত্রছাত্রীদের ▁৫টি ▁লেভেল ▁ও ▁গ্র্যাজুয়েট ▁এন্ট্রি ▁রুট ▁ছাত্রছাত্রীদের ▁৪টি ▁লেভেল ▁সম্পন্ন ▁করতে ▁হবে । ▁এই ▁লেভেল গুলোর ▁মধ্যে ▁রয়েছে ▁নলেজ ▁লেভেল , ▁বিজনেস ▁লেভেল ▁ও ▁প্রফেশনাল ▁লেভেল ▁১ , ▁২ ▁ও ▁৩ । ইন্টার মিড িয়েট ▁এন্ট্রি ▁রুট ▁পদ্ধতির ▁ছাত্রছাত্রীদের ▁নলেজ ▁লেভেল ের ▁জন্য ▁ভর্তি ▁ফি ▁দিতে ▁হবে ▁২০ ▁হাজার ▁৬০০ ▁টাকা । ▁আর ▁গ্র্যাজুয়েট ▁এন্ট্রি ▁রুট ▁ছাত্রছাত্রীদের ▁ক্ষেত্রে ▁বিজনেস ▁লেভেল ের ▁জন্য ▁২৪ ▁হাজার ▁৫০০ ▁টাকা ▁ফি ▁দিতে ▁হবে । ▁প্রফেশনাল ▁লেভেল ▁১ , ▁২ ▁ও ▁৩ - এর ▁জন্য ▁ফি ▁লাগবে ▁যথাক্রমে ▁৮০০০ , ▁১২ ০০০ ▁ও ▁১৬ ০০০ ▁টাকা । সি এমএ ▁করতে ▁হলে ▁ইন্টারমিডিয়েট ▁এন্ট্রি ▁রুট ▁ছাত্রছাত্রীদের ▁মোট ▁পড়তে ▁হয় ▁২০টি ▁বিষয় । ▁অন্যদিকে ▁গ্র্যাজুয়েট ▁এন্ট্রি ▁রুট ▁পদ্ধতির ▁ছাত্রছাত্রীদের ▁পড়তে ▁হবে ▁১৭টি ▁বিষয় । ▁নলেজ ▁লেভেল ে ▁পড়তে ▁হবে ▁প্রিন্সিপাল ▁অব ▁অ্যাকাউন্টিং , ▁প্রিন্সিপাল ▁অব ▁বিজনেস ▁অ্যান্ড ▁ইকোনমিকস ▁ও ▁ব্যবসায় ▁যোগাযোগ ▁এই ▁তিনটি ▁বিষয় । ▁আর ▁বিজনেস ▁লেভেল ে ▁পড়তে ▁হবে ▁৫টি ▁বিষয় । ▁এ ▁ছাড়া ▁প্রফেশনাল ▁লেভেল ▁১ , ▁২ ▁ও ▁৩ ▁পড়তে ▁হবে ▁৪টি ▁করে ▁মোট ▁১২টি ▁বিষয় । ▁আর ▁এসব ▁বিষয়গুলো ▁পড়িয়ে ▁থাকেন ▁আইসি এ বির ▁বিভিন্ন ▁সদস্য ▁ও ▁দেশের ▁বিভিন্ন ▁বিশ্ববিদ্যালয় ের ▁শিক্ষকের া । হা বি বুর ▁সিরাজ ▁বলেন , ▁বর্তমান ▁চাকরির ▁বাজারে ▁একজন ▁সিএম এ ▁ডিগ্রি ধারী র ▁ব্যাপক ▁চাহিদা ▁রয়েছে । ▁তাই ▁এই ▁ডিগ্রি ▁সম্পন্ন ▁করে ▁সরকারি - বেসরকারি ▁প্রতিষ্ঠান , ▁ব্যাংক , ▁বিমা , ▁আন্তর্জাতিক ▁প্রতিষ্ঠান , ▁বিভিন্ন ▁এনজিও , ▁টেলিফোন ▁কোম্পানি , ▁মাল্টি ন্যাশনাল ▁প্রতিষ্ঠান — এমনকি ▁বিদেশে ও ▁চাকরির ▁ভালো ▁সুযোগ ▁রয়েছে । ▁অন্যান্য ▁পেশার ▁চেয়ে ▁এ ▁পেশায় ▁ভালো ▁বেতন ▁ও ▁সুযোগ - সুবিধা ▁পাওয়া ▁যায় । বিস্তার িত ▁জানতে : ▁যাঁরা ▁কস্ট ▁অ্যান্ড ▁ম্যানেজমেন্ট ▁অ্যাকাউন্টিং ▁পড়ে ▁পেশা ▁শুরু ▁করতে ▁চান , ▁তাঁরা ▁ভর্তি ▁ও ▁অন্যান্য ▁তথ্য ▁জানতে ▁যোগাযোগ ▁করতে ▁পারেন ▁আইসি এমএ বির ▁ঢাকা সহ ▁দেশের ▁অন্য ▁শাখা গুলোতে । ▁সারা ▁দেশে ▁এদের ▁মোট ▁পাঁচটি ▁শাখা ▁রয়েছে । ঢাকা ▁কেন্দ্র : ▁শিক্ষা ▁বিভাগ , ▁আইসি এমএ বি ▁ভবন , ▁নীলক্ষেত , ▁ঢাকা । ▁ফোন - ৯৬ ১৫ ৪৬০ , ▁৯৬ ১১৭ ৯৯ ; ▁চট্টগ্রাম ▁শাখা : ▁ফোন - ০৩ ১ - ৭২ ৭৬ ৩৮ ; ▁খুলনা ▁শাখা : ▁ফোন - ০৪ ১ - ৭২ ২৩ ৩৫ ; ▁রাজশাহী ▁কেন্দ্র : ▁ফোন - ০৭ ২১ - ৭৫ ১০ ৯২ ; ▁কুমিল্লা ▁কেন্দ্র : ▁ফোন - ০৮ ১ - ৭ ৩৬ ৮৬ । ▁এ ▁ছাড়া ▁ভিজিট ▁করতে ▁পারেন ▁ www . ic ma b . org . bd ▁এই ▁ঠিকানায় ।,▁x x bo s ▁ঢাকা - বঙ্গবন্ধু ▁সেতু ▁মহাসড়কের ▁টাঙ্গাইল ের ▁এলে ঙ্গা ▁বাসস্ট্যান্ড ▁এলাকায় ▁৩০০ ▁মিটার ▁সড়ক ▁সম্প্রসারণ ের ▁কাজ ▁শুরু ▁হয়েছে । ▁ফলে ▁ওই ▁এলাকায় ▁এক ▁লেনে ▁যানবাহন ▁পারাপার ▁হচ্ছে । ▁এতে ▁করে ▁এলে ঙ্গা ▁বাসস্ট্যান্ড ের ▁দুই ▁দিকে ▁অন্তত ▁১০ ▁কিলোমিটার ▁যানজট ের ▁সৃষ্টি ▁হয়েছে । ▁শুক্রবার ▁দুপুরে ▁সরে জমিন ে ▁দেখা ▁যায় , ▁এলে ঙ্গা ▁বাসস্ট্যান্ড ▁থেকে ▁দীর্ঘ ▁গাড়ির ▁সারি ▁প্রায় ▁আট ▁কিলোমিটার ▁দূরে ▁টাঙ্গাইল ▁সদর ▁উপজেলার ▁বিক্রম হাটি ▁পর্যন্ত ▁এসে ▁ঠেকে ছে । ▁বঙ্গবন্ধু ▁সেতুর ▁দিকে ও ▁পাঁচ ▁কিলোমিটারের ▁বেশি ▁যানজট ের ▁সৃষ্টি ▁হয়েছে । ▁সদর ▁উপজেলার ▁রসুলপুর ▁এলাকায় ▁ট্রাক চালক ▁খোরশেদ ▁আলম ▁জানান , ▁টাঙ্গাইল ▁শহর ▁বাইপাস ের ▁রাব না ▁মোড় ▁পার ▁হওয়ার ▁পর ▁থেকেই ▁যানজট ে ▁পড়তে ▁হচ্ছে । ▁১০ ▁মিনিটের ▁রাস্তা ▁পার ▁হতে ▁এক ▁ঘণ্টার ▁বেশি ▁সময় ▁লাগছে ▁বলে ও ▁জানান ▁তিনি । ▁ট্রাফিক ▁পুলিশ ▁বিভাগ ▁জানায় , ▁এলে ঙ্গা ▁বাসস্ট্যান্ড ▁এলাকায় ▁কিছু ▁সময় ▁ঢাকার ▁দিকে ▁গাড়ি ▁চলাচলের ▁সুযোগ ▁দেওয়া ▁হচ্ছে । ▁আবার ▁কিছু ▁সময় ▁ঢাকার ▁দিক ▁বন্ধ ▁রেখে ▁পার ▁করা ▁হচ্ছে ▁উত্তরবঙ্গ গামী ▁যানবাহন । ▁ফলে ▁দুই ▁দিকেই ▁যানজট ের ▁সৃষ্টি ▁হচ্ছে । ▁এলে ঙ্গা ▁বাসস্ট্যান্ড ▁থেকে ▁বঙ্গবন্ধু ▁সেতুর ▁দিকে ▁এবং ▁ঢাকার ▁উভয় ▁দিকেই ▁অন্তত ▁১০ ▁কিলোমিটার ▁যানজট ▁লেগে ▁থাকছে । ▁১০ ▁মিনিটের ▁সড়ক ▁পার ▁হতে ▁এক ▁থেকে ▁দেড় ▁ঘণ্টা ▁পর্যন্ত ▁সময় ▁লাগছে । ▁টাঙ্গাইল ▁সড়ক ▁ও ▁জন পথ ▁বিভাগের ▁নির্বাহী ▁প্রকৌশলী ▁আমি মুল ▁এহসান ▁প্রথম ▁আলোকে ▁বলেন , ▁রাস্তার ▁দুপাশে ▁দুই ▁লেন ▁সম্প্রসারণ ▁করা ▁হচ্ছে । ▁আগামী ▁১৫ – ২০ ▁দিনের ▁মধ্যে ▁এই ▁দুই ▁লেনের ▁নির্মাণকাজ ▁শেষ ▁হবে । ▁পরে ▁মাঝের ▁দুই ▁লেন ▁সড়কের ▁উন্নয়ন ▁করা ▁হবে । ▁সড়ক ▁নির্মাণের ▁কারণে ▁কিছুটা ▁যানজট ▁হলেও ▁নির্মাণকাজ ▁শেষ ▁হলে ▁এলে ঙ্গা তে ▁আর ▁যানজট ▁হবে ▁না । ▁টাঙ্গাইল ▁ট্রাফিক ▁পুলিশের ▁পরিদর্শক ▁( টি আই ) ▁রফিকুল ▁ইসলাম ▁সরকার ▁প্রথম ▁আলোকে ▁বলেন , ▁এলে ঙ্গার ▁যানজট ▁নিরসন ের ▁জন্য ▁দুজন ▁ট্রাফিক ▁পরিদর্শক , ▁আটজন ▁সার্জেন্ট , ▁ছয়জন ▁সহকারী ▁ট্রাফিক ▁সার্জেন্ট ▁ও ▁আটজন ▁কনস্টেবল ▁ওই ▁এলাকায় ▁দায়িত্ব ▁পালন ▁করছেন । ▁পাশাপাশি ▁হাইওয়ে ▁পুলিশ ও ▁রয়েছে । ▁কিন্তু ▁এক ▁লেনে ▁যানবাহন ▁পারাপার ের ▁কারণে ▁এই ▁যানজট ের ▁সৃষ্টি ▁হচ্ছে ।,▁x x bo s ▁একটি ▁মজার ▁ধাঁধা ▁দেখুন । ▁তিন ▁বন্ধু ▁গাছের ▁নিচে ▁ঘুমিয়ে ▁আছেন । ▁একটি ▁বানর ▁এসে ▁তাদের ▁প্রত্যেকের ▁মুখে ▁রং ▁দিয়ে ▁বিচিত্র ▁ধরনের ▁দাগ ▁এঁকে টে কে ▁দিয়ে ▁গেল । ▁ঘুম ▁থেকে ▁উঠে ▁তিন ▁বন্ধুর ▁প্রত্যেকেই ▁অপর ▁দুই ▁বন্ধুর ▁চেহারা ▁দেখে ▁হাস তে ▁লাগলেন । ▁কিছুক্ষণ ▁পর ▁প্রথম ▁বন্ধু ▁হাসি ▁বন্ধ ▁করে ▁চুপ ▁করে ▁গেলেন । ▁বলুন ▁তো ▁কেন ? ▁কারণ ▁ভাবলেন ▁দ্বিতীয় ▁বন্ধু ▁যদি ▁দেখতেন ▁তার ▁মুখে ▁দাগ ▁নেই , ▁তাহলে ▁দ্বিতীয় ▁বন্ধু ▁নিশ্চয়ই ▁তৃতীয় ▁বন্ধুকে ▁হাস তে ▁দেখে ▁অবাক ▁হতেন । ▁কারণ ▁প্রথম ▁বন্ধুর ▁মুখে ▁যদি ▁দাগ ▁না ▁থাকে ▁আর ▁দ্বিতীয় ▁বন্ধু ▁তো ▁ধরেই ▁নিয়েছেন ▁তার ▁নিজের ▁মুখে ▁দাগ ▁নেই , ▁তাহলে ▁তো ▁তৃতীয় ▁বন্ধুর ▁হাসা র ▁কথা ▁নয় ! ▁প্রথম ▁ও ▁দ্বিতীয় ▁দুই ▁বন্ধুর ▁কারও ▁মুখে ▁দাগ ▁না ▁থাকত ▁তাহলে ▁তৃতীয় ▁বন্ধু ▁হাস বেন ▁কেন ? ▁অথচ ▁তৃতীয় ▁বন্ধুকে ▁হাস তে ▁দেখে ▁দ্বিতীয় ▁বন্ধু ▁অবাক ▁হচ্ছেন ▁না । ▁তাই ▁প্রথম ▁বন্ধু ▁বুঝ লেন ▁তার ▁নিজের ▁মুখে ও ▁দাগ ▁আছে । ▁এ ▁জন্যই ▁তিনি ▁চুপ ▁করে ▁গেলেন । ▁গণিতের ▁আরেকটি ▁সমস্যার ▁সহজ ▁সমাধান ▁দেখুন । ▁চারটি ▁ক্রমিক ▁সংখ্যার ▁যোগফল ▁৩০ । ▁বলতে ▁হবে ▁সংখ্যা ▁চারটি ▁কত । ▁এর ▁উত্তরের ▁জন্য ▁আমরা ▁প্রথমে ▁সংখ্যা ▁চারটি র ▁সম্ভাব্য ▁গড় ▁কত ▁হতে ▁পারে ▁তা ▁বের ▁করি । ▁গড় ▁৭ ▁ও ▁৮ - এর ▁মাঝামাঝি । ▁সুতরাং ▁ক্রমিক ▁সংখ্যা ▁চারটি ▁নিশ্চয়ই ▁৬ , ▁৭ , ▁৮ ▁ও ▁৯ । ▁এদের ▁যোগফল ▁৩০ । ▁গড় ▁৭ ▁দশমিক ▁৫ । ▁এ ▁সপ্তাহের ▁ধাঁধা ▁আপনি ▁বিস্কুট ▁কিনতে ▁গেলেন । ▁দোকান ি ▁বললেন ▁দাম ▁২০ % ▁বেড়ে ▁১২০ ▁টাকা ▁হয়েছে । ▁আপনি ▁বললেন ▁না , ▁না , ▁২০ % ▁কমাতে ▁হবে । ▁দোকান ি ▁১২০ ▁টাকার ▁ওপর ▁২০ % ▁কমিয়ে ▁দাম ▁নিলেন । ▁বলুন ▁তো ▁এতে ▁কার ▁লাভ ▁হলো ? ▁খুব ▁সহজ । ▁অনলাইনে ▁মন্তব্য ▁আকারে ▁অথবা ▁ qua y um <unk> g ma il . com ▁ই - মেইল ে ▁আপনাদের ▁উত্তর ▁পাঠিয়ে ▁দিন । ▁সঠিক ▁উত্তর ▁দেখুন ▁আগামী ▁রোববার ▁অনলাইনে । ▁গত ▁সপ্তাহের ▁ধাঁধা র ▁উত্তর ▁ধাঁধা টি ▁ছিল ▁এ ▁রকম : ▁একটি ▁সংখ্যার ▁সঙ্গে ▁৬ ▁যোগ ▁করলে ▁একটি ▁পূর্ণ ▁বর্গ ▁সংখ্যা ▁হয় । ▁আবার ▁৬ ▁বিয়োগ ▁করলে ▁সেই ▁পূর্ণ ▁বর্গ ▁সংখ্যার ▁বর্গমূল ▁পাওয়া ▁যায় । ▁বৈশিষ্ট্যপূর্ণ ▁সংখ্যাটি ▁কত ? ▁উত্তর : ▁বৈশিষ্ট্যপূর্ণ ▁সংখ্যাটি ▁১০ । ▁( ১০ ▁+ ▁৬ ) ▁= ▁১৬ , ▁যা ▁একটি ▁পূর্ণ ▁বর্গ ▁সংখ্যা । ▁আবার ▁( ১০ ▁- ▁৬ ) ▁= ▁৪ , ▁যা ▁১৬ ▁এর ▁বর্গমূল । ▁কীভাবে ▁উত্তর ▁বের ▁করলাম ▁প্রথমে ▁আমরা ▁৪ , ▁৯ , ▁১৬ , ▁২৫ ▁প্রভৃতি ▁বর্গ ▁সংখ্যা ▁নিয়ে ▁পর্যবেক্ষণ ▁করি । ▁এদের ▁মধ্যে ▁১৬ ▁আমাদের ▁শর্ত ▁পূরণ ▁করে । ▁কারণ ▁এই ▁বর্গ সংখ্যা টি ▁থেকে ▁৬ ▁বিয়োগ ▁করলে ▁১০ ▁এবং ▁আবার ▁৬ ▁বিয়োগ ▁করলে ▁৪ ▁হয় , ▁যা ▁১৬ - এর ▁বর্গমূল । ▁তার ▁মানে ▁বৈশিষ্ট্যপূর্ণ ▁সংখ্যাটি ▁১০ । ▁এর ▁থেকে ▁৬ ▁বেশি ▁ও ▁৬ ▁কম ▁সংখ্যা গুলো ▁যথাক্রমে ▁১৬ ▁ও ▁৪ । ▁এখানে ▁১৬ ▁একটি ▁পূর্ণ ▁বর্গ ▁সংখ্যা , ▁এবং ▁৪ ▁হলো ▁১৬ - এর ▁বর্গমূল । ▁আমরা ▁তো ▁এই ▁শর্ত টিই ▁পূরণ ▁করতে ▁চা চ্ছি । ▁এখানে ▁লক্ষণীয় ▁যে ▁এ ▁ধরনের ▁আরও ▁কয়েকটি ▁বৈশিষ্ট্যপূর্ণ ▁সংখ্যা ▁রয়েছে । ▁যেমন ▁৩ ▁এমন ▁একটি ▁বৈশিষ্ট্যপূর্ণ ▁সংখ্যা ▁যার ▁সঙ্গে ▁১ ▁যোগ ▁ও ▁বিয়োগ ▁করলে ▁যথাক্রমে ▁৪ ▁ও ▁২ ▁পাওয়া ▁যায় । ▁এখানে ▁৪ ▁একটি ▁পূর্ণ ▁বর্গ ▁সংখ্যা ▁এবং ▁এর ▁বর্গমূল ▁২ ▁। ▁এ ▁রকম ▁আরেকটি ▁বৈশিষ্ট্যপূর্ণ ▁সংখ্যা ▁হলো ▁১৫ । ▁এর ▁সঙ্গে ▁১০ ▁যোগ ▁ও ▁বিয়োগ ▁করলে ▁যথাক্রমে ▁২৫ ▁ও ▁৫ ▁পাব । ▁এখানে ▁২৫ ▁একটি ▁পূর্ণ ▁বর্গ ▁সংখ্যা ▁এবং ▁এর ▁বর্গমূল ▁৫ । ▁আব্দুল ▁কাইয়ুম , ▁সম্পাদক , ▁মাসিক ▁ম্যাগাজিন ▁বিজ্ঞান চিন্তা,▁x x bo s ▁তিন ▁দশক ▁ধরে ▁বাংলাদেশের ▁অর্থনৈতিক ▁প্রবৃদ্ধি ▁স্থিতিশীল । ▁তবে ▁বিশেষজ্ঞরা ▁বলছেন , ▁সুশাসন ▁ছাড়া ▁এই ▁প্রবৃদ্ধি ▁বেশি ▁দিন ▁বজায় ▁থাকবে ▁না । ▁আগে ▁নিম্ন ▁অর্থনীতির ▁দেশ ▁হওয়ায় ▁উন্নয়নের ▁অনেক ▁ক্ষেত্র ▁ছিল , ▁ফলে ▁সুশাসন ▁ততটা ▁জরুরি ▁ছিল ▁না । ▁এই ▁পর্যায়ে ▁অর্থনৈতিক ▁প্রবৃদ্ধি ▁বাড়াতে ▁হলে ▁দেশে ▁সুশাসন ▁জরুরি । ▁রাজধানীর ▁গুলশান ের ▁একটি ▁হোটেলে ▁গত কাল ▁রোববার ▁‘ বাংলাদেশ ▁জার্নি : ▁অ্যা ক্সি লার ি টিং ▁ট্রান্স ফর ম েশন ’ ▁( বাংলাদেশের ▁যাত্রা : ▁দ্রুততর ▁রূপান্তর ) ▁শীর্ষক ▁সম্মেলনে ▁তাঁরা ▁এসব ▁কথা ▁বলেন । ▁দেশের ▁অর্থনৈতিক ▁উন্নয়ন - সংশ্লিষ্ট ▁বিভিন্ন ▁বিষয়ে ▁দুই ▁দিনের ▁এই ▁সম্মেলন ▁আয়োজন ▁করেছে ▁বাংলাদেশ ▁উন্নয়ন ▁গবেষণা ▁প্রতিষ্ঠান ▁( বিআই ডিএস ) । ▁গত কাল ▁উদ্বোধনী ▁দিনে ▁কয়েক ▁পর্বে ▁সুশাসন , ▁শিক্ষা , ▁উন্নয়নের ▁সম্ভাবনা , ▁শ্রম বাজার , ▁মা ▁ও ▁শিশুর ▁পুষ্টি ▁বিষয়ে ▁আলোচনা ▁হয় । ▁‘ বাংলাদেশ ▁কি ▁সুশাসন ▁ছাড়া ▁ধারাবাহিকভাবে ▁উন্নয়ন ▁করতে ▁পারবে ?’ — এই ▁পর্বে ▁সুশাসন ▁ও ▁অর্থনৈতিক ▁উন্নয়ন ▁বিষয়ে ▁আলোচনা ▁হয় । ▁এতে ▁মূল ▁প্রবন্ধ ▁উপস্থাপন ▁করেন ▁বি আইডি এস ের ▁গবেষণা ▁পরিচালক ▁কাজী ▁আলী ▁তৌফিক । ▁তাতে ▁বলা ▁হয় , ▁অনেক ▁ক্ষেত্রে ▁সুশাসন ▁না ▁থাকার ▁পরেও ▁বাংলাদেশের ▁ধারাবাহিক ▁অর্থনৈতিক ▁প্রবৃদ্ধি ▁বিস্ময়কর । ▁আলোচনায় ▁অংশ ▁নিয়ে ▁সাবেক ▁তত্ত্বাবধায়ক ▁সরকারের ▁উপদেষ্টা ▁আকবর ▁আলি ▁খান ▁বলেন , ▁সুশাসন ▁ছাড়া ▁অর্থনৈতিক ▁উন্নয়ন ▁হয়তো ▁আরও ▁কিছুদিন ▁চলবে । ▁শেষ ▁পর্যন্ত ▁এটি ▁চলবে ▁না । ▁৫ ▁বা ▁১০ ▁বছর ▁পরে ▁বড় ▁সমস্যার ▁সম্মুখীন ▁হতে ▁হবে । ▁বাংলাদেশের ▁বর্তমান ▁পরিস্থিতিতে ▁রাতারাতি ▁সুশাসন ▁প্রতিষ্ঠা ▁হবে ▁না , ▁মন্তব্য ▁করে ▁আকবর ▁আলি ▁বলেন , ▁এখন ই ▁সুশাসন ের ▁জন্য ▁উদ্যোগ ▁নেওয়া ▁হলেও ▁আগামী ▁১০ - ১৫ ▁বছরের ▁আগে ▁অবস্থার ▁পরিবর্তন ▁হবে ▁না । ▁এই ▁পর্বের ▁সভাপতি ▁সাবেক ▁তত্ত্বাবধায়ক ▁সরকারের ▁উপদেষ্টা ▁এবং ▁পাওয়ার ▁অ্যান্ড ▁পার্টি সিপ েশন ▁রিসার্চ ▁সেন্টারের ▁নির্বাহী ▁চেয়ারম্যান ▁হোসেন ▁জিল্লু র ▁রহমান ▁বলেন , ▁অর্থনৈতিক ▁প্রবৃদ্ধি ▁বজায় ▁থাকা ▁না - থাকা র ▁চেয়ে , ▁প্রবৃদ্ধি ▁বাড়বে ▁কি ▁না ▁সেটি ▁আলোচনা ▁হওয়া ▁দরকার । ▁এক ▁দশক ▁ধরে ▁অর্থনৈতিক ▁প্রবৃদ্ধি ▁একই ▁জায়গায় ▁আটকে ▁আছে । ▁তিনি ▁আরও ▁বলেন , ▁দেশের ▁সব খানে ▁সমঝোতা র ▁নির্বাচন ▁দেখা ▁যাচ্ছে । ▁শুধু ▁রাজনৈতিক ▁ক্ষেত্রে ▁এমনটি ▁হচ্ছে ▁তা ▁নয় । ▁বিভিন্ন ▁পেশাজীবী র ▁ক্ষেত্রেও ▁তা ▁হচ্ছে । ▁রাজনৈতিক ▁দলগুলোর ▁নতুন ▁নেতৃত্ব ▁গড়ে ▁তোলার ▁কোনো ▁প্রক্রিয়া ▁নেই । ▁স্থানীয় ▁পর্যায়ের ▁নেতা - কর্মীদের ▁কেন্দ্রীয় ▁নেতাদের ▁নির্দেশে ▁চলতে ▁হচ্ছে । ▁প্রবৃদ্ধি ▁বৃদ্ধি ▁না ▁হওয়ার ▁ক্ষেত্রে ▁এগুলোর ▁প্রভাব ▁পড়ছে । ▁ঢাকা ▁বিশ্ববিদ্যালয় ের ▁উন্নয়ন ▁অর্থনীতি ▁বিভাগের ▁অধ্যাপক ▁সেলিম ▁রায়হান ▁বলেন , ▁১৯৯০ - এর ▁দশকের ▁পর ▁থেকেই ▁দেশে ▁অর্থনৈতিক ▁প্রবৃদ্ধি র ▁ধরন ▁স্থিতিশীল । ▁এশিয়া ▁ও ▁আফ্রিকার ▁কিছু ▁দেশে ▁উচ্চ ▁হারে ▁প্রবৃদ্ধি ▁হলেও ▁সেটি ▁স্থিতিশীল ▁হয়নি । ▁বাংলাদেশে ▁সুশাসন ▁ছাড়াই ▁প্রবৃদ্ধি ▁হয়েছে । ▁এখন ▁বড় ▁প্রশ্ন , ▁সুশাসন ▁ছাড়া ▁এই ▁প্রবৃদ্ধি ▁বজায় ▁থাকবে ▁কি ▁না । ▁বাংলাদেশের ▁রাজনীতি ▁দো দুল ্য মান ▁হলেও ▁অর্থনীতি ▁ধারাবাহিকভাবে ▁ভালো ▁হয়েছে ▁বলে ▁মন্তব্য ▁করেন ▁ব্র্যাক ▁বিশ্ববিদ্যালয় ের ▁ব্র্যাক ▁ইনস্টিটিউট ▁অব ▁গুড ▁গভ র্ন েন্স ▁অ্যান্ড ▁ডেভেলপমেন্ট ের ▁ফেলো ▁মির্জা ▁হাসান । ▁তিনি ▁বলেন , ▁দেশের ▁রাজনীতিক েরা ▁সমঝোতা র ▁মাধ্যমে ▁নিজেদের ▁মধ্যে ▁সুবিধা ▁ভাগ ▁করে ▁নিয়েছে । ▁একটি ▁দল ▁কুক্ষিগত ▁না ▁করে ▁দলগুলোর ▁মধ্যে ▁সুবিধা ▁ভাগ ▁করেছে , ▁যা ▁প্রবৃদ্ধি কে ▁ধরে ▁রেখেছে । ▁উন্মুক্ত ▁আলোচনায় ▁সুশাসন ের ▁জন্য ▁নাগরিকের ▁সম্পাদক ▁বদিউ ল ▁আলম ▁মজুমদার ▁বলেন , ▁ক্ষমতাসীন ▁দলের ▁মধ্যে ▁মারামারি , ▁বিশৃঙ্খলা ▁অশান্তি ▁তৈরি ▁করছে , ▁যা ▁প্রবৃদ্ধি তে ▁প্রভাব ▁ফেলবে । ▁বিভিন্ন ▁রকমের ▁ফা য় দা ▁পেয়ে ▁পেশি শক্তির ▁লোকজন ▁রাজনৈতিক ▁ক্ষমতা ▁দখল ▁করছেন । ▁এঁদের ▁অনেকের ▁আধুনিক ▁রাষ্ট্র ▁কীভাবে ▁পরিচালনা ▁করতে ▁হয় ▁সে ▁বিষয়ে ▁ধারণা ▁নেই । ▁তাঁদের ▁লক্ষ্য ▁টাকা পয়সা ▁বানানো , ▁পাচার ▁করা । ▁বি আইডি এস ের ▁এই ▁বার্ষিক ▁আয়োজনের ▁উদ্বোধনী ▁পর্বে ▁উপস্থিত ▁ছিলেন ▁পরিকল্পনা ▁বিভাগের ▁সচিব ▁মো . ▁জিয়াউল ▁ইসলাম । ▁এ ▁সময় ▁বি আইডি এস ের ▁মহাপরিচালক ▁কে ▁এস ▁মুর্শিদ ▁সম্মেলনের ▁সারসংক্ষেপ ▁এবং ▁আলোচ্য সূচি ▁বিষয়ে ▁প্রবন্ধ ▁উপস্থাপন ▁করেন । ▁উদ্বোধনী ▁পর্বের ▁সভাপতির ▁বক্তব্যে ▁বাংলাদেশ ▁ব্যাংকের ▁সাবেক ▁গভর্নর ▁মোহাম্মদ ▁ফর াস উদ্দিন ▁বলেন , ▁সমাজ ▁পরিবর্তন ▁ও ▁টেকসই ▁উন্নয়নে ▁মানসিকতা র ▁পরিবর্তন ▁জরুরি । ▁বাংলাদেশের ▁রূপান্তর - প্রক্রিয়া ▁চলছে । ▁এটি ▁শক্তিশালী ▁করতে ▁হবে । ▁বর্তমান ▁প্রবৃদ্ধি ▁হারে ▁২০ ২৯ ▁সালের ▁মধ্য ▁নিম্ন ▁মধ্যম ▁আয়ের ▁দেশ ▁থেকে ▁মধ্য ▁আয়ের ▁দেশ ▁হওয়া ▁সম্ভব ।\n",
       "y: LMLabelList\n",
       ",,,,\n",
       "Path: /content/data;\n",
       "\n",
       "Valid: LabelList (10000 items)\n",
       "x: LMTextList\n",
       "▁x x bo s ▁ভ্রমণ নিষেধ া জ্ঞা ▁আরোপ ▁করার ▁পর ▁ট্রাম্প ▁ক্রমাগত ▁হেরে ই ▁যাচ্ছেন । ▁মার্কিন ▁আপিল ▁আদালতের ▁নবম ▁সার্কিট ▁হাওয়াই ▁জেলা ▁আদালতের ▁রায় ▁প্রায় ▁পুরোটাই ▁বহাল ▁রেখেছেন । ▁এর ▁মধ্য ▁দিয়ে ▁আপিল ▁আদালত ▁ট্রাম্পের ▁দ্বিতীয় ▁দফা ▁ভ্রমণ নিষেধ া জ্ঞা য় ▁আঘাত ▁হান লেন । ▁আমেরিকান ▁সিভিল ▁লিবার্টি স ▁ইউনিয়নের ▁মুখপাত্র ▁আমাকে ▁বলেছেন , ▁‘ দুটি ▁আপিল ▁আদালত ▁মুসলমানদের ▁ভ্রমণ নিষেধ া জ্ঞা র ▁বিষয়টি ▁আমলে ▁নিয়ে ▁দৃঢ়তা র ▁সঙ্গে ▁তাকে ▁বেআইনি ▁হিসেবে ▁বিধান ▁দিয়েছেন । ▁যদিও ▁আপিল ▁আদালতের ▁চতুর্থ ▁ও ▁নবম ▁সার্কিট ▁ভিন্ন ▁যুক্তি ▁দিয়েছেন , ▁উভয় ▁আদালত ই ▁এ ▁ব্যাপারে ▁পরিষ্কার , ▁এ ▁ধরনের ▁নিষেধাজ্ঞার ▁যৌক্তিকতা ▁নেই । ’ ▁নবম ▁সার্কিট ▁তো ▁আরও ▁একবার ▁ট্রাম্পের ▁এই ▁দাবি ▁নাকচ ▁করেছেন ▁যে ▁নির্দিষ্ট ▁কিছু ▁গোষ্ঠীর ▁ওপর ▁নিষেধাজ্ঞা ▁আরোপ ের ▁ক্ষেত্রে ▁তাঁর ▁হাতে ▁প্রায় ▁অসীম ▁ক্ষমতা ▁রয়েছে । ▁ব্যাপারটা ▁হচ্ছে , ▁অভিবাসনের ▁ব্যাপারে ▁প্রেসিডেন্টের ▁একক ▁ক্ষমতা ▁নেই । ▁তাঁর ▁কর্তৃত্ব ▁নানা ▁রকম ▁আইনি ▁ও ▁সাংবিধানিক ▁বিধিনিষেধ ের ▁নি গড়ে ▁বাঁধা । ▁আমাদের ▁সিদ্ধান্ত ▁হচ্ছে , ▁নির্বাহী ▁আদেশ ▁জারি ▁করতে ▁গিয়ে ▁প্রেসিডেন্ট ▁কংগ্রেস ▁কর্তৃক ▁প্রদত্ত ▁ক্ষমতার ▁বেশি ▁ব্যবহার ▁করেছেন । ▁ছয়টি ▁দেশের ▁১৮ ▁কোটির ▁বেশি ▁মানুষ ▁ও ▁শরণার্থী র ▁আগমন ▁নিষিদ্ধ ▁এবং ▁২০১৭ ▁সালে ▁১ ▁লাখ ▁১০ ▁হাজার ▁শরণার্থী র ▁জায়গায় ▁৫০ ▁হাজার ▁নেওয়ার ▁ঘোষণা — এসব ▁করতে ▁গিয়ে ▁ট্রাম্প ▁নিজের ▁ক্ষমতা ▁ব্যবহারের ▁প্রয়োজনীয় ▁পূর্বশর্ত ▁পূরণ ▁করেননি । ▁এই ▁মানুষেরা ▁যুক্তরাষ্ট্রে ▁ঢু কলে ▁তা ▁‘ দেশ টির ▁স্বার্থের ▁জন্য ▁হানি কর ’ ▁হবে , ▁এটা ▁বলার ▁আগে ▁প্রেসিডেন্ট কে ▁তথ্যপ্রমাণ ▁জড়ো ▁করতে ▁হবে । ▁এ ▁ছাড়া ▁ট্রাম্পের ▁এই ▁আদেশ ▁ইমিগ্রেশন ▁অ্যান্ড ▁ন্যাশনাল িটি ▁অ্যাক্ট ের ▁পরিপন্থী । ▁কারণ ▁এতে ▁বলা ▁হয়েছে , ▁জাতীয়তা ভিত্তিক ▁বিভাজন ▁করা ▁যাবে ▁না , ▁আর ▁শরণার্থীদের ▁প্রবেশ ▁সীমিত ▁করতে ▁হলে ▁প্রেসিডেন্ট কে ▁নির্দিষ্ট ▁প্রক্রিয়া ▁অনুসরণ ▁করতে ▁হবে । ▁আইনের ▁এই ▁বিধান ের ▁বলে ▁আমরা ▁জেলা ▁আদালতের ▁আদেশ ▁অনেকাংশে ▁সমর্থন ▁করি । ▁মনে ▁হচ্ছে , ▁মামলা ▁চলাকালে ▁প্রশাসন ▁এটা ▁শিখতে ▁পারেনি , ▁আদালত ▁এমন ▁যুক্তি ▁সমর্থন ▁করেন ▁না ▁যে ▁প্রশাসনের ▁কাজ ▁পর্যালোচনা ▁করা ▁যাবে ▁না । ▁আদালত ▁প্রশাসন কে ▁নির্দেশনা ▁দিয়েছেন , ▁‘ প্রেসিডেন্ট ের ▁অভিবাসন ▁ও ▁জাতীয় ▁নিরাপত্তা ▁নীতি বিষয়ক ▁বিবেচনা র ▁প্রতি ▁আমরা ▁যত ▁শ্রদ্ধা ই ▁দেখা ই ▁না ▁কেন , ▁তার ▁মানে ▁এই ▁নয় ▁যে , ▁আমরা ▁মোট েও ▁এই ▁নীতি ▁পর্যালোচনা ▁করতে ▁পারব ▁না ... আমরা ▁বিচার িক ▁ভূমিকা ▁ত্যাগ ▁করিনি । ▁এ ▁ক্ষেত্রে ▁“ আইন ▁কী ▁জিনিস ”, ▁সেটা ▁বলার ▁ব্যাপারে ▁আমাদের ▁বাধ্যবাধকতা ▁আছে ▁( মার বুরি ▁বনাম ▁ম্যাডিসন , ▁৫ ▁ইউ . এস . ১৩৭ , ▁১৭৭ ( ১৮ ০৩ ) । ’ ▁তাহলে ▁সরকার ▁কেন ▁গো ঁ ▁ধরে ▁বসে ▁থাকে , ▁এই ▁আইনি ▁বিতর্কে ▁আদালতের ▁স্থান ▁নেই । ▁সুনির্দিষ্ট ▁আইনি ▁পরিপ্রেক্ষিতে ▁আদালত ▁দেখেছেন , ▁প্রেসিডেন্ট ▁এমন ▁কিছু ▁পাননি ▁যে ▁বলা ▁যায় , ▁‘ কোনো ▁এক ▁বিদেশি ▁গোষ্ঠীর ▁আগমন ▁মার্কিন ▁যুক্তরাষ্ট্রের ▁স্বার্থের ▁জন্য ▁হানি কর । ’ ▁প্রশাসনের ▁এই ▁নিপীড়ন মূলক ▁কাজের ▁ন্যূনতম ▁ভিত্তি ▁না ▁থাকায় ▁আদালত ▁তাকে ▁ভর ্ ৎস না ▁করেছেন : ▁‘ ২ ( সি ) ▁নম্বর ▁ধারায় ▁প্রথম ▁যে ▁তিনটি ▁কারণ ▁বর্ণিত ▁হয়েছে , ▁আমরা ▁তা ▁প্রত্যাখ্যান ▁করি । ▁কারণ ▁এটা ▁বিদ্যমান ▁প্রক্রিয়া ▁পর্যালোচনায় ▁সরকারের ▁সক্ষমতা ▁সংরক্ষণ ▁ও ▁যথাযথ ▁ভে টিং - প্রক্রিয়া ▁নিশ্চিতকরণ ের ▁সঙ্গে ▁সম্পর্কিত । ▁এমন ▁তথ্য ▁নেই ▁যে ▁বিদ্যমান ▁ভে টিং ▁কার্যক্রম ▁অপর্যাপ্ত । ▁আবার ▁এমন ▁তথ্য ও ▁নেই ▁যে ▁উন্নত ▁ভে টিং - প্রক্রিয়া ▁না ▁থাকলে ▁জাতীয় ▁স্বার্থের ▁হানি ▁ঘটবে । ▁এসব ▁চিহ্নিত ▁কারণে র ▁পরিপ্রেক্ষিতে ▁বলা ▁যায় , ▁এই ▁ছয়টি ▁দেশের ▁নাগরিকের া ▁যুক্তরাষ্ট্রে ▁প্রবেশ ▁করলে ▁আমাদের ▁জাতীয় ▁স্বার্থের ▁হানি ▁ঘটবে । ’ ▁মনে ▁হয় , ▁সরকারি ▁আইনজীবী রা ▁সংশ্লিষ্ট ▁তথ্যপ্রমাণ ▁সংগ্রহের ▁চেষ্টা ▁করেননি । ▁কারণ , ▁এই ▁বিশুদ্ধ ▁রাজনৈতিক ▁পদক্ষেপের ▁প্রমাণ ▁নেই । ▁জাতীয় ▁নিরাপত্তার ▁যুক্তির ▁জায়গা ▁থেকে ▁আদালত ▁একই ▁ভাবে ▁খুঁজে ▁পেয়েছেন , ▁এই ▁ছয়টি ▁দেশের ▁নাগরিকদের ▁কেন ▁যুক্তরাষ্ট্রে ▁ঢুকতে ▁দেওয়া ▁হবে ▁না , ▁তার ▁সপক্ষে ▁সরকার ▁তেমন ▁কোনো ▁যুক্তি ▁দেয়নি । ▁সংক্ষেপে ▁বললে , ▁সরকারের ▁নির্বাহী ▁আদেশে ▁এমন ▁যুক্তি ▁দেওয়া ▁হয়নি ▁যে ▁কেন ▁বিদ্যমান ▁প্রটোকল ের ▁অধীনে ▁এই ▁ছয়টি ▁দেশের ▁নাগরিকের া ▁যুক্তরাষ্ট্রের ▁স্বার্থের ▁জন্য ▁হানি কর ▁হবেন । ▁এ ▁ছাড়া ▁১৯৬৫ ▁সালের ▁এক ▁আইনে ▁প্রেসিডেন্টের ▁ক্ষমতা ▁সীমিত ▁করা ▁হয়েছে । ▁এই ▁আইনে ▁বলা ▁হয়েছে , ▁ভিসা ▁দেওয়ার ▁ক্ষেত্রে ▁বৈষম্য ▁করা ▁যাবে ▁না । ▁নিষেধাজ্ঞার ▁সমর্থকদের ▁যুক্তি ▁হচ্ছে , ▁অভিবাসনের ▁ওপর ▁প্রেসিডেন্টের ▁যে ▁সামগ্রিক ▁কর্তৃত্ব ▁রয়েছে , ▁এই ▁আইনে ▁তা ▁খর্ব ▁করা ▁হয়নি । ▁কিন্তু ▁আদালত ▁এর ▁সঙ্গে ▁একমত ▁হননি । ▁আদালতের ▁অনুসন্ধান ▁হচ্ছে , ▁প্রশাসন ▁আইনি ▁শর্ত ▁পূরণ ▁করেনি । ▁ফলে ▁এই ▁নিষেধাজ্ঞার ▁সাংবিধানিক ▁দুর্বলতা র ▁দিকে ▁নজর ▁দেওয়ার ▁কিছু ▁নেই । ▁সরকারের ▁তরফে ▁একমাত্র ▁জয় ▁হচ্ছে , ▁আদালত ▁এই ▁স্বীকৃতি ▁দিয়েছেন ▁যে ▁সরকার ▁আন্ত সংস্থা ▁ভে টিং ▁পর্যালোচনা ▁করতে ▁পারবে । ▁আর ▁সুনির্দিষ্টভাবে ▁প্রেসিডেন্টের ▁কাজে ▁যে ▁নিষেধাজ্ঞা ▁দিতে ▁হবে , ▁তার ▁প্রয়োজনীয়তা ▁নেই । ▁সরকারের ▁আইনজীবী রা ▁কেন ▁সরকারকে ▁প্রয়োজনীয় ▁তথ্য ▁সংগ্রহ ▁করে ▁বোধগম্য ▁অবস্থান ▁নিতে ▁তাড়া ▁দিচ্ছেন ▁না , ▁সেটা ▁আমাদের ▁বোধগম্য ▁নয় । ▁অর্থাৎ ▁কেন ▁এই ▁ছয়টি ▁দেশের ▁নাগরিকদের ▁ভ্রমণ নিষেধ া জ্ঞা ▁জরুরি ▁বা ▁কেন ▁সব ▁শরণার্থী র ▁ওপর ▁নিষেধাজ্ঞা ▁জারি ▁করতে ▁হবে ? ▁জাস্টিস ▁ডিপার্টমেন্টের ▁সাবেক ▁মুখপাত্র ▁ম্যাথু ▁মিলার ▁বলেছেন , ▁‘ প্রেসিডেন্ট ের ▁পরাজয়ের ▁সামগ্রিক ▁পরিণতি ▁দেখে ▁আমি ▁স্তম্ভ িত । ▁তিনি ▁আইনি ▁ও ▁সাংবিধানিক ▁কারণে ▁হেরে ▁গেছেন । ’ ▁কেউ ▁হয়তো ▁ভাবতে ▁পারেন , ▁প্রশাসন ▁প্রয়োজনীয় ▁সাক্ষ্যপ্রমাণ ▁জোগাড় ▁করতে ▁অক্ষম , ▁অথবা ▁তারা ▁অলস । ▁আমরা ▁ভিন্ন ▁এক ▁তত্ত্ব ▁পছন্দ ▁করি : ▁এই ▁আদেশ গুলোর ▁নিরাপত্তা ▁বা ▁অন্যান্য ▁যৌক্তিকতা ▁নেই ; ▁বরং ▁এগুলো ▁কিছু ▁সংস্কার ে ▁স্থূল ভাবে ▁সু ড় স ুড়ি ▁দেওয়া , ▁যার ▁কোনো ▁প্রামাণিক ▁ও ▁যৌক্তিক ▁ভিত্তি ▁নেই । ▁পৃথিবীর ▁কোনো ▁আইনজীবী ▁আদালতে ▁তা ▁প্রমাণ ▁করতে ▁পারবেন ▁না । ▁অনুবাদ : ▁প্রতীক ▁বর্ধন , ▁ওয়াশিংটন ▁পোস্ট ▁থেকে ▁নেওয়া । ▁জেনিফার ▁রুবিন : ▁ওয়াশিংটন ▁পোস্ট – এর ▁কলামিস্ট ।,▁x x bo s ▁কাশ্মীরি ▁পোলাও উপ করণ : ▁পোলাও য়ের ▁চাল ▁৩০০ ▁গ্রাম , ▁কিশমিশ ▁৫০ ▁গ্রাম , ▁আপেল ▁টুকরা ▁১০০ ▁গ্রাম , ▁কাজুবাদাম ▁১০০ ▁গ্রাম , ▁আনারস ▁টুকরা ▁১০০ ▁গ্রাম , ▁লবণ ▁ও ▁চিনি ▁স্বাদ মতো , ▁ঘি ▁৫০ ▁গ্রাম , ▁মা ওয়া ▁৫০ ▁গ্রাম , ▁তেল ▁১০০ ▁গ্রাম , ▁গরম ▁মসলা ▁পরিমাণ মতো । প্র ণা লি : ▁চাল ▁ভালো ▁করে ▁পানিতে ▁ধুয়ে ▁সেদ্ধ ▁করে ▁নিন । ▁অন্য ▁একটি ▁সস প্যান ে ▁ঘি ▁ও ▁তেল ▁ঢেলে ▁তাতে ▁গরম ▁মসলা ▁দিয়ে ▁নাড়ু ন । ▁এরপর ▁কিশমিশ , ▁আপেল , ▁আনারস , ▁কাজুবাদাম ▁দিয়ে ▁নেড়ে ▁নিন । ▁এরপর ▁লবণ , ▁চিনি , ▁মা ওয়া ▁ঢেলে ▁এর ▁ওপর ▁সেদ্ধ ▁করা ▁চাল ▁ঢেলে ▁ভালোভাবে ▁মিশিয়ে ▁নাড়াচাড়া ▁করে ▁নামিয়ে ▁পরিবেশন ▁করুন । ▁মাছের ▁কো ফ তা উপ করণ : ▁ ভেট কি ▁মাছ ▁৩০০ ▁গ্রাম , ▁সর ষে ▁বাটা ▁বা ▁মা স্টার্ড ▁পেস্ট ▁৫০ ▁গ্রাম , ▁লেবু র ▁রস ▁২ ▁চা - চামচ , ▁লবণ ▁১ ▁চা - চামচ , ▁রসুন ▁কুচি ▁১ ▁চা - চামচ , ▁পেঁয়াজ ▁কুচি ▁৫০ ▁গ্রাম , ▁কাঁচা ▁মরিচ ▁৫০ ▁গ্রাম , ▁ধন ে পাতা ▁৫০ ▁গ্রাম , ▁ডিম ▁১ টা , ▁ময়দা ▁১ ▁কাপ , ▁ক্যাপ সি কাম ▁১০০ ▁গ্রাম , ▁টমেটো ▁১০০ ▁গ্রাম । প্র ণা লি : ▁ ভেট কি ▁মাছ ▁কাঁটা ▁ছাড়িয়ে ▁কি মা ▁করে ▁নিন । ▁পাত্রে ▁মাছের ▁কি মা ▁রেখে ▁তার ▁ওপর ▁মা স্টার্ড ▁পেস্ট , ▁লেবু র ▁রস , ▁লবণ , ▁রসুন ▁কুচি , ▁পেঁয়াজ ▁কুচি , ▁কাঁচা ▁মরিচ ▁কুচি , ▁ধন ে পাতা , ▁ডিম ▁ও ▁ময়দা ▁দিয়ে ▁ভালো ▁করে ▁মেখে ▁নিন । ▁ছোট ▁ছোট ▁কো ফ তার ▁আকার ▁করে ▁নিন । ▁ফ্রাই প্যান ে ▁তেল ▁ঢেলে ▁গরম ▁করে ▁কো ফ তা ▁ভেজে ▁নিন । ▁কো ফ তা গুলো ▁পাত্রে ▁ঢেলে ▁তার ▁ওপর ▁ক্যাপ সি কাম ▁ও ▁টমেটো ▁কুচি ▁সাজিয়ে ▁পরিবেশন ▁করুন ।,▁x x bo s ▁জনপ্রিয় ▁খুদে ▁ভিডিও ▁শেয়ারিং ▁অ্যাপ ▁টি কট কে র ▁ওপর ▁জারি ▁করা ▁সাময়িক ▁নিষেধাজ্ঞা ▁উঠিয়ে ▁নিয়েছেন ▁ভারতের ▁তামিলনাড়ু ▁প্রদেশের ▁উচ্চ ▁আদালত । ▁এর ▁আগে ▁অ্যাপ টির ▁মাধ্যমে ▁পর্নো ▁ভিডিও ▁ছড়িয়ে ▁পড়ছে ▁দাবি ▁করে ▁মাদ্রাজ ▁আদালত ▁সরকারকে ▁এটির ▁ওপর ▁নিষেধাজ্ঞা ▁জারি র ▁নির্দেশ ▁দেন । ▁তবে ▁অ্যাপ টির ▁নিষেধাজ্ঞা ▁কিছু ▁নির্দিষ্ট ▁শর্ত ের ▁অধীনে ▁উঠিয়ে ▁নেওয়া ▁হয়েছে । ভারতীয় ▁গণমাধ্যম ▁এনডিটিভি র ▁খবর ে ▁বলা ▁হয়েছে , ▁এপ্রিলের ▁তিন ▁তারিখে ▁মাদ্রাজ ▁হাইকোর্ট ▁একটি ▁জনস্বার্থ ের ▁মামলা ▁আমলে ▁নিয়ে ▁অ্যাপ টির ▁ওপর ▁নিষেধাজ্ঞা ▁জারি ▁করেছিল । ▁পরে ▁ওই ▁আদেশ ের ▁বিপরীতে ▁আইনজীবী ▁মু থু কুমার ▁একটি ▁মামলা ▁দায়ের ▁করেন । ▁ওই ▁মামলার ▁শুনানি র ▁পরে ▁পর্নো ▁ভিডিও ▁না ▁ছড়ানোর ▁শর্তে ▁অ্যাপ টির ▁ওপর ▁থেকে ▁নিষেধাজ্ঞা ▁উঠিয়ে ▁নেওয়া ▁হয় । বিভিন্ন ▁গান , ▁বিখ্যাত ▁সিনেমার ▁সংলাপ সহ ▁নানা ▁রকম ▁মজাদার ▁অডিও র ▁সঙ্গে ▁ঠোঁট ▁মিলিয়ে ▁ছোট ▁ভিডিও ▁তৈরি ▁করে ▁আপলোড ▁করা ▁যায় ▁টি কট ক ▁অ্যাপ ে । ▁চীনা ▁প্রতিষ্ঠানের ▁তৈরি ▁অ্যাপ টি ▁ভারতে ▁ব্যাপক ▁জনপ্রিয় ▁হয়ে ▁উঠেছে । ▁তবে ▁এর ▁কনটেন্ট ের ▁যথার্থতা ▁নিয়ে ▁রাজনীতিবিদ েরা ▁সমালোচনা ▁শুরু ▁করেছেন । ▁অ্যাপ ▁বিশ্লেষক ▁প্রতিষ্ঠান ▁সেন্সর ▁টাওয়ারের ▁তথ্য ▁অনুযায়ী , ▁গত ▁ফেব্রুয়ারি ▁মাস ▁পর্যন্ত ▁ভারতে ▁২৪ ▁কোটি বার ▁ডাউনলোড ▁হয়েছে ▁অ্যাপ টি । ▁এ ▁বছরের ▁জানুয়ারিতে ▁তিন ▁কোটি ▁ব্যবহারকারী ▁এটি ▁ইনস্টল ▁করেছে , ▁যা ▁গত ▁বছরের ▁জানুয়ারি ▁মাসের ▁চেয়ে ▁১২ ▁শতাংশ ▁বেশি । ▁মাদ্রাজ ▁আদালতে ▁বুধবার ▁রাষ্ট্র পক্ষের ▁আইনজীবী ▁অরবিন্দ ▁দাতা র ▁বলেন , ▁কোনো ▁বিশেষ ▁অ্যাপ ▁বন্ধ ▁করে ▁দেওয়া টা ▁সমস্যার ▁চূড়ান্ত ▁সমাধান ▁নয় । ▁এ ▁ছাড়া ▁বৈধ ▁ব্যবহারকারীদের ▁অধিকার ▁সংরক্ষণ ▁করতে ▁হবে ▁বলে ▁জানান ▁তিনি । ▁নিষেধাজ্ঞা ▁জারি ▁করার ▁পরে ▁দাতা র কে ▁অ্যাপ টির ▁প্রভাব ▁জানার ▁জন্য ▁দায়িত্ব ▁দিয়েছিলেন ▁আদালত । ▁এর ▁আগে , ▁৩ ▁এপ্রিল ▁মাদ্রাজ ▁হাইকোর্ট ের ▁পক্ষ ▁থেকে ▁সরকারকে ▁টি কট ক ▁অ্যাপ ▁বন্ধের ▁ব্যবস্থা ▁নিতে ▁নির্দেশ ▁দেওয়া ▁হয় । ▁সে ▁সময় ▁বলা ▁হয় , ▁এটি ▁পর্নোগ্রাফি তে ▁উৎসাহ ▁দিচ্ছে ▁এবং ▁শিশুদের ▁ঝুঁকিতে ▁ফেলছে । ▁এরপর ▁জনস্বার্থ ের ▁একটি ▁মামলা ▁আমলে ▁নিয়ে ▁রুল ▁দিয়েছিলেন ▁আদালত ।,▁x x bo s ▁ধর্ষণ ের ▁বিচারে ▁নতুন ▁আইন ▁চান ▁শিরীন ▁ধর্ষণ ের ▁বিচারে ▁নতুন ▁আইন ▁প্রণয়ন ের ▁দাবি ▁জানিয়েছেন ▁আওয়ামী ▁লীগের ▁নেতৃত্বাধীন ▁১৪ ▁দলের ▁শরিক ▁জাসদ ের ▁সাধারণ ▁সম্পাদক ▁শিরীন ▁আখতার । ▁সোমবার ▁জাতীয় ▁সংসদে ▁জরুরি ▁জন গুরু ত্ব সম্পন্ন ▁বিষয়ে ▁মনোযোগ ▁আকর্ষণ ের ▁নোটিশ ে ▁শিরীন ▁এই ▁দাবি ▁জানান । ▁সাম্প্রতিক ▁সময়ের ▁নারী ▁নির্যাতন ▁ও ▁শিশু ▁ধর্ষণ ের ▁ঘটনা ▁তুলে ▁ধরে ▁একটি ▁পত্রিকায় ▁প্রকাশিত ▁প্রতিবেদন ের ▁বরাত ▁দিয়ে ▁শিরীন ▁আখতার ▁বলেন , ▁ছয় ▁মাসে ▁৬৯ ৬টি ▁শিশু ▁ধর্ষণ ের ▁শিকার ▁হয়েছে । ▁জাসদ ের ▁সাধারণ ▁সম্পাদক ▁বলেন , ▁‘ আজ কে ▁এই ▁রকম ▁একটি ▁অবস্থায় ▁আমাদের ▁সমাজ ▁কোথায় ▁আছে , ▁আমরা ▁কোথায় ▁আছি ? ▁আমরা ▁আজকে ▁উন্নয়নের ▁দিকে ▁এগিয়ে ▁যাচ্ছি । ▁প্রধানমন্ত্রীর ▁নেতৃত্বে ▁বাংলাদেশে ▁সুশাসন ের ▁কথা ▁বলছি । ▁আমরা ▁যখন ▁এ ▁দিকে ▁এগিয়ে ▁যাচ্ছি , ▁তখন ▁সমাজে ▁কেন ▁এত ▁অধঃপতন ? ▁আমাদের ▁অবশ্যই ▁তা ▁বের ▁করতে ▁হবে । ’ ▁শিরীন ▁আখতার ▁বলেন , ▁অবশ্যই ▁একটি ▁আইন ▁নতুন ▁করে ▁প্রণয়ন ▁করা ▁দরকার , ▁যাতে ▁অত্যন্ত ▁দৃষ্টান্ত মূলক ভাবে ▁এসব ▁নর পি শা চ দের ▁বিচার ▁করা ▁যায় ▁এবং ▁বিচারের ▁নামে ▁দীর্ঘ সূত্র তা ▁করা ▁যাবে ▁না । ▁প্রত্যেকে ▁মনে ▁করবে , ▁এ ▁ধরনের ▁ঘটনা ▁ঘটানো ▁যায় ▁না । ▁সেই ▁সঙ্গে ▁পাড়া - মহা ল্লা য় ▁সামাজিক ▁আন্দোলন ▁গড়ে ▁তোলার ও ▁আহ্বান ▁জানান ▁তিনি ।,▁x x bo s ▁চীনা ▁ পররাষ্ট্রমন্ত্রী ▁ওয়াং ▁ই ▁১১ - ১৩ ▁আগস্ট ▁ভারত ▁সফর ▁করলেন । ▁সফরটি ▁ইঙ্গিত বাহী । ▁সামনে ▁দুটি ▁বহু পক্ষীয় ▁সম্মেলন ▁হতে ▁যাচ্ছে । ▁সেপ্টেম্বরে ▁চীনে ▁জি - ২০ ▁সম্মেলন ▁আর ▁নভেম্বরে ▁ভারতে ▁ব্রিক স ▁সম্মেলন ▁হতে ▁যাচ্ছে । ▁আসলে ▁দুটি ▁দেশই ▁চায় ▁না ▁এই ▁সম্মেলন ▁দুটিতে ▁তাদের ▁দ্বিপক্ষীয় ▁সম্পর্কের ▁ছায়া ▁পড় ুক । ▁সে ▁কারণে ▁দেশ ▁দুটি কে ▁অন্তত ▁নিজেদের ▁পারস্পরিক ▁ভিন্নতা ▁দূর ▁করে ▁সম্মেলন ▁উপলক্ষে ▁ইতিবাচক ▁পরিবেশ ▁তৈরি ▁করতে ▁হবে , ▁যেখানে ▁আয়োজক ▁দেশ ▁হিসেবে ▁তাদের ▁হি স্যা ▁আছে । ▁তবে ▁ওয়াং য়ের ▁সফর ▁থেকে ▁সে ▁সফলতা ▁অর্জিত ▁হয়েছে ▁বলে ▁মনে ▁হয় ▁না । নিউক্লিয় ার ▁সা প্লা য়ার্স ▁গ্রুপে ▁চীন ▁ভারতের ▁সদস্যপদ ▁পাওয়ার ▁বিরোধিতা ▁করেছিল , ▁ফলে ▁এ ▁নিয়ে ▁তিক্ততা ও ▁সৃষ্টি ▁হয় । ▁তখন ▁তারা ▁রাজি ▁হয়েছিল ▁যে ▁ভারতের ▁নিরস্ত্রীকরণ ▁ও ▁আন্তর্জাতিক ▁নিরাপত্তা বিষয়ক ▁যুগ্ম ▁সচিব ▁ও ▁চীনের ▁ডিরেক্টর ▁জেনারেল ▁অব ▁আর্মস ▁কন্ট্রোল ▁অ্যান্ড ▁ডিস আর্ম া মেন্ট - এর ▁মধ্যে ▁এ ▁নিয়ে ▁নিবিড় ▁আলোচনা ▁হবে । ▁লোকে ▁ধারণা ▁করে , ▁জাতিসংঘে ▁জয় শ – ই – মোহাম্মদ ের ▁নেতা ▁মাসুদ ▁আজহার কে ▁সন্ত্রাসী ▁হিসেবে ▁তালিকাভুক্ত ▁করা ▁ও ▁ওয়ান ▁বেল্ট ▁ওয়ান ▁রোডের ▁নামে ▁চীন ▁পাকিস্তান ▁অধিকৃত ▁কাশ্মীরে ▁যা ▁করছে , ▁তা - ও ▁এই ▁আলোচনার ▁সূচিত ে ▁থাকবে । ▁এ ▁ছাড়া ▁দ্বিপক্ষীয় ▁স্বার্থ সংশ্লিষ্ট ▁অন্যান্য ▁বিষয়ে ▁আলোচনার ▁জন্য ▁ভারতের ▁পররাষ্ট্র সচিব ▁ও ▁চীনা ▁সহকারী ▁ পররাষ্ট্রমন্ত্রী ▁ঝ ্যাং ▁ইয়ে সুই ▁বসবে ন , ▁এ ▁মর্মে ও ▁একটি ▁প্রক্রিয়া ▁চালু ▁করা ▁হয়েছে । ▁এটা ▁পররাষ্ট্র সচিব ▁পর্যায়ের ▁কৌশলগত ▁আলোচনার ▁বাইরে ▁অনুষ্ঠিত ▁হবে । ▁এমনকি ▁দুই ▁দেশের ▁বিশেষ ▁প্রতিনিধিদের ▁আলোচনা ও ▁আলাদাভাবে ▁চলবে , ▁যেটা ▁সীমান্ত বিষয়ক ▁আলোচনা ▁ছাড়া ▁এখন ▁পর্যন্ত ▁আর ▁কিছু ▁করতে ▁পারেনি । মনে ▁হয় ▁না , ▁এসব ▁বকেয়া ▁বিষয়ে ▁চীন ▁নিজের ▁অবস্থান ▁পরিবর্তন ▁করবে । ▁কিন্তু ▁এই ▁প্রস্তাবিত ▁আলোচনা ▁সম্মেলন ▁উপলক্ষে ▁অনুকূল ▁পরিবেশ ▁সৃষ্টি ▁করবে । ▁এসব ▁আলোচনায় ▁যেহেতু ▁বিতর্কিত ▁বিষয় ▁থাকে , ▁সে ▁কারণে ▁নেতাদের ▁সাধারণ ▁বিষয় ▁ছাড়া ▁অন্য ▁কিছু ▁নিয়ে ▁আলোচনা ▁করতে ▁হয় ▁না । ▁অন্তত ▁চীনারা ▁এটা ▁প্রত্যাশা ▁করবে । ▁চীনারা ▁চায় ▁সম্মেলনে ▁নেতারা ▁পূর্ব পরিকল্পনা মাফিক ▁আলোচনা ▁করবেন , ▁যেখানে ▁তাঁরা ▁অপ্রীতিকর ▁বিষয়ে ▁কথা ▁বলবেন ▁না । ▁কিন্তু ▁গত ▁বছর ▁উ ফা য় ▁এবং ▁এ ▁বছর ▁তাস খন্দ ে ▁ব্যাপারটা ▁এমন ▁ছিল ▁না । ▁তাই ▁ওয়াং ▁এমনটা ▁চাইবে ন ▁যে ▁আসন্ন ▁সম্মেলন ▁যেন ▁তাঁর ▁নেতার ▁জন্য ▁অস্বস্তিকর ▁না ▁হয় । এশিয়া - প্যাসিফিক ▁অঞ্চলে ▁চীন ▁খুব ▁জটিল ▁রাজনৈতিক ▁ও ▁নিরাপত্তা জনিত ▁পরিস্থিতির ▁সম্মুখীন ▁হয়েছে । ▁চীন ▁দক্ষিণ ▁চীন ▁সাগরের ▁ওপর ▁যে ▁দাবি ▁করেছিল , ▁তা ▁খারিজ ▁হয়ে ▁যাওয়ায় ▁বেইজিং ▁বড় ▁ধরনের ▁ধাক্কা ▁খেয়ে ছে । ▁আসিয়ান ের ▁সঙ্গেও ▁তার ▁সম্পর্ক ▁এ ▁যাবৎ কালের ▁মধ্যে ▁সবচেয়ে ▁উত্তেজনাপূর্ণ । ▁তাদের ▁কাটা ▁ঘা য়ে ▁নুন ের ▁ছিট া ▁দিয়েছে ▁যুক্তরাষ্ট্র , ▁তারা ▁দক্ষিণ ▁কোরিয়ায় ▁থার্ড ▁অ্যান্টি ▁মিসাইল ▁প্রতিরক্ষা ব্যবস্থা ▁স্থাপন ▁করেছে । ▁অথচ ▁চীন ▁অনেক ▁দিন ▁ধরে ▁নিষ্ঠা র ▁সঙ্গে ▁দক্ষিণ ▁কোরিয়ার ▁সঙ্গে ▁ঘনিষ্ঠ ▁রাজনৈতিক , ▁অর্থনৈতিক , ▁বাণিজ্যিক ▁ও ▁সাংস্কৃতিক ▁সম্পর্ক ▁রক্ষা ▁করে ▁চলেছে ▁( কোর ীয় ▁পপ সংগীত ▁চীনে ▁খুবই ▁জনপ্রিয় ) । এ ▁অঞ্চলে ▁জাপান ▁ও ▁যুক্তরাষ্ট্র ▁চীনের ▁জন্য ▁সবচেয়ে ▁বড় ▁নিরাপত্তা জনিত ▁হুমকি ▁হওয়া ▁সত্ত্বেও ▁চীনের ▁জন্য ▁নতুন ▁ও ▁প্রতিকূল ▁পরিস্থিতি ▁সৃষ্টি ▁হয়ে ই ▁যাচ্ছে । ▁এ ▁পরিপ্রেক্ষিতে ▁চীন ▁ভারতের ▁সঙ্গে ▁তার ▁পশ্চিম ▁সীমান্ত ▁আপেক্ষিক ভাবে ▁স্থিতিশীল ▁ও ▁ঝুঁকি হীন ▁রাখতে ▁চায় । ▁এ ▁কারণেই ▁চীনের ▁সরকারি ▁গণমাধ্যম ▁এ ▁কথা ▁বলেই ▁যাচ্ছে ▁যে ▁চীন ▁ও ▁ভারতের ▁মধ্যে ▁স্বার্থের ▁সংঘাত ▁নেই । ▁অনৈক্য ের ▁চেয়ে ▁তাদের ▁মধ্যে ▁ঐক্য ের ▁জায়গা ই ▁বেশি । আবার ▁এ ▁আশঙ্কা ও ▁আছে ▁যে ▁ভারত ▁যুক্তরাষ্ট্রের ▁ঘনিষ্ঠ ▁হয়ে ▁নিরাপত্তা বলয় ে ▁ঢু ক বে , ▁যেটা ▁দক্ষিণ ▁চীন ▁সাগরে ▁চীনকে ▁সরাসরি ▁চ্যালেঞ্জ ▁জানা বে । ▁বেইজিং ▁ভারতকে ▁সতর্ক ▁করে ▁দিয়েছে , ▁তারা ▁যেন ▁দক্ষিণ ▁চীন ▁সাগরের ▁ব্যাপারে ▁‘ জ ড়িয়ে ’ ▁না ▁পড়ে । ▁আবার ▁এ ▁আশা ও ▁করা ▁যায় , ▁ভারত ▁তার ▁ঘোষিত ▁কৌশলগত ▁স্বাতন্ত্র্য ▁বজায় ▁রাখবে । ▁দেখা ▁গেছে , ▁দক্ষিণ ▁চীন ▁সাগর সংক্রান্ত ▁রায় ▁যখন ▁চীনের ▁বিপক্ষে ▁গেল , ▁তখন ▁ভারত ▁তেমন ▁একটা ▁উচ্ছ্বাস ▁দেখায় নি । ▁জানা ▁গেছে , ▁ওয়াং ▁দিল্লিতে ▁দক্ষিণ ▁চীন ▁সাগরের ▁বিষয়টি ▁তোলেন নি । ▁মনে ▁হচ্ছে , ▁চীন ▁চায় ▁ভারত ▁এ ▁ব্যাপারে ▁বেশি ▁মাথা ▁না ▁ঘা মাক । ▁চীন ▁ধারণা ▁করছে , ▁আসন্ন ▁জি - ২০ ▁সম্মেলনে ▁জাপান সহ ▁যুক্তরাষ্ট্র ▁ও ▁তার ▁পশ্চিমা ▁মিত্র রা ▁জি - ২০ ▁সম্মেলনে ▁দক্ষিণ ▁চীন ▁সাগরের ▁বিষয়টি ▁তুলে ▁চীনকে ▁লজ্জা য় ▁ফেলে ▁দেবে । ▁এ ▁ক্ষেত্রে ▁ভারতের ▁ভূমিকা ▁বেশ ▁গুরুত্বপূর্ণ । ▁ফলে ▁তারা ▁কৌশলগত ▁সুবিধা ▁পেয়ে ▁যাচ্ছে । ▁সে ▁কারণেই ▁হয়তো ▁ওয়াং ▁ভারত ▁সফর ▁করলেন । ▁কিন্তু ▁চীন ▁শি গ গির ই ▁এ ▁ব্যাপারে ▁তাদের ▁অবস্থানে ▁বড় ▁পরিবর্তন ▁আনবে ▁বলে ▁মনে ▁হয় ▁না । কথা ▁হচ্ছে , ▁চীনের ▁সঙ্গে ▁সম্পর্কের ▁ক্ষেত্রে ▁ভারতকে ▁অনেক ▁সতর্ক ▁হতে ▁হবে । ▁কারণ , ▁দেশ ▁দুটির ▁মধ্যকার ▁পার্থক্য ▁দিন কে ▁দিন ▁শুধু ▁বাড়ছে ই । ▁চীনের ▁অর্থনীতির ▁প্রবৃদ্ধি র ▁হার ▁অনেক ▁ধীরগতির ▁হলেও ▁সেটা ▁ভারতের ▁অর্থনীতির ▁চেয়ে ▁পাঁচ ▁গুণ ▁বড় । ▁ফলে ▁চীনকে ▁ধরতে ▁হলে ▁ভারতকে ▁একটানা ▁অনেক ▁দিন ▁উচ্চ হার ের ▁প্রবৃদ্ধি ▁বজায় ▁রাখতে ▁হবে । ▁ক্ষমতার ▁এই ▁অসমতা কে ▁সামাল ▁দেওয়ার ▁একটি ▁পথ ▁হলো , ▁ভারতকে ▁সক্ষমতা ▁গড়ে ▁তুলে ▁তা ▁দেখাতে ▁হবে , ▁যাতে ▁চীন ▁সামরিক ভাবে ▁আগ্রাসী ▁জায়গায় ▁যাওয়ার ▁আগে ▁একবার ▁হলেও ▁চিন্তা ▁করে । ▁দ্বিতীয় ▁পন্থা টি ▁হলো , ▁ভারতকে ▁মার্কিন ▁নেতৃত্বাধীন ▁চীন বিরোধী ▁জোটে ▁ঢুকতে ▁হবে । ▁এই ▁অবস্থান ▁নিয়ে ▁ভারতের ▁স্বাধীন ▁সত্তা ▁থাকবে ▁না ▁তা ▁ঠিক , ▁কিন্তু ▁এটা ▁করলে ▁সে ▁তর তর ▁করে ▁এগিয়ে ▁যেতে ▁পারবে । এই ▁ক্রমবর্ধমান ▁অসমতা র ▁পরিপ্রেক্ষিতে ▁ভারত ▁খুব ▁ভালো ▁জায়গায় ▁নেই । ▁সে ▁নাজুক । ▁আর ▁চীন ▁ও ▁পাকিস্তান ▁যদি ▁একত্রে ▁কিছু ▁করে , ▁তাহলে ▁পরিস্থিতি ▁আরও ▁নাজুক ▁হয়ে ▁পড়বে । ▁১৯৬২ ▁সালের ▁পর ▁ভারত - পাকিস্তান ▁যুদ্ধে ▁চীন ▁পাকিস্তানকে ▁সমর্থন ▁দিলেও ▁ভারতে ▁সরাসরি ▁হামলা ▁করেনি । ▁তাদের ▁এই ▁অবস্থান ▁সতর্কতা র ▁সঙ্গে ▁পর্যবেক্ষণ ▁করতে ▁হবে । ▁ও দিকে ▁ভারত ▁যদি ▁বেলুচিস্তান ে , ▁যেখানে ▁চীন ▁বিপুল ▁বিনিয়োগ ▁করে ▁ওয়ান ▁বেল্ট ▁ওয়ান ▁রোডের ▁অংশ ▁হিসেবে ▁গাদা র ▁বন্দর ▁নির্মাণ ▁করছে , ▁পাকিস্তান বিরোধী ▁জঙ্গি দের ▁উস কে ▁দেয় , ▁তাহলে ▁পরিস্থিতি ▁কী ▁দাঁড়াবে ▁তা ▁সহজেই ▁অনুমেয় । এ ▁অবস্থায় ▁ভারত - চীন ▁সম্পর্ক ▁জটিল তর ▁হয়ে ▁উঠছে । ▁গত ▁কয়েক ▁বছরে ▁দুই ▁দেশের ▁নেতারা ই ▁বৈরিতা ▁সত্ত্বেও ▁চীন - ভারত ▁সম্পর্ককে ▁পারস্পরিক ভাবে ▁সুবিধাজনক ▁অবস্থায় ▁রাখার ▁চেষ্টা ▁করেছেন । ▁ফলে ▁ভারসাম্য ▁বজায় ▁রাখতে ▁হবে , ▁যেটা ▁আসলে ▁সবচেয়ে ▁কঠিন ▁কাজ । ▁অনুবাদ : ▁প্রতীক ▁বর্ধন , ▁দ্য ▁হিন্দু ▁থেকে ▁নেওয়া । শ্যাম ▁শরণ : ▁ভারতের ▁সাবেক ▁পররাষ্ট্র সচিব ।\n",
       "y: LMLabelList\n",
       ",,,,\n",
       "Path: /content/data;\n",
       "\n",
       "Test: None, model=SequentialRNN(\n",
       "  (0): AWD_LSTM(\n",
       "    (encoder): Embedding(50000, 400, padding_idx=1)\n",
       "    (encoder_dp): EmbeddingDropout(\n",
       "      (emb): Embedding(50000, 400, padding_idx=1)\n",
       "    )\n",
       "    (rnns): ModuleList(\n",
       "      (0): WeightDropout(\n",
       "        (module): LSTM(400, 1152, batch_first=True)\n",
       "      )\n",
       "      (1): WeightDropout(\n",
       "        (module): LSTM(1152, 1152, batch_first=True)\n",
       "      )\n",
       "      (2): WeightDropout(\n",
       "        (module): LSTM(1152, 400, batch_first=True)\n",
       "      )\n",
       "    )\n",
       "    (input_dp): RNNDropout()\n",
       "    (hidden_dps): ModuleList(\n",
       "      (0): RNNDropout()\n",
       "      (1): RNNDropout()\n",
       "      (2): RNNDropout()\n",
       "    )\n",
       "  )\n",
       "  (1): LinearDecoder(\n",
       "    (decoder): Linear(in_features=400, out_features=50000, bias=True)\n",
       "    (output_dp): RNNDropout()\n",
       "  )\n",
       "), opt_func=functools.partial(<class 'torch.optim.adam.Adam'>, betas=(0.9, 0.99)), loss_func=FlattenedLoss of CrossEntropyLoss(), metrics=[<function accuracy at 0x7f5d13d45950>], true_wd=True, bn_wd=True, wd=0.01, train_bn=True, path=PosixPath('/content/data'), model_dir='models', callback_fns=[functools.partial(<class 'fastai.basic_train.Recorder'>, add_time=True, silent=False)], callbacks=[RNNTrainer\n",
       "learn: LanguageLearner(data=TextLMDataBunch;\n",
       "\n",
       "Train: LabelList (80000 items)\n",
       "x: LMTextList\n",
       "▁x x bo s ▁আপাতত ▁জ্বালানি ▁তেলের ▁দাম ▁কমানোর ▁কোনো ▁পরিকল্পনা ▁সরকারের ▁নেই । আজ ▁রোববার ▁জাতীয় ▁সংসদে ▁স্পিকার ▁শিরীন ▁শারমিন ▁চৌধুরীর ▁সভাপতিত্বে ▁অনুষ্ঠিত ▁অধিবেশনে ▁লিখিত ▁প্রশ্নের ▁উত্তরে ▁বিদ্যুৎ , ▁জ্বালানি ▁ও ▁খনিজ ▁সম্পদ ▁মন্ত্রণালয়ের ▁প্রতিমন্ত্রী ▁নস রুল ▁হামিদ ▁এ ▁কথা ▁জানিয়েছেন । সাংস দ ▁রুস্তম ▁আলী ▁ফর া জীর ▁প্রশ্নের ▁উত্তরে ▁প্রতিমন্ত্রী ▁বলেন , ▁আন্তর্জাতিক ▁বাজারে ▁জ্বালানি ▁তেলের ▁মূল্য ▁গত ▁এক ▁বছর ▁ধরে ▁ঊর্ধ্বমুখী ▁রয়েছে । ▁এখন ▁তা ▁অব্যাহত ▁আছে । ▁ডলারের ▁সঙ্গে ▁টাকার ▁বিনিময় ▁হার ▁প্রতিনিয়ত ▁বাড়ছে । ▁এটি ▁চলতে ▁থাকলে ▁আগামী ▁অর্থ বছর ▁থেকে ▁বাংলাদেশ ▁পেট্রোলিয়াম ▁করপোরেশন ▁( বি পিসি ) ▁আবার ▁লোকসান ের ▁সম্মুখীন ▁হতে ▁পারে । ▁বাস্তবতার ▁কারণে ▁আন্তর্জাতিক ▁বাজারে ▁তেলের ▁দাম ▁কম া - বাড় ার ▁সঙ্গে ▁সঙ্গে ▁দেশের ▁অভ্যন্তরে ▁জ্বালানি ▁তেলের ▁বাড়ানো - কম ানো ▁করা ▁সম্ভব ▁হয় ▁না । ▁তিনি ▁বলেন , ▁এর ▁আগে ▁ভর্তুকি ▁মূল্যে ▁জ্বালানি ▁তেল ▁বিক্রি ▁করায় ▁২৭ , ৪ ১৯ . ৮১ ▁কোটি ▁টাকার ▁সরকারি ▁ঋণের ▁দায় ▁এখনো ▁বিপি সির ▁ওপর ▁রয়ে ▁গেছে । ▁দ্বিতীয় ▁দফায় ▁জ্বালানি ▁তেলের ▁মূল্য ▁কমানো ▁হলে ▁বি পিসি ▁আবার ▁লোকসান ি ▁প্রতিষ্ঠানে ▁পরিণত ▁হবে ▁এবং ▁ঋণ ▁করে ▁জ্বালানি ▁তেল ▁আমদানি ▁করতে ▁হবে । ▁তেলের ▁মূল্য ▁কমানো ▁হলে ▁তার ▁সুফল ▁সাধারণ ▁জনগণ ▁সরাসরি ▁উপভোগ ▁করতে ▁পারে ▁না । বিদ্যুত ের ▁১৭টি ▁প্রকল্পে ▁বাস্তবায়ন ের ▁হার ▁শূন্য : ▁রুস্তম ▁আলী ▁ফর া জীর ▁আরেক ▁প্রশ্নের ▁উত্তরে ▁প্রতিমন্ত্রী ▁নস রুল ▁হামিদ ▁বলেছেন , ▁বিদ্যুৎ ▁খাতের ▁১৭টি ▁প্রকল্প ▁বাস্তবায়ন ের ▁হার ▁শূন্য । ▁এর ▁মধ্যে ▁১২টি ▁প্রকল্প ▁২০১৬ - ১৭ ▁অর্থবছরে ▁বার্ষিক ▁উন্নয়ন ▁কর্মসূচি ▁প্রণয়ন ের ▁পরবর্তী ▁সময়ে ▁অনুমোদিত ▁হয়েছে ▁এবং ▁সেসব ▁প্রকল্পের ▁অনুকূলে ▁২০১৬ - ২০১৭ ▁অর্থবছরে ▁কোনো ▁বরাদ্দ ▁দেওয়া ▁সম্ভব ▁হয়নি । ▁তবে ▁অর্থ বছর টির ▁সংশোধিত ▁বার্ষিক ▁উন্নয়ন ▁কর্মসূচিতে ▁প্রয়োজনীয় ▁বরাদ্দ ▁দেওয়া ▁হয়েছে । ▁অর্থ ▁ছাড় ের ▁বিষয়টি ▁প্রক্রিয়াধীন ▁আছে । ▁অন্য ▁পাঁচটি ▁প্রকল্প ▁উন্নয়ন ▁সহযোগী ▁সংস্থার ▁সঙ্গে ▁ঋণ চুক্তি ▁না ▁হওয়া সহ ▁বিভিন্ন ▁কারণে ▁আটকে ▁আছে ।,▁x x bo s ▁ব্যবস্থাপনা ▁আর ▁হিসাব ▁শাখায় ▁দক্ষ ▁পেশাজীবী ▁তৈরির ▁লক্ষ্যে ▁কস্ট ▁অ্যান্ড ▁ম্যানেজমেন্ট ▁অ্যাকাউন্ট স ▁( সি এমএ ) ▁পড়া চ্ছে ▁দ্য ▁ইনস্টিটিউট ▁অব ▁কস্ট ▁অ্যান্ড ▁ম্যানেজমেন্ট ▁অ্যাকাউন্ট স ▁অব ▁বাংলাদেশ ▁( আইসি এমএ বি ) । ▁সম্প্রতি ▁প্রতিষ্ঠানটি ▁বিভিন্ন ▁পত্রিকায় ▁সিএম এ ▁ভর্তি র ▁বিজ্ঞপ্তি ▁প্রকাশ ▁করেছে । ▁আইসি এমএ বির ▁শিক্ষা ▁কর্মকর্তা ▁হাবিবুর ▁সিরাজ ▁বলেন , ▁এবার ই ▁প্রথম ▁ভর্তি ▁কার্যক্রম ▁হবে ▁অনলাইনে । ▁আবেদনকারী দের ▁ www . ic ma ber p . org ▁এই ▁ঠিকানায় ▁গিয়ে ▁প্রয়োজনীয় ▁তথ্য ▁দিয়ে ▁ফরম ▁পূরণ ▁করতে ▁হবে । ▁এরই ▁মধ্যে ▁ভর্তি ▁কার্যক্রম ▁শুরু ▁হয়ে ▁গেছে । ▁আবেদন ▁করতে ▁হবে ▁২৭ ▁জানুয়ারি র ▁মধ্যে । ▁এই ▁কোর্স টি ▁করে ▁আপনি ও ▁হয়ে ▁যেতে ▁পারেন ▁দেশে ▁বা ▁বিদেশে র ▁ভালো ▁কোনো ▁প্রতিষ্ঠানের ▁ব্যবস্থাপক ▁বা ▁হিসাবরক্ষক । এখানে ▁বছরে ▁দুটি ▁সেশনে ▁ছাত্রছাত্রী ▁ভর্তি ▁করানো ▁হয় । ▁জানুয়ারি ▁থেকে ▁জুন ▁এবং ▁জুলাই ▁থেকে ▁ডিসেম্বর । ▁এখন ▁জানুয়ারি ▁থেকে ▁জুলাই ▁সেশন ের ▁ভর্তি ▁কার্যক্রম ▁চলছে । ▁এই ▁সেশনে ▁দুটি ▁পদ্ধতিতে ▁ছাত্রছাত্রী ▁ভর্তি ▁হতে ▁পারবে । ▁ইন্টারমিডিয়েট ▁এন্ট্রি ▁রুট ▁ও ▁গ্র্যাজুয়েট ▁এন্ট্রি ▁রুট ▁পদ্ধতিতে । ▁ইন্টারমিডিয়েট ▁এন্ট্রি ▁রুট ▁পদ্ধতিতে ▁ভর্তি ▁হতে ▁হলে ▁এসএসসি ▁ও ▁এইচএসসি ▁মিলিয়ে ▁জিপিএ - ৮ ▁পেতে ▁হবে । ▁আর ▁গ্র্যাজুয়েট ▁এন্ট্রি ▁রুট ▁পদ্ধতিতে ▁ভর্তি ▁হতে ▁যেকোনো ▁বিভাগ ▁থেকে ▁ন্যূনতম ▁স্নাতক ▁পাস ▁হতে ▁হবে । ▁এসএসসি ▁থেকে ▁স্নাতক ▁পর্যন্ত ▁পরীক্ষার ▁ফল ▁লাগবে ▁কমপক্ষে ▁৬ ▁পয়েন্ট । হা বি বুর ▁সিরাজ ▁বলেন , ▁এই ▁সিএম এ ▁কোর্স টি ▁দুটি ▁পদ্ধতিতে ▁করানো ▁হয় । ▁একটি ▁কোচিং ▁পদ্ধতি ▁এবং ▁অন্যটি ▁কর স পন ডেন্স ▁পদ্ধতি । ▁যাঁরা ▁কোচিং ▁পদ্ধতিতে ▁ভর্তি ▁হবেন ▁তাঁদের ▁নিয়মিত ▁ক্লাস ▁ও ▁ক্লাস ▁টেস্ট ▁করতে ▁হবে । ▁আর ▁কর স পন ডেন্স ▁কোর্সের ▁ক্ষেত্রে ▁শিক্ষার্থীদের ▁নিয়মিত ▁ক্লাস ▁করতে ▁হয় ▁না । ▁শুধু ▁অ্যা সাইন মেন্ট ▁জমা ▁দিলে ই ▁হয় । ▁তাই ▁যাঁরা ▁চাকরির ত ▁আছেন ▁তাঁদের ▁জন্য ▁এই ▁কর স পন ডেন্স ▁পদ্ধতিটি ▁খুব ▁সহজ ▁হয় । ▁তবে ▁কোনো ▁লেভেল ের ▁সব ▁বিষয়ে ▁পাস ▁না ▁করলে ▁পরবর্তী ▁লেভেল ের ▁পরীক্ষা ▁দিতে ▁পারবেন ▁না । ▁তিনি ▁আরও ▁জানান , ▁শিক্ষার্থীদের ▁ছয় ▁মাসে ▁একটি ▁লেভেল ▁শেষ ▁করতে ▁হবে । ▁এ ▁কোর্স টিতে ▁ইন্টারমিডিয়েট ▁এন্ট্রি ▁রুট ▁ছাত্রছাত্রীদের ▁৫টি ▁লেভেল ▁ও ▁গ্র্যাজুয়েট ▁এন্ট্রি ▁রুট ▁ছাত্রছাত্রীদের ▁৪টি ▁লেভেল ▁সম্পন্ন ▁করতে ▁হবে । ▁এই ▁লেভেল গুলোর ▁মধ্যে ▁রয়েছে ▁নলেজ ▁লেভেল , ▁বিজনেস ▁লেভেল ▁ও ▁প্রফেশনাল ▁লেভেল ▁১ , ▁২ ▁ও ▁৩ । ইন্টার মিড িয়েট ▁এন্ট্রি ▁রুট ▁পদ্ধতির ▁ছাত্রছাত্রীদের ▁নলেজ ▁লেভেল ের ▁জন্য ▁ভর্তি ▁ফি ▁দিতে ▁হবে ▁২০ ▁হাজার ▁৬০০ ▁টাকা । ▁আর ▁গ্র্যাজুয়েট ▁এন্ট্রি ▁রুট ▁ছাত্রছাত্রীদের ▁ক্ষেত্রে ▁বিজনেস ▁লেভেল ের ▁জন্য ▁২৪ ▁হাজার ▁৫০০ ▁টাকা ▁ফি ▁দিতে ▁হবে । ▁প্রফেশনাল ▁লেভেল ▁১ , ▁২ ▁ও ▁৩ - এর ▁জন্য ▁ফি ▁লাগবে ▁যথাক্রমে ▁৮০০০ , ▁১২ ০০০ ▁ও ▁১৬ ০০০ ▁টাকা । সি এমএ ▁করতে ▁হলে ▁ইন্টারমিডিয়েট ▁এন্ট্রি ▁রুট ▁ছাত্রছাত্রীদের ▁মোট ▁পড়তে ▁হয় ▁২০টি ▁বিষয় । ▁অন্যদিকে ▁গ্র্যাজুয়েট ▁এন্ট্রি ▁রুট ▁পদ্ধতির ▁ছাত্রছাত্রীদের ▁পড়তে ▁হবে ▁১৭টি ▁বিষয় । ▁নলেজ ▁লেভেল ে ▁পড়তে ▁হবে ▁প্রিন্সিপাল ▁অব ▁অ্যাকাউন্টিং , ▁প্রিন্সিপাল ▁অব ▁বিজনেস ▁অ্যান্ড ▁ইকোনমিকস ▁ও ▁ব্যবসায় ▁যোগাযোগ ▁এই ▁তিনটি ▁বিষয় । ▁আর ▁বিজনেস ▁লেভেল ে ▁পড়তে ▁হবে ▁৫টি ▁বিষয় । ▁এ ▁ছাড়া ▁প্রফেশনাল ▁লেভেল ▁১ , ▁২ ▁ও ▁৩ ▁পড়তে ▁হবে ▁৪টি ▁করে ▁মোট ▁১২টি ▁বিষয় । ▁আর ▁এসব ▁বিষয়গুলো ▁পড়িয়ে ▁থাকেন ▁আইসি এ বির ▁বিভিন্ন ▁সদস্য ▁ও ▁দেশের ▁বিভিন্ন ▁বিশ্ববিদ্যালয় ের ▁শিক্ষকের া । হা বি বুর ▁সিরাজ ▁বলেন , ▁বর্তমান ▁চাকরির ▁বাজারে ▁একজন ▁সিএম এ ▁ডিগ্রি ধারী র ▁ব্যাপক ▁চাহিদা ▁রয়েছে । ▁তাই ▁এই ▁ডিগ্রি ▁সম্পন্ন ▁করে ▁সরকারি - বেসরকারি ▁প্রতিষ্ঠান , ▁ব্যাংক , ▁বিমা , ▁আন্তর্জাতিক ▁প্রতিষ্ঠান , ▁বিভিন্ন ▁এনজিও , ▁টেলিফোন ▁কোম্পানি , ▁মাল্টি ন্যাশনাল ▁প্রতিষ্ঠান — এমনকি ▁বিদেশে ও ▁চাকরির ▁ভালো ▁সুযোগ ▁রয়েছে । ▁অন্যান্য ▁পেশার ▁চেয়ে ▁এ ▁পেশায় ▁ভালো ▁বেতন ▁ও ▁সুযোগ - সুবিধা ▁পাওয়া ▁যায় । বিস্তার িত ▁জানতে : ▁যাঁরা ▁কস্ট ▁অ্যান্ড ▁ম্যানেজমেন্ট ▁অ্যাকাউন্টিং ▁পড়ে ▁পেশা ▁শুরু ▁করতে ▁চান , ▁তাঁরা ▁ভর্তি ▁ও ▁অন্যান্য ▁তথ্য ▁জানতে ▁যোগাযোগ ▁করতে ▁পারেন ▁আইসি এমএ বির ▁ঢাকা সহ ▁দেশের ▁অন্য ▁শাখা গুলোতে । ▁সারা ▁দেশে ▁এদের ▁মোট ▁পাঁচটি ▁শাখা ▁রয়েছে । ঢাকা ▁কেন্দ্র : ▁শিক্ষা ▁বিভাগ , ▁আইসি এমএ বি ▁ভবন , ▁নীলক্ষেত , ▁ঢাকা । ▁ফোন - ৯৬ ১৫ ৪৬০ , ▁৯৬ ১১৭ ৯৯ ; ▁চট্টগ্রাম ▁শাখা : ▁ফোন - ০৩ ১ - ৭২ ৭৬ ৩৮ ; ▁খুলনা ▁শাখা : ▁ফোন - ০৪ ১ - ৭২ ২৩ ৩৫ ; ▁রাজশাহী ▁কেন্দ্র : ▁ফোন - ০৭ ২১ - ৭৫ ১০ ৯২ ; ▁কুমিল্লা ▁কেন্দ্র : ▁ফোন - ০৮ ১ - ৭ ৩৬ ৮৬ । ▁এ ▁ছাড়া ▁ভিজিট ▁করতে ▁পারেন ▁ www . ic ma b . org . bd ▁এই ▁ঠিকানায় ।,▁x x bo s ▁ঢাকা - বঙ্গবন্ধু ▁সেতু ▁মহাসড়কের ▁টাঙ্গাইল ের ▁এলে ঙ্গা ▁বাসস্ট্যান্ড ▁এলাকায় ▁৩০০ ▁মিটার ▁সড়ক ▁সম্প্রসারণ ের ▁কাজ ▁শুরু ▁হয়েছে । ▁ফলে ▁ওই ▁এলাকায় ▁এক ▁লেনে ▁যানবাহন ▁পারাপার ▁হচ্ছে । ▁এতে ▁করে ▁এলে ঙ্গা ▁বাসস্ট্যান্ড ের ▁দুই ▁দিকে ▁অন্তত ▁১০ ▁কিলোমিটার ▁যানজট ের ▁সৃষ্টি ▁হয়েছে । ▁শুক্রবার ▁দুপুরে ▁সরে জমিন ে ▁দেখা ▁যায় , ▁এলে ঙ্গা ▁বাসস্ট্যান্ড ▁থেকে ▁দীর্ঘ ▁গাড়ির ▁সারি ▁প্রায় ▁আট ▁কিলোমিটার ▁দূরে ▁টাঙ্গাইল ▁সদর ▁উপজেলার ▁বিক্রম হাটি ▁পর্যন্ত ▁এসে ▁ঠেকে ছে । ▁বঙ্গবন্ধু ▁সেতুর ▁দিকে ও ▁পাঁচ ▁কিলোমিটারের ▁বেশি ▁যানজট ের ▁সৃষ্টি ▁হয়েছে । ▁সদর ▁উপজেলার ▁রসুলপুর ▁এলাকায় ▁ট্রাক চালক ▁খোরশেদ ▁আলম ▁জানান , ▁টাঙ্গাইল ▁শহর ▁বাইপাস ের ▁রাব না ▁মোড় ▁পার ▁হওয়ার ▁পর ▁থেকেই ▁যানজট ে ▁পড়তে ▁হচ্ছে । ▁১০ ▁মিনিটের ▁রাস্তা ▁পার ▁হতে ▁এক ▁ঘণ্টার ▁বেশি ▁সময় ▁লাগছে ▁বলে ও ▁জানান ▁তিনি । ▁ট্রাফিক ▁পুলিশ ▁বিভাগ ▁জানায় , ▁এলে ঙ্গা ▁বাসস্ট্যান্ড ▁এলাকায় ▁কিছু ▁সময় ▁ঢাকার ▁দিকে ▁গাড়ি ▁চলাচলের ▁সুযোগ ▁দেওয়া ▁হচ্ছে । ▁আবার ▁কিছু ▁সময় ▁ঢাকার ▁দিক ▁বন্ধ ▁রেখে ▁পার ▁করা ▁হচ্ছে ▁উত্তরবঙ্গ গামী ▁যানবাহন । ▁ফলে ▁দুই ▁দিকেই ▁যানজট ের ▁সৃষ্টি ▁হচ্ছে । ▁এলে ঙ্গা ▁বাসস্ট্যান্ড ▁থেকে ▁বঙ্গবন্ধু ▁সেতুর ▁দিকে ▁এবং ▁ঢাকার ▁উভয় ▁দিকেই ▁অন্তত ▁১০ ▁কিলোমিটার ▁যানজট ▁লেগে ▁থাকছে । ▁১০ ▁মিনিটের ▁সড়ক ▁পার ▁হতে ▁এক ▁থেকে ▁দেড় ▁ঘণ্টা ▁পর্যন্ত ▁সময় ▁লাগছে । ▁টাঙ্গাইল ▁সড়ক ▁ও ▁জন পথ ▁বিভাগের ▁নির্বাহী ▁প্রকৌশলী ▁আমি মুল ▁এহসান ▁প্রথম ▁আলোকে ▁বলেন , ▁রাস্তার ▁দুপাশে ▁দুই ▁লেন ▁সম্প্রসারণ ▁করা ▁হচ্ছে । ▁আগামী ▁১৫ – ২০ ▁দিনের ▁মধ্যে ▁এই ▁দুই ▁লেনের ▁নির্মাণকাজ ▁শেষ ▁হবে । ▁পরে ▁মাঝের ▁দুই ▁লেন ▁সড়কের ▁উন্নয়ন ▁করা ▁হবে । ▁সড়ক ▁নির্মাণের ▁কারণে ▁কিছুটা ▁যানজট ▁হলেও ▁নির্মাণকাজ ▁শেষ ▁হলে ▁এলে ঙ্গা তে ▁আর ▁যানজট ▁হবে ▁না । ▁টাঙ্গাইল ▁ট্রাফিক ▁পুলিশের ▁পরিদর্শক ▁( টি আই ) ▁রফিকুল ▁ইসলাম ▁সরকার ▁প্রথম ▁আলোকে ▁বলেন , ▁এলে ঙ্গার ▁যানজট ▁নিরসন ের ▁জন্য ▁দুজন ▁ট্রাফিক ▁পরিদর্শক , ▁আটজন ▁সার্জেন্ট , ▁ছয়জন ▁সহকারী ▁ট্রাফিক ▁সার্জেন্ট ▁ও ▁আটজন ▁কনস্টেবল ▁ওই ▁এলাকায় ▁দায়িত্ব ▁পালন ▁করছেন । ▁পাশাপাশি ▁হাইওয়ে ▁পুলিশ ও ▁রয়েছে । ▁কিন্তু ▁এক ▁লেনে ▁যানবাহন ▁পারাপার ের ▁কারণে ▁এই ▁যানজট ের ▁সৃষ্টি ▁হচ্ছে ।,▁x x bo s ▁একটি ▁মজার ▁ধাঁধা ▁দেখুন । ▁তিন ▁বন্ধু ▁গাছের ▁নিচে ▁ঘুমিয়ে ▁আছেন । ▁একটি ▁বানর ▁এসে ▁তাদের ▁প্রত্যেকের ▁মুখে ▁রং ▁দিয়ে ▁বিচিত্র ▁ধরনের ▁দাগ ▁এঁকে টে কে ▁দিয়ে ▁গেল । ▁ঘুম ▁থেকে ▁উঠে ▁তিন ▁বন্ধুর ▁প্রত্যেকেই ▁অপর ▁দুই ▁বন্ধুর ▁চেহারা ▁দেখে ▁হাস তে ▁লাগলেন । ▁কিছুক্ষণ ▁পর ▁প্রথম ▁বন্ধু ▁হাসি ▁বন্ধ ▁করে ▁চুপ ▁করে ▁গেলেন । ▁বলুন ▁তো ▁কেন ? ▁কারণ ▁ভাবলেন ▁দ্বিতীয় ▁বন্ধু ▁যদি ▁দেখতেন ▁তার ▁মুখে ▁দাগ ▁নেই , ▁তাহলে ▁দ্বিতীয় ▁বন্ধু ▁নিশ্চয়ই ▁তৃতীয় ▁বন্ধুকে ▁হাস তে ▁দেখে ▁অবাক ▁হতেন । ▁কারণ ▁প্রথম ▁বন্ধুর ▁মুখে ▁যদি ▁দাগ ▁না ▁থাকে ▁আর ▁দ্বিতীয় ▁বন্ধু ▁তো ▁ধরেই ▁নিয়েছেন ▁তার ▁নিজের ▁মুখে ▁দাগ ▁নেই , ▁তাহলে ▁তো ▁তৃতীয় ▁বন্ধুর ▁হাসা র ▁কথা ▁নয় ! ▁প্রথম ▁ও ▁দ্বিতীয় ▁দুই ▁বন্ধুর ▁কারও ▁মুখে ▁দাগ ▁না ▁থাকত ▁তাহলে ▁তৃতীয় ▁বন্ধু ▁হাস বেন ▁কেন ? ▁অথচ ▁তৃতীয় ▁বন্ধুকে ▁হাস তে ▁দেখে ▁দ্বিতীয় ▁বন্ধু ▁অবাক ▁হচ্ছেন ▁না । ▁তাই ▁প্রথম ▁বন্ধু ▁বুঝ লেন ▁তার ▁নিজের ▁মুখে ও ▁দাগ ▁আছে । ▁এ ▁জন্যই ▁তিনি ▁চুপ ▁করে ▁গেলেন । ▁গণিতের ▁আরেকটি ▁সমস্যার ▁সহজ ▁সমাধান ▁দেখুন । ▁চারটি ▁ক্রমিক ▁সংখ্যার ▁যোগফল ▁৩০ । ▁বলতে ▁হবে ▁সংখ্যা ▁চারটি ▁কত । ▁এর ▁উত্তরের ▁জন্য ▁আমরা ▁প্রথমে ▁সংখ্যা ▁চারটি র ▁সম্ভাব্য ▁গড় ▁কত ▁হতে ▁পারে ▁তা ▁বের ▁করি । ▁গড় ▁৭ ▁ও ▁৮ - এর ▁মাঝামাঝি । ▁সুতরাং ▁ক্রমিক ▁সংখ্যা ▁চারটি ▁নিশ্চয়ই ▁৬ , ▁৭ , ▁৮ ▁ও ▁৯ । ▁এদের ▁যোগফল ▁৩০ । ▁গড় ▁৭ ▁দশমিক ▁৫ । ▁এ ▁সপ্তাহের ▁ধাঁধা ▁আপনি ▁বিস্কুট ▁কিনতে ▁গেলেন । ▁দোকান ি ▁বললেন ▁দাম ▁২০ % ▁বেড়ে ▁১২০ ▁টাকা ▁হয়েছে । ▁আপনি ▁বললেন ▁না , ▁না , ▁২০ % ▁কমাতে ▁হবে । ▁দোকান ি ▁১২০ ▁টাকার ▁ওপর ▁২০ % ▁কমিয়ে ▁দাম ▁নিলেন । ▁বলুন ▁তো ▁এতে ▁কার ▁লাভ ▁হলো ? ▁খুব ▁সহজ । ▁অনলাইনে ▁মন্তব্য ▁আকারে ▁অথবা ▁ qua y um <unk> g ma il . com ▁ই - মেইল ে ▁আপনাদের ▁উত্তর ▁পাঠিয়ে ▁দিন । ▁সঠিক ▁উত্তর ▁দেখুন ▁আগামী ▁রোববার ▁অনলাইনে । ▁গত ▁সপ্তাহের ▁ধাঁধা র ▁উত্তর ▁ধাঁধা টি ▁ছিল ▁এ ▁রকম : ▁একটি ▁সংখ্যার ▁সঙ্গে ▁৬ ▁যোগ ▁করলে ▁একটি ▁পূর্ণ ▁বর্গ ▁সংখ্যা ▁হয় । ▁আবার ▁৬ ▁বিয়োগ ▁করলে ▁সেই ▁পূর্ণ ▁বর্গ ▁সংখ্যার ▁বর্গমূল ▁পাওয়া ▁যায় । ▁বৈশিষ্ট্যপূর্ণ ▁সংখ্যাটি ▁কত ? ▁উত্তর : ▁বৈশিষ্ট্যপূর্ণ ▁সংখ্যাটি ▁১০ । ▁( ১০ ▁+ ▁৬ ) ▁= ▁১৬ , ▁যা ▁একটি ▁পূর্ণ ▁বর্গ ▁সংখ্যা । ▁আবার ▁( ১০ ▁- ▁৬ ) ▁= ▁৪ , ▁যা ▁১৬ ▁এর ▁বর্গমূল । ▁কীভাবে ▁উত্তর ▁বের ▁করলাম ▁প্রথমে ▁আমরা ▁৪ , ▁৯ , ▁১৬ , ▁২৫ ▁প্রভৃতি ▁বর্গ ▁সংখ্যা ▁নিয়ে ▁পর্যবেক্ষণ ▁করি । ▁এদের ▁মধ্যে ▁১৬ ▁আমাদের ▁শর্ত ▁পূরণ ▁করে । ▁কারণ ▁এই ▁বর্গ সংখ্যা টি ▁থেকে ▁৬ ▁বিয়োগ ▁করলে ▁১০ ▁এবং ▁আবার ▁৬ ▁বিয়োগ ▁করলে ▁৪ ▁হয় , ▁যা ▁১৬ - এর ▁বর্গমূল । ▁তার ▁মানে ▁বৈশিষ্ট্যপূর্ণ ▁সংখ্যাটি ▁১০ । ▁এর ▁থেকে ▁৬ ▁বেশি ▁ও ▁৬ ▁কম ▁সংখ্যা গুলো ▁যথাক্রমে ▁১৬ ▁ও ▁৪ । ▁এখানে ▁১৬ ▁একটি ▁পূর্ণ ▁বর্গ ▁সংখ্যা , ▁এবং ▁৪ ▁হলো ▁১৬ - এর ▁বর্গমূল । ▁আমরা ▁তো ▁এই ▁শর্ত টিই ▁পূরণ ▁করতে ▁চা চ্ছি । ▁এখানে ▁লক্ষণীয় ▁যে ▁এ ▁ধরনের ▁আরও ▁কয়েকটি ▁বৈশিষ্ট্যপূর্ণ ▁সংখ্যা ▁রয়েছে । ▁যেমন ▁৩ ▁এমন ▁একটি ▁বৈশিষ্ট্যপূর্ণ ▁সংখ্যা ▁যার ▁সঙ্গে ▁১ ▁যোগ ▁ও ▁বিয়োগ ▁করলে ▁যথাক্রমে ▁৪ ▁ও ▁২ ▁পাওয়া ▁যায় । ▁এখানে ▁৪ ▁একটি ▁পূর্ণ ▁বর্গ ▁সংখ্যা ▁এবং ▁এর ▁বর্গমূল ▁২ ▁। ▁এ ▁রকম ▁আরেকটি ▁বৈশিষ্ট্যপূর্ণ ▁সংখ্যা ▁হলো ▁১৫ । ▁এর ▁সঙ্গে ▁১০ ▁যোগ ▁ও ▁বিয়োগ ▁করলে ▁যথাক্রমে ▁২৫ ▁ও ▁৫ ▁পাব । ▁এখানে ▁২৫ ▁একটি ▁পূর্ণ ▁বর্গ ▁সংখ্যা ▁এবং ▁এর ▁বর্গমূল ▁৫ । ▁আব্দুল ▁কাইয়ুম , ▁সম্পাদক , ▁মাসিক ▁ম্যাগাজিন ▁বিজ্ঞান চিন্তা,▁x x bo s ▁তিন ▁দশক ▁ধরে ▁বাংলাদেশের ▁অর্থনৈতিক ▁প্রবৃদ্ধি ▁স্থিতিশীল । ▁তবে ▁বিশেষজ্ঞরা ▁বলছেন , ▁সুশাসন ▁ছাড়া ▁এই ▁প্রবৃদ্ধি ▁বেশি ▁দিন ▁বজায় ▁থাকবে ▁না । ▁আগে ▁নিম্ন ▁অর্থনীতির ▁দেশ ▁হওয়ায় ▁উন্নয়নের ▁অনেক ▁ক্ষেত্র ▁ছিল , ▁ফলে ▁সুশাসন ▁ততটা ▁জরুরি ▁ছিল ▁না । ▁এই ▁পর্যায়ে ▁অর্থনৈতিক ▁প্রবৃদ্ধি ▁বাড়াতে ▁হলে ▁দেশে ▁সুশাসন ▁জরুরি । ▁রাজধানীর ▁গুলশান ের ▁একটি ▁হোটেলে ▁গত কাল ▁রোববার ▁‘ বাংলাদেশ ▁জার্নি : ▁অ্যা ক্সি লার ি টিং ▁ট্রান্স ফর ম েশন ’ ▁( বাংলাদেশের ▁যাত্রা : ▁দ্রুততর ▁রূপান্তর ) ▁শীর্ষক ▁সম্মেলনে ▁তাঁরা ▁এসব ▁কথা ▁বলেন । ▁দেশের ▁অর্থনৈতিক ▁উন্নয়ন - সংশ্লিষ্ট ▁বিভিন্ন ▁বিষয়ে ▁দুই ▁দিনের ▁এই ▁সম্মেলন ▁আয়োজন ▁করেছে ▁বাংলাদেশ ▁উন্নয়ন ▁গবেষণা ▁প্রতিষ্ঠান ▁( বিআই ডিএস ) । ▁গত কাল ▁উদ্বোধনী ▁দিনে ▁কয়েক ▁পর্বে ▁সুশাসন , ▁শিক্ষা , ▁উন্নয়নের ▁সম্ভাবনা , ▁শ্রম বাজার , ▁মা ▁ও ▁শিশুর ▁পুষ্টি ▁বিষয়ে ▁আলোচনা ▁হয় । ▁‘ বাংলাদেশ ▁কি ▁সুশাসন ▁ছাড়া ▁ধারাবাহিকভাবে ▁উন্নয়ন ▁করতে ▁পারবে ?’ — এই ▁পর্বে ▁সুশাসন ▁ও ▁অর্থনৈতিক ▁উন্নয়ন ▁বিষয়ে ▁আলোচনা ▁হয় । ▁এতে ▁মূল ▁প্রবন্ধ ▁উপস্থাপন ▁করেন ▁বি আইডি এস ের ▁গবেষণা ▁পরিচালক ▁কাজী ▁আলী ▁তৌফিক । ▁তাতে ▁বলা ▁হয় , ▁অনেক ▁ক্ষেত্রে ▁সুশাসন ▁না ▁থাকার ▁পরেও ▁বাংলাদেশের ▁ধারাবাহিক ▁অর্থনৈতিক ▁প্রবৃদ্ধি ▁বিস্ময়কর । ▁আলোচনায় ▁অংশ ▁নিয়ে ▁সাবেক ▁তত্ত্বাবধায়ক ▁সরকারের ▁উপদেষ্টা ▁আকবর ▁আলি ▁খান ▁বলেন , ▁সুশাসন ▁ছাড়া ▁অর্থনৈতিক ▁উন্নয়ন ▁হয়তো ▁আরও ▁কিছুদিন ▁চলবে । ▁শেষ ▁পর্যন্ত ▁এটি ▁চলবে ▁না । ▁৫ ▁বা ▁১০ ▁বছর ▁পরে ▁বড় ▁সমস্যার ▁সম্মুখীন ▁হতে ▁হবে । ▁বাংলাদেশের ▁বর্তমান ▁পরিস্থিতিতে ▁রাতারাতি ▁সুশাসন ▁প্রতিষ্ঠা ▁হবে ▁না , ▁মন্তব্য ▁করে ▁আকবর ▁আলি ▁বলেন , ▁এখন ই ▁সুশাসন ের ▁জন্য ▁উদ্যোগ ▁নেওয়া ▁হলেও ▁আগামী ▁১০ - ১৫ ▁বছরের ▁আগে ▁অবস্থার ▁পরিবর্তন ▁হবে ▁না । ▁এই ▁পর্বের ▁সভাপতি ▁সাবেক ▁তত্ত্বাবধায়ক ▁সরকারের ▁উপদেষ্টা ▁এবং ▁পাওয়ার ▁অ্যান্ড ▁পার্টি সিপ েশন ▁রিসার্চ ▁সেন্টারের ▁নির্বাহী ▁চেয়ারম্যান ▁হোসেন ▁জিল্লু র ▁রহমান ▁বলেন , ▁অর্থনৈতিক ▁প্রবৃদ্ধি ▁বজায় ▁থাকা ▁না - থাকা র ▁চেয়ে , ▁প্রবৃদ্ধি ▁বাড়বে ▁কি ▁না ▁সেটি ▁আলোচনা ▁হওয়া ▁দরকার । ▁এক ▁দশক ▁ধরে ▁অর্থনৈতিক ▁প্রবৃদ্ধি ▁একই ▁জায়গায় ▁আটকে ▁আছে । ▁তিনি ▁আরও ▁বলেন , ▁দেশের ▁সব খানে ▁সমঝোতা র ▁নির্বাচন ▁দেখা ▁যাচ্ছে । ▁শুধু ▁রাজনৈতিক ▁ক্ষেত্রে ▁এমনটি ▁হচ্ছে ▁তা ▁নয় । ▁বিভিন্ন ▁পেশাজীবী র ▁ক্ষেত্রেও ▁তা ▁হচ্ছে । ▁রাজনৈতিক ▁দলগুলোর ▁নতুন ▁নেতৃত্ব ▁গড়ে ▁তোলার ▁কোনো ▁প্রক্রিয়া ▁নেই । ▁স্থানীয় ▁পর্যায়ের ▁নেতা - কর্মীদের ▁কেন্দ্রীয় ▁নেতাদের ▁নির্দেশে ▁চলতে ▁হচ্ছে । ▁প্রবৃদ্ধি ▁বৃদ্ধি ▁না ▁হওয়ার ▁ক্ষেত্রে ▁এগুলোর ▁প্রভাব ▁পড়ছে । ▁ঢাকা ▁বিশ্ববিদ্যালয় ের ▁উন্নয়ন ▁অর্থনীতি ▁বিভাগের ▁অধ্যাপক ▁সেলিম ▁রায়হান ▁বলেন , ▁১৯৯০ - এর ▁দশকের ▁পর ▁থেকেই ▁দেশে ▁অর্থনৈতিক ▁প্রবৃদ্ধি র ▁ধরন ▁স্থিতিশীল । ▁এশিয়া ▁ও ▁আফ্রিকার ▁কিছু ▁দেশে ▁উচ্চ ▁হারে ▁প্রবৃদ্ধি ▁হলেও ▁সেটি ▁স্থিতিশীল ▁হয়নি । ▁বাংলাদেশে ▁সুশাসন ▁ছাড়াই ▁প্রবৃদ্ধি ▁হয়েছে । ▁এখন ▁বড় ▁প্রশ্ন , ▁সুশাসন ▁ছাড়া ▁এই ▁প্রবৃদ্ধি ▁বজায় ▁থাকবে ▁কি ▁না । ▁বাংলাদেশের ▁রাজনীতি ▁দো দুল ্য মান ▁হলেও ▁অর্থনীতি ▁ধারাবাহিকভাবে ▁ভালো ▁হয়েছে ▁বলে ▁মন্তব্য ▁করেন ▁ব্র্যাক ▁বিশ্ববিদ্যালয় ের ▁ব্র্যাক ▁ইনস্টিটিউট ▁অব ▁গুড ▁গভ র্ন েন্স ▁অ্যান্ড ▁ডেভেলপমেন্ট ের ▁ফেলো ▁মির্জা ▁হাসান । ▁তিনি ▁বলেন , ▁দেশের ▁রাজনীতিক েরা ▁সমঝোতা র ▁মাধ্যমে ▁নিজেদের ▁মধ্যে ▁সুবিধা ▁ভাগ ▁করে ▁নিয়েছে । ▁একটি ▁দল ▁কুক্ষিগত ▁না ▁করে ▁দলগুলোর ▁মধ্যে ▁সুবিধা ▁ভাগ ▁করেছে , ▁যা ▁প্রবৃদ্ধি কে ▁ধরে ▁রেখেছে । ▁উন্মুক্ত ▁আলোচনায় ▁সুশাসন ের ▁জন্য ▁নাগরিকের ▁সম্পাদক ▁বদিউ ল ▁আলম ▁মজুমদার ▁বলেন , ▁ক্ষমতাসীন ▁দলের ▁মধ্যে ▁মারামারি , ▁বিশৃঙ্খলা ▁অশান্তি ▁তৈরি ▁করছে , ▁যা ▁প্রবৃদ্ধি তে ▁প্রভাব ▁ফেলবে । ▁বিভিন্ন ▁রকমের ▁ফা য় দা ▁পেয়ে ▁পেশি শক্তির ▁লোকজন ▁রাজনৈতিক ▁ক্ষমতা ▁দখল ▁করছেন । ▁এঁদের ▁অনেকের ▁আধুনিক ▁রাষ্ট্র ▁কীভাবে ▁পরিচালনা ▁করতে ▁হয় ▁সে ▁বিষয়ে ▁ধারণা ▁নেই । ▁তাঁদের ▁লক্ষ্য ▁টাকা পয়সা ▁বানানো , ▁পাচার ▁করা । ▁বি আইডি এস ের ▁এই ▁বার্ষিক ▁আয়োজনের ▁উদ্বোধনী ▁পর্বে ▁উপস্থিত ▁ছিলেন ▁পরিকল্পনা ▁বিভাগের ▁সচিব ▁মো . ▁জিয়াউল ▁ইসলাম । ▁এ ▁সময় ▁বি আইডি এস ের ▁মহাপরিচালক ▁কে ▁এস ▁মুর্শিদ ▁সম্মেলনের ▁সারসংক্ষেপ ▁এবং ▁আলোচ্য সূচি ▁বিষয়ে ▁প্রবন্ধ ▁উপস্থাপন ▁করেন । ▁উদ্বোধনী ▁পর্বের ▁সভাপতির ▁বক্তব্যে ▁বাংলাদেশ ▁ব্যাংকের ▁সাবেক ▁গভর্নর ▁মোহাম্মদ ▁ফর াস উদ্দিন ▁বলেন , ▁সমাজ ▁পরিবর্তন ▁ও ▁টেকসই ▁উন্নয়নে ▁মানসিকতা র ▁পরিবর্তন ▁জরুরি । ▁বাংলাদেশের ▁রূপান্তর - প্রক্রিয়া ▁চলছে । ▁এটি ▁শক্তিশালী ▁করতে ▁হবে । ▁বর্তমান ▁প্রবৃদ্ধি ▁হারে ▁২০ ২৯ ▁সালের ▁মধ্য ▁নিম্ন ▁মধ্যম ▁আয়ের ▁দেশ ▁থেকে ▁মধ্য ▁আয়ের ▁দেশ ▁হওয়া ▁সম্ভব ।\n",
       "y: LMLabelList\n",
       ",,,,\n",
       "Path: /content/data;\n",
       "\n",
       "Valid: LabelList (10000 items)\n",
       "x: LMTextList\n",
       "▁x x bo s ▁ভ্রমণ নিষেধ া জ্ঞা ▁আরোপ ▁করার ▁পর ▁ট্রাম্প ▁ক্রমাগত ▁হেরে ই ▁যাচ্ছেন । ▁মার্কিন ▁আপিল ▁আদালতের ▁নবম ▁সার্কিট ▁হাওয়াই ▁জেলা ▁আদালতের ▁রায় ▁প্রায় ▁পুরোটাই ▁বহাল ▁রেখেছেন । ▁এর ▁মধ্য ▁দিয়ে ▁আপিল ▁আদালত ▁ট্রাম্পের ▁দ্বিতীয় ▁দফা ▁ভ্রমণ নিষেধ া জ্ঞা য় ▁আঘাত ▁হান লেন । ▁আমেরিকান ▁সিভিল ▁লিবার্টি স ▁ইউনিয়নের ▁মুখপাত্র ▁আমাকে ▁বলেছেন , ▁‘ দুটি ▁আপিল ▁আদালত ▁মুসলমানদের ▁ভ্রমণ নিষেধ া জ্ঞা র ▁বিষয়টি ▁আমলে ▁নিয়ে ▁দৃঢ়তা র ▁সঙ্গে ▁তাকে ▁বেআইনি ▁হিসেবে ▁বিধান ▁দিয়েছেন । ▁যদিও ▁আপিল ▁আদালতের ▁চতুর্থ ▁ও ▁নবম ▁সার্কিট ▁ভিন্ন ▁যুক্তি ▁দিয়েছেন , ▁উভয় ▁আদালত ই ▁এ ▁ব্যাপারে ▁পরিষ্কার , ▁এ ▁ধরনের ▁নিষেধাজ্ঞার ▁যৌক্তিকতা ▁নেই । ’ ▁নবম ▁সার্কিট ▁তো ▁আরও ▁একবার ▁ট্রাম্পের ▁এই ▁দাবি ▁নাকচ ▁করেছেন ▁যে ▁নির্দিষ্ট ▁কিছু ▁গোষ্ঠীর ▁ওপর ▁নিষেধাজ্ঞা ▁আরোপ ের ▁ক্ষেত্রে ▁তাঁর ▁হাতে ▁প্রায় ▁অসীম ▁ক্ষমতা ▁রয়েছে । ▁ব্যাপারটা ▁হচ্ছে , ▁অভিবাসনের ▁ব্যাপারে ▁প্রেসিডেন্টের ▁একক ▁ক্ষমতা ▁নেই । ▁তাঁর ▁কর্তৃত্ব ▁নানা ▁রকম ▁আইনি ▁ও ▁সাংবিধানিক ▁বিধিনিষেধ ের ▁নি গড়ে ▁বাঁধা । ▁আমাদের ▁সিদ্ধান্ত ▁হচ্ছে , ▁নির্বাহী ▁আদেশ ▁জারি ▁করতে ▁গিয়ে ▁প্রেসিডেন্ট ▁কংগ্রেস ▁কর্তৃক ▁প্রদত্ত ▁ক্ষমতার ▁বেশি ▁ব্যবহার ▁করেছেন । ▁ছয়টি ▁দেশের ▁১৮ ▁কোটির ▁বেশি ▁মানুষ ▁ও ▁শরণার্থী র ▁আগমন ▁নিষিদ্ধ ▁এবং ▁২০১৭ ▁সালে ▁১ ▁লাখ ▁১০ ▁হাজার ▁শরণার্থী র ▁জায়গায় ▁৫০ ▁হাজার ▁নেওয়ার ▁ঘোষণা — এসব ▁করতে ▁গিয়ে ▁ট্রাম্প ▁নিজের ▁ক্ষমতা ▁ব্যবহারের ▁প্রয়োজনীয় ▁পূর্বশর্ত ▁পূরণ ▁করেননি । ▁এই ▁মানুষেরা ▁যুক্তরাষ্ট্রে ▁ঢু কলে ▁তা ▁‘ দেশ টির ▁স্বার্থের ▁জন্য ▁হানি কর ’ ▁হবে , ▁এটা ▁বলার ▁আগে ▁প্রেসিডেন্ট কে ▁তথ্যপ্রমাণ ▁জড়ো ▁করতে ▁হবে । ▁এ ▁ছাড়া ▁ট্রাম্পের ▁এই ▁আদেশ ▁ইমিগ্রেশন ▁অ্যান্ড ▁ন্যাশনাল িটি ▁অ্যাক্ট ের ▁পরিপন্থী । ▁কারণ ▁এতে ▁বলা ▁হয়েছে , ▁জাতীয়তা ভিত্তিক ▁বিভাজন ▁করা ▁যাবে ▁না , ▁আর ▁শরণার্থীদের ▁প্রবেশ ▁সীমিত ▁করতে ▁হলে ▁প্রেসিডেন্ট কে ▁নির্দিষ্ট ▁প্রক্রিয়া ▁অনুসরণ ▁করতে ▁হবে । ▁আইনের ▁এই ▁বিধান ের ▁বলে ▁আমরা ▁জেলা ▁আদালতের ▁আদেশ ▁অনেকাংশে ▁সমর্থন ▁করি । ▁মনে ▁হচ্ছে , ▁মামলা ▁চলাকালে ▁প্রশাসন ▁এটা ▁শিখতে ▁পারেনি , ▁আদালত ▁এমন ▁যুক্তি ▁সমর্থন ▁করেন ▁না ▁যে ▁প্রশাসনের ▁কাজ ▁পর্যালোচনা ▁করা ▁যাবে ▁না । ▁আদালত ▁প্রশাসন কে ▁নির্দেশনা ▁দিয়েছেন , ▁‘ প্রেসিডেন্ট ের ▁অভিবাসন ▁ও ▁জাতীয় ▁নিরাপত্তা ▁নীতি বিষয়ক ▁বিবেচনা র ▁প্রতি ▁আমরা ▁যত ▁শ্রদ্ধা ই ▁দেখা ই ▁না ▁কেন , ▁তার ▁মানে ▁এই ▁নয় ▁যে , ▁আমরা ▁মোট েও ▁এই ▁নীতি ▁পর্যালোচনা ▁করতে ▁পারব ▁না ... আমরা ▁বিচার িক ▁ভূমিকা ▁ত্যাগ ▁করিনি । ▁এ ▁ক্ষেত্রে ▁“ আইন ▁কী ▁জিনিস ”, ▁সেটা ▁বলার ▁ব্যাপারে ▁আমাদের ▁বাধ্যবাধকতা ▁আছে ▁( মার বুরি ▁বনাম ▁ম্যাডিসন , ▁৫ ▁ইউ . এস . ১৩৭ , ▁১৭৭ ( ১৮ ০৩ ) । ’ ▁তাহলে ▁সরকার ▁কেন ▁গো ঁ ▁ধরে ▁বসে ▁থাকে , ▁এই ▁আইনি ▁বিতর্কে ▁আদালতের ▁স্থান ▁নেই । ▁সুনির্দিষ্ট ▁আইনি ▁পরিপ্রেক্ষিতে ▁আদালত ▁দেখেছেন , ▁প্রেসিডেন্ট ▁এমন ▁কিছু ▁পাননি ▁যে ▁বলা ▁যায় , ▁‘ কোনো ▁এক ▁বিদেশি ▁গোষ্ঠীর ▁আগমন ▁মার্কিন ▁যুক্তরাষ্ট্রের ▁স্বার্থের ▁জন্য ▁হানি কর । ’ ▁প্রশাসনের ▁এই ▁নিপীড়ন মূলক ▁কাজের ▁ন্যূনতম ▁ভিত্তি ▁না ▁থাকায় ▁আদালত ▁তাকে ▁ভর ্ ৎস না ▁করেছেন : ▁‘ ২ ( সি ) ▁নম্বর ▁ধারায় ▁প্রথম ▁যে ▁তিনটি ▁কারণ ▁বর্ণিত ▁হয়েছে , ▁আমরা ▁তা ▁প্রত্যাখ্যান ▁করি । ▁কারণ ▁এটা ▁বিদ্যমান ▁প্রক্রিয়া ▁পর্যালোচনায় ▁সরকারের ▁সক্ষমতা ▁সংরক্ষণ ▁ও ▁যথাযথ ▁ভে টিং - প্রক্রিয়া ▁নিশ্চিতকরণ ের ▁সঙ্গে ▁সম্পর্কিত । ▁এমন ▁তথ্য ▁নেই ▁যে ▁বিদ্যমান ▁ভে টিং ▁কার্যক্রম ▁অপর্যাপ্ত । ▁আবার ▁এমন ▁তথ্য ও ▁নেই ▁যে ▁উন্নত ▁ভে টিং - প্রক্রিয়া ▁না ▁থাকলে ▁জাতীয় ▁স্বার্থের ▁হানি ▁ঘটবে । ▁এসব ▁চিহ্নিত ▁কারণে র ▁পরিপ্রেক্ষিতে ▁বলা ▁যায় , ▁এই ▁ছয়টি ▁দেশের ▁নাগরিকের া ▁যুক্তরাষ্ট্রে ▁প্রবেশ ▁করলে ▁আমাদের ▁জাতীয় ▁স্বার্থের ▁হানি ▁ঘটবে । ’ ▁মনে ▁হয় , ▁সরকারি ▁আইনজীবী রা ▁সংশ্লিষ্ট ▁তথ্যপ্রমাণ ▁সংগ্রহের ▁চেষ্টা ▁করেননি । ▁কারণ , ▁এই ▁বিশুদ্ধ ▁রাজনৈতিক ▁পদক্ষেপের ▁প্রমাণ ▁নেই । ▁জাতীয় ▁নিরাপত্তার ▁যুক্তির ▁জায়গা ▁থেকে ▁আদালত ▁একই ▁ভাবে ▁খুঁজে ▁পেয়েছেন , ▁এই ▁ছয়টি ▁দেশের ▁নাগরিকদের ▁কেন ▁যুক্তরাষ্ট্রে ▁ঢুকতে ▁দেওয়া ▁হবে ▁না , ▁তার ▁সপক্ষে ▁সরকার ▁তেমন ▁কোনো ▁যুক্তি ▁দেয়নি । ▁সংক্ষেপে ▁বললে , ▁সরকারের ▁নির্বাহী ▁আদেশে ▁এমন ▁যুক্তি ▁দেওয়া ▁হয়নি ▁যে ▁কেন ▁বিদ্যমান ▁প্রটোকল ের ▁অধীনে ▁এই ▁ছয়টি ▁দেশের ▁নাগরিকের া ▁যুক্তরাষ্ট্রের ▁স্বার্থের ▁জন্য ▁হানি কর ▁হবেন । ▁এ ▁ছাড়া ▁১৯৬৫ ▁সালের ▁এক ▁আইনে ▁প্রেসিডেন্টের ▁ক্ষমতা ▁সীমিত ▁করা ▁হয়েছে । ▁এই ▁আইনে ▁বলা ▁হয়েছে , ▁ভিসা ▁দেওয়ার ▁ক্ষেত্রে ▁বৈষম্য ▁করা ▁যাবে ▁না । ▁নিষেধাজ্ঞার ▁সমর্থকদের ▁যুক্তি ▁হচ্ছে , ▁অভিবাসনের ▁ওপর ▁প্রেসিডেন্টের ▁যে ▁সামগ্রিক ▁কর্তৃত্ব ▁রয়েছে , ▁এই ▁আইনে ▁তা ▁খর্ব ▁করা ▁হয়নি । ▁কিন্তু ▁আদালত ▁এর ▁সঙ্গে ▁একমত ▁হননি । ▁আদালতের ▁অনুসন্ধান ▁হচ্ছে , ▁প্রশাসন ▁আইনি ▁শর্ত ▁পূরণ ▁করেনি । ▁ফলে ▁এই ▁নিষেধাজ্ঞার ▁সাংবিধানিক ▁দুর্বলতা র ▁দিকে ▁নজর ▁দেওয়ার ▁কিছু ▁নেই । ▁সরকারের ▁তরফে ▁একমাত্র ▁জয় ▁হচ্ছে , ▁আদালত ▁এই ▁স্বীকৃতি ▁দিয়েছেন ▁যে ▁সরকার ▁আন্ত সংস্থা ▁ভে টিং ▁পর্যালোচনা ▁করতে ▁পারবে । ▁আর ▁সুনির্দিষ্টভাবে ▁প্রেসিডেন্টের ▁কাজে ▁যে ▁নিষেধাজ্ঞা ▁দিতে ▁হবে , ▁তার ▁প্রয়োজনীয়তা ▁নেই । ▁সরকারের ▁আইনজীবী রা ▁কেন ▁সরকারকে ▁প্রয়োজনীয় ▁তথ্য ▁সংগ্রহ ▁করে ▁বোধগম্য ▁অবস্থান ▁নিতে ▁তাড়া ▁দিচ্ছেন ▁না , ▁সেটা ▁আমাদের ▁বোধগম্য ▁নয় । ▁অর্থাৎ ▁কেন ▁এই ▁ছয়টি ▁দেশের ▁নাগরিকদের ▁ভ্রমণ নিষেধ া জ্ঞা ▁জরুরি ▁বা ▁কেন ▁সব ▁শরণার্থী র ▁ওপর ▁নিষেধাজ্ঞা ▁জারি ▁করতে ▁হবে ? ▁জাস্টিস ▁ডিপার্টমেন্টের ▁সাবেক ▁মুখপাত্র ▁ম্যাথু ▁মিলার ▁বলেছেন , ▁‘ প্রেসিডেন্ট ের ▁পরাজয়ের ▁সামগ্রিক ▁পরিণতি ▁দেখে ▁আমি ▁স্তম্ভ িত । ▁তিনি ▁আইনি ▁ও ▁সাংবিধানিক ▁কারণে ▁হেরে ▁গেছেন । ’ ▁কেউ ▁হয়তো ▁ভাবতে ▁পারেন , ▁প্রশাসন ▁প্রয়োজনীয় ▁সাক্ষ্যপ্রমাণ ▁জোগাড় ▁করতে ▁অক্ষম , ▁অথবা ▁তারা ▁অলস । ▁আমরা ▁ভিন্ন ▁এক ▁তত্ত্ব ▁পছন্দ ▁করি : ▁এই ▁আদেশ গুলোর ▁নিরাপত্তা ▁বা ▁অন্যান্য ▁যৌক্তিকতা ▁নেই ; ▁বরং ▁এগুলো ▁কিছু ▁সংস্কার ে ▁স্থূল ভাবে ▁সু ড় স ুড়ি ▁দেওয়া , ▁যার ▁কোনো ▁প্রামাণিক ▁ও ▁যৌক্তিক ▁ভিত্তি ▁নেই । ▁পৃথিবীর ▁কোনো ▁আইনজীবী ▁আদালতে ▁তা ▁প্রমাণ ▁করতে ▁পারবেন ▁না । ▁অনুবাদ : ▁প্রতীক ▁বর্ধন , ▁ওয়াশিংটন ▁পোস্ট ▁থেকে ▁নেওয়া । ▁জেনিফার ▁রুবিন : ▁ওয়াশিংটন ▁পোস্ট – এর ▁কলামিস্ট ।,▁x x bo s ▁কাশ্মীরি ▁পোলাও উপ করণ : ▁পোলাও য়ের ▁চাল ▁৩০০ ▁গ্রাম , ▁কিশমিশ ▁৫০ ▁গ্রাম , ▁আপেল ▁টুকরা ▁১০০ ▁গ্রাম , ▁কাজুবাদাম ▁১০০ ▁গ্রাম , ▁আনারস ▁টুকরা ▁১০০ ▁গ্রাম , ▁লবণ ▁ও ▁চিনি ▁স্বাদ মতো , ▁ঘি ▁৫০ ▁গ্রাম , ▁মা ওয়া ▁৫০ ▁গ্রাম , ▁তেল ▁১০০ ▁গ্রাম , ▁গরম ▁মসলা ▁পরিমাণ মতো । প্র ণা লি : ▁চাল ▁ভালো ▁করে ▁পানিতে ▁ধুয়ে ▁সেদ্ধ ▁করে ▁নিন । ▁অন্য ▁একটি ▁সস প্যান ে ▁ঘি ▁ও ▁তেল ▁ঢেলে ▁তাতে ▁গরম ▁মসলা ▁দিয়ে ▁নাড়ু ন । ▁এরপর ▁কিশমিশ , ▁আপেল , ▁আনারস , ▁কাজুবাদাম ▁দিয়ে ▁নেড়ে ▁নিন । ▁এরপর ▁লবণ , ▁চিনি , ▁মা ওয়া ▁ঢেলে ▁এর ▁ওপর ▁সেদ্ধ ▁করা ▁চাল ▁ঢেলে ▁ভালোভাবে ▁মিশিয়ে ▁নাড়াচাড়া ▁করে ▁নামিয়ে ▁পরিবেশন ▁করুন । ▁মাছের ▁কো ফ তা উপ করণ : ▁ ভেট কি ▁মাছ ▁৩০০ ▁গ্রাম , ▁সর ষে ▁বাটা ▁বা ▁মা স্টার্ড ▁পেস্ট ▁৫০ ▁গ্রাম , ▁লেবু র ▁রস ▁২ ▁চা - চামচ , ▁লবণ ▁১ ▁চা - চামচ , ▁রসুন ▁কুচি ▁১ ▁চা - চামচ , ▁পেঁয়াজ ▁কুচি ▁৫০ ▁গ্রাম , ▁কাঁচা ▁মরিচ ▁৫০ ▁গ্রাম , ▁ধন ে পাতা ▁৫০ ▁গ্রাম , ▁ডিম ▁১ টা , ▁ময়দা ▁১ ▁কাপ , ▁ক্যাপ সি কাম ▁১০০ ▁গ্রাম , ▁টমেটো ▁১০০ ▁গ্রাম । প্র ণা লি : ▁ ভেট কি ▁মাছ ▁কাঁটা ▁ছাড়িয়ে ▁কি মা ▁করে ▁নিন । ▁পাত্রে ▁মাছের ▁কি মা ▁রেখে ▁তার ▁ওপর ▁মা স্টার্ড ▁পেস্ট , ▁লেবু র ▁রস , ▁লবণ , ▁রসুন ▁কুচি , ▁পেঁয়াজ ▁কুচি , ▁কাঁচা ▁মরিচ ▁কুচি , ▁ধন ে পাতা , ▁ডিম ▁ও ▁ময়দা ▁দিয়ে ▁ভালো ▁করে ▁মেখে ▁নিন । ▁ছোট ▁ছোট ▁কো ফ তার ▁আকার ▁করে ▁নিন । ▁ফ্রাই প্যান ে ▁তেল ▁ঢেলে ▁গরম ▁করে ▁কো ফ তা ▁ভেজে ▁নিন । ▁কো ফ তা গুলো ▁পাত্রে ▁ঢেলে ▁তার ▁ওপর ▁ক্যাপ সি কাম ▁ও ▁টমেটো ▁কুচি ▁সাজিয়ে ▁পরিবেশন ▁করুন ।,▁x x bo s ▁জনপ্রিয় ▁খুদে ▁ভিডিও ▁শেয়ারিং ▁অ্যাপ ▁টি কট কে র ▁ওপর ▁জারি ▁করা ▁সাময়িক ▁নিষেধাজ্ঞা ▁উঠিয়ে ▁নিয়েছেন ▁ভারতের ▁তামিলনাড়ু ▁প্রদেশের ▁উচ্চ ▁আদালত । ▁এর ▁আগে ▁অ্যাপ টির ▁মাধ্যমে ▁পর্নো ▁ভিডিও ▁ছড়িয়ে ▁পড়ছে ▁দাবি ▁করে ▁মাদ্রাজ ▁আদালত ▁সরকারকে ▁এটির ▁ওপর ▁নিষেধাজ্ঞা ▁জারি র ▁নির্দেশ ▁দেন । ▁তবে ▁অ্যাপ টির ▁নিষেধাজ্ঞা ▁কিছু ▁নির্দিষ্ট ▁শর্ত ের ▁অধীনে ▁উঠিয়ে ▁নেওয়া ▁হয়েছে । ভারতীয় ▁গণমাধ্যম ▁এনডিটিভি র ▁খবর ে ▁বলা ▁হয়েছে , ▁এপ্রিলের ▁তিন ▁তারিখে ▁মাদ্রাজ ▁হাইকোর্ট ▁একটি ▁জনস্বার্থ ের ▁মামলা ▁আমলে ▁নিয়ে ▁অ্যাপ টির ▁ওপর ▁নিষেধাজ্ঞা ▁জারি ▁করেছিল । ▁পরে ▁ওই ▁আদেশ ের ▁বিপরীতে ▁আইনজীবী ▁মু থু কুমার ▁একটি ▁মামলা ▁দায়ের ▁করেন । ▁ওই ▁মামলার ▁শুনানি র ▁পরে ▁পর্নো ▁ভিডিও ▁না ▁ছড়ানোর ▁শর্তে ▁অ্যাপ টির ▁ওপর ▁থেকে ▁নিষেধাজ্ঞা ▁উঠিয়ে ▁নেওয়া ▁হয় । বিভিন্ন ▁গান , ▁বিখ্যাত ▁সিনেমার ▁সংলাপ সহ ▁নানা ▁রকম ▁মজাদার ▁অডিও র ▁সঙ্গে ▁ঠোঁট ▁মিলিয়ে ▁ছোট ▁ভিডিও ▁তৈরি ▁করে ▁আপলোড ▁করা ▁যায় ▁টি কট ক ▁অ্যাপ ে । ▁চীনা ▁প্রতিষ্ঠানের ▁তৈরি ▁অ্যাপ টি ▁ভারতে ▁ব্যাপক ▁জনপ্রিয় ▁হয়ে ▁উঠেছে । ▁তবে ▁এর ▁কনটেন্ট ের ▁যথার্থতা ▁নিয়ে ▁রাজনীতিবিদ েরা ▁সমালোচনা ▁শুরু ▁করেছেন । ▁অ্যাপ ▁বিশ্লেষক ▁প্রতিষ্ঠান ▁সেন্সর ▁টাওয়ারের ▁তথ্য ▁অনুযায়ী , ▁গত ▁ফেব্রুয়ারি ▁মাস ▁পর্যন্ত ▁ভারতে ▁২৪ ▁কোটি বার ▁ডাউনলোড ▁হয়েছে ▁অ্যাপ টি । ▁এ ▁বছরের ▁জানুয়ারিতে ▁তিন ▁কোটি ▁ব্যবহারকারী ▁এটি ▁ইনস্টল ▁করেছে , ▁যা ▁গত ▁বছরের ▁জানুয়ারি ▁মাসের ▁চেয়ে ▁১২ ▁শতাংশ ▁বেশি । ▁মাদ্রাজ ▁আদালতে ▁বুধবার ▁রাষ্ট্র পক্ষের ▁আইনজীবী ▁অরবিন্দ ▁দাতা র ▁বলেন , ▁কোনো ▁বিশেষ ▁অ্যাপ ▁বন্ধ ▁করে ▁দেওয়া টা ▁সমস্যার ▁চূড়ান্ত ▁সমাধান ▁নয় । ▁এ ▁ছাড়া ▁বৈধ ▁ব্যবহারকারীদের ▁অধিকার ▁সংরক্ষণ ▁করতে ▁হবে ▁বলে ▁জানান ▁তিনি । ▁নিষেধাজ্ঞা ▁জারি ▁করার ▁পরে ▁দাতা র কে ▁অ্যাপ টির ▁প্রভাব ▁জানার ▁জন্য ▁দায়িত্ব ▁দিয়েছিলেন ▁আদালত । ▁এর ▁আগে , ▁৩ ▁এপ্রিল ▁মাদ্রাজ ▁হাইকোর্ট ের ▁পক্ষ ▁থেকে ▁সরকারকে ▁টি কট ক ▁অ্যাপ ▁বন্ধের ▁ব্যবস্থা ▁নিতে ▁নির্দেশ ▁দেওয়া ▁হয় । ▁সে ▁সময় ▁বলা ▁হয় , ▁এটি ▁পর্নোগ্রাফি তে ▁উৎসাহ ▁দিচ্ছে ▁এবং ▁শিশুদের ▁ঝুঁকিতে ▁ফেলছে । ▁এরপর ▁জনস্বার্থ ের ▁একটি ▁মামলা ▁আমলে ▁নিয়ে ▁রুল ▁দিয়েছিলেন ▁আদালত ।,▁x x bo s ▁ধর্ষণ ের ▁বিচারে ▁নতুন ▁আইন ▁চান ▁শিরীন ▁ধর্ষণ ের ▁বিচারে ▁নতুন ▁আইন ▁প্রণয়ন ের ▁দাবি ▁জানিয়েছেন ▁আওয়ামী ▁লীগের ▁নেতৃত্বাধীন ▁১৪ ▁দলের ▁শরিক ▁জাসদ ের ▁সাধারণ ▁সম্পাদক ▁শিরীন ▁আখতার । ▁সোমবার ▁জাতীয় ▁সংসদে ▁জরুরি ▁জন গুরু ত্ব সম্পন্ন ▁বিষয়ে ▁মনোযোগ ▁আকর্ষণ ের ▁নোটিশ ে ▁শিরীন ▁এই ▁দাবি ▁জানান । ▁সাম্প্রতিক ▁সময়ের ▁নারী ▁নির্যাতন ▁ও ▁শিশু ▁ধর্ষণ ের ▁ঘটনা ▁তুলে ▁ধরে ▁একটি ▁পত্রিকায় ▁প্রকাশিত ▁প্রতিবেদন ের ▁বরাত ▁দিয়ে ▁শিরীন ▁আখতার ▁বলেন , ▁ছয় ▁মাসে ▁৬৯ ৬টি ▁শিশু ▁ধর্ষণ ের ▁শিকার ▁হয়েছে । ▁জাসদ ের ▁সাধারণ ▁সম্পাদক ▁বলেন , ▁‘ আজ কে ▁এই ▁রকম ▁একটি ▁অবস্থায় ▁আমাদের ▁সমাজ ▁কোথায় ▁আছে , ▁আমরা ▁কোথায় ▁আছি ? ▁আমরা ▁আজকে ▁উন্নয়নের ▁দিকে ▁এগিয়ে ▁যাচ্ছি । ▁প্রধানমন্ত্রীর ▁নেতৃত্বে ▁বাংলাদেশে ▁সুশাসন ের ▁কথা ▁বলছি । ▁আমরা ▁যখন ▁এ ▁দিকে ▁এগিয়ে ▁যাচ্ছি , ▁তখন ▁সমাজে ▁কেন ▁এত ▁অধঃপতন ? ▁আমাদের ▁অবশ্যই ▁তা ▁বের ▁করতে ▁হবে । ’ ▁শিরীন ▁আখতার ▁বলেন , ▁অবশ্যই ▁একটি ▁আইন ▁নতুন ▁করে ▁প্রণয়ন ▁করা ▁দরকার , ▁যাতে ▁অত্যন্ত ▁দৃষ্টান্ত মূলক ভাবে ▁এসব ▁নর পি শা চ দের ▁বিচার ▁করা ▁যায় ▁এবং ▁বিচারের ▁নামে ▁দীর্ঘ সূত্র তা ▁করা ▁যাবে ▁না । ▁প্রত্যেকে ▁মনে ▁করবে , ▁এ ▁ধরনের ▁ঘটনা ▁ঘটানো ▁যায় ▁না । ▁সেই ▁সঙ্গে ▁পাড়া - মহা ল্লা য় ▁সামাজিক ▁আন্দোলন ▁গড়ে ▁তোলার ও ▁আহ্বান ▁জানান ▁তিনি ।,▁x x bo s ▁চীনা ▁ পররাষ্ট্রমন্ত্রী ▁ওয়াং ▁ই ▁১১ - ১৩ ▁আগস্ট ▁ভারত ▁সফর ▁করলেন । ▁সফরটি ▁ইঙ্গিত বাহী । ▁সামনে ▁দুটি ▁বহু পক্ষীয় ▁সম্মেলন ▁হতে ▁যাচ্ছে । ▁সেপ্টেম্বরে ▁চীনে ▁জি - ২০ ▁সম্মেলন ▁আর ▁নভেম্বরে ▁ভারতে ▁ব্রিক স ▁সম্মেলন ▁হতে ▁যাচ্ছে । ▁আসলে ▁দুটি ▁দেশই ▁চায় ▁না ▁এই ▁সম্মেলন ▁দুটিতে ▁তাদের ▁দ্বিপক্ষীয় ▁সম্পর্কের ▁ছায়া ▁পড় ুক । ▁সে ▁কারণে ▁দেশ ▁দুটি কে ▁অন্তত ▁নিজেদের ▁পারস্পরিক ▁ভিন্নতা ▁দূর ▁করে ▁সম্মেলন ▁উপলক্ষে ▁ইতিবাচক ▁পরিবেশ ▁তৈরি ▁করতে ▁হবে , ▁যেখানে ▁আয়োজক ▁দেশ ▁হিসেবে ▁তাদের ▁হি স্যা ▁আছে । ▁তবে ▁ওয়াং য়ের ▁সফর ▁থেকে ▁সে ▁সফলতা ▁অর্জিত ▁হয়েছে ▁বলে ▁মনে ▁হয় ▁না । নিউক্লিয় ার ▁সা প্লা য়ার্স ▁গ্রুপে ▁চীন ▁ভারতের ▁সদস্যপদ ▁পাওয়ার ▁বিরোধিতা ▁করেছিল , ▁ফলে ▁এ ▁নিয়ে ▁তিক্ততা ও ▁সৃষ্টি ▁হয় । ▁তখন ▁তারা ▁রাজি ▁হয়েছিল ▁যে ▁ভারতের ▁নিরস্ত্রীকরণ ▁ও ▁আন্তর্জাতিক ▁নিরাপত্তা বিষয়ক ▁যুগ্ম ▁সচিব ▁ও ▁চীনের ▁ডিরেক্টর ▁জেনারেল ▁অব ▁আর্মস ▁কন্ট্রোল ▁অ্যান্ড ▁ডিস আর্ম া মেন্ট - এর ▁মধ্যে ▁এ ▁নিয়ে ▁নিবিড় ▁আলোচনা ▁হবে । ▁লোকে ▁ধারণা ▁করে , ▁জাতিসংঘে ▁জয় শ – ই – মোহাম্মদ ের ▁নেতা ▁মাসুদ ▁আজহার কে ▁সন্ত্রাসী ▁হিসেবে ▁তালিকাভুক্ত ▁করা ▁ও ▁ওয়ান ▁বেল্ট ▁ওয়ান ▁রোডের ▁নামে ▁চীন ▁পাকিস্তান ▁অধিকৃত ▁কাশ্মীরে ▁যা ▁করছে , ▁তা - ও ▁এই ▁আলোচনার ▁সূচিত ে ▁থাকবে । ▁এ ▁ছাড়া ▁দ্বিপক্ষীয় ▁স্বার্থ সংশ্লিষ্ট ▁অন্যান্য ▁বিষয়ে ▁আলোচনার ▁জন্য ▁ভারতের ▁পররাষ্ট্র সচিব ▁ও ▁চীনা ▁সহকারী ▁ পররাষ্ট্রমন্ত্রী ▁ঝ ্যাং ▁ইয়ে সুই ▁বসবে ন , ▁এ ▁মর্মে ও ▁একটি ▁প্রক্রিয়া ▁চালু ▁করা ▁হয়েছে । ▁এটা ▁পররাষ্ট্র সচিব ▁পর্যায়ের ▁কৌশলগত ▁আলোচনার ▁বাইরে ▁অনুষ্ঠিত ▁হবে । ▁এমনকি ▁দুই ▁দেশের ▁বিশেষ ▁প্রতিনিধিদের ▁আলোচনা ও ▁আলাদাভাবে ▁চলবে , ▁যেটা ▁সীমান্ত বিষয়ক ▁আলোচনা ▁ছাড়া ▁এখন ▁পর্যন্ত ▁আর ▁কিছু ▁করতে ▁পারেনি । মনে ▁হয় ▁না , ▁এসব ▁বকেয়া ▁বিষয়ে ▁চীন ▁নিজের ▁অবস্থান ▁পরিবর্তন ▁করবে । ▁কিন্তু ▁এই ▁প্রস্তাবিত ▁আলোচনা ▁সম্মেলন ▁উপলক্ষে ▁অনুকূল ▁পরিবেশ ▁সৃষ্টি ▁করবে । ▁এসব ▁আলোচনায় ▁যেহেতু ▁বিতর্কিত ▁বিষয় ▁থাকে , ▁সে ▁কারণে ▁নেতাদের ▁সাধারণ ▁বিষয় ▁ছাড়া ▁অন্য ▁কিছু ▁নিয়ে ▁আলোচনা ▁করতে ▁হয় ▁না । ▁অন্তত ▁চীনারা ▁এটা ▁প্রত্যাশা ▁করবে । ▁চীনারা ▁চায় ▁সম্মেলনে ▁নেতারা ▁পূর্ব পরিকল্পনা মাফিক ▁আলোচনা ▁করবেন , ▁যেখানে ▁তাঁরা ▁অপ্রীতিকর ▁বিষয়ে ▁কথা ▁বলবেন ▁না । ▁কিন্তু ▁গত ▁বছর ▁উ ফা য় ▁এবং ▁এ ▁বছর ▁তাস খন্দ ে ▁ব্যাপারটা ▁এমন ▁ছিল ▁না । ▁তাই ▁ওয়াং ▁এমনটা ▁চাইবে ন ▁যে ▁আসন্ন ▁সম্মেলন ▁যেন ▁তাঁর ▁নেতার ▁জন্য ▁অস্বস্তিকর ▁না ▁হয় । এশিয়া - প্যাসিফিক ▁অঞ্চলে ▁চীন ▁খুব ▁জটিল ▁রাজনৈতিক ▁ও ▁নিরাপত্তা জনিত ▁পরিস্থিতির ▁সম্মুখীন ▁হয়েছে । ▁চীন ▁দক্ষিণ ▁চীন ▁সাগরের ▁ওপর ▁যে ▁দাবি ▁করেছিল , ▁তা ▁খারিজ ▁হয়ে ▁যাওয়ায় ▁বেইজিং ▁বড় ▁ধরনের ▁ধাক্কা ▁খেয়ে ছে । ▁আসিয়ান ের ▁সঙ্গেও ▁তার ▁সম্পর্ক ▁এ ▁যাবৎ কালের ▁মধ্যে ▁সবচেয়ে ▁উত্তেজনাপূর্ণ । ▁তাদের ▁কাটা ▁ঘা য়ে ▁নুন ের ▁ছিট া ▁দিয়েছে ▁যুক্তরাষ্ট্র , ▁তারা ▁দক্ষিণ ▁কোরিয়ায় ▁থার্ড ▁অ্যান্টি ▁মিসাইল ▁প্রতিরক্ষা ব্যবস্থা ▁স্থাপন ▁করেছে । ▁অথচ ▁চীন ▁অনেক ▁দিন ▁ধরে ▁নিষ্ঠা র ▁সঙ্গে ▁দক্ষিণ ▁কোরিয়ার ▁সঙ্গে ▁ঘনিষ্ঠ ▁রাজনৈতিক , ▁অর্থনৈতিক , ▁বাণিজ্যিক ▁ও ▁সাংস্কৃতিক ▁সম্পর্ক ▁রক্ষা ▁করে ▁চলেছে ▁( কোর ীয় ▁পপ সংগীত ▁চীনে ▁খুবই ▁জনপ্রিয় ) । এ ▁অঞ্চলে ▁জাপান ▁ও ▁যুক্তরাষ্ট্র ▁চীনের ▁জন্য ▁সবচেয়ে ▁বড় ▁নিরাপত্তা জনিত ▁হুমকি ▁হওয়া ▁সত্ত্বেও ▁চীনের ▁জন্য ▁নতুন ▁ও ▁প্রতিকূল ▁পরিস্থিতি ▁সৃষ্টি ▁হয়ে ই ▁যাচ্ছে । ▁এ ▁পরিপ্রেক্ষিতে ▁চীন ▁ভারতের ▁সঙ্গে ▁তার ▁পশ্চিম ▁সীমান্ত ▁আপেক্ষিক ভাবে ▁স্থিতিশীল ▁ও ▁ঝুঁকি হীন ▁রাখতে ▁চায় । ▁এ ▁কারণেই ▁চীনের ▁সরকারি ▁গণমাধ্যম ▁এ ▁কথা ▁বলেই ▁যাচ্ছে ▁যে ▁চীন ▁ও ▁ভারতের ▁মধ্যে ▁স্বার্থের ▁সংঘাত ▁নেই । ▁অনৈক্য ের ▁চেয়ে ▁তাদের ▁মধ্যে ▁ঐক্য ের ▁জায়গা ই ▁বেশি । আবার ▁এ ▁আশঙ্কা ও ▁আছে ▁যে ▁ভারত ▁যুক্তরাষ্ট্রের ▁ঘনিষ্ঠ ▁হয়ে ▁নিরাপত্তা বলয় ে ▁ঢু ক বে , ▁যেটা ▁দক্ষিণ ▁চীন ▁সাগরে ▁চীনকে ▁সরাসরি ▁চ্যালেঞ্জ ▁জানা বে । ▁বেইজিং ▁ভারতকে ▁সতর্ক ▁করে ▁দিয়েছে , ▁তারা ▁যেন ▁দক্ষিণ ▁চীন ▁সাগরের ▁ব্যাপারে ▁‘ জ ড়িয়ে ’ ▁না ▁পড়ে । ▁আবার ▁এ ▁আশা ও ▁করা ▁যায় , ▁ভারত ▁তার ▁ঘোষিত ▁কৌশলগত ▁স্বাতন্ত্র্য ▁বজায় ▁রাখবে । ▁দেখা ▁গেছে , ▁দক্ষিণ ▁চীন ▁সাগর সংক্রান্ত ▁রায় ▁যখন ▁চীনের ▁বিপক্ষে ▁গেল , ▁তখন ▁ভারত ▁তেমন ▁একটা ▁উচ্ছ্বাস ▁দেখায় নি । ▁জানা ▁গেছে , ▁ওয়াং ▁দিল্লিতে ▁দক্ষিণ ▁চীন ▁সাগরের ▁বিষয়টি ▁তোলেন নি । ▁মনে ▁হচ্ছে , ▁চীন ▁চায় ▁ভারত ▁এ ▁ব্যাপারে ▁বেশি ▁মাথা ▁না ▁ঘা মাক । ▁চীন ▁ধারণা ▁করছে , ▁আসন্ন ▁জি - ২০ ▁সম্মেলনে ▁জাপান সহ ▁যুক্তরাষ্ট্র ▁ও ▁তার ▁পশ্চিমা ▁মিত্র রা ▁জি - ২০ ▁সম্মেলনে ▁দক্ষিণ ▁চীন ▁সাগরের ▁বিষয়টি ▁তুলে ▁চীনকে ▁লজ্জা য় ▁ফেলে ▁দেবে । ▁এ ▁ক্ষেত্রে ▁ভারতের ▁ভূমিকা ▁বেশ ▁গুরুত্বপূর্ণ । ▁ফলে ▁তারা ▁কৌশলগত ▁সুবিধা ▁পেয়ে ▁যাচ্ছে । ▁সে ▁কারণেই ▁হয়তো ▁ওয়াং ▁ভারত ▁সফর ▁করলেন । ▁কিন্তু ▁চীন ▁শি গ গির ই ▁এ ▁ব্যাপারে ▁তাদের ▁অবস্থানে ▁বড় ▁পরিবর্তন ▁আনবে ▁বলে ▁মনে ▁হয় ▁না । কথা ▁হচ্ছে , ▁চীনের ▁সঙ্গে ▁সম্পর্কের ▁ক্ষেত্রে ▁ভারতকে ▁অনেক ▁সতর্ক ▁হতে ▁হবে । ▁কারণ , ▁দেশ ▁দুটির ▁মধ্যকার ▁পার্থক্য ▁দিন কে ▁দিন ▁শুধু ▁বাড়ছে ই । ▁চীনের ▁অর্থনীতির ▁প্রবৃদ্ধি র ▁হার ▁অনেক ▁ধীরগতির ▁হলেও ▁সেটা ▁ভারতের ▁অর্থনীতির ▁চেয়ে ▁পাঁচ ▁গুণ ▁বড় । ▁ফলে ▁চীনকে ▁ধরতে ▁হলে ▁ভারতকে ▁একটানা ▁অনেক ▁দিন ▁উচ্চ হার ের ▁প্রবৃদ্ধি ▁বজায় ▁রাখতে ▁হবে । ▁ক্ষমতার ▁এই ▁অসমতা কে ▁সামাল ▁দেওয়ার ▁একটি ▁পথ ▁হলো , ▁ভারতকে ▁সক্ষমতা ▁গড়ে ▁তুলে ▁তা ▁দেখাতে ▁হবে , ▁যাতে ▁চীন ▁সামরিক ভাবে ▁আগ্রাসী ▁জায়গায় ▁যাওয়ার ▁আগে ▁একবার ▁হলেও ▁চিন্তা ▁করে । ▁দ্বিতীয় ▁পন্থা টি ▁হলো , ▁ভারতকে ▁মার্কিন ▁নেতৃত্বাধীন ▁চীন বিরোধী ▁জোটে ▁ঢুকতে ▁হবে । ▁এই ▁অবস্থান ▁নিয়ে ▁ভারতের ▁স্বাধীন ▁সত্তা ▁থাকবে ▁না ▁তা ▁ঠিক , ▁কিন্তু ▁এটা ▁করলে ▁সে ▁তর তর ▁করে ▁এগিয়ে ▁যেতে ▁পারবে । এই ▁ক্রমবর্ধমান ▁অসমতা র ▁পরিপ্রেক্ষিতে ▁ভারত ▁খুব ▁ভালো ▁জায়গায় ▁নেই । ▁সে ▁নাজুক । ▁আর ▁চীন ▁ও ▁পাকিস্তান ▁যদি ▁একত্রে ▁কিছু ▁করে , ▁তাহলে ▁পরিস্থিতি ▁আরও ▁নাজুক ▁হয়ে ▁পড়বে । ▁১৯৬২ ▁সালের ▁পর ▁ভারত - পাকিস্তান ▁যুদ্ধে ▁চীন ▁পাকিস্তানকে ▁সমর্থন ▁দিলেও ▁ভারতে ▁সরাসরি ▁হামলা ▁করেনি । ▁তাদের ▁এই ▁অবস্থান ▁সতর্কতা র ▁সঙ্গে ▁পর্যবেক্ষণ ▁করতে ▁হবে । ▁ও দিকে ▁ভারত ▁যদি ▁বেলুচিস্তান ে , ▁যেখানে ▁চীন ▁বিপুল ▁বিনিয়োগ ▁করে ▁ওয়ান ▁বেল্ট ▁ওয়ান ▁রোডের ▁অংশ ▁হিসেবে ▁গাদা র ▁বন্দর ▁নির্মাণ ▁করছে , ▁পাকিস্তান বিরোধী ▁জঙ্গি দের ▁উস কে ▁দেয় , ▁তাহলে ▁পরিস্থিতি ▁কী ▁দাঁড়াবে ▁তা ▁সহজেই ▁অনুমেয় । এ ▁অবস্থায় ▁ভারত - চীন ▁সম্পর্ক ▁জটিল তর ▁হয়ে ▁উঠছে । ▁গত ▁কয়েক ▁বছরে ▁দুই ▁দেশের ▁নেতারা ই ▁বৈরিতা ▁সত্ত্বেও ▁চীন - ভারত ▁সম্পর্ককে ▁পারস্পরিক ভাবে ▁সুবিধাজনক ▁অবস্থায় ▁রাখার ▁চেষ্টা ▁করেছেন । ▁ফলে ▁ভারসাম্য ▁বজায় ▁রাখতে ▁হবে , ▁যেটা ▁আসলে ▁সবচেয়ে ▁কঠিন ▁কাজ । ▁অনুবাদ : ▁প্রতীক ▁বর্ধন , ▁দ্য ▁হিন্দু ▁থেকে ▁নেওয়া । শ্যাম ▁শরণ : ▁ভারতের ▁সাবেক ▁পররাষ্ট্র সচিব ।\n",
       "y: LMLabelList\n",
       ",,,,\n",
       "Path: /content/data;\n",
       "\n",
       "Test: None, model=SequentialRNN(\n",
       "  (0): AWD_LSTM(\n",
       "    (encoder): Embedding(50000, 400, padding_idx=1)\n",
       "    (encoder_dp): EmbeddingDropout(\n",
       "      (emb): Embedding(50000, 400, padding_idx=1)\n",
       "    )\n",
       "    (rnns): ModuleList(\n",
       "      (0): WeightDropout(\n",
       "        (module): LSTM(400, 1152, batch_first=True)\n",
       "      )\n",
       "      (1): WeightDropout(\n",
       "        (module): LSTM(1152, 1152, batch_first=True)\n",
       "      )\n",
       "      (2): WeightDropout(\n",
       "        (module): LSTM(1152, 400, batch_first=True)\n",
       "      )\n",
       "    )\n",
       "    (input_dp): RNNDropout()\n",
       "    (hidden_dps): ModuleList(\n",
       "      (0): RNNDropout()\n",
       "      (1): RNNDropout()\n",
       "      (2): RNNDropout()\n",
       "    )\n",
       "  )\n",
       "  (1): LinearDecoder(\n",
       "    (decoder): Linear(in_features=400, out_features=50000, bias=True)\n",
       "    (output_dp): RNNDropout()\n",
       "  )\n",
       "), opt_func=functools.partial(<class 'torch.optim.adam.Adam'>, betas=(0.9, 0.99)), loss_func=FlattenedLoss of CrossEntropyLoss(), metrics=[<function accuracy at 0x7f5d13d45950>], true_wd=True, bn_wd=True, wd=0.01, train_bn=True, path=PosixPath('/content/data'), model_dir='models', callback_fns=[functools.partial(<class 'fastai.basic_train.Recorder'>, add_time=True, silent=False)], callbacks=[...], layer_groups=[Sequential(\n",
       "  (0): WeightDropout(\n",
       "    (module): LSTM(400, 1152, batch_first=True)\n",
       "  )\n",
       "  (1): RNNDropout()\n",
       "), Sequential(\n",
       "  (0): WeightDropout(\n",
       "    (module): LSTM(1152, 1152, batch_first=True)\n",
       "  )\n",
       "  (1): RNNDropout()\n",
       "), Sequential(\n",
       "  (0): WeightDropout(\n",
       "    (module): LSTM(1152, 400, batch_first=True)\n",
       "  )\n",
       "  (1): RNNDropout()\n",
       "), Sequential(\n",
       "  (0): Embedding(50000, 400, padding_idx=1)\n",
       "  (1): EmbeddingDropout(\n",
       "    (emb): Embedding(50000, 400, padding_idx=1)\n",
       "  )\n",
       "  (2): LinearDecoder(\n",
       "    (decoder): Linear(in_features=400, out_features=50000, bias=True)\n",
       "    (output_dp): RNNDropout()\n",
       "  )\n",
       ")], add_time=True, silent=False)\n",
       "alpha: 2.0\n",
       "beta: 1.0], layer_groups=[Sequential(\n",
       "  (0): WeightDropout(\n",
       "    (module): LSTM(400, 1152, batch_first=True)\n",
       "  )\n",
       "  (1): RNNDropout()\n",
       "), Sequential(\n",
       "  (0): WeightDropout(\n",
       "    (module): LSTM(1152, 1152, batch_first=True)\n",
       "  )\n",
       "  (1): RNNDropout()\n",
       "), Sequential(\n",
       "  (0): WeightDropout(\n",
       "    (module): LSTM(1152, 400, batch_first=True)\n",
       "  )\n",
       "  (1): RNNDropout()\n",
       "), Sequential(\n",
       "  (0): Embedding(50000, 400, padding_idx=1)\n",
       "  (1): EmbeddingDropout(\n",
       "    (emb): Embedding(50000, 400, padding_idx=1)\n",
       "  )\n",
       "  (2): LinearDecoder(\n",
       "    (decoder): Linear(in_features=400, out_features=50000, bias=True)\n",
       "    (output_dp): RNNDropout()\n",
       "  )\n",
       ")], add_time=True, silent=False)"
      ]
     },
     "execution_count": 59,
     "metadata": {
      "tags": []
     },
     "output_type": "execute_result"
    }
   ],
   "source": [
    "learn.load('first', with_opt=True)"
   ]
  },
  {
   "cell_type": "code",
   "execution_count": 0,
   "metadata": {
    "colab": {},
    "colab_type": "code",
    "id": "Dq4hm8rv9uHF"
   },
   "outputs": [],
   "source": [
    "learn.unfreeze()"
   ]
  },
  {
   "cell_type": "code",
   "execution_count": 61,
   "metadata": {
    "colab": {
     "base_uri": "https://localhost:8080/",
     "height": 204
    },
    "colab_type": "code",
    "id": "HYOODLYK9wKL",
    "outputId": "693ce5d5-6537-4e32-f761-98909deb276a"
   },
   "outputs": [
    {
     "data": {
      "text/html": [
       "<table border=\"1\" class=\"dataframe\">\n",
       "  <thead>\n",
       "    <tr style=\"text-align: left;\">\n",
       "      <th>epoch</th>\n",
       "      <th>train_loss</th>\n",
       "      <th>valid_loss</th>\n",
       "      <th>accuracy</th>\n",
       "      <th>time</th>\n",
       "    </tr>\n",
       "  </thead>\n",
       "  <tbody>\n",
       "    <tr>\n",
       "      <td>0</td>\n",
       "      <td>3.592755</td>\n",
       "      <td>3.799092</td>\n",
       "      <td>0.411617</td>\n",
       "      <td>37:13</td>\n",
       "    </tr>\n",
       "    <tr>\n",
       "      <td>1</td>\n",
       "      <td>3.519763</td>\n",
       "      <td>3.609101</td>\n",
       "      <td>0.437972</td>\n",
       "      <td>37:14</td>\n",
       "    </tr>\n",
       "    <tr>\n",
       "      <td>2</td>\n",
       "      <td>3.403304</td>\n",
       "      <td>3.417150</td>\n",
       "      <td>0.453712</td>\n",
       "      <td>37:23</td>\n",
       "    </tr>\n",
       "    <tr>\n",
       "      <td>3</td>\n",
       "      <td>3.206540</td>\n",
       "      <td>3.210001</td>\n",
       "      <td>0.473592</td>\n",
       "      <td>37:13</td>\n",
       "    </tr>\n",
       "    <tr>\n",
       "      <td>4</td>\n",
       "      <td>3.171268</td>\n",
       "      <td>3.126742</td>\n",
       "      <td>0.482679</td>\n",
       "      <td>37:15</td>\n",
       "    </tr>\n",
       "  </tbody>\n",
       "</table>"
      ],
      "text/plain": [
       "<IPython.core.display.HTML object>"
      ]
     },
     "metadata": {
      "tags": []
     },
     "output_type": "display_data"
    }
   ],
   "source": [
    "learn.fit_one_cycle(5, 1e-2, moms=(0.8,0.7))"
   ]
  },
  {
   "cell_type": "code",
   "execution_count": 0,
   "metadata": {
    "colab": {},
    "colab_type": "code",
    "id": "z19amQtf90Re"
   },
   "outputs": [],
   "source": [
    "\n",
    "learn.save('second_bn_lm', with_opt=True)"
   ]
  },
  {
   "cell_type": "code",
   "execution_count": 63,
   "metadata": {
    "colab": {
     "base_uri": "https://localhost:8080/",
     "height": 1000
    },
    "colab_type": "code",
    "id": "5IUkiIIp928x",
    "outputId": "cd757ba6-95c2-4766-940f-8ec91b0fa4e9"
   },
   "outputs": [
    {
     "data": {
      "text/plain": [
       "LanguageLearner(data=TextLMDataBunch;\n",
       "\n",
       "Train: LabelList (80000 items)\n",
       "x: LMTextList\n",
       "▁x x bo s ▁আপাতত ▁জ্বালানি ▁তেলের ▁দাম ▁কমানোর ▁কোনো ▁পরিকল্পনা ▁সরকারের ▁নেই । আজ ▁রোববার ▁জাতীয় ▁সংসদে ▁স্পিকার ▁শিরীন ▁শারমিন ▁চৌধুরীর ▁সভাপতিত্বে ▁অনুষ্ঠিত ▁অধিবেশনে ▁লিখিত ▁প্রশ্নের ▁উত্তরে ▁বিদ্যুৎ , ▁জ্বালানি ▁ও ▁খনিজ ▁সম্পদ ▁মন্ত্রণালয়ের ▁প্রতিমন্ত্রী ▁নস রুল ▁হামিদ ▁এ ▁কথা ▁জানিয়েছেন । সাংস দ ▁রুস্তম ▁আলী ▁ফর া জীর ▁প্রশ্নের ▁উত্তরে ▁প্রতিমন্ত্রী ▁বলেন , ▁আন্তর্জাতিক ▁বাজারে ▁জ্বালানি ▁তেলের ▁মূল্য ▁গত ▁এক ▁বছর ▁ধরে ▁ঊর্ধ্বমুখী ▁রয়েছে । ▁এখন ▁তা ▁অব্যাহত ▁আছে । ▁ডলারের ▁সঙ্গে ▁টাকার ▁বিনিময় ▁হার ▁প্রতিনিয়ত ▁বাড়ছে । ▁এটি ▁চলতে ▁থাকলে ▁আগামী ▁অর্থ বছর ▁থেকে ▁বাংলাদেশ ▁পেট্রোলিয়াম ▁করপোরেশন ▁( বি পিসি ) ▁আবার ▁লোকসান ের ▁সম্মুখীন ▁হতে ▁পারে । ▁বাস্তবতার ▁কারণে ▁আন্তর্জাতিক ▁বাজারে ▁তেলের ▁দাম ▁কম া - বাড় ার ▁সঙ্গে ▁সঙ্গে ▁দেশের ▁অভ্যন্তরে ▁জ্বালানি ▁তেলের ▁বাড়ানো - কম ানো ▁করা ▁সম্ভব ▁হয় ▁না । ▁তিনি ▁বলেন , ▁এর ▁আগে ▁ভর্তুকি ▁মূল্যে ▁জ্বালানি ▁তেল ▁বিক্রি ▁করায় ▁২৭ , ৪ ১৯ . ৮১ ▁কোটি ▁টাকার ▁সরকারি ▁ঋণের ▁দায় ▁এখনো ▁বিপি সির ▁ওপর ▁রয়ে ▁গেছে । ▁দ্বিতীয় ▁দফায় ▁জ্বালানি ▁তেলের ▁মূল্য ▁কমানো ▁হলে ▁বি পিসি ▁আবার ▁লোকসান ি ▁প্রতিষ্ঠানে ▁পরিণত ▁হবে ▁এবং ▁ঋণ ▁করে ▁জ্বালানি ▁তেল ▁আমদানি ▁করতে ▁হবে । ▁তেলের ▁মূল্য ▁কমানো ▁হলে ▁তার ▁সুফল ▁সাধারণ ▁জনগণ ▁সরাসরি ▁উপভোগ ▁করতে ▁পারে ▁না । বিদ্যুত ের ▁১৭টি ▁প্রকল্পে ▁বাস্তবায়ন ের ▁হার ▁শূন্য : ▁রুস্তম ▁আলী ▁ফর া জীর ▁আরেক ▁প্রশ্নের ▁উত্তরে ▁প্রতিমন্ত্রী ▁নস রুল ▁হামিদ ▁বলেছেন , ▁বিদ্যুৎ ▁খাতের ▁১৭টি ▁প্রকল্প ▁বাস্তবায়ন ের ▁হার ▁শূন্য । ▁এর ▁মধ্যে ▁১২টি ▁প্রকল্প ▁২০১৬ - ১৭ ▁অর্থবছরে ▁বার্ষিক ▁উন্নয়ন ▁কর্মসূচি ▁প্রণয়ন ের ▁পরবর্তী ▁সময়ে ▁অনুমোদিত ▁হয়েছে ▁এবং ▁সেসব ▁প্রকল্পের ▁অনুকূলে ▁২০১৬ - ২০১৭ ▁অর্থবছরে ▁কোনো ▁বরাদ্দ ▁দেওয়া ▁সম্ভব ▁হয়নি । ▁তবে ▁অর্থ বছর টির ▁সংশোধিত ▁বার্ষিক ▁উন্নয়ন ▁কর্মসূচিতে ▁প্রয়োজনীয় ▁বরাদ্দ ▁দেওয়া ▁হয়েছে । ▁অর্থ ▁ছাড় ের ▁বিষয়টি ▁প্রক্রিয়াধীন ▁আছে । ▁অন্য ▁পাঁচটি ▁প্রকল্প ▁উন্নয়ন ▁সহযোগী ▁সংস্থার ▁সঙ্গে ▁ঋণ চুক্তি ▁না ▁হওয়া সহ ▁বিভিন্ন ▁কারণে ▁আটকে ▁আছে ।,▁x x bo s ▁ব্যবস্থাপনা ▁আর ▁হিসাব ▁শাখায় ▁দক্ষ ▁পেশাজীবী ▁তৈরির ▁লক্ষ্যে ▁কস্ট ▁অ্যান্ড ▁ম্যানেজমেন্ট ▁অ্যাকাউন্ট স ▁( সি এমএ ) ▁পড়া চ্ছে ▁দ্য ▁ইনস্টিটিউট ▁অব ▁কস্ট ▁অ্যান্ড ▁ম্যানেজমেন্ট ▁অ্যাকাউন্ট স ▁অব ▁বাংলাদেশ ▁( আইসি এমএ বি ) । ▁সম্প্রতি ▁প্রতিষ্ঠানটি ▁বিভিন্ন ▁পত্রিকায় ▁সিএম এ ▁ভর্তি র ▁বিজ্ঞপ্তি ▁প্রকাশ ▁করেছে । ▁আইসি এমএ বির ▁শিক্ষা ▁কর্মকর্তা ▁হাবিবুর ▁সিরাজ ▁বলেন , ▁এবার ই ▁প্রথম ▁ভর্তি ▁কার্যক্রম ▁হবে ▁অনলাইনে । ▁আবেদনকারী দের ▁ www . ic ma ber p . org ▁এই ▁ঠিকানায় ▁গিয়ে ▁প্রয়োজনীয় ▁তথ্য ▁দিয়ে ▁ফরম ▁পূরণ ▁করতে ▁হবে । ▁এরই ▁মধ্যে ▁ভর্তি ▁কার্যক্রম ▁শুরু ▁হয়ে ▁গেছে । ▁আবেদন ▁করতে ▁হবে ▁২৭ ▁জানুয়ারি র ▁মধ্যে । ▁এই ▁কোর্স টি ▁করে ▁আপনি ও ▁হয়ে ▁যেতে ▁পারেন ▁দেশে ▁বা ▁বিদেশে র ▁ভালো ▁কোনো ▁প্রতিষ্ঠানের ▁ব্যবস্থাপক ▁বা ▁হিসাবরক্ষক । এখানে ▁বছরে ▁দুটি ▁সেশনে ▁ছাত্রছাত্রী ▁ভর্তি ▁করানো ▁হয় । ▁জানুয়ারি ▁থেকে ▁জুন ▁এবং ▁জুলাই ▁থেকে ▁ডিসেম্বর । ▁এখন ▁জানুয়ারি ▁থেকে ▁জুলাই ▁সেশন ের ▁ভর্তি ▁কার্যক্রম ▁চলছে । ▁এই ▁সেশনে ▁দুটি ▁পদ্ধতিতে ▁ছাত্রছাত্রী ▁ভর্তি ▁হতে ▁পারবে । ▁ইন্টারমিডিয়েট ▁এন্ট্রি ▁রুট ▁ও ▁গ্র্যাজুয়েট ▁এন্ট্রি ▁রুট ▁পদ্ধতিতে । ▁ইন্টারমিডিয়েট ▁এন্ট্রি ▁রুট ▁পদ্ধতিতে ▁ভর্তি ▁হতে ▁হলে ▁এসএসসি ▁ও ▁এইচএসসি ▁মিলিয়ে ▁জিপিএ - ৮ ▁পেতে ▁হবে । ▁আর ▁গ্র্যাজুয়েট ▁এন্ট্রি ▁রুট ▁পদ্ধতিতে ▁ভর্তি ▁হতে ▁যেকোনো ▁বিভাগ ▁থেকে ▁ন্যূনতম ▁স্নাতক ▁পাস ▁হতে ▁হবে । ▁এসএসসি ▁থেকে ▁স্নাতক ▁পর্যন্ত ▁পরীক্ষার ▁ফল ▁লাগবে ▁কমপক্ষে ▁৬ ▁পয়েন্ট । হা বি বুর ▁সিরাজ ▁বলেন , ▁এই ▁সিএম এ ▁কোর্স টি ▁দুটি ▁পদ্ধতিতে ▁করানো ▁হয় । ▁একটি ▁কোচিং ▁পদ্ধতি ▁এবং ▁অন্যটি ▁কর স পন ডেন্স ▁পদ্ধতি । ▁যাঁরা ▁কোচিং ▁পদ্ধতিতে ▁ভর্তি ▁হবেন ▁তাঁদের ▁নিয়মিত ▁ক্লাস ▁ও ▁ক্লাস ▁টেস্ট ▁করতে ▁হবে । ▁আর ▁কর স পন ডেন্স ▁কোর্সের ▁ক্ষেত্রে ▁শিক্ষার্থীদের ▁নিয়মিত ▁ক্লাস ▁করতে ▁হয় ▁না । ▁শুধু ▁অ্যা সাইন মেন্ট ▁জমা ▁দিলে ই ▁হয় । ▁তাই ▁যাঁরা ▁চাকরির ত ▁আছেন ▁তাঁদের ▁জন্য ▁এই ▁কর স পন ডেন্স ▁পদ্ধতিটি ▁খুব ▁সহজ ▁হয় । ▁তবে ▁কোনো ▁লেভেল ের ▁সব ▁বিষয়ে ▁পাস ▁না ▁করলে ▁পরবর্তী ▁লেভেল ের ▁পরীক্ষা ▁দিতে ▁পারবেন ▁না । ▁তিনি ▁আরও ▁জানান , ▁শিক্ষার্থীদের ▁ছয় ▁মাসে ▁একটি ▁লেভেল ▁শেষ ▁করতে ▁হবে । ▁এ ▁কোর্স টিতে ▁ইন্টারমিডিয়েট ▁এন্ট্রি ▁রুট ▁ছাত্রছাত্রীদের ▁৫টি ▁লেভেল ▁ও ▁গ্র্যাজুয়েট ▁এন্ট্রি ▁রুট ▁ছাত্রছাত্রীদের ▁৪টি ▁লেভেল ▁সম্পন্ন ▁করতে ▁হবে । ▁এই ▁লেভেল গুলোর ▁মধ্যে ▁রয়েছে ▁নলেজ ▁লেভেল , ▁বিজনেস ▁লেভেল ▁ও ▁প্রফেশনাল ▁লেভেল ▁১ , ▁২ ▁ও ▁৩ । ইন্টার মিড িয়েট ▁এন্ট্রি ▁রুট ▁পদ্ধতির ▁ছাত্রছাত্রীদের ▁নলেজ ▁লেভেল ের ▁জন্য ▁ভর্তি ▁ফি ▁দিতে ▁হবে ▁২০ ▁হাজার ▁৬০০ ▁টাকা । ▁আর ▁গ্র্যাজুয়েট ▁এন্ট্রি ▁রুট ▁ছাত্রছাত্রীদের ▁ক্ষেত্রে ▁বিজনেস ▁লেভেল ের ▁জন্য ▁২৪ ▁হাজার ▁৫০০ ▁টাকা ▁ফি ▁দিতে ▁হবে । ▁প্রফেশনাল ▁লেভেল ▁১ , ▁২ ▁ও ▁৩ - এর ▁জন্য ▁ফি ▁লাগবে ▁যথাক্রমে ▁৮০০০ , ▁১২ ০০০ ▁ও ▁১৬ ০০০ ▁টাকা । সি এমএ ▁করতে ▁হলে ▁ইন্টারমিডিয়েট ▁এন্ট্রি ▁রুট ▁ছাত্রছাত্রীদের ▁মোট ▁পড়তে ▁হয় ▁২০টি ▁বিষয় । ▁অন্যদিকে ▁গ্র্যাজুয়েট ▁এন্ট্রি ▁রুট ▁পদ্ধতির ▁ছাত্রছাত্রীদের ▁পড়তে ▁হবে ▁১৭টি ▁বিষয় । ▁নলেজ ▁লেভেল ে ▁পড়তে ▁হবে ▁প্রিন্সিপাল ▁অব ▁অ্যাকাউন্টিং , ▁প্রিন্সিপাল ▁অব ▁বিজনেস ▁অ্যান্ড ▁ইকোনমিকস ▁ও ▁ব্যবসায় ▁যোগাযোগ ▁এই ▁তিনটি ▁বিষয় । ▁আর ▁বিজনেস ▁লেভেল ে ▁পড়তে ▁হবে ▁৫টি ▁বিষয় । ▁এ ▁ছাড়া ▁প্রফেশনাল ▁লেভেল ▁১ , ▁২ ▁ও ▁৩ ▁পড়তে ▁হবে ▁৪টি ▁করে ▁মোট ▁১২টি ▁বিষয় । ▁আর ▁এসব ▁বিষয়গুলো ▁পড়িয়ে ▁থাকেন ▁আইসি এ বির ▁বিভিন্ন ▁সদস্য ▁ও ▁দেশের ▁বিভিন্ন ▁বিশ্ববিদ্যালয় ের ▁শিক্ষকের া । হা বি বুর ▁সিরাজ ▁বলেন , ▁বর্তমান ▁চাকরির ▁বাজারে ▁একজন ▁সিএম এ ▁ডিগ্রি ধারী র ▁ব্যাপক ▁চাহিদা ▁রয়েছে । ▁তাই ▁এই ▁ডিগ্রি ▁সম্পন্ন ▁করে ▁সরকারি - বেসরকারি ▁প্রতিষ্ঠান , ▁ব্যাংক , ▁বিমা , ▁আন্তর্জাতিক ▁প্রতিষ্ঠান , ▁বিভিন্ন ▁এনজিও , ▁টেলিফোন ▁কোম্পানি , ▁মাল্টি ন্যাশনাল ▁প্রতিষ্ঠান — এমনকি ▁বিদেশে ও ▁চাকরির ▁ভালো ▁সুযোগ ▁রয়েছে । ▁অন্যান্য ▁পেশার ▁চেয়ে ▁এ ▁পেশায় ▁ভালো ▁বেতন ▁ও ▁সুযোগ - সুবিধা ▁পাওয়া ▁যায় । বিস্তার িত ▁জানতে : ▁যাঁরা ▁কস্ট ▁অ্যান্ড ▁ম্যানেজমেন্ট ▁অ্যাকাউন্টিং ▁পড়ে ▁পেশা ▁শুরু ▁করতে ▁চান , ▁তাঁরা ▁ভর্তি ▁ও ▁অন্যান্য ▁তথ্য ▁জানতে ▁যোগাযোগ ▁করতে ▁পারেন ▁আইসি এমএ বির ▁ঢাকা সহ ▁দেশের ▁অন্য ▁শাখা গুলোতে । ▁সারা ▁দেশে ▁এদের ▁মোট ▁পাঁচটি ▁শাখা ▁রয়েছে । ঢাকা ▁কেন্দ্র : ▁শিক্ষা ▁বিভাগ , ▁আইসি এমএ বি ▁ভবন , ▁নীলক্ষেত , ▁ঢাকা । ▁ফোন - ৯৬ ১৫ ৪৬০ , ▁৯৬ ১১৭ ৯৯ ; ▁চট্টগ্রাম ▁শাখা : ▁ফোন - ০৩ ১ - ৭২ ৭৬ ৩৮ ; ▁খুলনা ▁শাখা : ▁ফোন - ০৪ ১ - ৭২ ২৩ ৩৫ ; ▁রাজশাহী ▁কেন্দ্র : ▁ফোন - ০৭ ২১ - ৭৫ ১০ ৯২ ; ▁কুমিল্লা ▁কেন্দ্র : ▁ফোন - ০৮ ১ - ৭ ৩৬ ৮৬ । ▁এ ▁ছাড়া ▁ভিজিট ▁করতে ▁পারেন ▁ www . ic ma b . org . bd ▁এই ▁ঠিকানায় ।,▁x x bo s ▁ঢাকা - বঙ্গবন্ধু ▁সেতু ▁মহাসড়কের ▁টাঙ্গাইল ের ▁এলে ঙ্গা ▁বাসস্ট্যান্ড ▁এলাকায় ▁৩০০ ▁মিটার ▁সড়ক ▁সম্প্রসারণ ের ▁কাজ ▁শুরু ▁হয়েছে । ▁ফলে ▁ওই ▁এলাকায় ▁এক ▁লেনে ▁যানবাহন ▁পারাপার ▁হচ্ছে । ▁এতে ▁করে ▁এলে ঙ্গা ▁বাসস্ট্যান্ড ের ▁দুই ▁দিকে ▁অন্তত ▁১০ ▁কিলোমিটার ▁যানজট ের ▁সৃষ্টি ▁হয়েছে । ▁শুক্রবার ▁দুপুরে ▁সরে জমিন ে ▁দেখা ▁যায় , ▁এলে ঙ্গা ▁বাসস্ট্যান্ড ▁থেকে ▁দীর্ঘ ▁গাড়ির ▁সারি ▁প্রায় ▁আট ▁কিলোমিটার ▁দূরে ▁টাঙ্গাইল ▁সদর ▁উপজেলার ▁বিক্রম হাটি ▁পর্যন্ত ▁এসে ▁ঠেকে ছে । ▁বঙ্গবন্ধু ▁সেতুর ▁দিকে ও ▁পাঁচ ▁কিলোমিটারের ▁বেশি ▁যানজট ের ▁সৃষ্টি ▁হয়েছে । ▁সদর ▁উপজেলার ▁রসুলপুর ▁এলাকায় ▁ট্রাক চালক ▁খোরশেদ ▁আলম ▁জানান , ▁টাঙ্গাইল ▁শহর ▁বাইপাস ের ▁রাব না ▁মোড় ▁পার ▁হওয়ার ▁পর ▁থেকেই ▁যানজট ে ▁পড়তে ▁হচ্ছে । ▁১০ ▁মিনিটের ▁রাস্তা ▁পার ▁হতে ▁এক ▁ঘণ্টার ▁বেশি ▁সময় ▁লাগছে ▁বলে ও ▁জানান ▁তিনি । ▁ট্রাফিক ▁পুলিশ ▁বিভাগ ▁জানায় , ▁এলে ঙ্গা ▁বাসস্ট্যান্ড ▁এলাকায় ▁কিছু ▁সময় ▁ঢাকার ▁দিকে ▁গাড়ি ▁চলাচলের ▁সুযোগ ▁দেওয়া ▁হচ্ছে । ▁আবার ▁কিছু ▁সময় ▁ঢাকার ▁দিক ▁বন্ধ ▁রেখে ▁পার ▁করা ▁হচ্ছে ▁উত্তরবঙ্গ গামী ▁যানবাহন । ▁ফলে ▁দুই ▁দিকেই ▁যানজট ের ▁সৃষ্টি ▁হচ্ছে । ▁এলে ঙ্গা ▁বাসস্ট্যান্ড ▁থেকে ▁বঙ্গবন্ধু ▁সেতুর ▁দিকে ▁এবং ▁ঢাকার ▁উভয় ▁দিকেই ▁অন্তত ▁১০ ▁কিলোমিটার ▁যানজট ▁লেগে ▁থাকছে । ▁১০ ▁মিনিটের ▁সড়ক ▁পার ▁হতে ▁এক ▁থেকে ▁দেড় ▁ঘণ্টা ▁পর্যন্ত ▁সময় ▁লাগছে । ▁টাঙ্গাইল ▁সড়ক ▁ও ▁জন পথ ▁বিভাগের ▁নির্বাহী ▁প্রকৌশলী ▁আমি মুল ▁এহসান ▁প্রথম ▁আলোকে ▁বলেন , ▁রাস্তার ▁দুপাশে ▁দুই ▁লেন ▁সম্প্রসারণ ▁করা ▁হচ্ছে । ▁আগামী ▁১৫ – ২০ ▁দিনের ▁মধ্যে ▁এই ▁দুই ▁লেনের ▁নির্মাণকাজ ▁শেষ ▁হবে । ▁পরে ▁মাঝের ▁দুই ▁লেন ▁সড়কের ▁উন্নয়ন ▁করা ▁হবে । ▁সড়ক ▁নির্মাণের ▁কারণে ▁কিছুটা ▁যানজট ▁হলেও ▁নির্মাণকাজ ▁শেষ ▁হলে ▁এলে ঙ্গা তে ▁আর ▁যানজট ▁হবে ▁না । ▁টাঙ্গাইল ▁ট্রাফিক ▁পুলিশের ▁পরিদর্শক ▁( টি আই ) ▁রফিকুল ▁ইসলাম ▁সরকার ▁প্রথম ▁আলোকে ▁বলেন , ▁এলে ঙ্গার ▁যানজট ▁নিরসন ের ▁জন্য ▁দুজন ▁ট্রাফিক ▁পরিদর্শক , ▁আটজন ▁সার্জেন্ট , ▁ছয়জন ▁সহকারী ▁ট্রাফিক ▁সার্জেন্ট ▁ও ▁আটজন ▁কনস্টেবল ▁ওই ▁এলাকায় ▁দায়িত্ব ▁পালন ▁করছেন । ▁পাশাপাশি ▁হাইওয়ে ▁পুলিশ ও ▁রয়েছে । ▁কিন্তু ▁এক ▁লেনে ▁যানবাহন ▁পারাপার ের ▁কারণে ▁এই ▁যানজট ের ▁সৃষ্টি ▁হচ্ছে ।,▁x x bo s ▁একটি ▁মজার ▁ধাঁধা ▁দেখুন । ▁তিন ▁বন্ধু ▁গাছের ▁নিচে ▁ঘুমিয়ে ▁আছেন । ▁একটি ▁বানর ▁এসে ▁তাদের ▁প্রত্যেকের ▁মুখে ▁রং ▁দিয়ে ▁বিচিত্র ▁ধরনের ▁দাগ ▁এঁকে টে কে ▁দিয়ে ▁গেল । ▁ঘুম ▁থেকে ▁উঠে ▁তিন ▁বন্ধুর ▁প্রত্যেকেই ▁অপর ▁দুই ▁বন্ধুর ▁চেহারা ▁দেখে ▁হাস তে ▁লাগলেন । ▁কিছুক্ষণ ▁পর ▁প্রথম ▁বন্ধু ▁হাসি ▁বন্ধ ▁করে ▁চুপ ▁করে ▁গেলেন । ▁বলুন ▁তো ▁কেন ? ▁কারণ ▁ভাবলেন ▁দ্বিতীয় ▁বন্ধু ▁যদি ▁দেখতেন ▁তার ▁মুখে ▁দাগ ▁নেই , ▁তাহলে ▁দ্বিতীয় ▁বন্ধু ▁নিশ্চয়ই ▁তৃতীয় ▁বন্ধুকে ▁হাস তে ▁দেখে ▁অবাক ▁হতেন । ▁কারণ ▁প্রথম ▁বন্ধুর ▁মুখে ▁যদি ▁দাগ ▁না ▁থাকে ▁আর ▁দ্বিতীয় ▁বন্ধু ▁তো ▁ধরেই ▁নিয়েছেন ▁তার ▁নিজের ▁মুখে ▁দাগ ▁নেই , ▁তাহলে ▁তো ▁তৃতীয় ▁বন্ধুর ▁হাসা র ▁কথা ▁নয় ! ▁প্রথম ▁ও ▁দ্বিতীয় ▁দুই ▁বন্ধুর ▁কারও ▁মুখে ▁দাগ ▁না ▁থাকত ▁তাহলে ▁তৃতীয় ▁বন্ধু ▁হাস বেন ▁কেন ? ▁অথচ ▁তৃতীয় ▁বন্ধুকে ▁হাস তে ▁দেখে ▁দ্বিতীয় ▁বন্ধু ▁অবাক ▁হচ্ছেন ▁না । ▁তাই ▁প্রথম ▁বন্ধু ▁বুঝ লেন ▁তার ▁নিজের ▁মুখে ও ▁দাগ ▁আছে । ▁এ ▁জন্যই ▁তিনি ▁চুপ ▁করে ▁গেলেন । ▁গণিতের ▁আরেকটি ▁সমস্যার ▁সহজ ▁সমাধান ▁দেখুন । ▁চারটি ▁ক্রমিক ▁সংখ্যার ▁যোগফল ▁৩০ । ▁বলতে ▁হবে ▁সংখ্যা ▁চারটি ▁কত । ▁এর ▁উত্তরের ▁জন্য ▁আমরা ▁প্রথমে ▁সংখ্যা ▁চারটি র ▁সম্ভাব্য ▁গড় ▁কত ▁হতে ▁পারে ▁তা ▁বের ▁করি । ▁গড় ▁৭ ▁ও ▁৮ - এর ▁মাঝামাঝি । ▁সুতরাং ▁ক্রমিক ▁সংখ্যা ▁চারটি ▁নিশ্চয়ই ▁৬ , ▁৭ , ▁৮ ▁ও ▁৯ । ▁এদের ▁যোগফল ▁৩০ । ▁গড় ▁৭ ▁দশমিক ▁৫ । ▁এ ▁সপ্তাহের ▁ধাঁধা ▁আপনি ▁বিস্কুট ▁কিনতে ▁গেলেন । ▁দোকান ি ▁বললেন ▁দাম ▁২০ % ▁বেড়ে ▁১২০ ▁টাকা ▁হয়েছে । ▁আপনি ▁বললেন ▁না , ▁না , ▁২০ % ▁কমাতে ▁হবে । ▁দোকান ি ▁১২০ ▁টাকার ▁ওপর ▁২০ % ▁কমিয়ে ▁দাম ▁নিলেন । ▁বলুন ▁তো ▁এতে ▁কার ▁লাভ ▁হলো ? ▁খুব ▁সহজ । ▁অনলাইনে ▁মন্তব্য ▁আকারে ▁অথবা ▁ qua y um <unk> g ma il . com ▁ই - মেইল ে ▁আপনাদের ▁উত্তর ▁পাঠিয়ে ▁দিন । ▁সঠিক ▁উত্তর ▁দেখুন ▁আগামী ▁রোববার ▁অনলাইনে । ▁গত ▁সপ্তাহের ▁ধাঁধা র ▁উত্তর ▁ধাঁধা টি ▁ছিল ▁এ ▁রকম : ▁একটি ▁সংখ্যার ▁সঙ্গে ▁৬ ▁যোগ ▁করলে ▁একটি ▁পূর্ণ ▁বর্গ ▁সংখ্যা ▁হয় । ▁আবার ▁৬ ▁বিয়োগ ▁করলে ▁সেই ▁পূর্ণ ▁বর্গ ▁সংখ্যার ▁বর্গমূল ▁পাওয়া ▁যায় । ▁বৈশিষ্ট্যপূর্ণ ▁সংখ্যাটি ▁কত ? ▁উত্তর : ▁বৈশিষ্ট্যপূর্ণ ▁সংখ্যাটি ▁১০ । ▁( ১০ ▁+ ▁৬ ) ▁= ▁১৬ , ▁যা ▁একটি ▁পূর্ণ ▁বর্গ ▁সংখ্যা । ▁আবার ▁( ১০ ▁- ▁৬ ) ▁= ▁৪ , ▁যা ▁১৬ ▁এর ▁বর্গমূল । ▁কীভাবে ▁উত্তর ▁বের ▁করলাম ▁প্রথমে ▁আমরা ▁৪ , ▁৯ , ▁১৬ , ▁২৫ ▁প্রভৃতি ▁বর্গ ▁সংখ্যা ▁নিয়ে ▁পর্যবেক্ষণ ▁করি । ▁এদের ▁মধ্যে ▁১৬ ▁আমাদের ▁শর্ত ▁পূরণ ▁করে । ▁কারণ ▁এই ▁বর্গ সংখ্যা টি ▁থেকে ▁৬ ▁বিয়োগ ▁করলে ▁১০ ▁এবং ▁আবার ▁৬ ▁বিয়োগ ▁করলে ▁৪ ▁হয় , ▁যা ▁১৬ - এর ▁বর্গমূল । ▁তার ▁মানে ▁বৈশিষ্ট্যপূর্ণ ▁সংখ্যাটি ▁১০ । ▁এর ▁থেকে ▁৬ ▁বেশি ▁ও ▁৬ ▁কম ▁সংখ্যা গুলো ▁যথাক্রমে ▁১৬ ▁ও ▁৪ । ▁এখানে ▁১৬ ▁একটি ▁পূর্ণ ▁বর্গ ▁সংখ্যা , ▁এবং ▁৪ ▁হলো ▁১৬ - এর ▁বর্গমূল । ▁আমরা ▁তো ▁এই ▁শর্ত টিই ▁পূরণ ▁করতে ▁চা চ্ছি । ▁এখানে ▁লক্ষণীয় ▁যে ▁এ ▁ধরনের ▁আরও ▁কয়েকটি ▁বৈশিষ্ট্যপূর্ণ ▁সংখ্যা ▁রয়েছে । ▁যেমন ▁৩ ▁এমন ▁একটি ▁বৈশিষ্ট্যপূর্ণ ▁সংখ্যা ▁যার ▁সঙ্গে ▁১ ▁যোগ ▁ও ▁বিয়োগ ▁করলে ▁যথাক্রমে ▁৪ ▁ও ▁২ ▁পাওয়া ▁যায় । ▁এখানে ▁৪ ▁একটি ▁পূর্ণ ▁বর্গ ▁সংখ্যা ▁এবং ▁এর ▁বর্গমূল ▁২ ▁। ▁এ ▁রকম ▁আরেকটি ▁বৈশিষ্ট্যপূর্ণ ▁সংখ্যা ▁হলো ▁১৫ । ▁এর ▁সঙ্গে ▁১০ ▁যোগ ▁ও ▁বিয়োগ ▁করলে ▁যথাক্রমে ▁২৫ ▁ও ▁৫ ▁পাব । ▁এখানে ▁২৫ ▁একটি ▁পূর্ণ ▁বর্গ ▁সংখ্যা ▁এবং ▁এর ▁বর্গমূল ▁৫ । ▁আব্দুল ▁কাইয়ুম , ▁সম্পাদক , ▁মাসিক ▁ম্যাগাজিন ▁বিজ্ঞান চিন্তা,▁x x bo s ▁তিন ▁দশক ▁ধরে ▁বাংলাদেশের ▁অর্থনৈতিক ▁প্রবৃদ্ধি ▁স্থিতিশীল । ▁তবে ▁বিশেষজ্ঞরা ▁বলছেন , ▁সুশাসন ▁ছাড়া ▁এই ▁প্রবৃদ্ধি ▁বেশি ▁দিন ▁বজায় ▁থাকবে ▁না । ▁আগে ▁নিম্ন ▁অর্থনীতির ▁দেশ ▁হওয়ায় ▁উন্নয়নের ▁অনেক ▁ক্ষেত্র ▁ছিল , ▁ফলে ▁সুশাসন ▁ততটা ▁জরুরি ▁ছিল ▁না । ▁এই ▁পর্যায়ে ▁অর্থনৈতিক ▁প্রবৃদ্ধি ▁বাড়াতে ▁হলে ▁দেশে ▁সুশাসন ▁জরুরি । ▁রাজধানীর ▁গুলশান ের ▁একটি ▁হোটেলে ▁গত কাল ▁রোববার ▁‘ বাংলাদেশ ▁জার্নি : ▁অ্যা ক্সি লার ি টিং ▁ট্রান্স ফর ম েশন ’ ▁( বাংলাদেশের ▁যাত্রা : ▁দ্রুততর ▁রূপান্তর ) ▁শীর্ষক ▁সম্মেলনে ▁তাঁরা ▁এসব ▁কথা ▁বলেন । ▁দেশের ▁অর্থনৈতিক ▁উন্নয়ন - সংশ্লিষ্ট ▁বিভিন্ন ▁বিষয়ে ▁দুই ▁দিনের ▁এই ▁সম্মেলন ▁আয়োজন ▁করেছে ▁বাংলাদেশ ▁উন্নয়ন ▁গবেষণা ▁প্রতিষ্ঠান ▁( বিআই ডিএস ) । ▁গত কাল ▁উদ্বোধনী ▁দিনে ▁কয়েক ▁পর্বে ▁সুশাসন , ▁শিক্ষা , ▁উন্নয়নের ▁সম্ভাবনা , ▁শ্রম বাজার , ▁মা ▁ও ▁শিশুর ▁পুষ্টি ▁বিষয়ে ▁আলোচনা ▁হয় । ▁‘ বাংলাদেশ ▁কি ▁সুশাসন ▁ছাড়া ▁ধারাবাহিকভাবে ▁উন্নয়ন ▁করতে ▁পারবে ?’ — এই ▁পর্বে ▁সুশাসন ▁ও ▁অর্থনৈতিক ▁উন্নয়ন ▁বিষয়ে ▁আলোচনা ▁হয় । ▁এতে ▁মূল ▁প্রবন্ধ ▁উপস্থাপন ▁করেন ▁বি আইডি এস ের ▁গবেষণা ▁পরিচালক ▁কাজী ▁আলী ▁তৌফিক । ▁তাতে ▁বলা ▁হয় , ▁অনেক ▁ক্ষেত্রে ▁সুশাসন ▁না ▁থাকার ▁পরেও ▁বাংলাদেশের ▁ধারাবাহিক ▁অর্থনৈতিক ▁প্রবৃদ্ধি ▁বিস্ময়কর । ▁আলোচনায় ▁অংশ ▁নিয়ে ▁সাবেক ▁তত্ত্বাবধায়ক ▁সরকারের ▁উপদেষ্টা ▁আকবর ▁আলি ▁খান ▁বলেন , ▁সুশাসন ▁ছাড়া ▁অর্থনৈতিক ▁উন্নয়ন ▁হয়তো ▁আরও ▁কিছুদিন ▁চলবে । ▁শেষ ▁পর্যন্ত ▁এটি ▁চলবে ▁না । ▁৫ ▁বা ▁১০ ▁বছর ▁পরে ▁বড় ▁সমস্যার ▁সম্মুখীন ▁হতে ▁হবে । ▁বাংলাদেশের ▁বর্তমান ▁পরিস্থিতিতে ▁রাতারাতি ▁সুশাসন ▁প্রতিষ্ঠা ▁হবে ▁না , ▁মন্তব্য ▁করে ▁আকবর ▁আলি ▁বলেন , ▁এখন ই ▁সুশাসন ের ▁জন্য ▁উদ্যোগ ▁নেওয়া ▁হলেও ▁আগামী ▁১০ - ১৫ ▁বছরের ▁আগে ▁অবস্থার ▁পরিবর্তন ▁হবে ▁না । ▁এই ▁পর্বের ▁সভাপতি ▁সাবেক ▁তত্ত্বাবধায়ক ▁সরকারের ▁উপদেষ্টা ▁এবং ▁পাওয়ার ▁অ্যান্ড ▁পার্টি সিপ েশন ▁রিসার্চ ▁সেন্টারের ▁নির্বাহী ▁চেয়ারম্যান ▁হোসেন ▁জিল্লু র ▁রহমান ▁বলেন , ▁অর্থনৈতিক ▁প্রবৃদ্ধি ▁বজায় ▁থাকা ▁না - থাকা র ▁চেয়ে , ▁প্রবৃদ্ধি ▁বাড়বে ▁কি ▁না ▁সেটি ▁আলোচনা ▁হওয়া ▁দরকার । ▁এক ▁দশক ▁ধরে ▁অর্থনৈতিক ▁প্রবৃদ্ধি ▁একই ▁জায়গায় ▁আটকে ▁আছে । ▁তিনি ▁আরও ▁বলেন , ▁দেশের ▁সব খানে ▁সমঝোতা র ▁নির্বাচন ▁দেখা ▁যাচ্ছে । ▁শুধু ▁রাজনৈতিক ▁ক্ষেত্রে ▁এমনটি ▁হচ্ছে ▁তা ▁নয় । ▁বিভিন্ন ▁পেশাজীবী র ▁ক্ষেত্রেও ▁তা ▁হচ্ছে । ▁রাজনৈতিক ▁দলগুলোর ▁নতুন ▁নেতৃত্ব ▁গড়ে ▁তোলার ▁কোনো ▁প্রক্রিয়া ▁নেই । ▁স্থানীয় ▁পর্যায়ের ▁নেতা - কর্মীদের ▁কেন্দ্রীয় ▁নেতাদের ▁নির্দেশে ▁চলতে ▁হচ্ছে । ▁প্রবৃদ্ধি ▁বৃদ্ধি ▁না ▁হওয়ার ▁ক্ষেত্রে ▁এগুলোর ▁প্রভাব ▁পড়ছে । ▁ঢাকা ▁বিশ্ববিদ্যালয় ের ▁উন্নয়ন ▁অর্থনীতি ▁বিভাগের ▁অধ্যাপক ▁সেলিম ▁রায়হান ▁বলেন , ▁১৯৯০ - এর ▁দশকের ▁পর ▁থেকেই ▁দেশে ▁অর্থনৈতিক ▁প্রবৃদ্ধি র ▁ধরন ▁স্থিতিশীল । ▁এশিয়া ▁ও ▁আফ্রিকার ▁কিছু ▁দেশে ▁উচ্চ ▁হারে ▁প্রবৃদ্ধি ▁হলেও ▁সেটি ▁স্থিতিশীল ▁হয়নি । ▁বাংলাদেশে ▁সুশাসন ▁ছাড়াই ▁প্রবৃদ্ধি ▁হয়েছে । ▁এখন ▁বড় ▁প্রশ্ন , ▁সুশাসন ▁ছাড়া ▁এই ▁প্রবৃদ্ধি ▁বজায় ▁থাকবে ▁কি ▁না । ▁বাংলাদেশের ▁রাজনীতি ▁দো দুল ্য মান ▁হলেও ▁অর্থনীতি ▁ধারাবাহিকভাবে ▁ভালো ▁হয়েছে ▁বলে ▁মন্তব্য ▁করেন ▁ব্র্যাক ▁বিশ্ববিদ্যালয় ের ▁ব্র্যাক ▁ইনস্টিটিউট ▁অব ▁গুড ▁গভ র্ন েন্স ▁অ্যান্ড ▁ডেভেলপমেন্ট ের ▁ফেলো ▁মির্জা ▁হাসান । ▁তিনি ▁বলেন , ▁দেশের ▁রাজনীতিক েরা ▁সমঝোতা র ▁মাধ্যমে ▁নিজেদের ▁মধ্যে ▁সুবিধা ▁ভাগ ▁করে ▁নিয়েছে । ▁একটি ▁দল ▁কুক্ষিগত ▁না ▁করে ▁দলগুলোর ▁মধ্যে ▁সুবিধা ▁ভাগ ▁করেছে , ▁যা ▁প্রবৃদ্ধি কে ▁ধরে ▁রেখেছে । ▁উন্মুক্ত ▁আলোচনায় ▁সুশাসন ের ▁জন্য ▁নাগরিকের ▁সম্পাদক ▁বদিউ ল ▁আলম ▁মজুমদার ▁বলেন , ▁ক্ষমতাসীন ▁দলের ▁মধ্যে ▁মারামারি , ▁বিশৃঙ্খলা ▁অশান্তি ▁তৈরি ▁করছে , ▁যা ▁প্রবৃদ্ধি তে ▁প্রভাব ▁ফেলবে । ▁বিভিন্ন ▁রকমের ▁ফা য় দা ▁পেয়ে ▁পেশি শক্তির ▁লোকজন ▁রাজনৈতিক ▁ক্ষমতা ▁দখল ▁করছেন । ▁এঁদের ▁অনেকের ▁আধুনিক ▁রাষ্ট্র ▁কীভাবে ▁পরিচালনা ▁করতে ▁হয় ▁সে ▁বিষয়ে ▁ধারণা ▁নেই । ▁তাঁদের ▁লক্ষ্য ▁টাকা পয়সা ▁বানানো , ▁পাচার ▁করা । ▁বি আইডি এস ের ▁এই ▁বার্ষিক ▁আয়োজনের ▁উদ্বোধনী ▁পর্বে ▁উপস্থিত ▁ছিলেন ▁পরিকল্পনা ▁বিভাগের ▁সচিব ▁মো . ▁জিয়াউল ▁ইসলাম । ▁এ ▁সময় ▁বি আইডি এস ের ▁মহাপরিচালক ▁কে ▁এস ▁মুর্শিদ ▁সম্মেলনের ▁সারসংক্ষেপ ▁এবং ▁আলোচ্য সূচি ▁বিষয়ে ▁প্রবন্ধ ▁উপস্থাপন ▁করেন । ▁উদ্বোধনী ▁পর্বের ▁সভাপতির ▁বক্তব্যে ▁বাংলাদেশ ▁ব্যাংকের ▁সাবেক ▁গভর্নর ▁মোহাম্মদ ▁ফর াস উদ্দিন ▁বলেন , ▁সমাজ ▁পরিবর্তন ▁ও ▁টেকসই ▁উন্নয়নে ▁মানসিকতা র ▁পরিবর্তন ▁জরুরি । ▁বাংলাদেশের ▁রূপান্তর - প্রক্রিয়া ▁চলছে । ▁এটি ▁শক্তিশালী ▁করতে ▁হবে । ▁বর্তমান ▁প্রবৃদ্ধি ▁হারে ▁২০ ২৯ ▁সালের ▁মধ্য ▁নিম্ন ▁মধ্যম ▁আয়ের ▁দেশ ▁থেকে ▁মধ্য ▁আয়ের ▁দেশ ▁হওয়া ▁সম্ভব ।\n",
       "y: LMLabelList\n",
       ",,,,\n",
       "Path: /content/data;\n",
       "\n",
       "Valid: LabelList (10000 items)\n",
       "x: LMTextList\n",
       "▁x x bo s ▁ভ্রমণ নিষেধ া জ্ঞা ▁আরোপ ▁করার ▁পর ▁ট্রাম্প ▁ক্রমাগত ▁হেরে ই ▁যাচ্ছেন । ▁মার্কিন ▁আপিল ▁আদালতের ▁নবম ▁সার্কিট ▁হাওয়াই ▁জেলা ▁আদালতের ▁রায় ▁প্রায় ▁পুরোটাই ▁বহাল ▁রেখেছেন । ▁এর ▁মধ্য ▁দিয়ে ▁আপিল ▁আদালত ▁ট্রাম্পের ▁দ্বিতীয় ▁দফা ▁ভ্রমণ নিষেধ া জ্ঞা য় ▁আঘাত ▁হান লেন । ▁আমেরিকান ▁সিভিল ▁লিবার্টি স ▁ইউনিয়নের ▁মুখপাত্র ▁আমাকে ▁বলেছেন , ▁‘ দুটি ▁আপিল ▁আদালত ▁মুসলমানদের ▁ভ্রমণ নিষেধ া জ্ঞা র ▁বিষয়টি ▁আমলে ▁নিয়ে ▁দৃঢ়তা র ▁সঙ্গে ▁তাকে ▁বেআইনি ▁হিসেবে ▁বিধান ▁দিয়েছেন । ▁যদিও ▁আপিল ▁আদালতের ▁চতুর্থ ▁ও ▁নবম ▁সার্কিট ▁ভিন্ন ▁যুক্তি ▁দিয়েছেন , ▁উভয় ▁আদালত ই ▁এ ▁ব্যাপারে ▁পরিষ্কার , ▁এ ▁ধরনের ▁নিষেধাজ্ঞার ▁যৌক্তিকতা ▁নেই । ’ ▁নবম ▁সার্কিট ▁তো ▁আরও ▁একবার ▁ট্রাম্পের ▁এই ▁দাবি ▁নাকচ ▁করেছেন ▁যে ▁নির্দিষ্ট ▁কিছু ▁গোষ্ঠীর ▁ওপর ▁নিষেধাজ্ঞা ▁আরোপ ের ▁ক্ষেত্রে ▁তাঁর ▁হাতে ▁প্রায় ▁অসীম ▁ক্ষমতা ▁রয়েছে । ▁ব্যাপারটা ▁হচ্ছে , ▁অভিবাসনের ▁ব্যাপারে ▁প্রেসিডেন্টের ▁একক ▁ক্ষমতা ▁নেই । ▁তাঁর ▁কর্তৃত্ব ▁নানা ▁রকম ▁আইনি ▁ও ▁সাংবিধানিক ▁বিধিনিষেধ ের ▁নি গড়ে ▁বাঁধা । ▁আমাদের ▁সিদ্ধান্ত ▁হচ্ছে , ▁নির্বাহী ▁আদেশ ▁জারি ▁করতে ▁গিয়ে ▁প্রেসিডেন্ট ▁কংগ্রেস ▁কর্তৃক ▁প্রদত্ত ▁ক্ষমতার ▁বেশি ▁ব্যবহার ▁করেছেন । ▁ছয়টি ▁দেশের ▁১৮ ▁কোটির ▁বেশি ▁মানুষ ▁ও ▁শরণার্থী র ▁আগমন ▁নিষিদ্ধ ▁এবং ▁২০১৭ ▁সালে ▁১ ▁লাখ ▁১০ ▁হাজার ▁শরণার্থী র ▁জায়গায় ▁৫০ ▁হাজার ▁নেওয়ার ▁ঘোষণা — এসব ▁করতে ▁গিয়ে ▁ট্রাম্প ▁নিজের ▁ক্ষমতা ▁ব্যবহারের ▁প্রয়োজনীয় ▁পূর্বশর্ত ▁পূরণ ▁করেননি । ▁এই ▁মানুষেরা ▁যুক্তরাষ্ট্রে ▁ঢু কলে ▁তা ▁‘ দেশ টির ▁স্বার্থের ▁জন্য ▁হানি কর ’ ▁হবে , ▁এটা ▁বলার ▁আগে ▁প্রেসিডেন্ট কে ▁তথ্যপ্রমাণ ▁জড়ো ▁করতে ▁হবে । ▁এ ▁ছাড়া ▁ট্রাম্পের ▁এই ▁আদেশ ▁ইমিগ্রেশন ▁অ্যান্ড ▁ন্যাশনাল িটি ▁অ্যাক্ট ের ▁পরিপন্থী । ▁কারণ ▁এতে ▁বলা ▁হয়েছে , ▁জাতীয়তা ভিত্তিক ▁বিভাজন ▁করা ▁যাবে ▁না , ▁আর ▁শরণার্থীদের ▁প্রবেশ ▁সীমিত ▁করতে ▁হলে ▁প্রেসিডেন্ট কে ▁নির্দিষ্ট ▁প্রক্রিয়া ▁অনুসরণ ▁করতে ▁হবে । ▁আইনের ▁এই ▁বিধান ের ▁বলে ▁আমরা ▁জেলা ▁আদালতের ▁আদেশ ▁অনেকাংশে ▁সমর্থন ▁করি । ▁মনে ▁হচ্ছে , ▁মামলা ▁চলাকালে ▁প্রশাসন ▁এটা ▁শিখতে ▁পারেনি , ▁আদালত ▁এমন ▁যুক্তি ▁সমর্থন ▁করেন ▁না ▁যে ▁প্রশাসনের ▁কাজ ▁পর্যালোচনা ▁করা ▁যাবে ▁না । ▁আদালত ▁প্রশাসন কে ▁নির্দেশনা ▁দিয়েছেন , ▁‘ প্রেসিডেন্ট ের ▁অভিবাসন ▁ও ▁জাতীয় ▁নিরাপত্তা ▁নীতি বিষয়ক ▁বিবেচনা র ▁প্রতি ▁আমরা ▁যত ▁শ্রদ্ধা ই ▁দেখা ই ▁না ▁কেন , ▁তার ▁মানে ▁এই ▁নয় ▁যে , ▁আমরা ▁মোট েও ▁এই ▁নীতি ▁পর্যালোচনা ▁করতে ▁পারব ▁না ... আমরা ▁বিচার িক ▁ভূমিকা ▁ত্যাগ ▁করিনি । ▁এ ▁ক্ষেত্রে ▁“ আইন ▁কী ▁জিনিস ”, ▁সেটা ▁বলার ▁ব্যাপারে ▁আমাদের ▁বাধ্যবাধকতা ▁আছে ▁( মার বুরি ▁বনাম ▁ম্যাডিসন , ▁৫ ▁ইউ . এস . ১৩৭ , ▁১৭৭ ( ১৮ ০৩ ) । ’ ▁তাহলে ▁সরকার ▁কেন ▁গো ঁ ▁ধরে ▁বসে ▁থাকে , ▁এই ▁আইনি ▁বিতর্কে ▁আদালতের ▁স্থান ▁নেই । ▁সুনির্দিষ্ট ▁আইনি ▁পরিপ্রেক্ষিতে ▁আদালত ▁দেখেছেন , ▁প্রেসিডেন্ট ▁এমন ▁কিছু ▁পাননি ▁যে ▁বলা ▁যায় , ▁‘ কোনো ▁এক ▁বিদেশি ▁গোষ্ঠীর ▁আগমন ▁মার্কিন ▁যুক্তরাষ্ট্রের ▁স্বার্থের ▁জন্য ▁হানি কর । ’ ▁প্রশাসনের ▁এই ▁নিপীড়ন মূলক ▁কাজের ▁ন্যূনতম ▁ভিত্তি ▁না ▁থাকায় ▁আদালত ▁তাকে ▁ভর ্ ৎস না ▁করেছেন : ▁‘ ২ ( সি ) ▁নম্বর ▁ধারায় ▁প্রথম ▁যে ▁তিনটি ▁কারণ ▁বর্ণিত ▁হয়েছে , ▁আমরা ▁তা ▁প্রত্যাখ্যান ▁করি । ▁কারণ ▁এটা ▁বিদ্যমান ▁প্রক্রিয়া ▁পর্যালোচনায় ▁সরকারের ▁সক্ষমতা ▁সংরক্ষণ ▁ও ▁যথাযথ ▁ভে টিং - প্রক্রিয়া ▁নিশ্চিতকরণ ের ▁সঙ্গে ▁সম্পর্কিত । ▁এমন ▁তথ্য ▁নেই ▁যে ▁বিদ্যমান ▁ভে টিং ▁কার্যক্রম ▁অপর্যাপ্ত । ▁আবার ▁এমন ▁তথ্য ও ▁নেই ▁যে ▁উন্নত ▁ভে টিং - প্রক্রিয়া ▁না ▁থাকলে ▁জাতীয় ▁স্বার্থের ▁হানি ▁ঘটবে । ▁এসব ▁চিহ্নিত ▁কারণে র ▁পরিপ্রেক্ষিতে ▁বলা ▁যায় , ▁এই ▁ছয়টি ▁দেশের ▁নাগরিকের া ▁যুক্তরাষ্ট্রে ▁প্রবেশ ▁করলে ▁আমাদের ▁জাতীয় ▁স্বার্থের ▁হানি ▁ঘটবে । ’ ▁মনে ▁হয় , ▁সরকারি ▁আইনজীবী রা ▁সংশ্লিষ্ট ▁তথ্যপ্রমাণ ▁সংগ্রহের ▁চেষ্টা ▁করেননি । ▁কারণ , ▁এই ▁বিশুদ্ধ ▁রাজনৈতিক ▁পদক্ষেপের ▁প্রমাণ ▁নেই । ▁জাতীয় ▁নিরাপত্তার ▁যুক্তির ▁জায়গা ▁থেকে ▁আদালত ▁একই ▁ভাবে ▁খুঁজে ▁পেয়েছেন , ▁এই ▁ছয়টি ▁দেশের ▁নাগরিকদের ▁কেন ▁যুক্তরাষ্ট্রে ▁ঢুকতে ▁দেওয়া ▁হবে ▁না , ▁তার ▁সপক্ষে ▁সরকার ▁তেমন ▁কোনো ▁যুক্তি ▁দেয়নি । ▁সংক্ষেপে ▁বললে , ▁সরকারের ▁নির্বাহী ▁আদেশে ▁এমন ▁যুক্তি ▁দেওয়া ▁হয়নি ▁যে ▁কেন ▁বিদ্যমান ▁প্রটোকল ের ▁অধীনে ▁এই ▁ছয়টি ▁দেশের ▁নাগরিকের া ▁যুক্তরাষ্ট্রের ▁স্বার্থের ▁জন্য ▁হানি কর ▁হবেন । ▁এ ▁ছাড়া ▁১৯৬৫ ▁সালের ▁এক ▁আইনে ▁প্রেসিডেন্টের ▁ক্ষমতা ▁সীমিত ▁করা ▁হয়েছে । ▁এই ▁আইনে ▁বলা ▁হয়েছে , ▁ভিসা ▁দেওয়ার ▁ক্ষেত্রে ▁বৈষম্য ▁করা ▁যাবে ▁না । ▁নিষেধাজ্ঞার ▁সমর্থকদের ▁যুক্তি ▁হচ্ছে , ▁অভিবাসনের ▁ওপর ▁প্রেসিডেন্টের ▁যে ▁সামগ্রিক ▁কর্তৃত্ব ▁রয়েছে , ▁এই ▁আইনে ▁তা ▁খর্ব ▁করা ▁হয়নি । ▁কিন্তু ▁আদালত ▁এর ▁সঙ্গে ▁একমত ▁হননি । ▁আদালতের ▁অনুসন্ধান ▁হচ্ছে , ▁প্রশাসন ▁আইনি ▁শর্ত ▁পূরণ ▁করেনি । ▁ফলে ▁এই ▁নিষেধাজ্ঞার ▁সাংবিধানিক ▁দুর্বলতা র ▁দিকে ▁নজর ▁দেওয়ার ▁কিছু ▁নেই । ▁সরকারের ▁তরফে ▁একমাত্র ▁জয় ▁হচ্ছে , ▁আদালত ▁এই ▁স্বীকৃতি ▁দিয়েছেন ▁যে ▁সরকার ▁আন্ত সংস্থা ▁ভে টিং ▁পর্যালোচনা ▁করতে ▁পারবে । ▁আর ▁সুনির্দিষ্টভাবে ▁প্রেসিডেন্টের ▁কাজে ▁যে ▁নিষেধাজ্ঞা ▁দিতে ▁হবে , ▁তার ▁প্রয়োজনীয়তা ▁নেই । ▁সরকারের ▁আইনজীবী রা ▁কেন ▁সরকারকে ▁প্রয়োজনীয় ▁তথ্য ▁সংগ্রহ ▁করে ▁বোধগম্য ▁অবস্থান ▁নিতে ▁তাড়া ▁দিচ্ছেন ▁না , ▁সেটা ▁আমাদের ▁বোধগম্য ▁নয় । ▁অর্থাৎ ▁কেন ▁এই ▁ছয়টি ▁দেশের ▁নাগরিকদের ▁ভ্রমণ নিষেধ া জ্ঞা ▁জরুরি ▁বা ▁কেন ▁সব ▁শরণার্থী র ▁ওপর ▁নিষেধাজ্ঞা ▁জারি ▁করতে ▁হবে ? ▁জাস্টিস ▁ডিপার্টমেন্টের ▁সাবেক ▁মুখপাত্র ▁ম্যাথু ▁মিলার ▁বলেছেন , ▁‘ প্রেসিডেন্ট ের ▁পরাজয়ের ▁সামগ্রিক ▁পরিণতি ▁দেখে ▁আমি ▁স্তম্ভ িত । ▁তিনি ▁আইনি ▁ও ▁সাংবিধানিক ▁কারণে ▁হেরে ▁গেছেন । ’ ▁কেউ ▁হয়তো ▁ভাবতে ▁পারেন , ▁প্রশাসন ▁প্রয়োজনীয় ▁সাক্ষ্যপ্রমাণ ▁জোগাড় ▁করতে ▁অক্ষম , ▁অথবা ▁তারা ▁অলস । ▁আমরা ▁ভিন্ন ▁এক ▁তত্ত্ব ▁পছন্দ ▁করি : ▁এই ▁আদেশ গুলোর ▁নিরাপত্তা ▁বা ▁অন্যান্য ▁যৌক্তিকতা ▁নেই ; ▁বরং ▁এগুলো ▁কিছু ▁সংস্কার ে ▁স্থূল ভাবে ▁সু ড় স ুড়ি ▁দেওয়া , ▁যার ▁কোনো ▁প্রামাণিক ▁ও ▁যৌক্তিক ▁ভিত্তি ▁নেই । ▁পৃথিবীর ▁কোনো ▁আইনজীবী ▁আদালতে ▁তা ▁প্রমাণ ▁করতে ▁পারবেন ▁না । ▁অনুবাদ : ▁প্রতীক ▁বর্ধন , ▁ওয়াশিংটন ▁পোস্ট ▁থেকে ▁নেওয়া । ▁জেনিফার ▁রুবিন : ▁ওয়াশিংটন ▁পোস্ট – এর ▁কলামিস্ট ।,▁x x bo s ▁কাশ্মীরি ▁পোলাও উপ করণ : ▁পোলাও য়ের ▁চাল ▁৩০০ ▁গ্রাম , ▁কিশমিশ ▁৫০ ▁গ্রাম , ▁আপেল ▁টুকরা ▁১০০ ▁গ্রাম , ▁কাজুবাদাম ▁১০০ ▁গ্রাম , ▁আনারস ▁টুকরা ▁১০০ ▁গ্রাম , ▁লবণ ▁ও ▁চিনি ▁স্বাদ মতো , ▁ঘি ▁৫০ ▁গ্রাম , ▁মা ওয়া ▁৫০ ▁গ্রাম , ▁তেল ▁১০০ ▁গ্রাম , ▁গরম ▁মসলা ▁পরিমাণ মতো । প্র ণা লি : ▁চাল ▁ভালো ▁করে ▁পানিতে ▁ধুয়ে ▁সেদ্ধ ▁করে ▁নিন । ▁অন্য ▁একটি ▁সস প্যান ে ▁ঘি ▁ও ▁তেল ▁ঢেলে ▁তাতে ▁গরম ▁মসলা ▁দিয়ে ▁নাড়ু ন । ▁এরপর ▁কিশমিশ , ▁আপেল , ▁আনারস , ▁কাজুবাদাম ▁দিয়ে ▁নেড়ে ▁নিন । ▁এরপর ▁লবণ , ▁চিনি , ▁মা ওয়া ▁ঢেলে ▁এর ▁ওপর ▁সেদ্ধ ▁করা ▁চাল ▁ঢেলে ▁ভালোভাবে ▁মিশিয়ে ▁নাড়াচাড়া ▁করে ▁নামিয়ে ▁পরিবেশন ▁করুন । ▁মাছের ▁কো ফ তা উপ করণ : ▁ ভেট কি ▁মাছ ▁৩০০ ▁গ্রাম , ▁সর ষে ▁বাটা ▁বা ▁মা স্টার্ড ▁পেস্ট ▁৫০ ▁গ্রাম , ▁লেবু র ▁রস ▁২ ▁চা - চামচ , ▁লবণ ▁১ ▁চা - চামচ , ▁রসুন ▁কুচি ▁১ ▁চা - চামচ , ▁পেঁয়াজ ▁কুচি ▁৫০ ▁গ্রাম , ▁কাঁচা ▁মরিচ ▁৫০ ▁গ্রাম , ▁ধন ে পাতা ▁৫০ ▁গ্রাম , ▁ডিম ▁১ টা , ▁ময়দা ▁১ ▁কাপ , ▁ক্যাপ সি কাম ▁১০০ ▁গ্রাম , ▁টমেটো ▁১০০ ▁গ্রাম । প্র ণা লি : ▁ ভেট কি ▁মাছ ▁কাঁটা ▁ছাড়িয়ে ▁কি মা ▁করে ▁নিন । ▁পাত্রে ▁মাছের ▁কি মা ▁রেখে ▁তার ▁ওপর ▁মা স্টার্ড ▁পেস্ট , ▁লেবু র ▁রস , ▁লবণ , ▁রসুন ▁কুচি , ▁পেঁয়াজ ▁কুচি , ▁কাঁচা ▁মরিচ ▁কুচি , ▁ধন ে পাতা , ▁ডিম ▁ও ▁ময়দা ▁দিয়ে ▁ভালো ▁করে ▁মেখে ▁নিন । ▁ছোট ▁ছোট ▁কো ফ তার ▁আকার ▁করে ▁নিন । ▁ফ্রাই প্যান ে ▁তেল ▁ঢেলে ▁গরম ▁করে ▁কো ফ তা ▁ভেজে ▁নিন । ▁কো ফ তা গুলো ▁পাত্রে ▁ঢেলে ▁তার ▁ওপর ▁ক্যাপ সি কাম ▁ও ▁টমেটো ▁কুচি ▁সাজিয়ে ▁পরিবেশন ▁করুন ।,▁x x bo s ▁জনপ্রিয় ▁খুদে ▁ভিডিও ▁শেয়ারিং ▁অ্যাপ ▁টি কট কে র ▁ওপর ▁জারি ▁করা ▁সাময়িক ▁নিষেধাজ্ঞা ▁উঠিয়ে ▁নিয়েছেন ▁ভারতের ▁তামিলনাড়ু ▁প্রদেশের ▁উচ্চ ▁আদালত । ▁এর ▁আগে ▁অ্যাপ টির ▁মাধ্যমে ▁পর্নো ▁ভিডিও ▁ছড়িয়ে ▁পড়ছে ▁দাবি ▁করে ▁মাদ্রাজ ▁আদালত ▁সরকারকে ▁এটির ▁ওপর ▁নিষেধাজ্ঞা ▁জারি র ▁নির্দেশ ▁দেন । ▁তবে ▁অ্যাপ টির ▁নিষেধাজ্ঞা ▁কিছু ▁নির্দিষ্ট ▁শর্ত ের ▁অধীনে ▁উঠিয়ে ▁নেওয়া ▁হয়েছে । ভারতীয় ▁গণমাধ্যম ▁এনডিটিভি র ▁খবর ে ▁বলা ▁হয়েছে , ▁এপ্রিলের ▁তিন ▁তারিখে ▁মাদ্রাজ ▁হাইকোর্ট ▁একটি ▁জনস্বার্থ ের ▁মামলা ▁আমলে ▁নিয়ে ▁অ্যাপ টির ▁ওপর ▁নিষেধাজ্ঞা ▁জারি ▁করেছিল । ▁পরে ▁ওই ▁আদেশ ের ▁বিপরীতে ▁আইনজীবী ▁মু থু কুমার ▁একটি ▁মামলা ▁দায়ের ▁করেন । ▁ওই ▁মামলার ▁শুনানি র ▁পরে ▁পর্নো ▁ভিডিও ▁না ▁ছড়ানোর ▁শর্তে ▁অ্যাপ টির ▁ওপর ▁থেকে ▁নিষেধাজ্ঞা ▁উঠিয়ে ▁নেওয়া ▁হয় । বিভিন্ন ▁গান , ▁বিখ্যাত ▁সিনেমার ▁সংলাপ সহ ▁নানা ▁রকম ▁মজাদার ▁অডিও র ▁সঙ্গে ▁ঠোঁট ▁মিলিয়ে ▁ছোট ▁ভিডিও ▁তৈরি ▁করে ▁আপলোড ▁করা ▁যায় ▁টি কট ক ▁অ্যাপ ে । ▁চীনা ▁প্রতিষ্ঠানের ▁তৈরি ▁অ্যাপ টি ▁ভারতে ▁ব্যাপক ▁জনপ্রিয় ▁হয়ে ▁উঠেছে । ▁তবে ▁এর ▁কনটেন্ট ের ▁যথার্থতা ▁নিয়ে ▁রাজনীতিবিদ েরা ▁সমালোচনা ▁শুরু ▁করেছেন । ▁অ্যাপ ▁বিশ্লেষক ▁প্রতিষ্ঠান ▁সেন্সর ▁টাওয়ারের ▁তথ্য ▁অনুযায়ী , ▁গত ▁ফেব্রুয়ারি ▁মাস ▁পর্যন্ত ▁ভারতে ▁২৪ ▁কোটি বার ▁ডাউনলোড ▁হয়েছে ▁অ্যাপ টি । ▁এ ▁বছরের ▁জানুয়ারিতে ▁তিন ▁কোটি ▁ব্যবহারকারী ▁এটি ▁ইনস্টল ▁করেছে , ▁যা ▁গত ▁বছরের ▁জানুয়ারি ▁মাসের ▁চেয়ে ▁১২ ▁শতাংশ ▁বেশি । ▁মাদ্রাজ ▁আদালতে ▁বুধবার ▁রাষ্ট্র পক্ষের ▁আইনজীবী ▁অরবিন্দ ▁দাতা র ▁বলেন , ▁কোনো ▁বিশেষ ▁অ্যাপ ▁বন্ধ ▁করে ▁দেওয়া টা ▁সমস্যার ▁চূড়ান্ত ▁সমাধান ▁নয় । ▁এ ▁ছাড়া ▁বৈধ ▁ব্যবহারকারীদের ▁অধিকার ▁সংরক্ষণ ▁করতে ▁হবে ▁বলে ▁জানান ▁তিনি । ▁নিষেধাজ্ঞা ▁জারি ▁করার ▁পরে ▁দাতা র কে ▁অ্যাপ টির ▁প্রভাব ▁জানার ▁জন্য ▁দায়িত্ব ▁দিয়েছিলেন ▁আদালত । ▁এর ▁আগে , ▁৩ ▁এপ্রিল ▁মাদ্রাজ ▁হাইকোর্ট ের ▁পক্ষ ▁থেকে ▁সরকারকে ▁টি কট ক ▁অ্যাপ ▁বন্ধের ▁ব্যবস্থা ▁নিতে ▁নির্দেশ ▁দেওয়া ▁হয় । ▁সে ▁সময় ▁বলা ▁হয় , ▁এটি ▁পর্নোগ্রাফি তে ▁উৎসাহ ▁দিচ্ছে ▁এবং ▁শিশুদের ▁ঝুঁকিতে ▁ফেলছে । ▁এরপর ▁জনস্বার্থ ের ▁একটি ▁মামলা ▁আমলে ▁নিয়ে ▁রুল ▁দিয়েছিলেন ▁আদালত ।,▁x x bo s ▁ধর্ষণ ের ▁বিচারে ▁নতুন ▁আইন ▁চান ▁শিরীন ▁ধর্ষণ ের ▁বিচারে ▁নতুন ▁আইন ▁প্রণয়ন ের ▁দাবি ▁জানিয়েছেন ▁আওয়ামী ▁লীগের ▁নেতৃত্বাধীন ▁১৪ ▁দলের ▁শরিক ▁জাসদ ের ▁সাধারণ ▁সম্পাদক ▁শিরীন ▁আখতার । ▁সোমবার ▁জাতীয় ▁সংসদে ▁জরুরি ▁জন গুরু ত্ব সম্পন্ন ▁বিষয়ে ▁মনোযোগ ▁আকর্ষণ ের ▁নোটিশ ে ▁শিরীন ▁এই ▁দাবি ▁জানান । ▁সাম্প্রতিক ▁সময়ের ▁নারী ▁নির্যাতন ▁ও ▁শিশু ▁ধর্ষণ ের ▁ঘটনা ▁তুলে ▁ধরে ▁একটি ▁পত্রিকায় ▁প্রকাশিত ▁প্রতিবেদন ের ▁বরাত ▁দিয়ে ▁শিরীন ▁আখতার ▁বলেন , ▁ছয় ▁মাসে ▁৬৯ ৬টি ▁শিশু ▁ধর্ষণ ের ▁শিকার ▁হয়েছে । ▁জাসদ ের ▁সাধারণ ▁সম্পাদক ▁বলেন , ▁‘ আজ কে ▁এই ▁রকম ▁একটি ▁অবস্থায় ▁আমাদের ▁সমাজ ▁কোথায় ▁আছে , ▁আমরা ▁কোথায় ▁আছি ? ▁আমরা ▁আজকে ▁উন্নয়নের ▁দিকে ▁এগিয়ে ▁যাচ্ছি । ▁প্রধানমন্ত্রীর ▁নেতৃত্বে ▁বাংলাদেশে ▁সুশাসন ের ▁কথা ▁বলছি । ▁আমরা ▁যখন ▁এ ▁দিকে ▁এগিয়ে ▁যাচ্ছি , ▁তখন ▁সমাজে ▁কেন ▁এত ▁অধঃপতন ? ▁আমাদের ▁অবশ্যই ▁তা ▁বের ▁করতে ▁হবে । ’ ▁শিরীন ▁আখতার ▁বলেন , ▁অবশ্যই ▁একটি ▁আইন ▁নতুন ▁করে ▁প্রণয়ন ▁করা ▁দরকার , ▁যাতে ▁অত্যন্ত ▁দৃষ্টান্ত মূলক ভাবে ▁এসব ▁নর পি শা চ দের ▁বিচার ▁করা ▁যায় ▁এবং ▁বিচারের ▁নামে ▁দীর্ঘ সূত্র তা ▁করা ▁যাবে ▁না । ▁প্রত্যেকে ▁মনে ▁করবে , ▁এ ▁ধরনের ▁ঘটনা ▁ঘটানো ▁যায় ▁না । ▁সেই ▁সঙ্গে ▁পাড়া - মহা ল্লা য় ▁সামাজিক ▁আন্দোলন ▁গড়ে ▁তোলার ও ▁আহ্বান ▁জানান ▁তিনি ।,▁x x bo s ▁চীনা ▁ পররাষ্ট্রমন্ত্রী ▁ওয়াং ▁ই ▁১১ - ১৩ ▁আগস্ট ▁ভারত ▁সফর ▁করলেন । ▁সফরটি ▁ইঙ্গিত বাহী । ▁সামনে ▁দুটি ▁বহু পক্ষীয় ▁সম্মেলন ▁হতে ▁যাচ্ছে । ▁সেপ্টেম্বরে ▁চীনে ▁জি - ২০ ▁সম্মেলন ▁আর ▁নভেম্বরে ▁ভারতে ▁ব্রিক স ▁সম্মেলন ▁হতে ▁যাচ্ছে । ▁আসলে ▁দুটি ▁দেশই ▁চায় ▁না ▁এই ▁সম্মেলন ▁দুটিতে ▁তাদের ▁দ্বিপক্ষীয় ▁সম্পর্কের ▁ছায়া ▁পড় ুক । ▁সে ▁কারণে ▁দেশ ▁দুটি কে ▁অন্তত ▁নিজেদের ▁পারস্পরিক ▁ভিন্নতা ▁দূর ▁করে ▁সম্মেলন ▁উপলক্ষে ▁ইতিবাচক ▁পরিবেশ ▁তৈরি ▁করতে ▁হবে , ▁যেখানে ▁আয়োজক ▁দেশ ▁হিসেবে ▁তাদের ▁হি স্যা ▁আছে । ▁তবে ▁ওয়াং য়ের ▁সফর ▁থেকে ▁সে ▁সফলতা ▁অর্জিত ▁হয়েছে ▁বলে ▁মনে ▁হয় ▁না । নিউক্লিয় ার ▁সা প্লা য়ার্স ▁গ্রুপে ▁চীন ▁ভারতের ▁সদস্যপদ ▁পাওয়ার ▁বিরোধিতা ▁করেছিল , ▁ফলে ▁এ ▁নিয়ে ▁তিক্ততা ও ▁সৃষ্টি ▁হয় । ▁তখন ▁তারা ▁রাজি ▁হয়েছিল ▁যে ▁ভারতের ▁নিরস্ত্রীকরণ ▁ও ▁আন্তর্জাতিক ▁নিরাপত্তা বিষয়ক ▁যুগ্ম ▁সচিব ▁ও ▁চীনের ▁ডিরেক্টর ▁জেনারেল ▁অব ▁আর্মস ▁কন্ট্রোল ▁অ্যান্ড ▁ডিস আর্ম া মেন্ট - এর ▁মধ্যে ▁এ ▁নিয়ে ▁নিবিড় ▁আলোচনা ▁হবে । ▁লোকে ▁ধারণা ▁করে , ▁জাতিসংঘে ▁জয় শ – ই – মোহাম্মদ ের ▁নেতা ▁মাসুদ ▁আজহার কে ▁সন্ত্রাসী ▁হিসেবে ▁তালিকাভুক্ত ▁করা ▁ও ▁ওয়ান ▁বেল্ট ▁ওয়ান ▁রোডের ▁নামে ▁চীন ▁পাকিস্তান ▁অধিকৃত ▁কাশ্মীরে ▁যা ▁করছে , ▁তা - ও ▁এই ▁আলোচনার ▁সূচিত ে ▁থাকবে । ▁এ ▁ছাড়া ▁দ্বিপক্ষীয় ▁স্বার্থ সংশ্লিষ্ট ▁অন্যান্য ▁বিষয়ে ▁আলোচনার ▁জন্য ▁ভারতের ▁পররাষ্ট্র সচিব ▁ও ▁চীনা ▁সহকারী ▁ পররাষ্ট্রমন্ত্রী ▁ঝ ্যাং ▁ইয়ে সুই ▁বসবে ন , ▁এ ▁মর্মে ও ▁একটি ▁প্রক্রিয়া ▁চালু ▁করা ▁হয়েছে । ▁এটা ▁পররাষ্ট্র সচিব ▁পর্যায়ের ▁কৌশলগত ▁আলোচনার ▁বাইরে ▁অনুষ্ঠিত ▁হবে । ▁এমনকি ▁দুই ▁দেশের ▁বিশেষ ▁প্রতিনিধিদের ▁আলোচনা ও ▁আলাদাভাবে ▁চলবে , ▁যেটা ▁সীমান্ত বিষয়ক ▁আলোচনা ▁ছাড়া ▁এখন ▁পর্যন্ত ▁আর ▁কিছু ▁করতে ▁পারেনি । মনে ▁হয় ▁না , ▁এসব ▁বকেয়া ▁বিষয়ে ▁চীন ▁নিজের ▁অবস্থান ▁পরিবর্তন ▁করবে । ▁কিন্তু ▁এই ▁প্রস্তাবিত ▁আলোচনা ▁সম্মেলন ▁উপলক্ষে ▁অনুকূল ▁পরিবেশ ▁সৃষ্টি ▁করবে । ▁এসব ▁আলোচনায় ▁যেহেতু ▁বিতর্কিত ▁বিষয় ▁থাকে , ▁সে ▁কারণে ▁নেতাদের ▁সাধারণ ▁বিষয় ▁ছাড়া ▁অন্য ▁কিছু ▁নিয়ে ▁আলোচনা ▁করতে ▁হয় ▁না । ▁অন্তত ▁চীনারা ▁এটা ▁প্রত্যাশা ▁করবে । ▁চীনারা ▁চায় ▁সম্মেলনে ▁নেতারা ▁পূর্ব পরিকল্পনা মাফিক ▁আলোচনা ▁করবেন , ▁যেখানে ▁তাঁরা ▁অপ্রীতিকর ▁বিষয়ে ▁কথা ▁বলবেন ▁না । ▁কিন্তু ▁গত ▁বছর ▁উ ফা য় ▁এবং ▁এ ▁বছর ▁তাস খন্দ ে ▁ব্যাপারটা ▁এমন ▁ছিল ▁না । ▁তাই ▁ওয়াং ▁এমনটা ▁চাইবে ন ▁যে ▁আসন্ন ▁সম্মেলন ▁যেন ▁তাঁর ▁নেতার ▁জন্য ▁অস্বস্তিকর ▁না ▁হয় । এশিয়া - প্যাসিফিক ▁অঞ্চলে ▁চীন ▁খুব ▁জটিল ▁রাজনৈতিক ▁ও ▁নিরাপত্তা জনিত ▁পরিস্থিতির ▁সম্মুখীন ▁হয়েছে । ▁চীন ▁দক্ষিণ ▁চীন ▁সাগরের ▁ওপর ▁যে ▁দাবি ▁করেছিল , ▁তা ▁খারিজ ▁হয়ে ▁যাওয়ায় ▁বেইজিং ▁বড় ▁ধরনের ▁ধাক্কা ▁খেয়ে ছে । ▁আসিয়ান ের ▁সঙ্গেও ▁তার ▁সম্পর্ক ▁এ ▁যাবৎ কালের ▁মধ্যে ▁সবচেয়ে ▁উত্তেজনাপূর্ণ । ▁তাদের ▁কাটা ▁ঘা য়ে ▁নুন ের ▁ছিট া ▁দিয়েছে ▁যুক্তরাষ্ট্র , ▁তারা ▁দক্ষিণ ▁কোরিয়ায় ▁থার্ড ▁অ্যান্টি ▁মিসাইল ▁প্রতিরক্ষা ব্যবস্থা ▁স্থাপন ▁করেছে । ▁অথচ ▁চীন ▁অনেক ▁দিন ▁ধরে ▁নিষ্ঠা র ▁সঙ্গে ▁দক্ষিণ ▁কোরিয়ার ▁সঙ্গে ▁ঘনিষ্ঠ ▁রাজনৈতিক , ▁অর্থনৈতিক , ▁বাণিজ্যিক ▁ও ▁সাংস্কৃতিক ▁সম্পর্ক ▁রক্ষা ▁করে ▁চলেছে ▁( কোর ীয় ▁পপ সংগীত ▁চীনে ▁খুবই ▁জনপ্রিয় ) । এ ▁অঞ্চলে ▁জাপান ▁ও ▁যুক্তরাষ্ট্র ▁চীনের ▁জন্য ▁সবচেয়ে ▁বড় ▁নিরাপত্তা জনিত ▁হুমকি ▁হওয়া ▁সত্ত্বেও ▁চীনের ▁জন্য ▁নতুন ▁ও ▁প্রতিকূল ▁পরিস্থিতি ▁সৃষ্টি ▁হয়ে ই ▁যাচ্ছে । ▁এ ▁পরিপ্রেক্ষিতে ▁চীন ▁ভারতের ▁সঙ্গে ▁তার ▁পশ্চিম ▁সীমান্ত ▁আপেক্ষিক ভাবে ▁স্থিতিশীল ▁ও ▁ঝুঁকি হীন ▁রাখতে ▁চায় । ▁এ ▁কারণেই ▁চীনের ▁সরকারি ▁গণমাধ্যম ▁এ ▁কথা ▁বলেই ▁যাচ্ছে ▁যে ▁চীন ▁ও ▁ভারতের ▁মধ্যে ▁স্বার্থের ▁সংঘাত ▁নেই । ▁অনৈক্য ের ▁চেয়ে ▁তাদের ▁মধ্যে ▁ঐক্য ের ▁জায়গা ই ▁বেশি । আবার ▁এ ▁আশঙ্কা ও ▁আছে ▁যে ▁ভারত ▁যুক্তরাষ্ট্রের ▁ঘনিষ্ঠ ▁হয়ে ▁নিরাপত্তা বলয় ে ▁ঢু ক বে , ▁যেটা ▁দক্ষিণ ▁চীন ▁সাগরে ▁চীনকে ▁সরাসরি ▁চ্যালেঞ্জ ▁জানা বে । ▁বেইজিং ▁ভারতকে ▁সতর্ক ▁করে ▁দিয়েছে , ▁তারা ▁যেন ▁দক্ষিণ ▁চীন ▁সাগরের ▁ব্যাপারে ▁‘ জ ড়িয়ে ’ ▁না ▁পড়ে । ▁আবার ▁এ ▁আশা ও ▁করা ▁যায় , ▁ভারত ▁তার ▁ঘোষিত ▁কৌশলগত ▁স্বাতন্ত্র্য ▁বজায় ▁রাখবে । ▁দেখা ▁গেছে , ▁দক্ষিণ ▁চীন ▁সাগর সংক্রান্ত ▁রায় ▁যখন ▁চীনের ▁বিপক্ষে ▁গেল , ▁তখন ▁ভারত ▁তেমন ▁একটা ▁উচ্ছ্বাস ▁দেখায় নি । ▁জানা ▁গেছে , ▁ওয়াং ▁দিল্লিতে ▁দক্ষিণ ▁চীন ▁সাগরের ▁বিষয়টি ▁তোলেন নি । ▁মনে ▁হচ্ছে , ▁চীন ▁চায় ▁ভারত ▁এ ▁ব্যাপারে ▁বেশি ▁মাথা ▁না ▁ঘা মাক । ▁চীন ▁ধারণা ▁করছে , ▁আসন্ন ▁জি - ২০ ▁সম্মেলনে ▁জাপান সহ ▁যুক্তরাষ্ট্র ▁ও ▁তার ▁পশ্চিমা ▁মিত্র রা ▁জি - ২০ ▁সম্মেলনে ▁দক্ষিণ ▁চীন ▁সাগরের ▁বিষয়টি ▁তুলে ▁চীনকে ▁লজ্জা য় ▁ফেলে ▁দেবে । ▁এ ▁ক্ষেত্রে ▁ভারতের ▁ভূমিকা ▁বেশ ▁গুরুত্বপূর্ণ । ▁ফলে ▁তারা ▁কৌশলগত ▁সুবিধা ▁পেয়ে ▁যাচ্ছে । ▁সে ▁কারণেই ▁হয়তো ▁ওয়াং ▁ভারত ▁সফর ▁করলেন । ▁কিন্তু ▁চীন ▁শি গ গির ই ▁এ ▁ব্যাপারে ▁তাদের ▁অবস্থানে ▁বড় ▁পরিবর্তন ▁আনবে ▁বলে ▁মনে ▁হয় ▁না । কথা ▁হচ্ছে , ▁চীনের ▁সঙ্গে ▁সম্পর্কের ▁ক্ষেত্রে ▁ভারতকে ▁অনেক ▁সতর্ক ▁হতে ▁হবে । ▁কারণ , ▁দেশ ▁দুটির ▁মধ্যকার ▁পার্থক্য ▁দিন কে ▁দিন ▁শুধু ▁বাড়ছে ই । ▁চীনের ▁অর্থনীতির ▁প্রবৃদ্ধি র ▁হার ▁অনেক ▁ধীরগতির ▁হলেও ▁সেটা ▁ভারতের ▁অর্থনীতির ▁চেয়ে ▁পাঁচ ▁গুণ ▁বড় । ▁ফলে ▁চীনকে ▁ধরতে ▁হলে ▁ভারতকে ▁একটানা ▁অনেক ▁দিন ▁উচ্চ হার ের ▁প্রবৃদ্ধি ▁বজায় ▁রাখতে ▁হবে । ▁ক্ষমতার ▁এই ▁অসমতা কে ▁সামাল ▁দেওয়ার ▁একটি ▁পথ ▁হলো , ▁ভারতকে ▁সক্ষমতা ▁গড়ে ▁তুলে ▁তা ▁দেখাতে ▁হবে , ▁যাতে ▁চীন ▁সামরিক ভাবে ▁আগ্রাসী ▁জায়গায় ▁যাওয়ার ▁আগে ▁একবার ▁হলেও ▁চিন্তা ▁করে । ▁দ্বিতীয় ▁পন্থা টি ▁হলো , ▁ভারতকে ▁মার্কিন ▁নেতৃত্বাধীন ▁চীন বিরোধী ▁জোটে ▁ঢুকতে ▁হবে । ▁এই ▁অবস্থান ▁নিয়ে ▁ভারতের ▁স্বাধীন ▁সত্তা ▁থাকবে ▁না ▁তা ▁ঠিক , ▁কিন্তু ▁এটা ▁করলে ▁সে ▁তর তর ▁করে ▁এগিয়ে ▁যেতে ▁পারবে । এই ▁ক্রমবর্ধমান ▁অসমতা র ▁পরিপ্রেক্ষিতে ▁ভারত ▁খুব ▁ভালো ▁জায়গায় ▁নেই । ▁সে ▁নাজুক । ▁আর ▁চীন ▁ও ▁পাকিস্তান ▁যদি ▁একত্রে ▁কিছু ▁করে , ▁তাহলে ▁পরিস্থিতি ▁আরও ▁নাজুক ▁হয়ে ▁পড়বে । ▁১৯৬২ ▁সালের ▁পর ▁ভারত - পাকিস্তান ▁যুদ্ধে ▁চীন ▁পাকিস্তানকে ▁সমর্থন ▁দিলেও ▁ভারতে ▁সরাসরি ▁হামলা ▁করেনি । ▁তাদের ▁এই ▁অবস্থান ▁সতর্কতা র ▁সঙ্গে ▁পর্যবেক্ষণ ▁করতে ▁হবে । ▁ও দিকে ▁ভারত ▁যদি ▁বেলুচিস্তান ে , ▁যেখানে ▁চীন ▁বিপুল ▁বিনিয়োগ ▁করে ▁ওয়ান ▁বেল্ট ▁ওয়ান ▁রোডের ▁অংশ ▁হিসেবে ▁গাদা র ▁বন্দর ▁নির্মাণ ▁করছে , ▁পাকিস্তান বিরোধী ▁জঙ্গি দের ▁উস কে ▁দেয় , ▁তাহলে ▁পরিস্থিতি ▁কী ▁দাঁড়াবে ▁তা ▁সহজেই ▁অনুমেয় । এ ▁অবস্থায় ▁ভারত - চীন ▁সম্পর্ক ▁জটিল তর ▁হয়ে ▁উঠছে । ▁গত ▁কয়েক ▁বছরে ▁দুই ▁দেশের ▁নেতারা ই ▁বৈরিতা ▁সত্ত্বেও ▁চীন - ভারত ▁সম্পর্ককে ▁পারস্পরিক ভাবে ▁সুবিধাজনক ▁অবস্থায় ▁রাখার ▁চেষ্টা ▁করেছেন । ▁ফলে ▁ভারসাম্য ▁বজায় ▁রাখতে ▁হবে , ▁যেটা ▁আসলে ▁সবচেয়ে ▁কঠিন ▁কাজ । ▁অনুবাদ : ▁প্রতীক ▁বর্ধন , ▁দ্য ▁হিন্দু ▁থেকে ▁নেওয়া । শ্যাম ▁শরণ : ▁ভারতের ▁সাবেক ▁পররাষ্ট্র সচিব ।\n",
       "y: LMLabelList\n",
       ",,,,\n",
       "Path: /content/data;\n",
       "\n",
       "Test: None, model=SequentialRNN(\n",
       "  (0): AWD_LSTM(\n",
       "    (encoder): Embedding(50000, 400, padding_idx=1)\n",
       "    (encoder_dp): EmbeddingDropout(\n",
       "      (emb): Embedding(50000, 400, padding_idx=1)\n",
       "    )\n",
       "    (rnns): ModuleList(\n",
       "      (0): WeightDropout(\n",
       "        (module): LSTM(400, 1152, batch_first=True)\n",
       "      )\n",
       "      (1): WeightDropout(\n",
       "        (module): LSTM(1152, 1152, batch_first=True)\n",
       "      )\n",
       "      (2): WeightDropout(\n",
       "        (module): LSTM(1152, 400, batch_first=True)\n",
       "      )\n",
       "    )\n",
       "    (input_dp): RNNDropout()\n",
       "    (hidden_dps): ModuleList(\n",
       "      (0): RNNDropout()\n",
       "      (1): RNNDropout()\n",
       "      (2): RNNDropout()\n",
       "    )\n",
       "  )\n",
       "  (1): LinearDecoder(\n",
       "    (decoder): Linear(in_features=400, out_features=50000, bias=True)\n",
       "    (output_dp): RNNDropout()\n",
       "  )\n",
       "), opt_func=functools.partial(<class 'torch.optim.adam.Adam'>, betas=(0.9, 0.99)), loss_func=FlattenedLoss of CrossEntropyLoss(), metrics=[<function accuracy at 0x7f5d13d45950>], true_wd=True, bn_wd=True, wd=0.01, train_bn=True, path=PosixPath('/content/data'), model_dir='models', callback_fns=[functools.partial(<class 'fastai.basic_train.Recorder'>, add_time=True, silent=False)], callbacks=[RNNTrainer\n",
       "learn: LanguageLearner(data=TextLMDataBunch;\n",
       "\n",
       "Train: LabelList (80000 items)\n",
       "x: LMTextList\n",
       "▁x x bo s ▁আপাতত ▁জ্বালানি ▁তেলের ▁দাম ▁কমানোর ▁কোনো ▁পরিকল্পনা ▁সরকারের ▁নেই । আজ ▁রোববার ▁জাতীয় ▁সংসদে ▁স্পিকার ▁শিরীন ▁শারমিন ▁চৌধুরীর ▁সভাপতিত্বে ▁অনুষ্ঠিত ▁অধিবেশনে ▁লিখিত ▁প্রশ্নের ▁উত্তরে ▁বিদ্যুৎ , ▁জ্বালানি ▁ও ▁খনিজ ▁সম্পদ ▁মন্ত্রণালয়ের ▁প্রতিমন্ত্রী ▁নস রুল ▁হামিদ ▁এ ▁কথা ▁জানিয়েছেন । সাংস দ ▁রুস্তম ▁আলী ▁ফর া জীর ▁প্রশ্নের ▁উত্তরে ▁প্রতিমন্ত্রী ▁বলেন , ▁আন্তর্জাতিক ▁বাজারে ▁জ্বালানি ▁তেলের ▁মূল্য ▁গত ▁এক ▁বছর ▁ধরে ▁ঊর্ধ্বমুখী ▁রয়েছে । ▁এখন ▁তা ▁অব্যাহত ▁আছে । ▁ডলারের ▁সঙ্গে ▁টাকার ▁বিনিময় ▁হার ▁প্রতিনিয়ত ▁বাড়ছে । ▁এটি ▁চলতে ▁থাকলে ▁আগামী ▁অর্থ বছর ▁থেকে ▁বাংলাদেশ ▁পেট্রোলিয়াম ▁করপোরেশন ▁( বি পিসি ) ▁আবার ▁লোকসান ের ▁সম্মুখীন ▁হতে ▁পারে । ▁বাস্তবতার ▁কারণে ▁আন্তর্জাতিক ▁বাজারে ▁তেলের ▁দাম ▁কম া - বাড় ার ▁সঙ্গে ▁সঙ্গে ▁দেশের ▁অভ্যন্তরে ▁জ্বালানি ▁তেলের ▁বাড়ানো - কম ানো ▁করা ▁সম্ভব ▁হয় ▁না । ▁তিনি ▁বলেন , ▁এর ▁আগে ▁ভর্তুকি ▁মূল্যে ▁জ্বালানি ▁তেল ▁বিক্রি ▁করায় ▁২৭ , ৪ ১৯ . ৮১ ▁কোটি ▁টাকার ▁সরকারি ▁ঋণের ▁দায় ▁এখনো ▁বিপি সির ▁ওপর ▁রয়ে ▁গেছে । ▁দ্বিতীয় ▁দফায় ▁জ্বালানি ▁তেলের ▁মূল্য ▁কমানো ▁হলে ▁বি পিসি ▁আবার ▁লোকসান ি ▁প্রতিষ্ঠানে ▁পরিণত ▁হবে ▁এবং ▁ঋণ ▁করে ▁জ্বালানি ▁তেল ▁আমদানি ▁করতে ▁হবে । ▁তেলের ▁মূল্য ▁কমানো ▁হলে ▁তার ▁সুফল ▁সাধারণ ▁জনগণ ▁সরাসরি ▁উপভোগ ▁করতে ▁পারে ▁না । বিদ্যুত ের ▁১৭টি ▁প্রকল্পে ▁বাস্তবায়ন ের ▁হার ▁শূন্য : ▁রুস্তম ▁আলী ▁ফর া জীর ▁আরেক ▁প্রশ্নের ▁উত্তরে ▁প্রতিমন্ত্রী ▁নস রুল ▁হামিদ ▁বলেছেন , ▁বিদ্যুৎ ▁খাতের ▁১৭টি ▁প্রকল্প ▁বাস্তবায়ন ের ▁হার ▁শূন্য । ▁এর ▁মধ্যে ▁১২টি ▁প্রকল্প ▁২০১৬ - ১৭ ▁অর্থবছরে ▁বার্ষিক ▁উন্নয়ন ▁কর্মসূচি ▁প্রণয়ন ের ▁পরবর্তী ▁সময়ে ▁অনুমোদিত ▁হয়েছে ▁এবং ▁সেসব ▁প্রকল্পের ▁অনুকূলে ▁২০১৬ - ২০১৭ ▁অর্থবছরে ▁কোনো ▁বরাদ্দ ▁দেওয়া ▁সম্ভব ▁হয়নি । ▁তবে ▁অর্থ বছর টির ▁সংশোধিত ▁বার্ষিক ▁উন্নয়ন ▁কর্মসূচিতে ▁প্রয়োজনীয় ▁বরাদ্দ ▁দেওয়া ▁হয়েছে । ▁অর্থ ▁ছাড় ের ▁বিষয়টি ▁প্রক্রিয়াধীন ▁আছে । ▁অন্য ▁পাঁচটি ▁প্রকল্প ▁উন্নয়ন ▁সহযোগী ▁সংস্থার ▁সঙ্গে ▁ঋণ চুক্তি ▁না ▁হওয়া সহ ▁বিভিন্ন ▁কারণে ▁আটকে ▁আছে ।,▁x x bo s ▁ব্যবস্থাপনা ▁আর ▁হিসাব ▁শাখায় ▁দক্ষ ▁পেশাজীবী ▁তৈরির ▁লক্ষ্যে ▁কস্ট ▁অ্যান্ড ▁ম্যানেজমেন্ট ▁অ্যাকাউন্ট স ▁( সি এমএ ) ▁পড়া চ্ছে ▁দ্য ▁ইনস্টিটিউট ▁অব ▁কস্ট ▁অ্যান্ড ▁ম্যানেজমেন্ট ▁অ্যাকাউন্ট স ▁অব ▁বাংলাদেশ ▁( আইসি এমএ বি ) । ▁সম্প্রতি ▁প্রতিষ্ঠানটি ▁বিভিন্ন ▁পত্রিকায় ▁সিএম এ ▁ভর্তি র ▁বিজ্ঞপ্তি ▁প্রকাশ ▁করেছে । ▁আইসি এমএ বির ▁শিক্ষা ▁কর্মকর্তা ▁হাবিবুর ▁সিরাজ ▁বলেন , ▁এবার ই ▁প্রথম ▁ভর্তি ▁কার্যক্রম ▁হবে ▁অনলাইনে । ▁আবেদনকারী দের ▁ www . ic ma ber p . org ▁এই ▁ঠিকানায় ▁গিয়ে ▁প্রয়োজনীয় ▁তথ্য ▁দিয়ে ▁ফরম ▁পূরণ ▁করতে ▁হবে । ▁এরই ▁মধ্যে ▁ভর্তি ▁কার্যক্রম ▁শুরু ▁হয়ে ▁গেছে । ▁আবেদন ▁করতে ▁হবে ▁২৭ ▁জানুয়ারি র ▁মধ্যে । ▁এই ▁কোর্স টি ▁করে ▁আপনি ও ▁হয়ে ▁যেতে ▁পারেন ▁দেশে ▁বা ▁বিদেশে র ▁ভালো ▁কোনো ▁প্রতিষ্ঠানের ▁ব্যবস্থাপক ▁বা ▁হিসাবরক্ষক । এখানে ▁বছরে ▁দুটি ▁সেশনে ▁ছাত্রছাত্রী ▁ভর্তি ▁করানো ▁হয় । ▁জানুয়ারি ▁থেকে ▁জুন ▁এবং ▁জুলাই ▁থেকে ▁ডিসেম্বর । ▁এখন ▁জানুয়ারি ▁থেকে ▁জুলাই ▁সেশন ের ▁ভর্তি ▁কার্যক্রম ▁চলছে । ▁এই ▁সেশনে ▁দুটি ▁পদ্ধতিতে ▁ছাত্রছাত্রী ▁ভর্তি ▁হতে ▁পারবে । ▁ইন্টারমিডিয়েট ▁এন্ট্রি ▁রুট ▁ও ▁গ্র্যাজুয়েট ▁এন্ট্রি ▁রুট ▁পদ্ধতিতে । ▁ইন্টারমিডিয়েট ▁এন্ট্রি ▁রুট ▁পদ্ধতিতে ▁ভর্তি ▁হতে ▁হলে ▁এসএসসি ▁ও ▁এইচএসসি ▁মিলিয়ে ▁জিপিএ - ৮ ▁পেতে ▁হবে । ▁আর ▁গ্র্যাজুয়েট ▁এন্ট্রি ▁রুট ▁পদ্ধতিতে ▁ভর্তি ▁হতে ▁যেকোনো ▁বিভাগ ▁থেকে ▁ন্যূনতম ▁স্নাতক ▁পাস ▁হতে ▁হবে । ▁এসএসসি ▁থেকে ▁স্নাতক ▁পর্যন্ত ▁পরীক্ষার ▁ফল ▁লাগবে ▁কমপক্ষে ▁৬ ▁পয়েন্ট । হা বি বুর ▁সিরাজ ▁বলেন , ▁এই ▁সিএম এ ▁কোর্স টি ▁দুটি ▁পদ্ধতিতে ▁করানো ▁হয় । ▁একটি ▁কোচিং ▁পদ্ধতি ▁এবং ▁অন্যটি ▁কর স পন ডেন্স ▁পদ্ধতি । ▁যাঁরা ▁কোচিং ▁পদ্ধতিতে ▁ভর্তি ▁হবেন ▁তাঁদের ▁নিয়মিত ▁ক্লাস ▁ও ▁ক্লাস ▁টেস্ট ▁করতে ▁হবে । ▁আর ▁কর স পন ডেন্স ▁কোর্সের ▁ক্ষেত্রে ▁শিক্ষার্থীদের ▁নিয়মিত ▁ক্লাস ▁করতে ▁হয় ▁না । ▁শুধু ▁অ্যা সাইন মেন্ট ▁জমা ▁দিলে ই ▁হয় । ▁তাই ▁যাঁরা ▁চাকরির ত ▁আছেন ▁তাঁদের ▁জন্য ▁এই ▁কর স পন ডেন্স ▁পদ্ধতিটি ▁খুব ▁সহজ ▁হয় । ▁তবে ▁কোনো ▁লেভেল ের ▁সব ▁বিষয়ে ▁পাস ▁না ▁করলে ▁পরবর্তী ▁লেভেল ের ▁পরীক্ষা ▁দিতে ▁পারবেন ▁না । ▁তিনি ▁আরও ▁জানান , ▁শিক্ষার্থীদের ▁ছয় ▁মাসে ▁একটি ▁লেভেল ▁শেষ ▁করতে ▁হবে । ▁এ ▁কোর্স টিতে ▁ইন্টারমিডিয়েট ▁এন্ট্রি ▁রুট ▁ছাত্রছাত্রীদের ▁৫টি ▁লেভেল ▁ও ▁গ্র্যাজুয়েট ▁এন্ট্রি ▁রুট ▁ছাত্রছাত্রীদের ▁৪টি ▁লেভেল ▁সম্পন্ন ▁করতে ▁হবে । ▁এই ▁লেভেল গুলোর ▁মধ্যে ▁রয়েছে ▁নলেজ ▁লেভেল , ▁বিজনেস ▁লেভেল ▁ও ▁প্রফেশনাল ▁লেভেল ▁১ , ▁২ ▁ও ▁৩ । ইন্টার মিড িয়েট ▁এন্ট্রি ▁রুট ▁পদ্ধতির ▁ছাত্রছাত্রীদের ▁নলেজ ▁লেভেল ের ▁জন্য ▁ভর্তি ▁ফি ▁দিতে ▁হবে ▁২০ ▁হাজার ▁৬০০ ▁টাকা । ▁আর ▁গ্র্যাজুয়েট ▁এন্ট্রি ▁রুট ▁ছাত্রছাত্রীদের ▁ক্ষেত্রে ▁বিজনেস ▁লেভেল ের ▁জন্য ▁২৪ ▁হাজার ▁৫০০ ▁টাকা ▁ফি ▁দিতে ▁হবে । ▁প্রফেশনাল ▁লেভেল ▁১ , ▁২ ▁ও ▁৩ - এর ▁জন্য ▁ফি ▁লাগবে ▁যথাক্রমে ▁৮০০০ , ▁১২ ০০০ ▁ও ▁১৬ ০০০ ▁টাকা । সি এমএ ▁করতে ▁হলে ▁ইন্টারমিডিয়েট ▁এন্ট্রি ▁রুট ▁ছাত্রছাত্রীদের ▁মোট ▁পড়তে ▁হয় ▁২০টি ▁বিষয় । ▁অন্যদিকে ▁গ্র্যাজুয়েট ▁এন্ট্রি ▁রুট ▁পদ্ধতির ▁ছাত্রছাত্রীদের ▁পড়তে ▁হবে ▁১৭টি ▁বিষয় । ▁নলেজ ▁লেভেল ে ▁পড়তে ▁হবে ▁প্রিন্সিপাল ▁অব ▁অ্যাকাউন্টিং , ▁প্রিন্সিপাল ▁অব ▁বিজনেস ▁অ্যান্ড ▁ইকোনমিকস ▁ও ▁ব্যবসায় ▁যোগাযোগ ▁এই ▁তিনটি ▁বিষয় । ▁আর ▁বিজনেস ▁লেভেল ে ▁পড়তে ▁হবে ▁৫টি ▁বিষয় । ▁এ ▁ছাড়া ▁প্রফেশনাল ▁লেভেল ▁১ , ▁২ ▁ও ▁৩ ▁পড়তে ▁হবে ▁৪টি ▁করে ▁মোট ▁১২টি ▁বিষয় । ▁আর ▁এসব ▁বিষয়গুলো ▁পড়িয়ে ▁থাকেন ▁আইসি এ বির ▁বিভিন্ন ▁সদস্য ▁ও ▁দেশের ▁বিভিন্ন ▁বিশ্ববিদ্যালয় ের ▁শিক্ষকের া । হা বি বুর ▁সিরাজ ▁বলেন , ▁বর্তমান ▁চাকরির ▁বাজারে ▁একজন ▁সিএম এ ▁ডিগ্রি ধারী র ▁ব্যাপক ▁চাহিদা ▁রয়েছে । ▁তাই ▁এই ▁ডিগ্রি ▁সম্পন্ন ▁করে ▁সরকারি - বেসরকারি ▁প্রতিষ্ঠান , ▁ব্যাংক , ▁বিমা , ▁আন্তর্জাতিক ▁প্রতিষ্ঠান , ▁বিভিন্ন ▁এনজিও , ▁টেলিফোন ▁কোম্পানি , ▁মাল্টি ন্যাশনাল ▁প্রতিষ্ঠান — এমনকি ▁বিদেশে ও ▁চাকরির ▁ভালো ▁সুযোগ ▁রয়েছে । ▁অন্যান্য ▁পেশার ▁চেয়ে ▁এ ▁পেশায় ▁ভালো ▁বেতন ▁ও ▁সুযোগ - সুবিধা ▁পাওয়া ▁যায় । বিস্তার িত ▁জানতে : ▁যাঁরা ▁কস্ট ▁অ্যান্ড ▁ম্যানেজমেন্ট ▁অ্যাকাউন্টিং ▁পড়ে ▁পেশা ▁শুরু ▁করতে ▁চান , ▁তাঁরা ▁ভর্তি ▁ও ▁অন্যান্য ▁তথ্য ▁জানতে ▁যোগাযোগ ▁করতে ▁পারেন ▁আইসি এমএ বির ▁ঢাকা সহ ▁দেশের ▁অন্য ▁শাখা গুলোতে । ▁সারা ▁দেশে ▁এদের ▁মোট ▁পাঁচটি ▁শাখা ▁রয়েছে । ঢাকা ▁কেন্দ্র : ▁শিক্ষা ▁বিভাগ , ▁আইসি এমএ বি ▁ভবন , ▁নীলক্ষেত , ▁ঢাকা । ▁ফোন - ৯৬ ১৫ ৪৬০ , ▁৯৬ ১১৭ ৯৯ ; ▁চট্টগ্রাম ▁শাখা : ▁ফোন - ০৩ ১ - ৭২ ৭৬ ৩৮ ; ▁খুলনা ▁শাখা : ▁ফোন - ০৪ ১ - ৭২ ২৩ ৩৫ ; ▁রাজশাহী ▁কেন্দ্র : ▁ফোন - ০৭ ২১ - ৭৫ ১০ ৯২ ; ▁কুমিল্লা ▁কেন্দ্র : ▁ফোন - ০৮ ১ - ৭ ৩৬ ৮৬ । ▁এ ▁ছাড়া ▁ভিজিট ▁করতে ▁পারেন ▁ www . ic ma b . org . bd ▁এই ▁ঠিকানায় ।,▁x x bo s ▁ঢাকা - বঙ্গবন্ধু ▁সেতু ▁মহাসড়কের ▁টাঙ্গাইল ের ▁এলে ঙ্গা ▁বাসস্ট্যান্ড ▁এলাকায় ▁৩০০ ▁মিটার ▁সড়ক ▁সম্প্রসারণ ের ▁কাজ ▁শুরু ▁হয়েছে । ▁ফলে ▁ওই ▁এলাকায় ▁এক ▁লেনে ▁যানবাহন ▁পারাপার ▁হচ্ছে । ▁এতে ▁করে ▁এলে ঙ্গা ▁বাসস্ট্যান্ড ের ▁দুই ▁দিকে ▁অন্তত ▁১০ ▁কিলোমিটার ▁যানজট ের ▁সৃষ্টি ▁হয়েছে । ▁শুক্রবার ▁দুপুরে ▁সরে জমিন ে ▁দেখা ▁যায় , ▁এলে ঙ্গা ▁বাসস্ট্যান্ড ▁থেকে ▁দীর্ঘ ▁গাড়ির ▁সারি ▁প্রায় ▁আট ▁কিলোমিটার ▁দূরে ▁টাঙ্গাইল ▁সদর ▁উপজেলার ▁বিক্রম হাটি ▁পর্যন্ত ▁এসে ▁ঠেকে ছে । ▁বঙ্গবন্ধু ▁সেতুর ▁দিকে ও ▁পাঁচ ▁কিলোমিটারের ▁বেশি ▁যানজট ের ▁সৃষ্টি ▁হয়েছে । ▁সদর ▁উপজেলার ▁রসুলপুর ▁এলাকায় ▁ট্রাক চালক ▁খোরশেদ ▁আলম ▁জানান , ▁টাঙ্গাইল ▁শহর ▁বাইপাস ের ▁রাব না ▁মোড় ▁পার ▁হওয়ার ▁পর ▁থেকেই ▁যানজট ে ▁পড়তে ▁হচ্ছে । ▁১০ ▁মিনিটের ▁রাস্তা ▁পার ▁হতে ▁এক ▁ঘণ্টার ▁বেশি ▁সময় ▁লাগছে ▁বলে ও ▁জানান ▁তিনি । ▁ট্রাফিক ▁পুলিশ ▁বিভাগ ▁জানায় , ▁এলে ঙ্গা ▁বাসস্ট্যান্ড ▁এলাকায় ▁কিছু ▁সময় ▁ঢাকার ▁দিকে ▁গাড়ি ▁চলাচলের ▁সুযোগ ▁দেওয়া ▁হচ্ছে । ▁আবার ▁কিছু ▁সময় ▁ঢাকার ▁দিক ▁বন্ধ ▁রেখে ▁পার ▁করা ▁হচ্ছে ▁উত্তরবঙ্গ গামী ▁যানবাহন । ▁ফলে ▁দুই ▁দিকেই ▁যানজট ের ▁সৃষ্টি ▁হচ্ছে । ▁এলে ঙ্গা ▁বাসস্ট্যান্ড ▁থেকে ▁বঙ্গবন্ধু ▁সেতুর ▁দিকে ▁এবং ▁ঢাকার ▁উভয় ▁দিকেই ▁অন্তত ▁১০ ▁কিলোমিটার ▁যানজট ▁লেগে ▁থাকছে । ▁১০ ▁মিনিটের ▁সড়ক ▁পার ▁হতে ▁এক ▁থেকে ▁দেড় ▁ঘণ্টা ▁পর্যন্ত ▁সময় ▁লাগছে । ▁টাঙ্গাইল ▁সড়ক ▁ও ▁জন পথ ▁বিভাগের ▁নির্বাহী ▁প্রকৌশলী ▁আমি মুল ▁এহসান ▁প্রথম ▁আলোকে ▁বলেন , ▁রাস্তার ▁দুপাশে ▁দুই ▁লেন ▁সম্প্রসারণ ▁করা ▁হচ্ছে । ▁আগামী ▁১৫ – ২০ ▁দিনের ▁মধ্যে ▁এই ▁দুই ▁লেনের ▁নির্মাণকাজ ▁শেষ ▁হবে । ▁পরে ▁মাঝের ▁দুই ▁লেন ▁সড়কের ▁উন্নয়ন ▁করা ▁হবে । ▁সড়ক ▁নির্মাণের ▁কারণে ▁কিছুটা ▁যানজট ▁হলেও ▁নির্মাণকাজ ▁শেষ ▁হলে ▁এলে ঙ্গা তে ▁আর ▁যানজট ▁হবে ▁না । ▁টাঙ্গাইল ▁ট্রাফিক ▁পুলিশের ▁পরিদর্শক ▁( টি আই ) ▁রফিকুল ▁ইসলাম ▁সরকার ▁প্রথম ▁আলোকে ▁বলেন , ▁এলে ঙ্গার ▁যানজট ▁নিরসন ের ▁জন্য ▁দুজন ▁ট্রাফিক ▁পরিদর্শক , ▁আটজন ▁সার্জেন্ট , ▁ছয়জন ▁সহকারী ▁ট্রাফিক ▁সার্জেন্ট ▁ও ▁আটজন ▁কনস্টেবল ▁ওই ▁এলাকায় ▁দায়িত্ব ▁পালন ▁করছেন । ▁পাশাপাশি ▁হাইওয়ে ▁পুলিশ ও ▁রয়েছে । ▁কিন্তু ▁এক ▁লেনে ▁যানবাহন ▁পারাপার ের ▁কারণে ▁এই ▁যানজট ের ▁সৃষ্টি ▁হচ্ছে ।,▁x x bo s ▁একটি ▁মজার ▁ধাঁধা ▁দেখুন । ▁তিন ▁বন্ধু ▁গাছের ▁নিচে ▁ঘুমিয়ে ▁আছেন । ▁একটি ▁বানর ▁এসে ▁তাদের ▁প্রত্যেকের ▁মুখে ▁রং ▁দিয়ে ▁বিচিত্র ▁ধরনের ▁দাগ ▁এঁকে টে কে ▁দিয়ে ▁গেল । ▁ঘুম ▁থেকে ▁উঠে ▁তিন ▁বন্ধুর ▁প্রত্যেকেই ▁অপর ▁দুই ▁বন্ধুর ▁চেহারা ▁দেখে ▁হাস তে ▁লাগলেন । ▁কিছুক্ষণ ▁পর ▁প্রথম ▁বন্ধু ▁হাসি ▁বন্ধ ▁করে ▁চুপ ▁করে ▁গেলেন । ▁বলুন ▁তো ▁কেন ? ▁কারণ ▁ভাবলেন ▁দ্বিতীয় ▁বন্ধু ▁যদি ▁দেখতেন ▁তার ▁মুখে ▁দাগ ▁নেই , ▁তাহলে ▁দ্বিতীয় ▁বন্ধু ▁নিশ্চয়ই ▁তৃতীয় ▁বন্ধুকে ▁হাস তে ▁দেখে ▁অবাক ▁হতেন । ▁কারণ ▁প্রথম ▁বন্ধুর ▁মুখে ▁যদি ▁দাগ ▁না ▁থাকে ▁আর ▁দ্বিতীয় ▁বন্ধু ▁তো ▁ধরেই ▁নিয়েছেন ▁তার ▁নিজের ▁মুখে ▁দাগ ▁নেই , ▁তাহলে ▁তো ▁তৃতীয় ▁বন্ধুর ▁হাসা র ▁কথা ▁নয় ! ▁প্রথম ▁ও ▁দ্বিতীয় ▁দুই ▁বন্ধুর ▁কারও ▁মুখে ▁দাগ ▁না ▁থাকত ▁তাহলে ▁তৃতীয় ▁বন্ধু ▁হাস বেন ▁কেন ? ▁অথচ ▁তৃতীয় ▁বন্ধুকে ▁হাস তে ▁দেখে ▁দ্বিতীয় ▁বন্ধু ▁অবাক ▁হচ্ছেন ▁না । ▁তাই ▁প্রথম ▁বন্ধু ▁বুঝ লেন ▁তার ▁নিজের ▁মুখে ও ▁দাগ ▁আছে । ▁এ ▁জন্যই ▁তিনি ▁চুপ ▁করে ▁গেলেন । ▁গণিতের ▁আরেকটি ▁সমস্যার ▁সহজ ▁সমাধান ▁দেখুন । ▁চারটি ▁ক্রমিক ▁সংখ্যার ▁যোগফল ▁৩০ । ▁বলতে ▁হবে ▁সংখ্যা ▁চারটি ▁কত । ▁এর ▁উত্তরের ▁জন্য ▁আমরা ▁প্রথমে ▁সংখ্যা ▁চারটি র ▁সম্ভাব্য ▁গড় ▁কত ▁হতে ▁পারে ▁তা ▁বের ▁করি । ▁গড় ▁৭ ▁ও ▁৮ - এর ▁মাঝামাঝি । ▁সুতরাং ▁ক্রমিক ▁সংখ্যা ▁চারটি ▁নিশ্চয়ই ▁৬ , ▁৭ , ▁৮ ▁ও ▁৯ । ▁এদের ▁যোগফল ▁৩০ । ▁গড় ▁৭ ▁দশমিক ▁৫ । ▁এ ▁সপ্তাহের ▁ধাঁধা ▁আপনি ▁বিস্কুট ▁কিনতে ▁গেলেন । ▁দোকান ি ▁বললেন ▁দাম ▁২০ % ▁বেড়ে ▁১২০ ▁টাকা ▁হয়েছে । ▁আপনি ▁বললেন ▁না , ▁না , ▁২০ % ▁কমাতে ▁হবে । ▁দোকান ি ▁১২০ ▁টাকার ▁ওপর ▁২০ % ▁কমিয়ে ▁দাম ▁নিলেন । ▁বলুন ▁তো ▁এতে ▁কার ▁লাভ ▁হলো ? ▁খুব ▁সহজ । ▁অনলাইনে ▁মন্তব্য ▁আকারে ▁অথবা ▁ qua y um <unk> g ma il . com ▁ই - মেইল ে ▁আপনাদের ▁উত্তর ▁পাঠিয়ে ▁দিন । ▁সঠিক ▁উত্তর ▁দেখুন ▁আগামী ▁রোববার ▁অনলাইনে । ▁গত ▁সপ্তাহের ▁ধাঁধা র ▁উত্তর ▁ধাঁধা টি ▁ছিল ▁এ ▁রকম : ▁একটি ▁সংখ্যার ▁সঙ্গে ▁৬ ▁যোগ ▁করলে ▁একটি ▁পূর্ণ ▁বর্গ ▁সংখ্যা ▁হয় । ▁আবার ▁৬ ▁বিয়োগ ▁করলে ▁সেই ▁পূর্ণ ▁বর্গ ▁সংখ্যার ▁বর্গমূল ▁পাওয়া ▁যায় । ▁বৈশিষ্ট্যপূর্ণ ▁সংখ্যাটি ▁কত ? ▁উত্তর : ▁বৈশিষ্ট্যপূর্ণ ▁সংখ্যাটি ▁১০ । ▁( ১০ ▁+ ▁৬ ) ▁= ▁১৬ , ▁যা ▁একটি ▁পূর্ণ ▁বর্গ ▁সংখ্যা । ▁আবার ▁( ১০ ▁- ▁৬ ) ▁= ▁৪ , ▁যা ▁১৬ ▁এর ▁বর্গমূল । ▁কীভাবে ▁উত্তর ▁বের ▁করলাম ▁প্রথমে ▁আমরা ▁৪ , ▁৯ , ▁১৬ , ▁২৫ ▁প্রভৃতি ▁বর্গ ▁সংখ্যা ▁নিয়ে ▁পর্যবেক্ষণ ▁করি । ▁এদের ▁মধ্যে ▁১৬ ▁আমাদের ▁শর্ত ▁পূরণ ▁করে । ▁কারণ ▁এই ▁বর্গ সংখ্যা টি ▁থেকে ▁৬ ▁বিয়োগ ▁করলে ▁১০ ▁এবং ▁আবার ▁৬ ▁বিয়োগ ▁করলে ▁৪ ▁হয় , ▁যা ▁১৬ - এর ▁বর্গমূল । ▁তার ▁মানে ▁বৈশিষ্ট্যপূর্ণ ▁সংখ্যাটি ▁১০ । ▁এর ▁থেকে ▁৬ ▁বেশি ▁ও ▁৬ ▁কম ▁সংখ্যা গুলো ▁যথাক্রমে ▁১৬ ▁ও ▁৪ । ▁এখানে ▁১৬ ▁একটি ▁পূর্ণ ▁বর্গ ▁সংখ্যা , ▁এবং ▁৪ ▁হলো ▁১৬ - এর ▁বর্গমূল । ▁আমরা ▁তো ▁এই ▁শর্ত টিই ▁পূরণ ▁করতে ▁চা চ্ছি । ▁এখানে ▁লক্ষণীয় ▁যে ▁এ ▁ধরনের ▁আরও ▁কয়েকটি ▁বৈশিষ্ট্যপূর্ণ ▁সংখ্যা ▁রয়েছে । ▁যেমন ▁৩ ▁এমন ▁একটি ▁বৈশিষ্ট্যপূর্ণ ▁সংখ্যা ▁যার ▁সঙ্গে ▁১ ▁যোগ ▁ও ▁বিয়োগ ▁করলে ▁যথাক্রমে ▁৪ ▁ও ▁২ ▁পাওয়া ▁যায় । ▁এখানে ▁৪ ▁একটি ▁পূর্ণ ▁বর্গ ▁সংখ্যা ▁এবং ▁এর ▁বর্গমূল ▁২ ▁। ▁এ ▁রকম ▁আরেকটি ▁বৈশিষ্ট্যপূর্ণ ▁সংখ্যা ▁হলো ▁১৫ । ▁এর ▁সঙ্গে ▁১০ ▁যোগ ▁ও ▁বিয়োগ ▁করলে ▁যথাক্রমে ▁২৫ ▁ও ▁৫ ▁পাব । ▁এখানে ▁২৫ ▁একটি ▁পূর্ণ ▁বর্গ ▁সংখ্যা ▁এবং ▁এর ▁বর্গমূল ▁৫ । ▁আব্দুল ▁কাইয়ুম , ▁সম্পাদক , ▁মাসিক ▁ম্যাগাজিন ▁বিজ্ঞান চিন্তা,▁x x bo s ▁তিন ▁দশক ▁ধরে ▁বাংলাদেশের ▁অর্থনৈতিক ▁প্রবৃদ্ধি ▁স্থিতিশীল । ▁তবে ▁বিশেষজ্ঞরা ▁বলছেন , ▁সুশাসন ▁ছাড়া ▁এই ▁প্রবৃদ্ধি ▁বেশি ▁দিন ▁বজায় ▁থাকবে ▁না । ▁আগে ▁নিম্ন ▁অর্থনীতির ▁দেশ ▁হওয়ায় ▁উন্নয়নের ▁অনেক ▁ক্ষেত্র ▁ছিল , ▁ফলে ▁সুশাসন ▁ততটা ▁জরুরি ▁ছিল ▁না । ▁এই ▁পর্যায়ে ▁অর্থনৈতিক ▁প্রবৃদ্ধি ▁বাড়াতে ▁হলে ▁দেশে ▁সুশাসন ▁জরুরি । ▁রাজধানীর ▁গুলশান ের ▁একটি ▁হোটেলে ▁গত কাল ▁রোববার ▁‘ বাংলাদেশ ▁জার্নি : ▁অ্যা ক্সি লার ি টিং ▁ট্রান্স ফর ম েশন ’ ▁( বাংলাদেশের ▁যাত্রা : ▁দ্রুততর ▁রূপান্তর ) ▁শীর্ষক ▁সম্মেলনে ▁তাঁরা ▁এসব ▁কথা ▁বলেন । ▁দেশের ▁অর্থনৈতিক ▁উন্নয়ন - সংশ্লিষ্ট ▁বিভিন্ন ▁বিষয়ে ▁দুই ▁দিনের ▁এই ▁সম্মেলন ▁আয়োজন ▁করেছে ▁বাংলাদেশ ▁উন্নয়ন ▁গবেষণা ▁প্রতিষ্ঠান ▁( বিআই ডিএস ) । ▁গত কাল ▁উদ্বোধনী ▁দিনে ▁কয়েক ▁পর্বে ▁সুশাসন , ▁শিক্ষা , ▁উন্নয়নের ▁সম্ভাবনা , ▁শ্রম বাজার , ▁মা ▁ও ▁শিশুর ▁পুষ্টি ▁বিষয়ে ▁আলোচনা ▁হয় । ▁‘ বাংলাদেশ ▁কি ▁সুশাসন ▁ছাড়া ▁ধারাবাহিকভাবে ▁উন্নয়ন ▁করতে ▁পারবে ?’ — এই ▁পর্বে ▁সুশাসন ▁ও ▁অর্থনৈতিক ▁উন্নয়ন ▁বিষয়ে ▁আলোচনা ▁হয় । ▁এতে ▁মূল ▁প্রবন্ধ ▁উপস্থাপন ▁করেন ▁বি আইডি এস ের ▁গবেষণা ▁পরিচালক ▁কাজী ▁আলী ▁তৌফিক । ▁তাতে ▁বলা ▁হয় , ▁অনেক ▁ক্ষেত্রে ▁সুশাসন ▁না ▁থাকার ▁পরেও ▁বাংলাদেশের ▁ধারাবাহিক ▁অর্থনৈতিক ▁প্রবৃদ্ধি ▁বিস্ময়কর । ▁আলোচনায় ▁অংশ ▁নিয়ে ▁সাবেক ▁তত্ত্বাবধায়ক ▁সরকারের ▁উপদেষ্টা ▁আকবর ▁আলি ▁খান ▁বলেন , ▁সুশাসন ▁ছাড়া ▁অর্থনৈতিক ▁উন্নয়ন ▁হয়তো ▁আরও ▁কিছুদিন ▁চলবে । ▁শেষ ▁পর্যন্ত ▁এটি ▁চলবে ▁না । ▁৫ ▁বা ▁১০ ▁বছর ▁পরে ▁বড় ▁সমস্যার ▁সম্মুখীন ▁হতে ▁হবে । ▁বাংলাদেশের ▁বর্তমান ▁পরিস্থিতিতে ▁রাতারাতি ▁সুশাসন ▁প্রতিষ্ঠা ▁হবে ▁না , ▁মন্তব্য ▁করে ▁আকবর ▁আলি ▁বলেন , ▁এখন ই ▁সুশাসন ের ▁জন্য ▁উদ্যোগ ▁নেওয়া ▁হলেও ▁আগামী ▁১০ - ১৫ ▁বছরের ▁আগে ▁অবস্থার ▁পরিবর্তন ▁হবে ▁না । ▁এই ▁পর্বের ▁সভাপতি ▁সাবেক ▁তত্ত্বাবধায়ক ▁সরকারের ▁উপদেষ্টা ▁এবং ▁পাওয়ার ▁অ্যান্ড ▁পার্টি সিপ েশন ▁রিসার্চ ▁সেন্টারের ▁নির্বাহী ▁চেয়ারম্যান ▁হোসেন ▁জিল্লু র ▁রহমান ▁বলেন , ▁অর্থনৈতিক ▁প্রবৃদ্ধি ▁বজায় ▁থাকা ▁না - থাকা র ▁চেয়ে , ▁প্রবৃদ্ধি ▁বাড়বে ▁কি ▁না ▁সেটি ▁আলোচনা ▁হওয়া ▁দরকার । ▁এক ▁দশক ▁ধরে ▁অর্থনৈতিক ▁প্রবৃদ্ধি ▁একই ▁জায়গায় ▁আটকে ▁আছে । ▁তিনি ▁আরও ▁বলেন , ▁দেশের ▁সব খানে ▁সমঝোতা র ▁নির্বাচন ▁দেখা ▁যাচ্ছে । ▁শুধু ▁রাজনৈতিক ▁ক্ষেত্রে ▁এমনটি ▁হচ্ছে ▁তা ▁নয় । ▁বিভিন্ন ▁পেশাজীবী র ▁ক্ষেত্রেও ▁তা ▁হচ্ছে । ▁রাজনৈতিক ▁দলগুলোর ▁নতুন ▁নেতৃত্ব ▁গড়ে ▁তোলার ▁কোনো ▁প্রক্রিয়া ▁নেই । ▁স্থানীয় ▁পর্যায়ের ▁নেতা - কর্মীদের ▁কেন্দ্রীয় ▁নেতাদের ▁নির্দেশে ▁চলতে ▁হচ্ছে । ▁প্রবৃদ্ধি ▁বৃদ্ধি ▁না ▁হওয়ার ▁ক্ষেত্রে ▁এগুলোর ▁প্রভাব ▁পড়ছে । ▁ঢাকা ▁বিশ্ববিদ্যালয় ের ▁উন্নয়ন ▁অর্থনীতি ▁বিভাগের ▁অধ্যাপক ▁সেলিম ▁রায়হান ▁বলেন , ▁১৯৯০ - এর ▁দশকের ▁পর ▁থেকেই ▁দেশে ▁অর্থনৈতিক ▁প্রবৃদ্ধি র ▁ধরন ▁স্থিতিশীল । ▁এশিয়া ▁ও ▁আফ্রিকার ▁কিছু ▁দেশে ▁উচ্চ ▁হারে ▁প্রবৃদ্ধি ▁হলেও ▁সেটি ▁স্থিতিশীল ▁হয়নি । ▁বাংলাদেশে ▁সুশাসন ▁ছাড়াই ▁প্রবৃদ্ধি ▁হয়েছে । ▁এখন ▁বড় ▁প্রশ্ন , ▁সুশাসন ▁ছাড়া ▁এই ▁প্রবৃদ্ধি ▁বজায় ▁থাকবে ▁কি ▁না । ▁বাংলাদেশের ▁রাজনীতি ▁দো দুল ্য মান ▁হলেও ▁অর্থনীতি ▁ধারাবাহিকভাবে ▁ভালো ▁হয়েছে ▁বলে ▁মন্তব্য ▁করেন ▁ব্র্যাক ▁বিশ্ববিদ্যালয় ের ▁ব্র্যাক ▁ইনস্টিটিউট ▁অব ▁গুড ▁গভ র্ন েন্স ▁অ্যান্ড ▁ডেভেলপমেন্ট ের ▁ফেলো ▁মির্জা ▁হাসান । ▁তিনি ▁বলেন , ▁দেশের ▁রাজনীতিক েরা ▁সমঝোতা র ▁মাধ্যমে ▁নিজেদের ▁মধ্যে ▁সুবিধা ▁ভাগ ▁করে ▁নিয়েছে । ▁একটি ▁দল ▁কুক্ষিগত ▁না ▁করে ▁দলগুলোর ▁মধ্যে ▁সুবিধা ▁ভাগ ▁করেছে , ▁যা ▁প্রবৃদ্ধি কে ▁ধরে ▁রেখেছে । ▁উন্মুক্ত ▁আলোচনায় ▁সুশাসন ের ▁জন্য ▁নাগরিকের ▁সম্পাদক ▁বদিউ ল ▁আলম ▁মজুমদার ▁বলেন , ▁ক্ষমতাসীন ▁দলের ▁মধ্যে ▁মারামারি , ▁বিশৃঙ্খলা ▁অশান্তি ▁তৈরি ▁করছে , ▁যা ▁প্রবৃদ্ধি তে ▁প্রভাব ▁ফেলবে । ▁বিভিন্ন ▁রকমের ▁ফা য় দা ▁পেয়ে ▁পেশি শক্তির ▁লোকজন ▁রাজনৈতিক ▁ক্ষমতা ▁দখল ▁করছেন । ▁এঁদের ▁অনেকের ▁আধুনিক ▁রাষ্ট্র ▁কীভাবে ▁পরিচালনা ▁করতে ▁হয় ▁সে ▁বিষয়ে ▁ধারণা ▁নেই । ▁তাঁদের ▁লক্ষ্য ▁টাকা পয়সা ▁বানানো , ▁পাচার ▁করা । ▁বি আইডি এস ের ▁এই ▁বার্ষিক ▁আয়োজনের ▁উদ্বোধনী ▁পর্বে ▁উপস্থিত ▁ছিলেন ▁পরিকল্পনা ▁বিভাগের ▁সচিব ▁মো . ▁জিয়াউল ▁ইসলাম । ▁এ ▁সময় ▁বি আইডি এস ের ▁মহাপরিচালক ▁কে ▁এস ▁মুর্শিদ ▁সম্মেলনের ▁সারসংক্ষেপ ▁এবং ▁আলোচ্য সূচি ▁বিষয়ে ▁প্রবন্ধ ▁উপস্থাপন ▁করেন । ▁উদ্বোধনী ▁পর্বের ▁সভাপতির ▁বক্তব্যে ▁বাংলাদেশ ▁ব্যাংকের ▁সাবেক ▁গভর্নর ▁মোহাম্মদ ▁ফর াস উদ্দিন ▁বলেন , ▁সমাজ ▁পরিবর্তন ▁ও ▁টেকসই ▁উন্নয়নে ▁মানসিকতা র ▁পরিবর্তন ▁জরুরি । ▁বাংলাদেশের ▁রূপান্তর - প্রক্রিয়া ▁চলছে । ▁এটি ▁শক্তিশালী ▁করতে ▁হবে । ▁বর্তমান ▁প্রবৃদ্ধি ▁হারে ▁২০ ২৯ ▁সালের ▁মধ্য ▁নিম্ন ▁মধ্যম ▁আয়ের ▁দেশ ▁থেকে ▁মধ্য ▁আয়ের ▁দেশ ▁হওয়া ▁সম্ভব ।\n",
       "y: LMLabelList\n",
       ",,,,\n",
       "Path: /content/data;\n",
       "\n",
       "Valid: LabelList (10000 items)\n",
       "x: LMTextList\n",
       "▁x x bo s ▁ভ্রমণ নিষেধ া জ্ঞা ▁আরোপ ▁করার ▁পর ▁ট্রাম্প ▁ক্রমাগত ▁হেরে ই ▁যাচ্ছেন । ▁মার্কিন ▁আপিল ▁আদালতের ▁নবম ▁সার্কিট ▁হাওয়াই ▁জেলা ▁আদালতের ▁রায় ▁প্রায় ▁পুরোটাই ▁বহাল ▁রেখেছেন । ▁এর ▁মধ্য ▁দিয়ে ▁আপিল ▁আদালত ▁ট্রাম্পের ▁দ্বিতীয় ▁দফা ▁ভ্রমণ নিষেধ া জ্ঞা য় ▁আঘাত ▁হান লেন । ▁আমেরিকান ▁সিভিল ▁লিবার্টি স ▁ইউনিয়নের ▁মুখপাত্র ▁আমাকে ▁বলেছেন , ▁‘ দুটি ▁আপিল ▁আদালত ▁মুসলমানদের ▁ভ্রমণ নিষেধ া জ্ঞা র ▁বিষয়টি ▁আমলে ▁নিয়ে ▁দৃঢ়তা র ▁সঙ্গে ▁তাকে ▁বেআইনি ▁হিসেবে ▁বিধান ▁দিয়েছেন । ▁যদিও ▁আপিল ▁আদালতের ▁চতুর্থ ▁ও ▁নবম ▁সার্কিট ▁ভিন্ন ▁যুক্তি ▁দিয়েছেন , ▁উভয় ▁আদালত ই ▁এ ▁ব্যাপারে ▁পরিষ্কার , ▁এ ▁ধরনের ▁নিষেধাজ্ঞার ▁যৌক্তিকতা ▁নেই । ’ ▁নবম ▁সার্কিট ▁তো ▁আরও ▁একবার ▁ট্রাম্পের ▁এই ▁দাবি ▁নাকচ ▁করেছেন ▁যে ▁নির্দিষ্ট ▁কিছু ▁গোষ্ঠীর ▁ওপর ▁নিষেধাজ্ঞা ▁আরোপ ের ▁ক্ষেত্রে ▁তাঁর ▁হাতে ▁প্রায় ▁অসীম ▁ক্ষমতা ▁রয়েছে । ▁ব্যাপারটা ▁হচ্ছে , ▁অভিবাসনের ▁ব্যাপারে ▁প্রেসিডেন্টের ▁একক ▁ক্ষমতা ▁নেই । ▁তাঁর ▁কর্তৃত্ব ▁নানা ▁রকম ▁আইনি ▁ও ▁সাংবিধানিক ▁বিধিনিষেধ ের ▁নি গড়ে ▁বাঁধা । ▁আমাদের ▁সিদ্ধান্ত ▁হচ্ছে , ▁নির্বাহী ▁আদেশ ▁জারি ▁করতে ▁গিয়ে ▁প্রেসিডেন্ট ▁কংগ্রেস ▁কর্তৃক ▁প্রদত্ত ▁ক্ষমতার ▁বেশি ▁ব্যবহার ▁করেছেন । ▁ছয়টি ▁দেশের ▁১৮ ▁কোটির ▁বেশি ▁মানুষ ▁ও ▁শরণার্থী র ▁আগমন ▁নিষিদ্ধ ▁এবং ▁২০১৭ ▁সালে ▁১ ▁লাখ ▁১০ ▁হাজার ▁শরণার্থী র ▁জায়গায় ▁৫০ ▁হাজার ▁নেওয়ার ▁ঘোষণা — এসব ▁করতে ▁গিয়ে ▁ট্রাম্প ▁নিজের ▁ক্ষমতা ▁ব্যবহারের ▁প্রয়োজনীয় ▁পূর্বশর্ত ▁পূরণ ▁করেননি । ▁এই ▁মানুষেরা ▁যুক্তরাষ্ট্রে ▁ঢু কলে ▁তা ▁‘ দেশ টির ▁স্বার্থের ▁জন্য ▁হানি কর ’ ▁হবে , ▁এটা ▁বলার ▁আগে ▁প্রেসিডেন্ট কে ▁তথ্যপ্রমাণ ▁জড়ো ▁করতে ▁হবে । ▁এ ▁ছাড়া ▁ট্রাম্পের ▁এই ▁আদেশ ▁ইমিগ্রেশন ▁অ্যান্ড ▁ন্যাশনাল িটি ▁অ্যাক্ট ের ▁পরিপন্থী । ▁কারণ ▁এতে ▁বলা ▁হয়েছে , ▁জাতীয়তা ভিত্তিক ▁বিভাজন ▁করা ▁যাবে ▁না , ▁আর ▁শরণার্থীদের ▁প্রবেশ ▁সীমিত ▁করতে ▁হলে ▁প্রেসিডেন্ট কে ▁নির্দিষ্ট ▁প্রক্রিয়া ▁অনুসরণ ▁করতে ▁হবে । ▁আইনের ▁এই ▁বিধান ের ▁বলে ▁আমরা ▁জেলা ▁আদালতের ▁আদেশ ▁অনেকাংশে ▁সমর্থন ▁করি । ▁মনে ▁হচ্ছে , ▁মামলা ▁চলাকালে ▁প্রশাসন ▁এটা ▁শিখতে ▁পারেনি , ▁আদালত ▁এমন ▁যুক্তি ▁সমর্থন ▁করেন ▁না ▁যে ▁প্রশাসনের ▁কাজ ▁পর্যালোচনা ▁করা ▁যাবে ▁না । ▁আদালত ▁প্রশাসন কে ▁নির্দেশনা ▁দিয়েছেন , ▁‘ প্রেসিডেন্ট ের ▁অভিবাসন ▁ও ▁জাতীয় ▁নিরাপত্তা ▁নীতি বিষয়ক ▁বিবেচনা র ▁প্রতি ▁আমরা ▁যত ▁শ্রদ্ধা ই ▁দেখা ই ▁না ▁কেন , ▁তার ▁মানে ▁এই ▁নয় ▁যে , ▁আমরা ▁মোট েও ▁এই ▁নীতি ▁পর্যালোচনা ▁করতে ▁পারব ▁না ... আমরা ▁বিচার িক ▁ভূমিকা ▁ত্যাগ ▁করিনি । ▁এ ▁ক্ষেত্রে ▁“ আইন ▁কী ▁জিনিস ”, ▁সেটা ▁বলার ▁ব্যাপারে ▁আমাদের ▁বাধ্যবাধকতা ▁আছে ▁( মার বুরি ▁বনাম ▁ম্যাডিসন , ▁৫ ▁ইউ . এস . ১৩৭ , ▁১৭৭ ( ১৮ ০৩ ) । ’ ▁তাহলে ▁সরকার ▁কেন ▁গো ঁ ▁ধরে ▁বসে ▁থাকে , ▁এই ▁আইনি ▁বিতর্কে ▁আদালতের ▁স্থান ▁নেই । ▁সুনির্দিষ্ট ▁আইনি ▁পরিপ্রেক্ষিতে ▁আদালত ▁দেখেছেন , ▁প্রেসিডেন্ট ▁এমন ▁কিছু ▁পাননি ▁যে ▁বলা ▁যায় , ▁‘ কোনো ▁এক ▁বিদেশি ▁গোষ্ঠীর ▁আগমন ▁মার্কিন ▁যুক্তরাষ্ট্রের ▁স্বার্থের ▁জন্য ▁হানি কর । ’ ▁প্রশাসনের ▁এই ▁নিপীড়ন মূলক ▁কাজের ▁ন্যূনতম ▁ভিত্তি ▁না ▁থাকায় ▁আদালত ▁তাকে ▁ভর ্ ৎস না ▁করেছেন : ▁‘ ২ ( সি ) ▁নম্বর ▁ধারায় ▁প্রথম ▁যে ▁তিনটি ▁কারণ ▁বর্ণিত ▁হয়েছে , ▁আমরা ▁তা ▁প্রত্যাখ্যান ▁করি । ▁কারণ ▁এটা ▁বিদ্যমান ▁প্রক্রিয়া ▁পর্যালোচনায় ▁সরকারের ▁সক্ষমতা ▁সংরক্ষণ ▁ও ▁যথাযথ ▁ভে টিং - প্রক্রিয়া ▁নিশ্চিতকরণ ের ▁সঙ্গে ▁সম্পর্কিত । ▁এমন ▁তথ্য ▁নেই ▁যে ▁বিদ্যমান ▁ভে টিং ▁কার্যক্রম ▁অপর্যাপ্ত । ▁আবার ▁এমন ▁তথ্য ও ▁নেই ▁যে ▁উন্নত ▁ভে টিং - প্রক্রিয়া ▁না ▁থাকলে ▁জাতীয় ▁স্বার্থের ▁হানি ▁ঘটবে । ▁এসব ▁চিহ্নিত ▁কারণে র ▁পরিপ্রেক্ষিতে ▁বলা ▁যায় , ▁এই ▁ছয়টি ▁দেশের ▁নাগরিকের া ▁যুক্তরাষ্ট্রে ▁প্রবেশ ▁করলে ▁আমাদের ▁জাতীয় ▁স্বার্থের ▁হানি ▁ঘটবে । ’ ▁মনে ▁হয় , ▁সরকারি ▁আইনজীবী রা ▁সংশ্লিষ্ট ▁তথ্যপ্রমাণ ▁সংগ্রহের ▁চেষ্টা ▁করেননি । ▁কারণ , ▁এই ▁বিশুদ্ধ ▁রাজনৈতিক ▁পদক্ষেপের ▁প্রমাণ ▁নেই । ▁জাতীয় ▁নিরাপত্তার ▁যুক্তির ▁জায়গা ▁থেকে ▁আদালত ▁একই ▁ভাবে ▁খুঁজে ▁পেয়েছেন , ▁এই ▁ছয়টি ▁দেশের ▁নাগরিকদের ▁কেন ▁যুক্তরাষ্ট্রে ▁ঢুকতে ▁দেওয়া ▁হবে ▁না , ▁তার ▁সপক্ষে ▁সরকার ▁তেমন ▁কোনো ▁যুক্তি ▁দেয়নি । ▁সংক্ষেপে ▁বললে , ▁সরকারের ▁নির্বাহী ▁আদেশে ▁এমন ▁যুক্তি ▁দেওয়া ▁হয়নি ▁যে ▁কেন ▁বিদ্যমান ▁প্রটোকল ের ▁অধীনে ▁এই ▁ছয়টি ▁দেশের ▁নাগরিকের া ▁যুক্তরাষ্ট্রের ▁স্বার্থের ▁জন্য ▁হানি কর ▁হবেন । ▁এ ▁ছাড়া ▁১৯৬৫ ▁সালের ▁এক ▁আইনে ▁প্রেসিডেন্টের ▁ক্ষমতা ▁সীমিত ▁করা ▁হয়েছে । ▁এই ▁আইনে ▁বলা ▁হয়েছে , ▁ভিসা ▁দেওয়ার ▁ক্ষেত্রে ▁বৈষম্য ▁করা ▁যাবে ▁না । ▁নিষেধাজ্ঞার ▁সমর্থকদের ▁যুক্তি ▁হচ্ছে , ▁অভিবাসনের ▁ওপর ▁প্রেসিডেন্টের ▁যে ▁সামগ্রিক ▁কর্তৃত্ব ▁রয়েছে , ▁এই ▁আইনে ▁তা ▁খর্ব ▁করা ▁হয়নি । ▁কিন্তু ▁আদালত ▁এর ▁সঙ্গে ▁একমত ▁হননি । ▁আদালতের ▁অনুসন্ধান ▁হচ্ছে , ▁প্রশাসন ▁আইনি ▁শর্ত ▁পূরণ ▁করেনি । ▁ফলে ▁এই ▁নিষেধাজ্ঞার ▁সাংবিধানিক ▁দুর্বলতা র ▁দিকে ▁নজর ▁দেওয়ার ▁কিছু ▁নেই । ▁সরকারের ▁তরফে ▁একমাত্র ▁জয় ▁হচ্ছে , ▁আদালত ▁এই ▁স্বীকৃতি ▁দিয়েছেন ▁যে ▁সরকার ▁আন্ত সংস্থা ▁ভে টিং ▁পর্যালোচনা ▁করতে ▁পারবে । ▁আর ▁সুনির্দিষ্টভাবে ▁প্রেসিডেন্টের ▁কাজে ▁যে ▁নিষেধাজ্ঞা ▁দিতে ▁হবে , ▁তার ▁প্রয়োজনীয়তা ▁নেই । ▁সরকারের ▁আইনজীবী রা ▁কেন ▁সরকারকে ▁প্রয়োজনীয় ▁তথ্য ▁সংগ্রহ ▁করে ▁বোধগম্য ▁অবস্থান ▁নিতে ▁তাড়া ▁দিচ্ছেন ▁না , ▁সেটা ▁আমাদের ▁বোধগম্য ▁নয় । ▁অর্থাৎ ▁কেন ▁এই ▁ছয়টি ▁দেশের ▁নাগরিকদের ▁ভ্রমণ নিষেধ া জ্ঞা ▁জরুরি ▁বা ▁কেন ▁সব ▁শরণার্থী র ▁ওপর ▁নিষেধাজ্ঞা ▁জারি ▁করতে ▁হবে ? ▁জাস্টিস ▁ডিপার্টমেন্টের ▁সাবেক ▁মুখপাত্র ▁ম্যাথু ▁মিলার ▁বলেছেন , ▁‘ প্রেসিডেন্ট ের ▁পরাজয়ের ▁সামগ্রিক ▁পরিণতি ▁দেখে ▁আমি ▁স্তম্ভ িত । ▁তিনি ▁আইনি ▁ও ▁সাংবিধানিক ▁কারণে ▁হেরে ▁গেছেন । ’ ▁কেউ ▁হয়তো ▁ভাবতে ▁পারেন , ▁প্রশাসন ▁প্রয়োজনীয় ▁সাক্ষ্যপ্রমাণ ▁জোগাড় ▁করতে ▁অক্ষম , ▁অথবা ▁তারা ▁অলস । ▁আমরা ▁ভিন্ন ▁এক ▁তত্ত্ব ▁পছন্দ ▁করি : ▁এই ▁আদেশ গুলোর ▁নিরাপত্তা ▁বা ▁অন্যান্য ▁যৌক্তিকতা ▁নেই ; ▁বরং ▁এগুলো ▁কিছু ▁সংস্কার ে ▁স্থূল ভাবে ▁সু ড় স ুড়ি ▁দেওয়া , ▁যার ▁কোনো ▁প্রামাণিক ▁ও ▁যৌক্তিক ▁ভিত্তি ▁নেই । ▁পৃথিবীর ▁কোনো ▁আইনজীবী ▁আদালতে ▁তা ▁প্রমাণ ▁করতে ▁পারবেন ▁না । ▁অনুবাদ : ▁প্রতীক ▁বর্ধন , ▁ওয়াশিংটন ▁পোস্ট ▁থেকে ▁নেওয়া । ▁জেনিফার ▁রুবিন : ▁ওয়াশিংটন ▁পোস্ট – এর ▁কলামিস্ট ।,▁x x bo s ▁কাশ্মীরি ▁পোলাও উপ করণ : ▁পোলাও য়ের ▁চাল ▁৩০০ ▁গ্রাম , ▁কিশমিশ ▁৫০ ▁গ্রাম , ▁আপেল ▁টুকরা ▁১০০ ▁গ্রাম , ▁কাজুবাদাম ▁১০০ ▁গ্রাম , ▁আনারস ▁টুকরা ▁১০০ ▁গ্রাম , ▁লবণ ▁ও ▁চিনি ▁স্বাদ মতো , ▁ঘি ▁৫০ ▁গ্রাম , ▁মা ওয়া ▁৫০ ▁গ্রাম , ▁তেল ▁১০০ ▁গ্রাম , ▁গরম ▁মসলা ▁পরিমাণ মতো । প্র ণা লি : ▁চাল ▁ভালো ▁করে ▁পানিতে ▁ধুয়ে ▁সেদ্ধ ▁করে ▁নিন । ▁অন্য ▁একটি ▁সস প্যান ে ▁ঘি ▁ও ▁তেল ▁ঢেলে ▁তাতে ▁গরম ▁মসলা ▁দিয়ে ▁নাড়ু ন । ▁এরপর ▁কিশমিশ , ▁আপেল , ▁আনারস , ▁কাজুবাদাম ▁দিয়ে ▁নেড়ে ▁নিন । ▁এরপর ▁লবণ , ▁চিনি , ▁মা ওয়া ▁ঢেলে ▁এর ▁ওপর ▁সেদ্ধ ▁করা ▁চাল ▁ঢেলে ▁ভালোভাবে ▁মিশিয়ে ▁নাড়াচাড়া ▁করে ▁নামিয়ে ▁পরিবেশন ▁করুন । ▁মাছের ▁কো ফ তা উপ করণ : ▁ ভেট কি ▁মাছ ▁৩০০ ▁গ্রাম , ▁সর ষে ▁বাটা ▁বা ▁মা স্টার্ড ▁পেস্ট ▁৫০ ▁গ্রাম , ▁লেবু র ▁রস ▁২ ▁চা - চামচ , ▁লবণ ▁১ ▁চা - চামচ , ▁রসুন ▁কুচি ▁১ ▁চা - চামচ , ▁পেঁয়াজ ▁কুচি ▁৫০ ▁গ্রাম , ▁কাঁচা ▁মরিচ ▁৫০ ▁গ্রাম , ▁ধন ে পাতা ▁৫০ ▁গ্রাম , ▁ডিম ▁১ টা , ▁ময়দা ▁১ ▁কাপ , ▁ক্যাপ সি কাম ▁১০০ ▁গ্রাম , ▁টমেটো ▁১০০ ▁গ্রাম । প্র ণা লি : ▁ ভেট কি ▁মাছ ▁কাঁটা ▁ছাড়িয়ে ▁কি মা ▁করে ▁নিন । ▁পাত্রে ▁মাছের ▁কি মা ▁রেখে ▁তার ▁ওপর ▁মা স্টার্ড ▁পেস্ট , ▁লেবু র ▁রস , ▁লবণ , ▁রসুন ▁কুচি , ▁পেঁয়াজ ▁কুচি , ▁কাঁচা ▁মরিচ ▁কুচি , ▁ধন ে পাতা , ▁ডিম ▁ও ▁ময়দা ▁দিয়ে ▁ভালো ▁করে ▁মেখে ▁নিন । ▁ছোট ▁ছোট ▁কো ফ তার ▁আকার ▁করে ▁নিন । ▁ফ্রাই প্যান ে ▁তেল ▁ঢেলে ▁গরম ▁করে ▁কো ফ তা ▁ভেজে ▁নিন । ▁কো ফ তা গুলো ▁পাত্রে ▁ঢেলে ▁তার ▁ওপর ▁ক্যাপ সি কাম ▁ও ▁টমেটো ▁কুচি ▁সাজিয়ে ▁পরিবেশন ▁করুন ।,▁x x bo s ▁জনপ্রিয় ▁খুদে ▁ভিডিও ▁শেয়ারিং ▁অ্যাপ ▁টি কট কে র ▁ওপর ▁জারি ▁করা ▁সাময়িক ▁নিষেধাজ্ঞা ▁উঠিয়ে ▁নিয়েছেন ▁ভারতের ▁তামিলনাড়ু ▁প্রদেশের ▁উচ্চ ▁আদালত । ▁এর ▁আগে ▁অ্যাপ টির ▁মাধ্যমে ▁পর্নো ▁ভিডিও ▁ছড়িয়ে ▁পড়ছে ▁দাবি ▁করে ▁মাদ্রাজ ▁আদালত ▁সরকারকে ▁এটির ▁ওপর ▁নিষেধাজ্ঞা ▁জারি র ▁নির্দেশ ▁দেন । ▁তবে ▁অ্যাপ টির ▁নিষেধাজ্ঞা ▁কিছু ▁নির্দিষ্ট ▁শর্ত ের ▁অধীনে ▁উঠিয়ে ▁নেওয়া ▁হয়েছে । ভারতীয় ▁গণমাধ্যম ▁এনডিটিভি র ▁খবর ে ▁বলা ▁হয়েছে , ▁এপ্রিলের ▁তিন ▁তারিখে ▁মাদ্রাজ ▁হাইকোর্ট ▁একটি ▁জনস্বার্থ ের ▁মামলা ▁আমলে ▁নিয়ে ▁অ্যাপ টির ▁ওপর ▁নিষেধাজ্ঞা ▁জারি ▁করেছিল । ▁পরে ▁ওই ▁আদেশ ের ▁বিপরীতে ▁আইনজীবী ▁মু থু কুমার ▁একটি ▁মামলা ▁দায়ের ▁করেন । ▁ওই ▁মামলার ▁শুনানি র ▁পরে ▁পর্নো ▁ভিডিও ▁না ▁ছড়ানোর ▁শর্তে ▁অ্যাপ টির ▁ওপর ▁থেকে ▁নিষেধাজ্ঞা ▁উঠিয়ে ▁নেওয়া ▁হয় । বিভিন্ন ▁গান , ▁বিখ্যাত ▁সিনেমার ▁সংলাপ সহ ▁নানা ▁রকম ▁মজাদার ▁অডিও র ▁সঙ্গে ▁ঠোঁট ▁মিলিয়ে ▁ছোট ▁ভিডিও ▁তৈরি ▁করে ▁আপলোড ▁করা ▁যায় ▁টি কট ক ▁অ্যাপ ে । ▁চীনা ▁প্রতিষ্ঠানের ▁তৈরি ▁অ্যাপ টি ▁ভারতে ▁ব্যাপক ▁জনপ্রিয় ▁হয়ে ▁উঠেছে । ▁তবে ▁এর ▁কনটেন্ট ের ▁যথার্থতা ▁নিয়ে ▁রাজনীতিবিদ েরা ▁সমালোচনা ▁শুরু ▁করেছেন । ▁অ্যাপ ▁বিশ্লেষক ▁প্রতিষ্ঠান ▁সেন্সর ▁টাওয়ারের ▁তথ্য ▁অনুযায়ী , ▁গত ▁ফেব্রুয়ারি ▁মাস ▁পর্যন্ত ▁ভারতে ▁২৪ ▁কোটি বার ▁ডাউনলোড ▁হয়েছে ▁অ্যাপ টি । ▁এ ▁বছরের ▁জানুয়ারিতে ▁তিন ▁কোটি ▁ব্যবহারকারী ▁এটি ▁ইনস্টল ▁করেছে , ▁যা ▁গত ▁বছরের ▁জানুয়ারি ▁মাসের ▁চেয়ে ▁১২ ▁শতাংশ ▁বেশি । ▁মাদ্রাজ ▁আদালতে ▁বুধবার ▁রাষ্ট্র পক্ষের ▁আইনজীবী ▁অরবিন্দ ▁দাতা র ▁বলেন , ▁কোনো ▁বিশেষ ▁অ্যাপ ▁বন্ধ ▁করে ▁দেওয়া টা ▁সমস্যার ▁চূড়ান্ত ▁সমাধান ▁নয় । ▁এ ▁ছাড়া ▁বৈধ ▁ব্যবহারকারীদের ▁অধিকার ▁সংরক্ষণ ▁করতে ▁হবে ▁বলে ▁জানান ▁তিনি । ▁নিষেধাজ্ঞা ▁জারি ▁করার ▁পরে ▁দাতা র কে ▁অ্যাপ টির ▁প্রভাব ▁জানার ▁জন্য ▁দায়িত্ব ▁দিয়েছিলেন ▁আদালত । ▁এর ▁আগে , ▁৩ ▁এপ্রিল ▁মাদ্রাজ ▁হাইকোর্ট ের ▁পক্ষ ▁থেকে ▁সরকারকে ▁টি কট ক ▁অ্যাপ ▁বন্ধের ▁ব্যবস্থা ▁নিতে ▁নির্দেশ ▁দেওয়া ▁হয় । ▁সে ▁সময় ▁বলা ▁হয় , ▁এটি ▁পর্নোগ্রাফি তে ▁উৎসাহ ▁দিচ্ছে ▁এবং ▁শিশুদের ▁ঝুঁকিতে ▁ফেলছে । ▁এরপর ▁জনস্বার্থ ের ▁একটি ▁মামলা ▁আমলে ▁নিয়ে ▁রুল ▁দিয়েছিলেন ▁আদালত ।,▁x x bo s ▁ধর্ষণ ের ▁বিচারে ▁নতুন ▁আইন ▁চান ▁শিরীন ▁ধর্ষণ ের ▁বিচারে ▁নতুন ▁আইন ▁প্রণয়ন ের ▁দাবি ▁জানিয়েছেন ▁আওয়ামী ▁লীগের ▁নেতৃত্বাধীন ▁১৪ ▁দলের ▁শরিক ▁জাসদ ের ▁সাধারণ ▁সম্পাদক ▁শিরীন ▁আখতার । ▁সোমবার ▁জাতীয় ▁সংসদে ▁জরুরি ▁জন গুরু ত্ব সম্পন্ন ▁বিষয়ে ▁মনোযোগ ▁আকর্ষণ ের ▁নোটিশ ে ▁শিরীন ▁এই ▁দাবি ▁জানান । ▁সাম্প্রতিক ▁সময়ের ▁নারী ▁নির্যাতন ▁ও ▁শিশু ▁ধর্ষণ ের ▁ঘটনা ▁তুলে ▁ধরে ▁একটি ▁পত্রিকায় ▁প্রকাশিত ▁প্রতিবেদন ের ▁বরাত ▁দিয়ে ▁শিরীন ▁আখতার ▁বলেন , ▁ছয় ▁মাসে ▁৬৯ ৬টি ▁শিশু ▁ধর্ষণ ের ▁শিকার ▁হয়েছে । ▁জাসদ ের ▁সাধারণ ▁সম্পাদক ▁বলেন , ▁‘ আজ কে ▁এই ▁রকম ▁একটি ▁অবস্থায় ▁আমাদের ▁সমাজ ▁কোথায় ▁আছে , ▁আমরা ▁কোথায় ▁আছি ? ▁আমরা ▁আজকে ▁উন্নয়নের ▁দিকে ▁এগিয়ে ▁যাচ্ছি । ▁প্রধানমন্ত্রীর ▁নেতৃত্বে ▁বাংলাদেশে ▁সুশাসন ের ▁কথা ▁বলছি । ▁আমরা ▁যখন ▁এ ▁দিকে ▁এগিয়ে ▁যাচ্ছি , ▁তখন ▁সমাজে ▁কেন ▁এত ▁অধঃপতন ? ▁আমাদের ▁অবশ্যই ▁তা ▁বের ▁করতে ▁হবে । ’ ▁শিরীন ▁আখতার ▁বলেন , ▁অবশ্যই ▁একটি ▁আইন ▁নতুন ▁করে ▁প্রণয়ন ▁করা ▁দরকার , ▁যাতে ▁অত্যন্ত ▁দৃষ্টান্ত মূলক ভাবে ▁এসব ▁নর পি শা চ দের ▁বিচার ▁করা ▁যায় ▁এবং ▁বিচারের ▁নামে ▁দীর্ঘ সূত্র তা ▁করা ▁যাবে ▁না । ▁প্রত্যেকে ▁মনে ▁করবে , ▁এ ▁ধরনের ▁ঘটনা ▁ঘটানো ▁যায় ▁না । ▁সেই ▁সঙ্গে ▁পাড়া - মহা ল্লা য় ▁সামাজিক ▁আন্দোলন ▁গড়ে ▁তোলার ও ▁আহ্বান ▁জানান ▁তিনি ।,▁x x bo s ▁চীনা ▁ পররাষ্ট্রমন্ত্রী ▁ওয়াং ▁ই ▁১১ - ১৩ ▁আগস্ট ▁ভারত ▁সফর ▁করলেন । ▁সফরটি ▁ইঙ্গিত বাহী । ▁সামনে ▁দুটি ▁বহু পক্ষীয় ▁সম্মেলন ▁হতে ▁যাচ্ছে । ▁সেপ্টেম্বরে ▁চীনে ▁জি - ২০ ▁সম্মেলন ▁আর ▁নভেম্বরে ▁ভারতে ▁ব্রিক স ▁সম্মেলন ▁হতে ▁যাচ্ছে । ▁আসলে ▁দুটি ▁দেশই ▁চায় ▁না ▁এই ▁সম্মেলন ▁দুটিতে ▁তাদের ▁দ্বিপক্ষীয় ▁সম্পর্কের ▁ছায়া ▁পড় ুক । ▁সে ▁কারণে ▁দেশ ▁দুটি কে ▁অন্তত ▁নিজেদের ▁পারস্পরিক ▁ভিন্নতা ▁দূর ▁করে ▁সম্মেলন ▁উপলক্ষে ▁ইতিবাচক ▁পরিবেশ ▁তৈরি ▁করতে ▁হবে , ▁যেখানে ▁আয়োজক ▁দেশ ▁হিসেবে ▁তাদের ▁হি স্যা ▁আছে । ▁তবে ▁ওয়াং য়ের ▁সফর ▁থেকে ▁সে ▁সফলতা ▁অর্জিত ▁হয়েছে ▁বলে ▁মনে ▁হয় ▁না । নিউক্লিয় ার ▁সা প্লা য়ার্স ▁গ্রুপে ▁চীন ▁ভারতের ▁সদস্যপদ ▁পাওয়ার ▁বিরোধিতা ▁করেছিল , ▁ফলে ▁এ ▁নিয়ে ▁তিক্ততা ও ▁সৃষ্টি ▁হয় । ▁তখন ▁তারা ▁রাজি ▁হয়েছিল ▁যে ▁ভারতের ▁নিরস্ত্রীকরণ ▁ও ▁আন্তর্জাতিক ▁নিরাপত্তা বিষয়ক ▁যুগ্ম ▁সচিব ▁ও ▁চীনের ▁ডিরেক্টর ▁জেনারেল ▁অব ▁আর্মস ▁কন্ট্রোল ▁অ্যান্ড ▁ডিস আর্ম া মেন্ট - এর ▁মধ্যে ▁এ ▁নিয়ে ▁নিবিড় ▁আলোচনা ▁হবে । ▁লোকে ▁ধারণা ▁করে , ▁জাতিসংঘে ▁জয় শ – ই – মোহাম্মদ ের ▁নেতা ▁মাসুদ ▁আজহার কে ▁সন্ত্রাসী ▁হিসেবে ▁তালিকাভুক্ত ▁করা ▁ও ▁ওয়ান ▁বেল্ট ▁ওয়ান ▁রোডের ▁নামে ▁চীন ▁পাকিস্তান ▁অধিকৃত ▁কাশ্মীরে ▁যা ▁করছে , ▁তা - ও ▁এই ▁আলোচনার ▁সূচিত ে ▁থাকবে । ▁এ ▁ছাড়া ▁দ্বিপক্ষীয় ▁স্বার্থ সংশ্লিষ্ট ▁অন্যান্য ▁বিষয়ে ▁আলোচনার ▁জন্য ▁ভারতের ▁পররাষ্ট্র সচিব ▁ও ▁চীনা ▁সহকারী ▁ পররাষ্ট্রমন্ত্রী ▁ঝ ্যাং ▁ইয়ে সুই ▁বসবে ন , ▁এ ▁মর্মে ও ▁একটি ▁প্রক্রিয়া ▁চালু ▁করা ▁হয়েছে । ▁এটা ▁পররাষ্ট্র সচিব ▁পর্যায়ের ▁কৌশলগত ▁আলোচনার ▁বাইরে ▁অনুষ্ঠিত ▁হবে । ▁এমনকি ▁দুই ▁দেশের ▁বিশেষ ▁প্রতিনিধিদের ▁আলোচনা ও ▁আলাদাভাবে ▁চলবে , ▁যেটা ▁সীমান্ত বিষয়ক ▁আলোচনা ▁ছাড়া ▁এখন ▁পর্যন্ত ▁আর ▁কিছু ▁করতে ▁পারেনি । মনে ▁হয় ▁না , ▁এসব ▁বকেয়া ▁বিষয়ে ▁চীন ▁নিজের ▁অবস্থান ▁পরিবর্তন ▁করবে । ▁কিন্তু ▁এই ▁প্রস্তাবিত ▁আলোচনা ▁সম্মেলন ▁উপলক্ষে ▁অনুকূল ▁পরিবেশ ▁সৃষ্টি ▁করবে । ▁এসব ▁আলোচনায় ▁যেহেতু ▁বিতর্কিত ▁বিষয় ▁থাকে , ▁সে ▁কারণে ▁নেতাদের ▁সাধারণ ▁বিষয় ▁ছাড়া ▁অন্য ▁কিছু ▁নিয়ে ▁আলোচনা ▁করতে ▁হয় ▁না । ▁অন্তত ▁চীনারা ▁এটা ▁প্রত্যাশা ▁করবে । ▁চীনারা ▁চায় ▁সম্মেলনে ▁নেতারা ▁পূর্ব পরিকল্পনা মাফিক ▁আলোচনা ▁করবেন , ▁যেখানে ▁তাঁরা ▁অপ্রীতিকর ▁বিষয়ে ▁কথা ▁বলবেন ▁না । ▁কিন্তু ▁গত ▁বছর ▁উ ফা য় ▁এবং ▁এ ▁বছর ▁তাস খন্দ ে ▁ব্যাপারটা ▁এমন ▁ছিল ▁না । ▁তাই ▁ওয়াং ▁এমনটা ▁চাইবে ন ▁যে ▁আসন্ন ▁সম্মেলন ▁যেন ▁তাঁর ▁নেতার ▁জন্য ▁অস্বস্তিকর ▁না ▁হয় । এশিয়া - প্যাসিফিক ▁অঞ্চলে ▁চীন ▁খুব ▁জটিল ▁রাজনৈতিক ▁ও ▁নিরাপত্তা জনিত ▁পরিস্থিতির ▁সম্মুখীন ▁হয়েছে । ▁চীন ▁দক্ষিণ ▁চীন ▁সাগরের ▁ওপর ▁যে ▁দাবি ▁করেছিল , ▁তা ▁খারিজ ▁হয়ে ▁যাওয়ায় ▁বেইজিং ▁বড় ▁ধরনের ▁ধাক্কা ▁খেয়ে ছে । ▁আসিয়ান ের ▁সঙ্গেও ▁তার ▁সম্পর্ক ▁এ ▁যাবৎ কালের ▁মধ্যে ▁সবচেয়ে ▁উত্তেজনাপূর্ণ । ▁তাদের ▁কাটা ▁ঘা য়ে ▁নুন ের ▁ছিট া ▁দিয়েছে ▁যুক্তরাষ্ট্র , ▁তারা ▁দক্ষিণ ▁কোরিয়ায় ▁থার্ড ▁অ্যান্টি ▁মিসাইল ▁প্রতিরক্ষা ব্যবস্থা ▁স্থাপন ▁করেছে । ▁অথচ ▁চীন ▁অনেক ▁দিন ▁ধরে ▁নিষ্ঠা র ▁সঙ্গে ▁দক্ষিণ ▁কোরিয়ার ▁সঙ্গে ▁ঘনিষ্ঠ ▁রাজনৈতিক , ▁অর্থনৈতিক , ▁বাণিজ্যিক ▁ও ▁সাংস্কৃতিক ▁সম্পর্ক ▁রক্ষা ▁করে ▁চলেছে ▁( কোর ীয় ▁পপ সংগীত ▁চীনে ▁খুবই ▁জনপ্রিয় ) । এ ▁অঞ্চলে ▁জাপান ▁ও ▁যুক্তরাষ্ট্র ▁চীনের ▁জন্য ▁সবচেয়ে ▁বড় ▁নিরাপত্তা জনিত ▁হুমকি ▁হওয়া ▁সত্ত্বেও ▁চীনের ▁জন্য ▁নতুন ▁ও ▁প্রতিকূল ▁পরিস্থিতি ▁সৃষ্টি ▁হয়ে ই ▁যাচ্ছে । ▁এ ▁পরিপ্রেক্ষিতে ▁চীন ▁ভারতের ▁সঙ্গে ▁তার ▁পশ্চিম ▁সীমান্ত ▁আপেক্ষিক ভাবে ▁স্থিতিশীল ▁ও ▁ঝুঁকি হীন ▁রাখতে ▁চায় । ▁এ ▁কারণেই ▁চীনের ▁সরকারি ▁গণমাধ্যম ▁এ ▁কথা ▁বলেই ▁যাচ্ছে ▁যে ▁চীন ▁ও ▁ভারতের ▁মধ্যে ▁স্বার্থের ▁সংঘাত ▁নেই । ▁অনৈক্য ের ▁চেয়ে ▁তাদের ▁মধ্যে ▁ঐক্য ের ▁জায়গা ই ▁বেশি । আবার ▁এ ▁আশঙ্কা ও ▁আছে ▁যে ▁ভারত ▁যুক্তরাষ্ট্রের ▁ঘনিষ্ঠ ▁হয়ে ▁নিরাপত্তা বলয় ে ▁ঢু ক বে , ▁যেটা ▁দক্ষিণ ▁চীন ▁সাগরে ▁চীনকে ▁সরাসরি ▁চ্যালেঞ্জ ▁জানা বে । ▁বেইজিং ▁ভারতকে ▁সতর্ক ▁করে ▁দিয়েছে , ▁তারা ▁যেন ▁দক্ষিণ ▁চীন ▁সাগরের ▁ব্যাপারে ▁‘ জ ড়িয়ে ’ ▁না ▁পড়ে । ▁আবার ▁এ ▁আশা ও ▁করা ▁যায় , ▁ভারত ▁তার ▁ঘোষিত ▁কৌশলগত ▁স্বাতন্ত্র্য ▁বজায় ▁রাখবে । ▁দেখা ▁গেছে , ▁দক্ষিণ ▁চীন ▁সাগর সংক্রান্ত ▁রায় ▁যখন ▁চীনের ▁বিপক্ষে ▁গেল , ▁তখন ▁ভারত ▁তেমন ▁একটা ▁উচ্ছ্বাস ▁দেখায় নি । ▁জানা ▁গেছে , ▁ওয়াং ▁দিল্লিতে ▁দক্ষিণ ▁চীন ▁সাগরের ▁বিষয়টি ▁তোলেন নি । ▁মনে ▁হচ্ছে , ▁চীন ▁চায় ▁ভারত ▁এ ▁ব্যাপারে ▁বেশি ▁মাথা ▁না ▁ঘা মাক । ▁চীন ▁ধারণা ▁করছে , ▁আসন্ন ▁জি - ২০ ▁সম্মেলনে ▁জাপান সহ ▁যুক্তরাষ্ট্র ▁ও ▁তার ▁পশ্চিমা ▁মিত্র রা ▁জি - ২০ ▁সম্মেলনে ▁দক্ষিণ ▁চীন ▁সাগরের ▁বিষয়টি ▁তুলে ▁চীনকে ▁লজ্জা য় ▁ফেলে ▁দেবে । ▁এ ▁ক্ষেত্রে ▁ভারতের ▁ভূমিকা ▁বেশ ▁গুরুত্বপূর্ণ । ▁ফলে ▁তারা ▁কৌশলগত ▁সুবিধা ▁পেয়ে ▁যাচ্ছে । ▁সে ▁কারণেই ▁হয়তো ▁ওয়াং ▁ভারত ▁সফর ▁করলেন । ▁কিন্তু ▁চীন ▁শি গ গির ই ▁এ ▁ব্যাপারে ▁তাদের ▁অবস্থানে ▁বড় ▁পরিবর্তন ▁আনবে ▁বলে ▁মনে ▁হয় ▁না । কথা ▁হচ্ছে , ▁চীনের ▁সঙ্গে ▁সম্পর্কের ▁ক্ষেত্রে ▁ভারতকে ▁অনেক ▁সতর্ক ▁হতে ▁হবে । ▁কারণ , ▁দেশ ▁দুটির ▁মধ্যকার ▁পার্থক্য ▁দিন কে ▁দিন ▁শুধু ▁বাড়ছে ই । ▁চীনের ▁অর্থনীতির ▁প্রবৃদ্ধি র ▁হার ▁অনেক ▁ধীরগতির ▁হলেও ▁সেটা ▁ভারতের ▁অর্থনীতির ▁চেয়ে ▁পাঁচ ▁গুণ ▁বড় । ▁ফলে ▁চীনকে ▁ধরতে ▁হলে ▁ভারতকে ▁একটানা ▁অনেক ▁দিন ▁উচ্চ হার ের ▁প্রবৃদ্ধি ▁বজায় ▁রাখতে ▁হবে । ▁ক্ষমতার ▁এই ▁অসমতা কে ▁সামাল ▁দেওয়ার ▁একটি ▁পথ ▁হলো , ▁ভারতকে ▁সক্ষমতা ▁গড়ে ▁তুলে ▁তা ▁দেখাতে ▁হবে , ▁যাতে ▁চীন ▁সামরিক ভাবে ▁আগ্রাসী ▁জায়গায় ▁যাওয়ার ▁আগে ▁একবার ▁হলেও ▁চিন্তা ▁করে । ▁দ্বিতীয় ▁পন্থা টি ▁হলো , ▁ভারতকে ▁মার্কিন ▁নেতৃত্বাধীন ▁চীন বিরোধী ▁জোটে ▁ঢুকতে ▁হবে । ▁এই ▁অবস্থান ▁নিয়ে ▁ভারতের ▁স্বাধীন ▁সত্তা ▁থাকবে ▁না ▁তা ▁ঠিক , ▁কিন্তু ▁এটা ▁করলে ▁সে ▁তর তর ▁করে ▁এগিয়ে ▁যেতে ▁পারবে । এই ▁ক্রমবর্ধমান ▁অসমতা র ▁পরিপ্রেক্ষিতে ▁ভারত ▁খুব ▁ভালো ▁জায়গায় ▁নেই । ▁সে ▁নাজুক । ▁আর ▁চীন ▁ও ▁পাকিস্তান ▁যদি ▁একত্রে ▁কিছু ▁করে , ▁তাহলে ▁পরিস্থিতি ▁আরও ▁নাজুক ▁হয়ে ▁পড়বে । ▁১৯৬২ ▁সালের ▁পর ▁ভারত - পাকিস্তান ▁যুদ্ধে ▁চীন ▁পাকিস্তানকে ▁সমর্থন ▁দিলেও ▁ভারতে ▁সরাসরি ▁হামলা ▁করেনি । ▁তাদের ▁এই ▁অবস্থান ▁সতর্কতা র ▁সঙ্গে ▁পর্যবেক্ষণ ▁করতে ▁হবে । ▁ও দিকে ▁ভারত ▁যদি ▁বেলুচিস্তান ে , ▁যেখানে ▁চীন ▁বিপুল ▁বিনিয়োগ ▁করে ▁ওয়ান ▁বেল্ট ▁ওয়ান ▁রোডের ▁অংশ ▁হিসেবে ▁গাদা র ▁বন্দর ▁নির্মাণ ▁করছে , ▁পাকিস্তান বিরোধী ▁জঙ্গি দের ▁উস কে ▁দেয় , ▁তাহলে ▁পরিস্থিতি ▁কী ▁দাঁড়াবে ▁তা ▁সহজেই ▁অনুমেয় । এ ▁অবস্থায় ▁ভারত - চীন ▁সম্পর্ক ▁জটিল তর ▁হয়ে ▁উঠছে । ▁গত ▁কয়েক ▁বছরে ▁দুই ▁দেশের ▁নেতারা ই ▁বৈরিতা ▁সত্ত্বেও ▁চীন - ভারত ▁সম্পর্ককে ▁পারস্পরিক ভাবে ▁সুবিধাজনক ▁অবস্থায় ▁রাখার ▁চেষ্টা ▁করেছেন । ▁ফলে ▁ভারসাম্য ▁বজায় ▁রাখতে ▁হবে , ▁যেটা ▁আসলে ▁সবচেয়ে ▁কঠিন ▁কাজ । ▁অনুবাদ : ▁প্রতীক ▁বর্ধন , ▁দ্য ▁হিন্দু ▁থেকে ▁নেওয়া । শ্যাম ▁শরণ : ▁ভারতের ▁সাবেক ▁পররাষ্ট্র সচিব ।\n",
       "y: LMLabelList\n",
       ",,,,\n",
       "Path: /content/data;\n",
       "\n",
       "Test: None, model=SequentialRNN(\n",
       "  (0): AWD_LSTM(\n",
       "    (encoder): Embedding(50000, 400, padding_idx=1)\n",
       "    (encoder_dp): EmbeddingDropout(\n",
       "      (emb): Embedding(50000, 400, padding_idx=1)\n",
       "    )\n",
       "    (rnns): ModuleList(\n",
       "      (0): WeightDropout(\n",
       "        (module): LSTM(400, 1152, batch_first=True)\n",
       "      )\n",
       "      (1): WeightDropout(\n",
       "        (module): LSTM(1152, 1152, batch_first=True)\n",
       "      )\n",
       "      (2): WeightDropout(\n",
       "        (module): LSTM(1152, 400, batch_first=True)\n",
       "      )\n",
       "    )\n",
       "    (input_dp): RNNDropout()\n",
       "    (hidden_dps): ModuleList(\n",
       "      (0): RNNDropout()\n",
       "      (1): RNNDropout()\n",
       "      (2): RNNDropout()\n",
       "    )\n",
       "  )\n",
       "  (1): LinearDecoder(\n",
       "    (decoder): Linear(in_features=400, out_features=50000, bias=True)\n",
       "    (output_dp): RNNDropout()\n",
       "  )\n",
       "), opt_func=functools.partial(<class 'torch.optim.adam.Adam'>, betas=(0.9, 0.99)), loss_func=FlattenedLoss of CrossEntropyLoss(), metrics=[<function accuracy at 0x7f5d13d45950>], true_wd=True, bn_wd=True, wd=0.01, train_bn=True, path=PosixPath('/content/data'), model_dir='models', callback_fns=[functools.partial(<class 'fastai.basic_train.Recorder'>, add_time=True, silent=False)], callbacks=[...], layer_groups=[Sequential(\n",
       "  (0): WeightDropout(\n",
       "    (module): LSTM(400, 1152, batch_first=True)\n",
       "  )\n",
       "  (1): RNNDropout()\n",
       "), Sequential(\n",
       "  (0): WeightDropout(\n",
       "    (module): LSTM(1152, 1152, batch_first=True)\n",
       "  )\n",
       "  (1): RNNDropout()\n",
       "), Sequential(\n",
       "  (0): WeightDropout(\n",
       "    (module): LSTM(1152, 400, batch_first=True)\n",
       "  )\n",
       "  (1): RNNDropout()\n",
       "), Sequential(\n",
       "  (0): Embedding(50000, 400, padding_idx=1)\n",
       "  (1): EmbeddingDropout(\n",
       "    (emb): Embedding(50000, 400, padding_idx=1)\n",
       "  )\n",
       "  (2): LinearDecoder(\n",
       "    (decoder): Linear(in_features=400, out_features=50000, bias=True)\n",
       "    (output_dp): RNNDropout()\n",
       "  )\n",
       ")], add_time=True, silent=False)\n",
       "alpha: 2.0\n",
       "beta: 1.0], layer_groups=[Sequential(\n",
       "  (0): WeightDropout(\n",
       "    (module): LSTM(400, 1152, batch_first=True)\n",
       "  )\n",
       "  (1): RNNDropout()\n",
       "), Sequential(\n",
       "  (0): WeightDropout(\n",
       "    (module): LSTM(1152, 1152, batch_first=True)\n",
       "  )\n",
       "  (1): RNNDropout()\n",
       "), Sequential(\n",
       "  (0): WeightDropout(\n",
       "    (module): LSTM(1152, 400, batch_first=True)\n",
       "  )\n",
       "  (1): RNNDropout()\n",
       "), Sequential(\n",
       "  (0): Embedding(50000, 400, padding_idx=1)\n",
       "  (1): EmbeddingDropout(\n",
       "    (emb): Embedding(50000, 400, padding_idx=1)\n",
       "  )\n",
       "  (2): LinearDecoder(\n",
       "    (decoder): Linear(in_features=400, out_features=50000, bias=True)\n",
       "    (output_dp): RNNDropout()\n",
       "  )\n",
       ")], add_time=True, silent=False)"
      ]
     },
     "execution_count": 63,
     "metadata": {
      "tags": []
     },
     "output_type": "execute_result"
    }
   ],
   "source": [
    "learn.load('second_bn_lm', with_opt=True)"
   ]
  },
  {
   "cell_type": "code",
   "execution_count": 0,
   "metadata": {
    "colab": {},
    "colab_type": "code",
    "id": "-lxymaHB39Or"
   },
   "outputs": [],
   "source": [
    "TEXT = \"বাংলাদেশের জনসংখ্যা\"\n",
    "N_WORDS = 40\n",
    "N_SENTENCES = 2"
   ]
  },
  {
   "cell_type": "code",
   "execution_count": 67,
   "metadata": {
    "colab": {
     "base_uri": "https://localhost:8080/",
     "height": 73
    },
    "colab_type": "code",
    "id": "vJpHUCvU3-OT",
    "outputId": "3c4f632b-24a7-476e-93f1-019a46166913"
   },
   "outputs": [
    {
     "name": "stdout",
     "output_type": "stream",
     "text": [
      "বাংলাদেশের জনসংখ্যা ▁বৃদ্ধি ▁আর ▁দারিদ্র্য সীমা র ▁কাছাকাছি ▁যাওয়া — এই ▁দুটি ▁ফর্মুলা র ▁মধ্যে ▁প্রকৃত ▁ভিন্নতা ▁হলো : ▁কৃষি , ▁বন্যা , ▁আবহাওয়া ▁এবং ▁ভবন ▁ও ▁চান্দ্র ▁মূল্যবান ▁জনগোষ্ঠীর ▁সঠিক ▁তথ্য বণ্টন ের ▁ধরন । ▁এই ▁সাফল্যের ▁জন্য ▁বাংলাদেশ ▁ও ▁ভারতের\n",
      "বাংলাদেশের জনসংখ্যা ▁( খুলনা র ▁তুলনায় ) ▁বেশি । ▁এই ▁জনসংখ্যার ▁ঘনত্ব ▁প্রতিনিয়ত ▁বেড়ে ▁আসছে । ▁জলবায়ু ▁পরিবর্তনের ▁প্রভাবে ▁বিভিন্ন ▁দেশে ▁প্রতিবছর ▁গড়ে ▁যা ▁আসে ▁তা ▁থেকে ▁বিশ্বের ▁অনেক ▁মানুষের ▁ক্ষতির ▁পরিমাণ ▁অত্যন্ত ▁কম । ▁বাংলাদেশে ▁এখনো ▁দেশের ▁মানুষের ▁সংখ্যা ▁প্রায় ▁১০\n"
     ]
    }
   ],
   "source": [
    "print(\"\\n\".join(learn.predict(TEXT, N_WORDS, temperature=0.9) for _ in range(N_SENTENCES)))"
   ]
  },
  {
   "cell_type": "code",
   "execution_count": 68,
   "metadata": {
    "colab": {
     "base_uri": "https://localhost:8080/",
     "height": 35
    },
    "colab_type": "code",
    "id": "7WbofoUm4DzZ",
    "outputId": "5857d1e5-be2e-45f9-c362-81dc21bb2af9"
   },
   "outputs": [
    {
     "data": {
      "text/plain": [
       "22.799577384019802"
      ]
     },
     "execution_count": 68,
     "metadata": {
      "tags": []
     },
     "output_type": "execute_result"
    }
   ],
   "source": [
    "np.exp(3.126742\t)"
   ]
  },
  {
   "cell_type": "code",
   "execution_count": 0,
   "metadata": {
    "colab": {},
    "colab_type": "code",
    "id": "N04VZw714j2k"
   },
   "outputs": [],
   "source": [
    "defaults.device = torch.device('cpu')\n",
    "learn.model.eval()\n",
    "learn.export()"
   ]
  },
  {
   "cell_type": "code",
   "execution_count": 0,
   "metadata": {
    "colab": {},
    "colab_type": "code",
    "id": "fzQmmlqh4mcQ"
   },
   "outputs": [],
   "source": [
    "\n",
    "defaults.device = torch.device('cpu')"
   ]
  },
  {
   "cell_type": "code",
   "execution_count": 71,
   "metadata": {
    "colab": {
     "base_uri": "https://localhost:8080/",
     "height": 17
    },
    "colab_type": "code",
    "id": "OFG-JSr64p5Q",
    "outputId": "ee62522c-c2fc-4b5a-fe4e-040d73f60550"
   },
   "outputs": [
    {
     "data": {
      "text/html": [],
      "text/plain": [
       "<IPython.core.display.HTML object>"
      ]
     },
     "metadata": {
      "tags": []
     },
     "output_type": "display_data"
    },
    {
     "data": {
      "text/html": [],
      "text/plain": [
       "<IPython.core.display.HTML object>"
      ]
     },
     "metadata": {
      "tags": []
     },
     "output_type": "display_data"
    }
   ],
   "source": [
    "learn = load_learner('data')"
   ]
  },
  {
   "cell_type": "code",
   "execution_count": 0,
   "metadata": {
    "colab": {},
    "colab_type": "code",
    "id": "YDvVPCvg4uCZ"
   },
   "outputs": [],
   "source": [
    "encoder = get_model(learn.model)[0]"
   ]
  },
  {
   "cell_type": "code",
   "execution_count": 73,
   "metadata": {
    "colab": {
     "base_uri": "https://localhost:8080/",
     "height": 35
    },
    "colab_type": "code",
    "id": "aaZxGPYq4wWx",
    "outputId": "684228e6-7816-47ca-e647-94b15c892123"
   },
   "outputs": [
    {
     "data": {
      "text/plain": [
       "torch.Size([50000, 400])"
      ]
     },
     "execution_count": 73,
     "metadata": {
      "tags": []
     },
     "output_type": "execute_result"
    }
   ],
   "source": [
    "encoder.state_dict()['encoder.weight'].shape"
   ]
  },
  {
   "cell_type": "code",
   "execution_count": 0,
   "metadata": {
    "colab": {},
    "colab_type": "code",
    "id": "PmLP9Cj24zp_"
   },
   "outputs": [],
   "source": [
    "embeddings = encoder.state_dict()['encoder.weight']"
   ]
  },
  {
   "cell_type": "code",
   "execution_count": 0,
   "metadata": {
    "colab": {},
    "colab_type": "code",
    "id": "NJHKxUN442WQ"
   },
   "outputs": [],
   "source": [
    "embeddings = np.array(embeddings)"
   ]
  },
  {
   "cell_type": "code",
   "execution_count": 76,
   "metadata": {
    "colab": {
     "base_uri": "https://localhost:8080/",
     "height": 35
    },
    "colab_type": "code",
    "id": "TiqsigpQ44h3",
    "outputId": "deeab33c-d059-4b65-b8f7-4f9a657283f6"
   },
   "outputs": [
    {
     "data": {
      "text/plain": [
       "(400,)"
      ]
     },
     "execution_count": 76,
     "metadata": {
      "tags": []
     },
     "output_type": "execute_result"
    }
   ],
   "source": [
    "embeddings[0].shape"
   ]
  },
  {
   "cell_type": "code",
   "execution_count": 0,
   "metadata": {
    "colab": {},
    "colab_type": "code",
    "id": "p6BtMO1D46zR"
   },
   "outputs": [],
   "source": [
    "df = pd.DataFrame(embeddings)"
   ]
  },
  {
   "cell_type": "code",
   "execution_count": 78,
   "metadata": {
    "colab": {
     "base_uri": "https://localhost:8080/",
     "height": 35
    },
    "colab_type": "code",
    "id": "PHQLFXRC4-fv",
    "outputId": "11cf33f8-2b64-430e-9b42-cc5e9fc9033e"
   },
   "outputs": [
    {
     "data": {
      "text/plain": [
       "(50000, 400)"
      ]
     },
     "execution_count": 78,
     "metadata": {
      "tags": []
     },
     "output_type": "execute_result"
    }
   ],
   "source": [
    "df.shape"
   ]
  },
  {
   "cell_type": "code",
   "execution_count": 0,
   "metadata": {
    "colab": {},
    "colab_type": "code",
    "id": "nMUXoi6Y5AlG"
   },
   "outputs": [],
   "source": [
    "df.to_csv('embeddings.tsv', sep='\\t', index=False, header=False)"
   ]
  },
  {
   "cell_type": "code",
   "execution_count": 80,
   "metadata": {
    "colab": {
     "base_uri": "https://localhost:8080/",
     "height": 253
    },
    "colab_type": "code",
    "id": "ABDopL8X5DVv",
    "outputId": "a1ef7cf0-0e23-438c-929b-19f6c48aee7e"
   },
   "outputs": [
    {
     "data": {
      "text/html": [
       "<div>\n",
       "<style scoped>\n",
       "    .dataframe tbody tr th:only-of-type {\n",
       "        vertical-align: middle;\n",
       "    }\n",
       "\n",
       "    .dataframe tbody tr th {\n",
       "        vertical-align: top;\n",
       "    }\n",
       "\n",
       "    .dataframe thead th {\n",
       "        text-align: right;\n",
       "    }\n",
       "</style>\n",
       "<table border=\"1\" class=\"dataframe\">\n",
       "  <thead>\n",
       "    <tr style=\"text-align: right;\">\n",
       "      <th></th>\n",
       "      <th>0</th>\n",
       "      <th>1</th>\n",
       "      <th>2</th>\n",
       "      <th>3</th>\n",
       "      <th>4</th>\n",
       "      <th>5</th>\n",
       "      <th>6</th>\n",
       "      <th>7</th>\n",
       "      <th>8</th>\n",
       "      <th>9</th>\n",
       "      <th>10</th>\n",
       "      <th>11</th>\n",
       "      <th>12</th>\n",
       "      <th>13</th>\n",
       "      <th>14</th>\n",
       "      <th>15</th>\n",
       "      <th>16</th>\n",
       "      <th>17</th>\n",
       "      <th>18</th>\n",
       "      <th>19</th>\n",
       "      <th>20</th>\n",
       "      <th>21</th>\n",
       "      <th>22</th>\n",
       "      <th>23</th>\n",
       "      <th>24</th>\n",
       "      <th>25</th>\n",
       "      <th>26</th>\n",
       "      <th>27</th>\n",
       "      <th>28</th>\n",
       "      <th>29</th>\n",
       "      <th>30</th>\n",
       "      <th>31</th>\n",
       "      <th>32</th>\n",
       "      <th>33</th>\n",
       "      <th>34</th>\n",
       "      <th>35</th>\n",
       "      <th>36</th>\n",
       "      <th>37</th>\n",
       "      <th>38</th>\n",
       "      <th>39</th>\n",
       "      <th>...</th>\n",
       "      <th>360</th>\n",
       "      <th>361</th>\n",
       "      <th>362</th>\n",
       "      <th>363</th>\n",
       "      <th>364</th>\n",
       "      <th>365</th>\n",
       "      <th>366</th>\n",
       "      <th>367</th>\n",
       "      <th>368</th>\n",
       "      <th>369</th>\n",
       "      <th>370</th>\n",
       "      <th>371</th>\n",
       "      <th>372</th>\n",
       "      <th>373</th>\n",
       "      <th>374</th>\n",
       "      <th>375</th>\n",
       "      <th>376</th>\n",
       "      <th>377</th>\n",
       "      <th>378</th>\n",
       "      <th>379</th>\n",
       "      <th>380</th>\n",
       "      <th>381</th>\n",
       "      <th>382</th>\n",
       "      <th>383</th>\n",
       "      <th>384</th>\n",
       "      <th>385</th>\n",
       "      <th>386</th>\n",
       "      <th>387</th>\n",
       "      <th>388</th>\n",
       "      <th>389</th>\n",
       "      <th>390</th>\n",
       "      <th>391</th>\n",
       "      <th>392</th>\n",
       "      <th>393</th>\n",
       "      <th>394</th>\n",
       "      <th>395</th>\n",
       "      <th>396</th>\n",
       "      <th>397</th>\n",
       "      <th>398</th>\n",
       "      <th>399</th>\n",
       "    </tr>\n",
       "  </thead>\n",
       "  <tbody>\n",
       "    <tr>\n",
       "      <th>0</th>\n",
       "      <td>1.014378</td>\n",
       "      <td>-0.507453</td>\n",
       "      <td>0.395279</td>\n",
       "      <td>0.057478</td>\n",
       "      <td>0.187083</td>\n",
       "      <td>0.151484</td>\n",
       "      <td>-0.322145</td>\n",
       "      <td>-0.468775</td>\n",
       "      <td>-0.392709</td>\n",
       "      <td>0.305681</td>\n",
       "      <td>0.262662</td>\n",
       "      <td>-0.355277</td>\n",
       "      <td>0.282639</td>\n",
       "      <td>0.479449</td>\n",
       "      <td>-0.862380</td>\n",
       "      <td>0.744077</td>\n",
       "      <td>-0.111243</td>\n",
       "      <td>-1.324518</td>\n",
       "      <td>0.237140</td>\n",
       "      <td>-0.510347</td>\n",
       "      <td>-0.257558</td>\n",
       "      <td>-0.181946</td>\n",
       "      <td>-0.735701</td>\n",
       "      <td>-0.554290</td>\n",
       "      <td>0.040073</td>\n",
       "      <td>0.698730</td>\n",
       "      <td>-1.161777</td>\n",
       "      <td>-0.470544</td>\n",
       "      <td>1.114990</td>\n",
       "      <td>0.428326</td>\n",
       "      <td>0.014344</td>\n",
       "      <td>0.404210</td>\n",
       "      <td>-0.622198</td>\n",
       "      <td>0.491159</td>\n",
       "      <td>0.026169</td>\n",
       "      <td>-0.909837</td>\n",
       "      <td>2.114542</td>\n",
       "      <td>-0.311683</td>\n",
       "      <td>0.108476</td>\n",
       "      <td>0.436549</td>\n",
       "      <td>...</td>\n",
       "      <td>0.736650</td>\n",
       "      <td>-0.140620</td>\n",
       "      <td>0.954127</td>\n",
       "      <td>0.232911</td>\n",
       "      <td>-0.781569</td>\n",
       "      <td>-0.041301</td>\n",
       "      <td>1.222618</td>\n",
       "      <td>-0.283340</td>\n",
       "      <td>-0.971192</td>\n",
       "      <td>-0.119232</td>\n",
       "      <td>0.862086</td>\n",
       "      <td>0.050156</td>\n",
       "      <td>-0.114696</td>\n",
       "      <td>0.572889</td>\n",
       "      <td>0.159810</td>\n",
       "      <td>0.181163</td>\n",
       "      <td>-0.405324</td>\n",
       "      <td>0.540570</td>\n",
       "      <td>-0.172956</td>\n",
       "      <td>-0.348418</td>\n",
       "      <td>0.474907</td>\n",
       "      <td>-0.527146</td>\n",
       "      <td>0.544209</td>\n",
       "      <td>-0.377350</td>\n",
       "      <td>0.126200</td>\n",
       "      <td>-0.515970</td>\n",
       "      <td>-0.475962</td>\n",
       "      <td>0.096846</td>\n",
       "      <td>0.394905</td>\n",
       "      <td>0.357438</td>\n",
       "      <td>-0.243540</td>\n",
       "      <td>0.258253</td>\n",
       "      <td>-0.178341</td>\n",
       "      <td>-0.446201</td>\n",
       "      <td>0.800499</td>\n",
       "      <td>0.227824</td>\n",
       "      <td>-0.083175</td>\n",
       "      <td>-0.352019</td>\n",
       "      <td>-0.537328</td>\n",
       "      <td>-0.029060</td>\n",
       "    </tr>\n",
       "    <tr>\n",
       "      <th>1</th>\n",
       "      <td>0.469901</td>\n",
       "      <td>-0.219806</td>\n",
       "      <td>-0.007079</td>\n",
       "      <td>0.448914</td>\n",
       "      <td>0.173913</td>\n",
       "      <td>-0.125158</td>\n",
       "      <td>0.026754</td>\n",
       "      <td>0.051514</td>\n",
       "      <td>0.136319</td>\n",
       "      <td>0.262012</td>\n",
       "      <td>0.127538</td>\n",
       "      <td>0.011627</td>\n",
       "      <td>0.123177</td>\n",
       "      <td>0.051878</td>\n",
       "      <td>-0.187716</td>\n",
       "      <td>0.173332</td>\n",
       "      <td>0.172667</td>\n",
       "      <td>-0.327061</td>\n",
       "      <td>0.070403</td>\n",
       "      <td>-0.111842</td>\n",
       "      <td>-0.164161</td>\n",
       "      <td>-0.098249</td>\n",
       "      <td>-0.237714</td>\n",
       "      <td>-0.030646</td>\n",
       "      <td>0.025436</td>\n",
       "      <td>0.200114</td>\n",
       "      <td>-0.215285</td>\n",
       "      <td>-0.043759</td>\n",
       "      <td>0.375760</td>\n",
       "      <td>0.125831</td>\n",
       "      <td>0.158534</td>\n",
       "      <td>0.175372</td>\n",
       "      <td>-0.481860</td>\n",
       "      <td>0.048837</td>\n",
       "      <td>0.007732</td>\n",
       "      <td>0.159285</td>\n",
       "      <td>0.297544</td>\n",
       "      <td>-0.137214</td>\n",
       "      <td>0.006798</td>\n",
       "      <td>-0.048566</td>\n",
       "      <td>...</td>\n",
       "      <td>0.214550</td>\n",
       "      <td>-0.010087</td>\n",
       "      <td>0.232930</td>\n",
       "      <td>-0.019566</td>\n",
       "      <td>-0.008371</td>\n",
       "      <td>0.221142</td>\n",
       "      <td>0.122264</td>\n",
       "      <td>0.028108</td>\n",
       "      <td>-0.216420</td>\n",
       "      <td>-0.034685</td>\n",
       "      <td>0.291394</td>\n",
       "      <td>-0.000891</td>\n",
       "      <td>-0.001637</td>\n",
       "      <td>-0.133768</td>\n",
       "      <td>0.336851</td>\n",
       "      <td>-0.016954</td>\n",
       "      <td>0.053621</td>\n",
       "      <td>0.184326</td>\n",
       "      <td>0.084466</td>\n",
       "      <td>-0.066331</td>\n",
       "      <td>0.128876</td>\n",
       "      <td>-0.234284</td>\n",
       "      <td>0.156464</td>\n",
       "      <td>-0.054325</td>\n",
       "      <td>-0.095193</td>\n",
       "      <td>-0.071329</td>\n",
       "      <td>0.126469</td>\n",
       "      <td>0.035335</td>\n",
       "      <td>0.010332</td>\n",
       "      <td>0.116241</td>\n",
       "      <td>-0.091729</td>\n",
       "      <td>-0.108195</td>\n",
       "      <td>-0.116373</td>\n",
       "      <td>0.038390</td>\n",
       "      <td>0.092561</td>\n",
       "      <td>-0.119637</td>\n",
       "      <td>0.133725</td>\n",
       "      <td>-0.012509</td>\n",
       "      <td>-0.477228</td>\n",
       "      <td>0.052850</td>\n",
       "    </tr>\n",
       "    <tr>\n",
       "      <th>2</th>\n",
       "      <td>0.469901</td>\n",
       "      <td>-0.219806</td>\n",
       "      <td>-0.007079</td>\n",
       "      <td>0.448914</td>\n",
       "      <td>0.173913</td>\n",
       "      <td>-0.125158</td>\n",
       "      <td>0.026754</td>\n",
       "      <td>0.051514</td>\n",
       "      <td>0.136319</td>\n",
       "      <td>0.262012</td>\n",
       "      <td>0.127538</td>\n",
       "      <td>0.011627</td>\n",
       "      <td>0.123177</td>\n",
       "      <td>0.051878</td>\n",
       "      <td>-0.187716</td>\n",
       "      <td>0.173332</td>\n",
       "      <td>0.172667</td>\n",
       "      <td>-0.327061</td>\n",
       "      <td>0.070403</td>\n",
       "      <td>-0.111842</td>\n",
       "      <td>-0.164161</td>\n",
       "      <td>-0.098249</td>\n",
       "      <td>-0.237714</td>\n",
       "      <td>-0.030646</td>\n",
       "      <td>0.025436</td>\n",
       "      <td>0.200114</td>\n",
       "      <td>-0.215285</td>\n",
       "      <td>-0.043759</td>\n",
       "      <td>0.375760</td>\n",
       "      <td>0.125831</td>\n",
       "      <td>0.158534</td>\n",
       "      <td>0.175372</td>\n",
       "      <td>-0.481860</td>\n",
       "      <td>0.048837</td>\n",
       "      <td>0.007732</td>\n",
       "      <td>0.159285</td>\n",
       "      <td>0.297544</td>\n",
       "      <td>-0.137214</td>\n",
       "      <td>0.006798</td>\n",
       "      <td>-0.048566</td>\n",
       "      <td>...</td>\n",
       "      <td>0.214550</td>\n",
       "      <td>-0.010087</td>\n",
       "      <td>0.232930</td>\n",
       "      <td>-0.019566</td>\n",
       "      <td>-0.008371</td>\n",
       "      <td>0.221142</td>\n",
       "      <td>0.122264</td>\n",
       "      <td>0.028108</td>\n",
       "      <td>-0.216420</td>\n",
       "      <td>-0.034685</td>\n",
       "      <td>0.291394</td>\n",
       "      <td>-0.000891</td>\n",
       "      <td>-0.001637</td>\n",
       "      <td>-0.133768</td>\n",
       "      <td>0.336851</td>\n",
       "      <td>-0.016954</td>\n",
       "      <td>0.053621</td>\n",
       "      <td>0.184326</td>\n",
       "      <td>0.084466</td>\n",
       "      <td>-0.066331</td>\n",
       "      <td>0.128876</td>\n",
       "      <td>-0.234284</td>\n",
       "      <td>0.156464</td>\n",
       "      <td>-0.054325</td>\n",
       "      <td>-0.095193</td>\n",
       "      <td>-0.071329</td>\n",
       "      <td>0.126469</td>\n",
       "      <td>0.035335</td>\n",
       "      <td>0.010332</td>\n",
       "      <td>0.116241</td>\n",
       "      <td>-0.091729</td>\n",
       "      <td>-0.108195</td>\n",
       "      <td>-0.116373</td>\n",
       "      <td>0.038390</td>\n",
       "      <td>0.092561</td>\n",
       "      <td>-0.119637</td>\n",
       "      <td>0.133725</td>\n",
       "      <td>-0.012509</td>\n",
       "      <td>-0.477228</td>\n",
       "      <td>0.052850</td>\n",
       "    </tr>\n",
       "    <tr>\n",
       "      <th>3</th>\n",
       "      <td>1.861862</td>\n",
       "      <td>-0.654910</td>\n",
       "      <td>0.261645</td>\n",
       "      <td>0.717122</td>\n",
       "      <td>0.215609</td>\n",
       "      <td>-0.360684</td>\n",
       "      <td>-0.115596</td>\n",
       "      <td>-0.076315</td>\n",
       "      <td>0.012634</td>\n",
       "      <td>0.061086</td>\n",
       "      <td>0.121066</td>\n",
       "      <td>-0.363770</td>\n",
       "      <td>0.143725</td>\n",
       "      <td>-0.009009</td>\n",
       "      <td>-0.269333</td>\n",
       "      <td>1.496473</td>\n",
       "      <td>0.550652</td>\n",
       "      <td>-0.417332</td>\n",
       "      <td>0.214547</td>\n",
       "      <td>0.088529</td>\n",
       "      <td>-0.474625</td>\n",
       "      <td>-0.062520</td>\n",
       "      <td>-0.774604</td>\n",
       "      <td>-0.233924</td>\n",
       "      <td>0.436217</td>\n",
       "      <td>2.452878</td>\n",
       "      <td>1.210213</td>\n",
       "      <td>-0.265678</td>\n",
       "      <td>1.255978</td>\n",
       "      <td>0.159433</td>\n",
       "      <td>0.346400</td>\n",
       "      <td>0.256510</td>\n",
       "      <td>-1.656438</td>\n",
       "      <td>0.596166</td>\n",
       "      <td>0.309547</td>\n",
       "      <td>1.339893</td>\n",
       "      <td>1.844547</td>\n",
       "      <td>-0.089905</td>\n",
       "      <td>0.061896</td>\n",
       "      <td>0.093205</td>\n",
       "      <td>...</td>\n",
       "      <td>0.329608</td>\n",
       "      <td>0.109318</td>\n",
       "      <td>1.028433</td>\n",
       "      <td>0.209521</td>\n",
       "      <td>-0.743214</td>\n",
       "      <td>0.317065</td>\n",
       "      <td>0.379643</td>\n",
       "      <td>-0.096799</td>\n",
       "      <td>-1.600119</td>\n",
       "      <td>0.047858</td>\n",
       "      <td>1.247476</td>\n",
       "      <td>0.980024</td>\n",
       "      <td>-0.520426</td>\n",
       "      <td>-0.418726</td>\n",
       "      <td>0.543958</td>\n",
       "      <td>-0.350941</td>\n",
       "      <td>0.418167</td>\n",
       "      <td>0.306608</td>\n",
       "      <td>-0.220776</td>\n",
       "      <td>-0.331641</td>\n",
       "      <td>0.497137</td>\n",
       "      <td>-0.584229</td>\n",
       "      <td>0.220362</td>\n",
       "      <td>-0.002014</td>\n",
       "      <td>0.468821</td>\n",
       "      <td>-0.724761</td>\n",
       "      <td>0.222613</td>\n",
       "      <td>1.402152</td>\n",
       "      <td>-0.579945</td>\n",
       "      <td>0.655243</td>\n",
       "      <td>-0.113628</td>\n",
       "      <td>-0.059380</td>\n",
       "      <td>-0.153452</td>\n",
       "      <td>0.078067</td>\n",
       "      <td>0.316454</td>\n",
       "      <td>-1.859572</td>\n",
       "      <td>0.128270</td>\n",
       "      <td>-0.089352</td>\n",
       "      <td>-2.561541</td>\n",
       "      <td>0.170493</td>\n",
       "    </tr>\n",
       "    <tr>\n",
       "      <th>4</th>\n",
       "      <td>1.870750</td>\n",
       "      <td>-0.599145</td>\n",
       "      <td>0.257935</td>\n",
       "      <td>0.828712</td>\n",
       "      <td>0.145457</td>\n",
       "      <td>-0.272346</td>\n",
       "      <td>0.065212</td>\n",
       "      <td>0.124561</td>\n",
       "      <td>0.037593</td>\n",
       "      <td>0.016963</td>\n",
       "      <td>0.201799</td>\n",
       "      <td>-0.470576</td>\n",
       "      <td>0.142576</td>\n",
       "      <td>0.141377</td>\n",
       "      <td>-0.477282</td>\n",
       "      <td>0.381181</td>\n",
       "      <td>0.120405</td>\n",
       "      <td>-0.703023</td>\n",
       "      <td>0.370686</td>\n",
       "      <td>-1.000035</td>\n",
       "      <td>-0.420745</td>\n",
       "      <td>-0.170262</td>\n",
       "      <td>-0.685786</td>\n",
       "      <td>-0.049560</td>\n",
       "      <td>0.517997</td>\n",
       "      <td>2.833848</td>\n",
       "      <td>1.431267</td>\n",
       "      <td>-0.094443</td>\n",
       "      <td>1.041656</td>\n",
       "      <td>0.072067</td>\n",
       "      <td>0.229172</td>\n",
       "      <td>0.309794</td>\n",
       "      <td>-1.498972</td>\n",
       "      <td>0.557201</td>\n",
       "      <td>0.074249</td>\n",
       "      <td>0.692591</td>\n",
       "      <td>0.900898</td>\n",
       "      <td>0.014105</td>\n",
       "      <td>0.350228</td>\n",
       "      <td>-0.125941</td>\n",
       "      <td>...</td>\n",
       "      <td>0.346469</td>\n",
       "      <td>0.066126</td>\n",
       "      <td>0.765608</td>\n",
       "      <td>0.644958</td>\n",
       "      <td>-0.711468</td>\n",
       "      <td>0.258240</td>\n",
       "      <td>0.238020</td>\n",
       "      <td>-0.046673</td>\n",
       "      <td>-1.292278</td>\n",
       "      <td>-0.104758</td>\n",
       "      <td>0.600844</td>\n",
       "      <td>0.889335</td>\n",
       "      <td>0.208281</td>\n",
       "      <td>-0.449420</td>\n",
       "      <td>0.386101</td>\n",
       "      <td>-0.017267</td>\n",
       "      <td>-0.135566</td>\n",
       "      <td>0.420677</td>\n",
       "      <td>0.366939</td>\n",
       "      <td>-0.721652</td>\n",
       "      <td>0.496224</td>\n",
       "      <td>-0.555748</td>\n",
       "      <td>0.041471</td>\n",
       "      <td>0.011285</td>\n",
       "      <td>0.601236</td>\n",
       "      <td>-0.551510</td>\n",
       "      <td>0.314125</td>\n",
       "      <td>0.549186</td>\n",
       "      <td>-0.559994</td>\n",
       "      <td>0.577900</td>\n",
       "      <td>-0.109572</td>\n",
       "      <td>-0.360896</td>\n",
       "      <td>-0.086420</td>\n",
       "      <td>0.026903</td>\n",
       "      <td>0.347721</td>\n",
       "      <td>-1.397173</td>\n",
       "      <td>0.154752</td>\n",
       "      <td>0.113289</td>\n",
       "      <td>-0.662192</td>\n",
       "      <td>0.185891</td>\n",
       "    </tr>\n",
       "  </tbody>\n",
       "</table>\n",
       "<p>5 rows × 400 columns</p>\n",
       "</div>"
      ],
      "text/plain": [
       "        0         1         2    ...       397       398       399\n",
       "0  1.014378 -0.507453  0.395279  ... -0.352019 -0.537328 -0.029060\n",
       "1  0.469901 -0.219806 -0.007079  ... -0.012509 -0.477228  0.052850\n",
       "2  0.469901 -0.219806 -0.007079  ... -0.012509 -0.477228  0.052850\n",
       "3  1.861862 -0.654910  0.261645  ... -0.089352 -2.561541  0.170493\n",
       "4  1.870750 -0.599145  0.257935  ...  0.113289 -0.662192  0.185891\n",
       "\n",
       "[5 rows x 400 columns]"
      ]
     },
     "execution_count": 80,
     "metadata": {
      "tags": []
     },
     "output_type": "execute_result"
    }
   ],
   "source": [
    "df.head()"
   ]
  },
  {
   "cell_type": "code",
   "execution_count": 0,
   "metadata": {
    "colab": {},
    "colab_type": "code",
    "id": "Foowy86a5I8-"
   },
   "outputs": [],
   "source": [
    "df2 = pd.DataFrame(itos)"
   ]
  },
  {
   "cell_type": "code",
   "execution_count": 82,
   "metadata": {
    "colab": {
     "base_uri": "https://localhost:8080/",
     "height": 204
    },
    "colab_type": "code",
    "id": "6xZMgsNu5JmO",
    "outputId": "5a96328b-58a4-4ffc-8de2-859e78b6691c"
   },
   "outputs": [
    {
     "data": {
      "text/html": [
       "<div>\n",
       "<style scoped>\n",
       "    .dataframe tbody tr th:only-of-type {\n",
       "        vertical-align: middle;\n",
       "    }\n",
       "\n",
       "    .dataframe tbody tr th {\n",
       "        vertical-align: top;\n",
       "    }\n",
       "\n",
       "    .dataframe thead th {\n",
       "        text-align: right;\n",
       "    }\n",
       "</style>\n",
       "<table border=\"1\" class=\"dataframe\">\n",
       "  <thead>\n",
       "    <tr style=\"text-align: right;\">\n",
       "      <th></th>\n",
       "      <th>0</th>\n",
       "    </tr>\n",
       "  </thead>\n",
       "  <tbody>\n",
       "    <tr>\n",
       "      <th>0</th>\n",
       "      <td>&lt;unk&gt;</td>\n",
       "    </tr>\n",
       "    <tr>\n",
       "      <th>1</th>\n",
       "      <td>&lt;s&gt;</td>\n",
       "    </tr>\n",
       "    <tr>\n",
       "      <th>2</th>\n",
       "      <td>&lt;/s&gt;</td>\n",
       "    </tr>\n",
       "    <tr>\n",
       "      <th>3</th>\n",
       "      <td>।</td>\n",
       "    </tr>\n",
       "    <tr>\n",
       "      <th>4</th>\n",
       "      <td>,</td>\n",
       "    </tr>\n",
       "  </tbody>\n",
       "</table>\n",
       "</div>"
      ],
      "text/plain": [
       "       0\n",
       "0  <unk>\n",
       "1    <s>\n",
       "2   </s>\n",
       "3      ।\n",
       "4      ,"
      ]
     },
     "execution_count": 82,
     "metadata": {
      "tags": []
     },
     "output_type": "execute_result"
    }
   ],
   "source": [
    "df2.head()"
   ]
  },
  {
   "cell_type": "code",
   "execution_count": 83,
   "metadata": {
    "colab": {
     "base_uri": "https://localhost:8080/",
     "height": 35
    },
    "colab_type": "code",
    "id": "omhiguqk5L2A",
    "outputId": "5dc3093b-9e63-4989-cd9b-2a885a827959"
   },
   "outputs": [
    {
     "data": {
      "text/plain": [
       "(50000, 1)"
      ]
     },
     "execution_count": 83,
     "metadata": {
      "tags": []
     },
     "output_type": "execute_result"
    }
   ],
   "source": [
    "df2.shape"
   ]
  },
  {
   "cell_type": "code",
   "execution_count": 0,
   "metadata": {
    "colab": {},
    "colab_type": "code",
    "id": "bppOAZ715OFk"
   },
   "outputs": [],
   "source": [
    "df2.to_csv('embeddings_metadata.tsv', sep='\\t', index=False, header=False)"
   ]
  },
  {
   "cell_type": "code",
   "execution_count": 85,
   "metadata": {
    "colab": {
     "base_uri": "https://localhost:8080/",
     "height": 1000
    },
    "colab_type": "code",
    "id": "WJPrALex5Qcy",
    "outputId": "52818285-4b67-43ce-a895-a02eae4e72be"
   },
   "outputs": [
    {
     "data": {
      "text/plain": [
       "tensor([ 4.6990e-01, -2.1981e-01, -7.0786e-03,  4.4891e-01,  1.7391e-01,\n",
       "        -1.2516e-01,  2.6754e-02,  5.1514e-02,  1.3632e-01,  2.6201e-01,\n",
       "         1.2754e-01,  1.1627e-02,  1.2318e-01,  5.1878e-02, -1.8772e-01,\n",
       "         1.7333e-01,  1.7267e-01, -3.2706e-01,  7.0403e-02, -1.1184e-01,\n",
       "        -1.6416e-01, -9.8249e-02, -2.3771e-01, -3.0646e-02,  2.5436e-02,\n",
       "         2.0011e-01, -2.1528e-01, -4.3759e-02,  3.7576e-01,  1.2583e-01,\n",
       "         1.5853e-01,  1.7537e-01, -4.8186e-01,  4.8837e-02,  7.7318e-03,\n",
       "         1.5929e-01,  2.9754e-01, -1.3721e-01,  6.7977e-03, -4.8566e-02,\n",
       "         2.2879e-01, -1.5346e-01,  1.9191e-01, -5.0307e-02,  8.1554e-02,\n",
       "        -2.3975e-01, -2.3956e-01, -5.0619e-02, -1.6020e-01,  1.0710e-01,\n",
       "        -1.0424e+00, -2.2455e-01,  9.1276e-02,  2.2228e-01,  1.7610e-02,\n",
       "         1.2087e-01, -6.4047e-02, -1.7409e-01,  1.6576e-02, -1.0298e-01,\n",
       "         2.0923e-02, -1.9639e-01,  6.0843e-02,  9.3367e-02, -2.3108e-02,\n",
       "        -4.2743e-02, -3.3057e-02, -1.2727e-02,  7.4890e-02, -2.1143e-01,\n",
       "        -4.2363e-02,  7.5090e-02, -1.0422e-01,  7.0659e-01, -2.4679e-01,\n",
       "        -6.3521e-02,  2.9475e-01, -3.5802e-02, -1.4985e-02,  8.4061e-02,\n",
       "         1.7332e-01,  6.9399e-02, -3.2167e-02, -2.4233e-01, -5.7481e-02,\n",
       "         3.4701e-02,  1.8264e-01,  5.7388e-02, -9.8432e-02, -1.0756e-03,\n",
       "        -6.6095e-02,  5.9567e-02, -5.8216e-02,  2.2273e-01, -8.9037e-02,\n",
       "        -1.5118e-01,  1.0499e-01,  1.3844e-01, -4.7006e-02,  2.6699e-01,\n",
       "        -4.6153e-02,  2.8787e-02,  1.8857e-01, -1.0187e-02, -6.5618e-01,\n",
       "        -6.0856e-02,  2.0157e-01,  2.3658e-02,  5.3190e-02,  1.2617e-01,\n",
       "         4.8684e-01,  7.8633e-02,  4.2113e-02, -6.7477e-02,  2.6753e-01,\n",
       "         9.3462e-02, -7.1411e-01, -6.2254e-02, -3.1789e-01,  5.7437e-01,\n",
       "        -2.8930e-01,  1.6004e-01,  9.2321e-02,  2.4255e-01,  2.2824e-01,\n",
       "        -6.9440e-02,  4.7251e-02, -5.9285e-01, -3.9297e-02, -1.4380e-01,\n",
       "         5.5294e-02,  8.4171e-02, -1.2833e-01, -1.8070e-01,  2.6866e-01,\n",
       "         2.2709e-02,  2.9270e-02,  3.4503e-02,  4.9165e-02, -1.7070e-01,\n",
       "         3.2069e-01, -1.4482e-02,  1.0805e-01, -5.0916e-01, -6.5887e-02,\n",
       "        -1.6704e-01,  4.1560e-02,  3.1480e-02,  6.6151e-02, -3.3832e-02,\n",
       "        -1.3836e-01,  1.1875e-01, -2.5467e-02,  1.5782e-01,  6.4998e-02,\n",
       "        -3.0144e-01, -1.7610e-01, -2.9220e-02,  7.3217e-02, -1.0210e-01,\n",
       "         1.6530e-01,  4.7230e-02, -1.9260e-01, -1.9598e-01,  1.7905e-01,\n",
       "        -7.6633e-03,  2.6859e-02, -2.0344e-01,  1.5395e-01,  2.0679e-02,\n",
       "         4.7829e-02,  5.1059e-02,  1.3013e-01,  5.3173e-01, -2.4752e-01,\n",
       "        -1.3333e-03,  9.5388e-02, -1.4103e-01,  1.0424e-01,  5.4529e-02,\n",
       "         3.9283e-02,  1.6787e-01,  5.7379e-02, -1.4821e-01, -1.0174e-01,\n",
       "         2.3354e-02,  3.7608e-01,  2.0406e-02,  1.3267e-01, -2.2330e-01,\n",
       "         1.5632e-01, -5.8158e-01, -2.6248e-01,  1.4006e-02, -5.9030e-02,\n",
       "        -1.3721e-01,  9.8330e-02,  8.5786e-02,  1.2663e-02,  2.7459e-02,\n",
       "        -1.1688e-01, -4.0855e-01,  6.3545e-02, -1.0441e-02, -2.0999e-01,\n",
       "         9.9362e-02,  4.3263e-02, -9.3989e-02,  8.1228e-02,  1.7135e-02,\n",
       "         3.5673e-01, -1.3151e-01, -3.3198e-02, -1.0755e+00, -3.7054e-01,\n",
       "        -2.3373e-01,  1.8985e-01, -7.0459e-01, -9.5518e-02, -1.5169e-01,\n",
       "        -6.7241e-02, -1.1619e-01,  1.0424e-01,  2.4689e-01, -5.9990e-01,\n",
       "        -3.2473e-01, -1.9672e-01, -3.0295e-03,  2.0287e-01,  1.4776e-01,\n",
       "         1.2143e-01,  2.7333e-01, -2.0449e-02, -1.0280e-01,  5.1339e-02,\n",
       "         1.9179e-01,  1.2969e-01, -1.7078e-01, -1.1782e-01, -5.9664e-02,\n",
       "        -1.4999e-01,  5.9700e-02,  4.0445e-02,  2.2435e-01, -3.2944e-01,\n",
       "         4.1726e-01,  1.7139e-01,  2.7873e-01,  1.3717e-01,  6.7225e-01,\n",
       "        -2.2902e-03, -2.4385e-01, -6.1955e-03, -1.2964e-02, -1.0884e-01,\n",
       "        -1.5811e-01,  8.6528e-02,  4.7966e-01, -3.5476e-02, -1.8155e-01,\n",
       "         5.6917e-01,  2.2527e-01,  1.0185e-01,  1.3804e-01, -4.1728e-01,\n",
       "         1.2462e-01, -6.9230e-02, -6.6318e-01,  4.6526e-02, -5.0584e-02,\n",
       "         9.6402e-02, -1.0507e-01, -1.3054e-01,  1.4451e-01, -1.5451e-01,\n",
       "        -3.1318e-01,  5.9695e-01,  2.6763e-02,  9.1943e-02, -9.7002e-02,\n",
       "         1.1722e-01, -3.2145e-01, -7.2138e-02,  3.4070e-02,  3.6418e-03,\n",
       "        -9.3801e-01,  4.7739e-02,  2.6749e-02,  1.4016e+00,  1.3745e-01,\n",
       "        -3.7693e-02,  1.7911e-02, -1.7146e-03, -6.5875e-02,  1.6686e-01,\n",
       "        -2.2653e-02,  6.4597e-02, -5.5387e-02,  2.6155e-01, -1.3085e-02,\n",
       "         6.2270e-02,  2.0502e-01,  2.5670e-02,  1.9301e-01, -8.2248e-02,\n",
       "         1.0388e-01, -2.0773e-01,  2.5251e-01,  8.4418e-02, -1.9631e-02,\n",
       "         4.9831e-02,  2.1077e-01, -4.6915e-02,  9.5497e-02, -5.5122e-02,\n",
       "        -1.2238e-01,  1.5070e-01, -1.1930e+00,  1.2467e-02,  8.4454e-02,\n",
       "        -1.6257e-01,  1.0341e+00,  7.1917e-02, -3.3535e-01, -5.3045e-02,\n",
       "         4.8119e-01, -1.1518e-01,  9.0742e-02, -3.5641e-01,  6.3136e-02,\n",
       "         1.7501e-02, -3.2802e-01,  6.5057e-02,  1.2258e-01, -2.6966e-01,\n",
       "        -6.2559e-02,  7.2959e-03,  3.5703e-01, -3.9356e-02,  1.2992e-01,\n",
       "        -1.0912e-01, -1.0364e-01, -9.2949e-02, -7.3074e-02,  7.6955e-02,\n",
       "        -2.7665e-01, -1.6593e-02, -1.7105e-02, -5.7404e-01,  5.9644e-01,\n",
       "         5.7567e-02,  9.0817e-02, -1.6590e-01,  2.3393e-01, -1.4980e-01,\n",
       "        -9.0681e-02,  3.1793e-02,  1.2026e-01, -1.4963e-02, -8.6140e-02,\n",
       "         2.1455e-01, -1.0087e-02,  2.3293e-01, -1.9566e-02, -8.3709e-03,\n",
       "         2.2114e-01,  1.2226e-01,  2.8108e-02, -2.1642e-01, -3.4685e-02,\n",
       "         2.9139e-01, -8.9051e-04, -1.6372e-03, -1.3377e-01,  3.3685e-01,\n",
       "        -1.6954e-02,  5.3621e-02,  1.8433e-01,  8.4466e-02, -6.6331e-02,\n",
       "         1.2888e-01, -2.3428e-01,  1.5646e-01, -5.4325e-02, -9.5193e-02,\n",
       "        -7.1329e-02,  1.2647e-01,  3.5335e-02,  1.0332e-02,  1.1624e-01,\n",
       "        -9.1729e-02, -1.0820e-01, -1.1637e-01,  3.8390e-02,  9.2561e-02,\n",
       "        -1.1964e-01,  1.3372e-01, -1.2509e-02, -4.7723e-01,  5.2850e-02])"
      ]
     },
     "execution_count": 85,
     "metadata": {
      "tags": []
     },
     "output_type": "execute_result"
    }
   ],
   "source": [
    "encoder.state_dict()['encoder.weight'][1]"
   ]
  },
  {
   "cell_type": "code",
   "execution_count": 0,
   "metadata": {
    "colab": {},
    "colab_type": "code",
    "id": "x71imVJ35aqD"
   },
   "outputs": [],
   "source": []
  }
 ],
 "metadata": {
  "accelerator": "GPU",
  "colab": {
   "collapsed_sections": [],
   "name": "Bengali_Language_Model.ipynb",
   "provenance": []
  },
  "kernelspec": {
   "display_name": "Python 3",
   "language": "python",
   "name": "python3"
  },
  "language_info": {
   "codemirror_mode": {
    "name": "ipython",
    "version": 3
   },
   "file_extension": ".py",
   "mimetype": "text/x-python",
   "name": "python",
   "nbconvert_exporter": "python",
   "pygments_lexer": "ipython3",
   "version": "3.6.9"
  }
 },
 "nbformat": 4,
 "nbformat_minor": 1
}
